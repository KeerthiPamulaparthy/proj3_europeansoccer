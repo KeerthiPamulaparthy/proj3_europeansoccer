{
 "cells": [
  {
   "cell_type": "markdown",
   "metadata": {},
   "source": [
    "# Project Mcnulty"
   ]
  },
  {
   "cell_type": "markdown",
   "metadata": {},
   "source": [
    "** Prediction: Home Team Match Outcome**\n",
    "\n",
    "Load data, downloaded from Kaggle and clean up.\n",
    "\n",
    "**PART I - Run Classification Models on just 'team features'.**"
   ]
  },
  {
   "cell_type": "code",
   "execution_count": 8,
   "metadata": {
    "collapsed": false
   },
   "outputs": [],
   "source": [
    "from sqlalchemy import create_engine\n",
    "import pandas as pd\n",
    "import sqlite3\n",
    "import numpy as np\n",
    "from sklearn.cross_validation import train_test_split\n",
    "from sklearn.neighbors import KNeighborsClassifier\n",
    "from sklearn.metrics import accuracy_score\n",
    "from sklearn.preprocessing import OneHotEncoder\n",
    "from sklearn.linear_model import LogisticRegression\n",
    "import matplotlib.pyplot as plt\n",
    "%matplotlib inline\n",
    "data = sqlite3.connect('/Users/keerthipamulaparthy/Documents/metis/projects/Project3_McNulty/database.sqlite')"
   ]
  },
  {
   "cell_type": "code",
   "execution_count": 9,
   "metadata": {
    "collapsed": false
   },
   "outputs": [
    {
     "data": {
      "text/html": [
       "<div>\n",
       "<table border=\"1\" class=\"dataframe\">\n",
       "  <thead>\n",
       "    <tr style=\"text-align: right;\">\n",
       "      <th></th>\n",
       "      <th>name</th>\n",
       "    </tr>\n",
       "  </thead>\n",
       "  <tbody>\n",
       "    <tr>\n",
       "      <th>0</th>\n",
       "      <td>sqlite_sequence</td>\n",
       "    </tr>\n",
       "    <tr>\n",
       "      <th>1</th>\n",
       "      <td>Player_Attributes</td>\n",
       "    </tr>\n",
       "    <tr>\n",
       "      <th>2</th>\n",
       "      <td>Player</td>\n",
       "    </tr>\n",
       "    <tr>\n",
       "      <th>3</th>\n",
       "      <td>Match</td>\n",
       "    </tr>\n",
       "    <tr>\n",
       "      <th>4</th>\n",
       "      <td>League</td>\n",
       "    </tr>\n",
       "    <tr>\n",
       "      <th>5</th>\n",
       "      <td>Country</td>\n",
       "    </tr>\n",
       "    <tr>\n",
       "      <th>6</th>\n",
       "      <td>Team</td>\n",
       "    </tr>\n",
       "    <tr>\n",
       "      <th>7</th>\n",
       "      <td>Team_Attributes</td>\n",
       "    </tr>\n",
       "  </tbody>\n",
       "</table>\n",
       "</div>"
      ],
      "text/plain": [
       "                name\n",
       "0    sqlite_sequence\n",
       "1  Player_Attributes\n",
       "2             Player\n",
       "3              Match\n",
       "4             League\n",
       "5            Country\n",
       "6               Team\n",
       "7    Team_Attributes"
      ]
     },
     "execution_count": 9,
     "metadata": {},
     "output_type": "execute_result"
    }
   ],
   "source": [
    "pd.read_sql_query('''SELECT name FROM sqlite_master WHERE type='table';''',data)"
   ]
  },
  {
   "cell_type": "code",
   "execution_count": 10,
   "metadata": {
    "collapsed": false
   },
   "outputs": [],
   "source": [
    "df_raw = pd.read_sql_query(r\"\"\"SELECT A.id AS id, A.date AS date, country_id, league_id, season, stage,match_api_id,home_team_api_id,away_team_api_id,home_team_goal,away_team_goal,B.buildUpPlaySpeed AS H_bUPS,C.buildUpPlaySpeed AS A_bUPS,B.buildUpPlayDribblingClass AS H_bUPDC, C.buildUpPlayDribblingClass AS A_bUPDC,B.buildUpPlayPassing AS H_bUPP, C.buildUpPlayPassing AS A_bUPP,B.buildUpPlayPositioningClass AS H_bUPPosC, C.buildUpPlayPositioningClass AS A_bUPPosC,B.chanceCreationPassing AS H_cCP, C.chanceCreationPassing AS A_cCP,B.chanceCreationCrossing AS H_cCC, C.chanceCreationCrossing AS A_cCC,B.chanceCreationShooting AS H_cCS, C.chanceCreationShooting AS A_cCS,B.chanceCreationPositioningClass AS H_cCPosC, C.chanceCreationPositioningClass AS A_cCPosC,B.defencePressure AS H_dP, C.defencePressure AS A_dP,B.defenceAggression AS H_dA, C.defenceAggression AS A_dA,B.defenceTeamWidth AS H_dTW, C.defenceTeamWidth AS A_dTW,B.defenceDefenderLineClass AS H_dDLC, C.defenceDefenderLineClass AS A_dDLC FROM Match A JOIN Team_Attributes B ON A.home_team_api_id = B.team_api_id JOIN Team_Attributes C ON A.away_team_api_id = C.team_api_id WHERE substr(A.date,0,5)=substr(B.date,0,5) and substr(A.date,0,5)=substr(C.date,0,5) and season='2014/2015'\"\"\", data)\n"
   ]
  },
  {
   "cell_type": "code",
   "execution_count": 7,
   "metadata": {
    "collapsed": false
   },
   "outputs": [
    {
     "data": {
      "text/html": [
       "<div>\n",
       "<table border=\"1\" class=\"dataframe\">\n",
       "  <thead>\n",
       "    <tr style=\"text-align: right;\">\n",
       "      <th></th>\n",
       "      <th>count(match_api_id)</th>\n",
       "    </tr>\n",
       "  </thead>\n",
       "  <tbody>\n",
       "    <tr>\n",
       "      <th>0</th>\n",
       "      <td>3325</td>\n",
       "    </tr>\n",
       "  </tbody>\n",
       "</table>\n",
       "</div>"
      ],
      "text/plain": [
       "   count(match_api_id)\n",
       "0                 3325"
      ]
     },
     "execution_count": 7,
     "metadata": {},
     "output_type": "execute_result"
    }
   ],
   "source": [
    "pd.read_sql_query(r\"\"\"SELECT count(match_api_id) FROM Match where season='2014/2015'\"\"\", data)\n",
    "\n"
   ]
  },
  {
   "cell_type": "code",
   "execution_count": 11,
   "metadata": {
    "collapsed": false
   },
   "outputs": [
    {
     "data": {
      "text/html": [
       "<div>\n",
       "<table border=\"1\" class=\"dataframe\">\n",
       "  <thead>\n",
       "    <tr style=\"text-align: right;\">\n",
       "      <th></th>\n",
       "      <th>id</th>\n",
       "      <th>date</th>\n",
       "      <th>country_id</th>\n",
       "      <th>league_id</th>\n",
       "      <th>season</th>\n",
       "      <th>stage</th>\n",
       "      <th>match_api_id</th>\n",
       "      <th>home_team_api_id</th>\n",
       "      <th>away_team_api_id</th>\n",
       "      <th>home_team_goal</th>\n",
       "      <th>...</th>\n",
       "      <th>H_cCPosC</th>\n",
       "      <th>A_cCPosC</th>\n",
       "      <th>H_dP</th>\n",
       "      <th>A_dP</th>\n",
       "      <th>H_dA</th>\n",
       "      <th>A_dA</th>\n",
       "      <th>H_dTW</th>\n",
       "      <th>A_dTW</th>\n",
       "      <th>H_dDLC</th>\n",
       "      <th>A_dDLC</th>\n",
       "    </tr>\n",
       "  </thead>\n",
       "  <tbody>\n",
       "    <tr>\n",
       "      <th>0</th>\n",
       "      <td>1249</td>\n",
       "      <td>2014-07-25 00:00:00</td>\n",
       "      <td>1</td>\n",
       "      <td>1</td>\n",
       "      <td>2014/2015</td>\n",
       "      <td>1</td>\n",
       "      <td>1717817</td>\n",
       "      <td>9985</td>\n",
       "      <td>9986</td>\n",
       "      <td>3</td>\n",
       "      <td>...</td>\n",
       "      <td>Organised</td>\n",
       "      <td>Organised</td>\n",
       "      <td>45</td>\n",
       "      <td>42</td>\n",
       "      <td>54</td>\n",
       "      <td>48</td>\n",
       "      <td>52</td>\n",
       "      <td>49</td>\n",
       "      <td>Cover</td>\n",
       "      <td>Cover</td>\n",
       "    </tr>\n",
       "    <tr>\n",
       "      <th>1</th>\n",
       "      <td>1250</td>\n",
       "      <td>2014-07-26 00:00:00</td>\n",
       "      <td>1</td>\n",
       "      <td>1</td>\n",
       "      <td>2014/2015</td>\n",
       "      <td>1</td>\n",
       "      <td>1717818</td>\n",
       "      <td>8475</td>\n",
       "      <td>8342</td>\n",
       "      <td>0</td>\n",
       "      <td>...</td>\n",
       "      <td>Organised</td>\n",
       "      <td>Organised</td>\n",
       "      <td>25</td>\n",
       "      <td>51</td>\n",
       "      <td>37</td>\n",
       "      <td>50</td>\n",
       "      <td>35</td>\n",
       "      <td>57</td>\n",
       "      <td>Cover</td>\n",
       "      <td>Cover</td>\n",
       "    </tr>\n",
       "    <tr>\n",
       "      <th>2</th>\n",
       "      <td>1251</td>\n",
       "      <td>2014-07-26 00:00:00</td>\n",
       "      <td>1</td>\n",
       "      <td>1</td>\n",
       "      <td>2014/2015</td>\n",
       "      <td>1</td>\n",
       "      <td>1717819</td>\n",
       "      <td>9984</td>\n",
       "      <td>9991</td>\n",
       "      <td>0</td>\n",
       "      <td>...</td>\n",
       "      <td>Organised</td>\n",
       "      <td>Organised</td>\n",
       "      <td>59</td>\n",
       "      <td>55</td>\n",
       "      <td>47</td>\n",
       "      <td>59</td>\n",
       "      <td>62</td>\n",
       "      <td>52</td>\n",
       "      <td>Cover</td>\n",
       "      <td>Cover</td>\n",
       "    </tr>\n",
       "    <tr>\n",
       "      <th>3</th>\n",
       "      <td>1252</td>\n",
       "      <td>2014-07-26 00:00:00</td>\n",
       "      <td>1</td>\n",
       "      <td>1</td>\n",
       "      <td>2014/2015</td>\n",
       "      <td>1</td>\n",
       "      <td>1717820</td>\n",
       "      <td>9989</td>\n",
       "      <td>8573</td>\n",
       "      <td>2</td>\n",
       "      <td>...</td>\n",
       "      <td>Organised</td>\n",
       "      <td>Organised</td>\n",
       "      <td>38</td>\n",
       "      <td>42</td>\n",
       "      <td>49</td>\n",
       "      <td>47</td>\n",
       "      <td>65</td>\n",
       "      <td>44</td>\n",
       "      <td>Cover</td>\n",
       "      <td>Cover</td>\n",
       "    </tr>\n",
       "    <tr>\n",
       "      <th>4</th>\n",
       "      <td>1254</td>\n",
       "      <td>2014-07-27 00:00:00</td>\n",
       "      <td>1</td>\n",
       "      <td>1</td>\n",
       "      <td>2014/2015</td>\n",
       "      <td>1</td>\n",
       "      <td>1717822</td>\n",
       "      <td>8203</td>\n",
       "      <td>9987</td>\n",
       "      <td>3</td>\n",
       "      <td>...</td>\n",
       "      <td>Organised</td>\n",
       "      <td>Organised</td>\n",
       "      <td>42</td>\n",
       "      <td>47</td>\n",
       "      <td>51</td>\n",
       "      <td>45</td>\n",
       "      <td>52</td>\n",
       "      <td>55</td>\n",
       "      <td>Cover</td>\n",
       "      <td>Cover</td>\n",
       "    </tr>\n",
       "  </tbody>\n",
       "</table>\n",
       "<p>5 rows × 35 columns</p>\n",
       "</div>"
      ],
      "text/plain": [
       "     id                 date  country_id  league_id     season  stage  \\\n",
       "0  1249  2014-07-25 00:00:00           1          1  2014/2015      1   \n",
       "1  1250  2014-07-26 00:00:00           1          1  2014/2015      1   \n",
       "2  1251  2014-07-26 00:00:00           1          1  2014/2015      1   \n",
       "3  1252  2014-07-26 00:00:00           1          1  2014/2015      1   \n",
       "4  1254  2014-07-27 00:00:00           1          1  2014/2015      1   \n",
       "\n",
       "   match_api_id  home_team_api_id  away_team_api_id  home_team_goal   ...    \\\n",
       "0       1717817              9985              9986               3   ...     \n",
       "1       1717818              8475              8342               0   ...     \n",
       "2       1717819              9984              9991               0   ...     \n",
       "3       1717820              9989              8573               2   ...     \n",
       "4       1717822              8203              9987               3   ...     \n",
       "\n",
       "    H_cCPosC   A_cCPosC  H_dP A_dP H_dA  A_dA  H_dTW A_dTW H_dDLC  A_dDLC  \n",
       "0  Organised  Organised    45   42   54    48     52    49  Cover   Cover  \n",
       "1  Organised  Organised    25   51   37    50     35    57  Cover   Cover  \n",
       "2  Organised  Organised    59   55   47    59     62    52  Cover   Cover  \n",
       "3  Organised  Organised    38   42   49    47     65    44  Cover   Cover  \n",
       "4  Organised  Organised    42   47   51    45     52    55  Cover   Cover  \n",
       "\n",
       "[5 rows x 35 columns]"
      ]
     },
     "execution_count": 11,
     "metadata": {},
     "output_type": "execute_result"
    }
   ],
   "source": [
    "df_raw.head()"
   ]
  },
  {
   "cell_type": "code",
   "execution_count": 12,
   "metadata": {
    "collapsed": false
   },
   "outputs": [
    {
     "name": "stdout",
     "output_type": "stream",
     "text": [
      "<class 'pandas.core.frame.DataFrame'>\n",
      "RangeIndex: 3081 entries, 0 to 3080\n",
      "Data columns (total 35 columns):\n",
      "id                  3081 non-null int64\n",
      "date                3081 non-null object\n",
      "country_id          3081 non-null int64\n",
      "league_id           3081 non-null int64\n",
      "season              3081 non-null object\n",
      "stage               3081 non-null int64\n",
      "match_api_id        3081 non-null int64\n",
      "home_team_api_id    3081 non-null int64\n",
      "away_team_api_id    3081 non-null int64\n",
      "home_team_goal      3081 non-null int64\n",
      "away_team_goal      3081 non-null int64\n",
      "H_bUPS              3081 non-null int64\n",
      "A_bUPS              3081 non-null int64\n",
      "H_bUPDC             3081 non-null object\n",
      "A_bUPDC             3081 non-null object\n",
      "H_bUPP              3081 non-null int64\n",
      "A_bUPP              3081 non-null int64\n",
      "H_bUPPosC           3081 non-null object\n",
      "A_bUPPosC           3081 non-null object\n",
      "H_cCP               3081 non-null int64\n",
      "A_cCP               3081 non-null int64\n",
      "H_cCC               3081 non-null int64\n",
      "A_cCC               3081 non-null int64\n",
      "H_cCS               3081 non-null int64\n",
      "A_cCS               3081 non-null int64\n",
      "H_cCPosC            3081 non-null object\n",
      "A_cCPosC            3081 non-null object\n",
      "H_dP                3081 non-null int64\n",
      "A_dP                3081 non-null int64\n",
      "H_dA                3081 non-null int64\n",
      "A_dA                3081 non-null int64\n",
      "H_dTW               3081 non-null int64\n",
      "A_dTW               3081 non-null int64\n",
      "H_dDLC              3081 non-null object\n",
      "A_dDLC              3081 non-null object\n",
      "dtypes: int64(25), object(10)\n",
      "memory usage: 842.5+ KB\n"
     ]
    }
   ],
   "source": [
    "df_raw.info()"
   ]
  },
  {
   "cell_type": "code",
   "execution_count": 13,
   "metadata": {
    "collapsed": false
   },
   "outputs": [],
   "source": [
    "#df_raw.duplicated()"
   ]
  },
  {
   "cell_type": "code",
   "execution_count": 14,
   "metadata": {
    "collapsed": false
   },
   "outputs": [
    {
     "data": {
      "text/plain": [
       "Index([u'id', u'date', u'country_id', u'league_id', u'season', u'stage',\n",
       "       u'match_api_id', u'home_team_api_id', u'away_team_api_id',\n",
       "       u'home_team_goal', u'away_team_goal', u'H_bUPS', u'A_bUPS', u'H_bUPDC',\n",
       "       u'A_bUPDC', u'H_bUPP', u'A_bUPP', u'H_bUPPosC', u'A_bUPPosC', u'H_cCP',\n",
       "       u'A_cCP', u'H_cCC', u'A_cCC', u'H_cCS', u'A_cCS', u'H_cCPosC',\n",
       "       u'A_cCPosC', u'H_dP', u'A_dP', u'H_dA', u'A_dA', u'H_dTW', u'A_dTW',\n",
       "       u'H_dDLC', u'A_dDLC'],\n",
       "      dtype='object')"
      ]
     },
     "execution_count": 14,
     "metadata": {},
     "output_type": "execute_result"
    }
   ],
   "source": [
    "df_raw.columns"
   ]
  },
  {
   "cell_type": "code",
   "execution_count": 15,
   "metadata": {
    "collapsed": false
   },
   "outputs": [],
   "source": [
    "df_2014 = df_raw.reindex(columns = ['date', \n",
    "       'match_api_id', 'home_team_api_id', 'away_team_api_id',\n",
    "       'home_team_goal', 'away_team_goal', 'hometeam_outcome', 'HT_goalsfor',\n",
    "    'HT_goalsagainst','AT_goalsfor','AT_goalsagainst'\n",
    "    ,'H_bUPS','A_bUPS', 'H_bUPDC', 'A_bUPDC', 'H_bUPP', 'A_bUPP', 'H_bUPPosC',\n",
    "       'A_bUPPosC', 'H_cCP', 'A_cCP', 'H_cCC', 'A_cCC', 'H_cCS',\n",
    "       'A_cCS', 'H_cCPosC', 'A_cCPosC', 'H_dP', 'A_dP', 'H_dA', 'A_dA',\n",
    "       'H_dTW', 'A_dTW', 'H_dDLC', 'A_dDLC'])\n"
   ]
  },
  {
   "cell_type": "code",
   "execution_count": 16,
   "metadata": {
    "collapsed": false
   },
   "outputs": [
    {
     "name": "stdout",
     "output_type": "stream",
     "text": [
      "<class 'pandas.core.frame.DataFrame'>\n",
      "RangeIndex: 3081 entries, 0 to 3080\n",
      "Data columns (total 35 columns):\n",
      "date                3081 non-null object\n",
      "match_api_id        3081 non-null int64\n",
      "home_team_api_id    3081 non-null int64\n",
      "away_team_api_id    3081 non-null int64\n",
      "home_team_goal      3081 non-null int64\n",
      "away_team_goal      3081 non-null int64\n",
      "hometeam_outcome    0 non-null float64\n",
      "HT_goalsfor         0 non-null float64\n",
      "HT_goalsagainst     0 non-null float64\n",
      "AT_goalsfor         0 non-null float64\n",
      "AT_goalsagainst     0 non-null float64\n",
      "H_bUPS              3081 non-null int64\n",
      "A_bUPS              3081 non-null int64\n",
      "H_bUPDC             3081 non-null object\n",
      "A_bUPDC             3081 non-null object\n",
      "H_bUPP              3081 non-null int64\n",
      "A_bUPP              3081 non-null int64\n",
      "H_bUPPosC           3081 non-null object\n",
      "A_bUPPosC           3081 non-null object\n",
      "H_cCP               3081 non-null int64\n",
      "A_cCP               3081 non-null int64\n",
      "H_cCC               3081 non-null int64\n",
      "A_cCC               3081 non-null int64\n",
      "H_cCS               3081 non-null int64\n",
      "A_cCS               3081 non-null int64\n",
      "H_cCPosC            3081 non-null object\n",
      "A_cCPosC            3081 non-null object\n",
      "H_dP                3081 non-null int64\n",
      "A_dP                3081 non-null int64\n",
      "H_dA                3081 non-null int64\n",
      "A_dA                3081 non-null int64\n",
      "H_dTW               3081 non-null int64\n",
      "A_dTW               3081 non-null int64\n",
      "H_dDLC              3081 non-null object\n",
      "A_dDLC              3081 non-null object\n",
      "dtypes: float64(5), int64(21), object(9)\n",
      "memory usage: 842.5+ KB\n"
     ]
    }
   ],
   "source": [
    "df_2014.info()"
   ]
  },
  {
   "cell_type": "code",
   "execution_count": 17,
   "metadata": {
    "collapsed": false
   },
   "outputs": [],
   "source": [
    "df_2014['hometeam_outcome'] = df_2014['hometeam_outcome'].fillna('')\n",
    "df_2014['HT_goalsfor'] = df_2014['HT_goalsfor'].fillna('')\n",
    "df_2014['HT_goalsagainst'] = df_2014['HT_goalsagainst'].fillna('')\n",
    "df_2014['AT_goalsfor'] = df_2014['AT_goalsfor'].fillna('')\n",
    "df_2014['AT_goalsagainst'] = df_2014['AT_goalsagainst'].fillna('')"
   ]
  },
  {
   "cell_type": "code",
   "execution_count": 18,
   "metadata": {
    "collapsed": false
   },
   "outputs": [],
   "source": [
    "df_2014.loc[df_2014['home_team_goal'] > df_2014['away_team_goal'], 'hometeam_outcome'] = \"w\"\n",
    "df_2014.loc[df_2014['home_team_goal'] < df_2014['away_team_goal'], 'hometeam_outcome'] = \"l\"\n",
    "df_2014.loc[df_2014['home_team_goal'] == df_2014['away_team_goal'], 'hometeam_outcome'] = \"d\""
   ]
  },
  {
   "cell_type": "code",
   "execution_count": 19,
   "metadata": {
    "collapsed": false
   },
   "outputs": [
    {
     "data": {
      "text/plain": [
       "w    1390\n",
       "l     908\n",
       "d     783\n",
       "Name: hometeam_outcome, dtype: int64"
      ]
     },
     "execution_count": 19,
     "metadata": {},
     "output_type": "execute_result"
    }
   ],
   "source": [
    "df_2014['hometeam_outcome'].value_counts()"
   ]
  },
  {
   "cell_type": "code",
   "execution_count": 20,
   "metadata": {
    "collapsed": false,
    "scrolled": true
   },
   "outputs": [
    {
     "data": {
      "text/html": [
       "<div>\n",
       "<table border=\"1\" class=\"dataframe\">\n",
       "  <thead>\n",
       "    <tr style=\"text-align: right;\">\n",
       "      <th></th>\n",
       "      <th>date</th>\n",
       "      <th>match_api_id</th>\n",
       "      <th>home_team_api_id</th>\n",
       "      <th>away_team_api_id</th>\n",
       "      <th>home_team_goal</th>\n",
       "      <th>away_team_goal</th>\n",
       "      <th>hometeam_outcome</th>\n",
       "      <th>HT_goalsfor</th>\n",
       "      <th>HT_goalsagainst</th>\n",
       "      <th>AT_goalsfor</th>\n",
       "      <th>...</th>\n",
       "      <th>H_cCPosC</th>\n",
       "      <th>A_cCPosC</th>\n",
       "      <th>H_dP</th>\n",
       "      <th>A_dP</th>\n",
       "      <th>H_dA</th>\n",
       "      <th>A_dA</th>\n",
       "      <th>H_dTW</th>\n",
       "      <th>A_dTW</th>\n",
       "      <th>H_dDLC</th>\n",
       "      <th>A_dDLC</th>\n",
       "    </tr>\n",
       "  </thead>\n",
       "  <tbody>\n",
       "    <tr>\n",
       "      <th>0</th>\n",
       "      <td>2014-07-25 00:00:00</td>\n",
       "      <td>1717817</td>\n",
       "      <td>9985</td>\n",
       "      <td>9986</td>\n",
       "      <td>3</td>\n",
       "      <td>0</td>\n",
       "      <td>w</td>\n",
       "      <td></td>\n",
       "      <td></td>\n",
       "      <td></td>\n",
       "      <td>...</td>\n",
       "      <td>Organised</td>\n",
       "      <td>Organised</td>\n",
       "      <td>45</td>\n",
       "      <td>42</td>\n",
       "      <td>54</td>\n",
       "      <td>48</td>\n",
       "      <td>52</td>\n",
       "      <td>49</td>\n",
       "      <td>Cover</td>\n",
       "      <td>Cover</td>\n",
       "    </tr>\n",
       "    <tr>\n",
       "      <th>1</th>\n",
       "      <td>2014-07-26 00:00:00</td>\n",
       "      <td>1717818</td>\n",
       "      <td>8475</td>\n",
       "      <td>8342</td>\n",
       "      <td>0</td>\n",
       "      <td>2</td>\n",
       "      <td>l</td>\n",
       "      <td></td>\n",
       "      <td></td>\n",
       "      <td></td>\n",
       "      <td>...</td>\n",
       "      <td>Organised</td>\n",
       "      <td>Organised</td>\n",
       "      <td>25</td>\n",
       "      <td>51</td>\n",
       "      <td>37</td>\n",
       "      <td>50</td>\n",
       "      <td>35</td>\n",
       "      <td>57</td>\n",
       "      <td>Cover</td>\n",
       "      <td>Cover</td>\n",
       "    </tr>\n",
       "    <tr>\n",
       "      <th>2</th>\n",
       "      <td>2014-07-26 00:00:00</td>\n",
       "      <td>1717819</td>\n",
       "      <td>9984</td>\n",
       "      <td>9991</td>\n",
       "      <td>0</td>\n",
       "      <td>0</td>\n",
       "      <td>d</td>\n",
       "      <td></td>\n",
       "      <td></td>\n",
       "      <td></td>\n",
       "      <td>...</td>\n",
       "      <td>Organised</td>\n",
       "      <td>Organised</td>\n",
       "      <td>59</td>\n",
       "      <td>55</td>\n",
       "      <td>47</td>\n",
       "      <td>59</td>\n",
       "      <td>62</td>\n",
       "      <td>52</td>\n",
       "      <td>Cover</td>\n",
       "      <td>Cover</td>\n",
       "    </tr>\n",
       "    <tr>\n",
       "      <th>3</th>\n",
       "      <td>2014-07-26 00:00:00</td>\n",
       "      <td>1717820</td>\n",
       "      <td>9989</td>\n",
       "      <td>8573</td>\n",
       "      <td>2</td>\n",
       "      <td>0</td>\n",
       "      <td>w</td>\n",
       "      <td></td>\n",
       "      <td></td>\n",
       "      <td></td>\n",
       "      <td>...</td>\n",
       "      <td>Organised</td>\n",
       "      <td>Organised</td>\n",
       "      <td>38</td>\n",
       "      <td>42</td>\n",
       "      <td>49</td>\n",
       "      <td>47</td>\n",
       "      <td>65</td>\n",
       "      <td>44</td>\n",
       "      <td>Cover</td>\n",
       "      <td>Cover</td>\n",
       "    </tr>\n",
       "    <tr>\n",
       "      <th>4</th>\n",
       "      <td>2014-07-27 00:00:00</td>\n",
       "      <td>1717822</td>\n",
       "      <td>8203</td>\n",
       "      <td>9987</td>\n",
       "      <td>3</td>\n",
       "      <td>1</td>\n",
       "      <td>w</td>\n",
       "      <td></td>\n",
       "      <td></td>\n",
       "      <td></td>\n",
       "      <td>...</td>\n",
       "      <td>Organised</td>\n",
       "      <td>Organised</td>\n",
       "      <td>42</td>\n",
       "      <td>47</td>\n",
       "      <td>51</td>\n",
       "      <td>45</td>\n",
       "      <td>52</td>\n",
       "      <td>55</td>\n",
       "      <td>Cover</td>\n",
       "      <td>Cover</td>\n",
       "    </tr>\n",
       "  </tbody>\n",
       "</table>\n",
       "<p>5 rows × 35 columns</p>\n",
       "</div>"
      ],
      "text/plain": [
       "                  date  match_api_id  home_team_api_id  away_team_api_id  \\\n",
       "0  2014-07-25 00:00:00       1717817              9985              9986   \n",
       "1  2014-07-26 00:00:00       1717818              8475              8342   \n",
       "2  2014-07-26 00:00:00       1717819              9984              9991   \n",
       "3  2014-07-26 00:00:00       1717820              9989              8573   \n",
       "4  2014-07-27 00:00:00       1717822              8203              9987   \n",
       "\n",
       "   home_team_goal  away_team_goal hometeam_outcome HT_goalsfor  \\\n",
       "0               3               0                w               \n",
       "1               0               2                l               \n",
       "2               0               0                d               \n",
       "3               2               0                w               \n",
       "4               3               1                w               \n",
       "\n",
       "  HT_goalsagainst AT_goalsfor   ...     H_cCPosC   A_cCPosC  H_dP A_dP H_dA  \\\n",
       "0                               ...    Organised  Organised    45   42   54   \n",
       "1                               ...    Organised  Organised    25   51   37   \n",
       "2                               ...    Organised  Organised    59   55   47   \n",
       "3                               ...    Organised  Organised    38   42   49   \n",
       "4                               ...    Organised  Organised    42   47   51   \n",
       "\n",
       "   A_dA  H_dTW A_dTW H_dDLC  A_dDLC  \n",
       "0    48     52    49  Cover   Cover  \n",
       "1    50     35    57  Cover   Cover  \n",
       "2    59     62    52  Cover   Cover  \n",
       "3    47     65    44  Cover   Cover  \n",
       "4    45     52    55  Cover   Cover  \n",
       "\n",
       "[5 rows x 35 columns]"
      ]
     },
     "execution_count": 20,
     "metadata": {},
     "output_type": "execute_result"
    }
   ],
   "source": [
    "df_2014.head()"
   ]
  },
  {
   "cell_type": "code",
   "execution_count": 21,
   "metadata": {
    "collapsed": false
   },
   "outputs": [
    {
     "data": {
      "text/html": [
       "<div>\n",
       "<table border=\"1\" class=\"dataframe\">\n",
       "  <thead>\n",
       "    <tr style=\"text-align: right;\">\n",
       "      <th></th>\n",
       "      <th>date</th>\n",
       "      <th>match_api_id</th>\n",
       "      <th>home_team_api_id</th>\n",
       "      <th>away_team_api_id</th>\n",
       "      <th>home_team_goal</th>\n",
       "      <th>away_team_goal</th>\n",
       "      <th>hometeam_outcome</th>\n",
       "      <th>HT_goalsfor</th>\n",
       "      <th>HT_goalsagainst</th>\n",
       "      <th>AT_goalsfor</th>\n",
       "      <th>...</th>\n",
       "      <th>H_cCPosC</th>\n",
       "      <th>A_cCPosC</th>\n",
       "      <th>H_dP</th>\n",
       "      <th>A_dP</th>\n",
       "      <th>H_dA</th>\n",
       "      <th>A_dA</th>\n",
       "      <th>H_dTW</th>\n",
       "      <th>A_dTW</th>\n",
       "      <th>H_dDLC</th>\n",
       "      <th>A_dDLC</th>\n",
       "    </tr>\n",
       "  </thead>\n",
       "  <tbody>\n",
       "    <tr>\n",
       "      <th>1906</th>\n",
       "      <td>2014-07-18 00:00:00</td>\n",
       "      <td>1722098</td>\n",
       "      <td>8033</td>\n",
       "      <td>8023</td>\n",
       "      <td>2</td>\n",
       "      <td>3</td>\n",
       "      <td>l</td>\n",
       "      <td></td>\n",
       "      <td></td>\n",
       "      <td></td>\n",
       "      <td>...</td>\n",
       "      <td>Organised</td>\n",
       "      <td>Organised</td>\n",
       "      <td>29</td>\n",
       "      <td>50</td>\n",
       "      <td>35</td>\n",
       "      <td>60</td>\n",
       "      <td>38</td>\n",
       "      <td>47</td>\n",
       "      <td>Cover</td>\n",
       "      <td>Cover</td>\n",
       "    </tr>\n",
       "    <tr>\n",
       "      <th>1903</th>\n",
       "      <td>2014-07-19 00:00:00</td>\n",
       "      <td>1722095</td>\n",
       "      <td>1957</td>\n",
       "      <td>8030</td>\n",
       "      <td>2</td>\n",
       "      <td>2</td>\n",
       "      <td>d</td>\n",
       "      <td></td>\n",
       "      <td></td>\n",
       "      <td></td>\n",
       "      <td>...</td>\n",
       "      <td>Organised</td>\n",
       "      <td>Organised</td>\n",
       "      <td>57</td>\n",
       "      <td>37</td>\n",
       "      <td>56</td>\n",
       "      <td>58</td>\n",
       "      <td>49</td>\n",
       "      <td>63</td>\n",
       "      <td>Cover</td>\n",
       "      <td>Cover</td>\n",
       "    </tr>\n",
       "    <tr>\n",
       "      <th>2919</th>\n",
       "      <td>2014-07-19 00:00:00</td>\n",
       "      <td>1717214</td>\n",
       "      <td>9930</td>\n",
       "      <td>9931</td>\n",
       "      <td>1</td>\n",
       "      <td>2</td>\n",
       "      <td>l</td>\n",
       "      <td></td>\n",
       "      <td></td>\n",
       "      <td></td>\n",
       "      <td>...</td>\n",
       "      <td>Organised</td>\n",
       "      <td>Organised</td>\n",
       "      <td>47</td>\n",
       "      <td>47</td>\n",
       "      <td>44</td>\n",
       "      <td>58</td>\n",
       "      <td>54</td>\n",
       "      <td>53</td>\n",
       "      <td>Cover</td>\n",
       "      <td>Cover</td>\n",
       "    </tr>\n",
       "    <tr>\n",
       "      <th>2920</th>\n",
       "      <td>2014-07-19 00:00:00</td>\n",
       "      <td>1717215</td>\n",
       "      <td>10190</td>\n",
       "      <td>10192</td>\n",
       "      <td>2</td>\n",
       "      <td>2</td>\n",
       "      <td>d</td>\n",
       "      <td></td>\n",
       "      <td></td>\n",
       "      <td></td>\n",
       "      <td>...</td>\n",
       "      <td>Organised</td>\n",
       "      <td>Organised</td>\n",
       "      <td>40</td>\n",
       "      <td>44</td>\n",
       "      <td>41</td>\n",
       "      <td>34</td>\n",
       "      <td>52</td>\n",
       "      <td>50</td>\n",
       "      <td>Cover</td>\n",
       "      <td>Cover</td>\n",
       "    </tr>\n",
       "    <tr>\n",
       "      <th>1902</th>\n",
       "      <td>2014-07-20 00:00:00</td>\n",
       "      <td>1722092</td>\n",
       "      <td>2182</td>\n",
       "      <td>8028</td>\n",
       "      <td>4</td>\n",
       "      <td>0</td>\n",
       "      <td>w</td>\n",
       "      <td></td>\n",
       "      <td></td>\n",
       "      <td></td>\n",
       "      <td>...</td>\n",
       "      <td>Organised</td>\n",
       "      <td>Organised</td>\n",
       "      <td>47</td>\n",
       "      <td>36</td>\n",
       "      <td>47</td>\n",
       "      <td>45</td>\n",
       "      <td>63</td>\n",
       "      <td>48</td>\n",
       "      <td>Cover</td>\n",
       "      <td>Cover</td>\n",
       "    </tr>\n",
       "  </tbody>\n",
       "</table>\n",
       "<p>5 rows × 35 columns</p>\n",
       "</div>"
      ],
      "text/plain": [
       "                     date  match_api_id  home_team_api_id  away_team_api_id  \\\n",
       "1906  2014-07-18 00:00:00       1722098              8033              8023   \n",
       "1903  2014-07-19 00:00:00       1722095              1957              8030   \n",
       "2919  2014-07-19 00:00:00       1717214              9930              9931   \n",
       "2920  2014-07-19 00:00:00       1717215             10190             10192   \n",
       "1902  2014-07-20 00:00:00       1722092              2182              8028   \n",
       "\n",
       "      home_team_goal  away_team_goal hometeam_outcome HT_goalsfor  \\\n",
       "1906               2               3                l               \n",
       "1903               2               2                d               \n",
       "2919               1               2                l               \n",
       "2920               2               2                d               \n",
       "1902               4               0                w               \n",
       "\n",
       "     HT_goalsagainst AT_goalsfor   ...     H_cCPosC   A_cCPosC  H_dP A_dP  \\\n",
       "1906                               ...    Organised  Organised    29   50   \n",
       "1903                               ...    Organised  Organised    57   37   \n",
       "2919                               ...    Organised  Organised    47   47   \n",
       "2920                               ...    Organised  Organised    40   44   \n",
       "1902                               ...    Organised  Organised    47   36   \n",
       "\n",
       "     H_dA  A_dA  H_dTW A_dTW H_dDLC  A_dDLC  \n",
       "1906   35    60     38    47  Cover   Cover  \n",
       "1903   56    58     49    63  Cover   Cover  \n",
       "2919   44    58     54    53  Cover   Cover  \n",
       "2920   41    34     52    50  Cover   Cover  \n",
       "1902   47    45     63    48  Cover   Cover  \n",
       "\n",
       "[5 rows x 35 columns]"
      ]
     },
     "execution_count": 21,
     "metadata": {},
     "output_type": "execute_result"
    }
   ],
   "source": [
    "df_2014_new = df_2014.sort_values('date')\n",
    "df_2014_new.head()"
   ]
  },
  {
   "cell_type": "code",
   "execution_count": 22,
   "metadata": {
    "collapsed": false,
    "scrolled": true
   },
   "outputs": [
    {
     "data": {
      "text/plain": [
       "Index([u'date', u'match_api_id', u'home_team_api_id', u'away_team_api_id',\n",
       "       u'home_team_goal', u'away_team_goal', u'hometeam_outcome',\n",
       "       u'HT_goalsfor', u'HT_goalsagainst', u'AT_goalsfor', u'AT_goalsagainst',\n",
       "       u'H_bUPS', u'A_bUPS', u'H_bUPDC', u'A_bUPDC', u'H_bUPP', u'A_bUPP',\n",
       "       u'H_bUPPosC', u'A_bUPPosC', u'H_cCP', u'A_cCP', u'H_cCC', u'A_cCC',\n",
       "       u'H_cCS', u'A_cCS', u'H_cCPosC', u'A_cCPosC', u'H_dP', u'A_dP', u'H_dA',\n",
       "       u'A_dA', u'H_dTW', u'A_dTW', u'H_dDLC', u'A_dDLC'],\n",
       "      dtype='object')"
      ]
     },
     "execution_count": 22,
     "metadata": {},
     "output_type": "execute_result"
    }
   ],
   "source": [
    "df_2014_new.columns"
   ]
  },
  {
   "cell_type": "code",
   "execution_count": 23,
   "metadata": {
    "collapsed": false
   },
   "outputs": [
    {
     "data": {
      "text/plain": [
       "1906    False\n",
       "1903    False\n",
       "2919    False\n",
       "2920    False\n",
       "1902    False\n",
       "1904    False\n",
       "1905    False\n",
       "2921    False\n",
       "2922    False\n",
       "3061    False\n",
       "3062    False\n",
       "0       False\n",
       "1960    False\n",
       "1       False\n",
       "1961    False\n",
       "1963    False\n",
       "3       False\n",
       "2       False\n",
       "2964    False\n",
       "2965    False\n",
       "1962    False\n",
       "5       False\n",
       "4       False\n",
       "2966    False\n",
       "2967    False\n",
       "1959    False\n",
       "2034    False\n",
       "2036    False\n",
       "70      False\n",
       "3019    False\n",
       "        ...  \n",
       "513     False\n",
       "512     False\n",
       "1568    False\n",
       "1567    False\n",
       "1573    False\n",
       "1566    False\n",
       "1565    False\n",
       "1572    False\n",
       "2514    False\n",
       "2512    False\n",
       "3050    False\n",
       "3049    False\n",
       "3047    False\n",
       "1571    False\n",
       "3051    False\n",
       "3048    False\n",
       "3055    False\n",
       "3056    False\n",
       "3054    False\n",
       "3053    False\n",
       "3052    False\n",
       "1579    False\n",
       "1580    False\n",
       "1577    False\n",
       "1578    False\n",
       "1576    False\n",
       "1575    False\n",
       "1581    False\n",
       "1583    False\n",
       "1582    False\n",
       "dtype: bool"
      ]
     },
     "execution_count": 23,
     "metadata": {},
     "output_type": "execute_result"
    }
   ],
   "source": [
    "df_2014_new.duplicated()"
   ]
  },
  {
   "cell_type": "code",
   "execution_count": 24,
   "metadata": {
    "collapsed": false
   },
   "outputs": [
    {
     "data": {
      "text/plain": [
       "3081"
      ]
     },
     "execution_count": 24,
     "metadata": {},
     "output_type": "execute_result"
    }
   ],
   "source": [
    "len(df_2014_new)"
   ]
  },
  {
   "cell_type": "code",
   "execution_count": 26,
   "metadata": {
    "collapsed": false
   },
   "outputs": [],
   "source": [
    "import datetime\n",
    "df_2014_new['date'] = pd.to_datetime(df_2014_new['date'])"
   ]
  },
  {
   "cell_type": "code",
   "execution_count": 27,
   "metadata": {
    "collapsed": false
   },
   "outputs": [
    {
     "name": "stdout",
     "output_type": "stream",
     "text": [
      "<class 'pandas.core.frame.DataFrame'>\n",
      "Int64Index: 3081 entries, 1906 to 1582\n",
      "Data columns (total 35 columns):\n",
      "date                3081 non-null datetime64[ns]\n",
      "match_api_id        3081 non-null int64\n",
      "home_team_api_id    3081 non-null int64\n",
      "away_team_api_id    3081 non-null int64\n",
      "home_team_goal      3081 non-null int64\n",
      "away_team_goal      3081 non-null int64\n",
      "hometeam_outcome    3081 non-null object\n",
      "HT_goalsfor         3081 non-null object\n",
      "HT_goalsagainst     3081 non-null object\n",
      "AT_goalsfor         3081 non-null object\n",
      "AT_goalsagainst     3081 non-null object\n",
      "H_bUPS              3081 non-null int64\n",
      "A_bUPS              3081 non-null int64\n",
      "H_bUPDC             3081 non-null object\n",
      "A_bUPDC             3081 non-null object\n",
      "H_bUPP              3081 non-null int64\n",
      "A_bUPP              3081 non-null int64\n",
      "H_bUPPosC           3081 non-null object\n",
      "A_bUPPosC           3081 non-null object\n",
      "H_cCP               3081 non-null int64\n",
      "A_cCP               3081 non-null int64\n",
      "H_cCC               3081 non-null int64\n",
      "A_cCC               3081 non-null int64\n",
      "H_cCS               3081 non-null int64\n",
      "A_cCS               3081 non-null int64\n",
      "H_cCPosC            3081 non-null object\n",
      "A_cCPosC            3081 non-null object\n",
      "H_dP                3081 non-null int64\n",
      "A_dP                3081 non-null int64\n",
      "H_dA                3081 non-null int64\n",
      "A_dA                3081 non-null int64\n",
      "H_dTW               3081 non-null int64\n",
      "A_dTW               3081 non-null int64\n",
      "H_dDLC              3081 non-null object\n",
      "A_dDLC              3081 non-null object\n",
      "dtypes: datetime64[ns](1), int64(21), object(13)\n",
      "memory usage: 866.5+ KB\n"
     ]
    }
   ],
   "source": [
    "df_2014_new.info()"
   ]
  },
  {
   "cell_type": "code",
   "execution_count": 28,
   "metadata": {
    "collapsed": false
   },
   "outputs": [
    {
     "data": {
      "text/plain": [
       "Index([u'date', u'match_api_id', u'home_team_api_id', u'away_team_api_id',\n",
       "       u'home_team_goal', u'away_team_goal', u'hometeam_outcome',\n",
       "       u'HT_goalsfor', u'HT_goalsagainst', u'AT_goalsfor', u'AT_goalsagainst',\n",
       "       u'H_bUPS', u'A_bUPS', u'H_bUPDC', u'A_bUPDC', u'H_bUPP', u'A_bUPP',\n",
       "       u'H_bUPPosC', u'A_bUPPosC', u'H_cCP', u'A_cCP', u'H_cCC', u'A_cCC',\n",
       "       u'H_cCS', u'A_cCS', u'H_cCPosC', u'A_cCPosC', u'H_dP', u'A_dP', u'H_dA',\n",
       "       u'A_dA', u'H_dTW', u'A_dTW', u'H_dDLC', u'A_dDLC'],\n",
       "      dtype='object')"
      ]
     },
     "execution_count": 28,
     "metadata": {},
     "output_type": "execute_result"
    }
   ],
   "source": [
    "df_2014_new.columns"
   ]
  },
  {
   "cell_type": "code",
   "execution_count": 29,
   "metadata": {
    "collapsed": false
   },
   "outputs": [],
   "source": [
    "#Split into train and test, based on year and get dummies for categorical features in x\n",
    "y_train = df_2014_new.loc[df_2014_new['date'].dt.year == 2014, 'hometeam_outcome']\n",
    "y_test = df_2014_new.loc[df_2014_new['date'].dt.year == 2015, 'hometeam_outcome']\n",
    "x = df_2014_new.loc[:,['date', \n",
    "       u'H_bUPS', u'A_bUPS', u'H_bUPDC', u'A_bUPDC', u'H_bUPP', u'A_bUPP',\n",
    "       u'H_bUPPosC', u'A_bUPPosC', u'H_cCP', u'A_cCP', u'H_cCC', u'A_cCC',\n",
    "       u'H_cCS', u'A_cCS', u'H_cCPosC', u'A_cCPosC', u'H_dP', u'A_dP', u'H_dA',\n",
    "       u'A_dA', u'H_dTW', u'A_dTW', u'H_dDLC', u'A_dDLC']]\n"
   ]
  },
  {
   "cell_type": "code",
   "execution_count": 30,
   "metadata": {
    "collapsed": true
   },
   "outputs": [],
   "source": [
    "x_dummies = pd.get_dummies(x)"
   ]
  },
  {
   "cell_type": "code",
   "execution_count": 31,
   "metadata": {
    "collapsed": false
   },
   "outputs": [
    {
     "data": {
      "text/plain": [
       "Index([               u'date',              u'H_bUPS',              u'A_bUPS',\n",
       "                    u'H_bUPP',              u'A_bUPP',               u'H_cCP',\n",
       "                     u'A_cCP',               u'H_cCC',               u'A_cCC',\n",
       "                     u'H_cCS',               u'A_cCS',                u'H_dP',\n",
       "                      u'A_dP',                u'H_dA',                u'A_dA',\n",
       "                     u'H_dTW',               u'A_dTW',      u'H_bUPDC_Little',\n",
       "              u'H_bUPDC_Lots',      u'H_bUPDC_Normal',      u'A_bUPDC_Little',\n",
       "              u'A_bUPDC_Lots',      u'A_bUPDC_Normal', u'H_bUPPosC_Free Form',\n",
       "       u'H_bUPPosC_Organised', u'A_bUPPosC_Free Form', u'A_bUPPosC_Organised',\n",
       "        u'H_cCPosC_Free Form',  u'H_cCPosC_Organised',  u'A_cCPosC_Free Form',\n",
       "        u'A_cCPosC_Organised',        u'H_dDLC_Cover', u'H_dDLC_Offside Trap',\n",
       "              u'A_dDLC_Cover', u'A_dDLC_Offside Trap'],\n",
       "      dtype='object')"
      ]
     },
     "execution_count": 31,
     "metadata": {},
     "output_type": "execute_result"
    }
   ],
   "source": [
    "x_dummies.columns"
   ]
  },
  {
   "cell_type": "code",
   "execution_count": 32,
   "metadata": {
    "collapsed": false
   },
   "outputs": [],
   "source": [
    "x_train = x_dummies.loc[x_dummies['date'].dt.year == 2014, ['H_bUPS','A_bUPS','H_bUPP', 'A_bUPP', 'H_cCP',\n",
    "                     'A_cCP', 'H_cCC', 'A_cCC',\n",
    "                     'H_cCS', 'A_cCS', 'H_dP',\n",
    "                      'A_dP', 'H_dA', 'A_dA',\n",
    "                     'H_dTW', 'A_dTW','H_bUPDC_Little',\n",
    "              'H_bUPDC_Lots','H_bUPDC_Normal','A_bUPDC_Little',\n",
    "              'A_bUPDC_Lots','A_bUPDC_Normal','H_bUPPosC_Free Form',\n",
    "       'H_bUPPosC_Organised', 'A_bUPPosC_Free Form','A_bUPPosC_Organised',\n",
    "        'H_cCPosC_Free Form', 'H_cCPosC_Organised','A_cCPosC_Free Form',\n",
    "        'A_cCPosC_Organised','H_dDLC_Cover','H_dDLC_Offside Trap',\n",
    "              'A_dDLC_Cover', 'A_dDLC_Offside Trap']]\n",
    "\n",
    "x_test = x_dummies.loc[x_dummies['date'].dt.year == 2015, ['H_bUPS','A_bUPS','H_bUPP', 'A_bUPP', 'H_cCP',\n",
    "                     'A_cCP', 'H_cCC', 'A_cCC',\n",
    "                     'H_cCS', 'A_cCS', 'H_dP',\n",
    "                      'A_dP', 'H_dA', 'A_dA',\n",
    "                     'H_dTW', 'A_dTW','H_bUPDC_Little',\n",
    "              'H_bUPDC_Lots','H_bUPDC_Normal','A_bUPDC_Little',\n",
    "              'A_bUPDC_Lots','A_bUPDC_Normal','H_bUPPosC_Free Form',\n",
    "       'H_bUPPosC_Organised', 'A_bUPPosC_Free Form','A_bUPPosC_Organised',\n",
    "        'H_cCPosC_Free Form', 'H_cCPosC_Organised','A_cCPosC_Free Form',\n",
    "        'A_cCPosC_Organised','H_dDLC_Cover','H_dDLC_Offside Trap',\n",
    "              'A_dDLC_Cover', 'A_dDLC_Offside Trap']]"
   ]
  },
  {
   "cell_type": "markdown",
   "metadata": {},
   "source": [
    "**Fit a Logistic Regression Model**"
   ]
  },
  {
   "cell_type": "code",
   "execution_count": 33,
   "metadata": {
    "collapsed": false
   },
   "outputs": [],
   "source": [
    "logreg = LogisticRegression()\n",
    "fit = logreg.fit(x_train,y_train)"
   ]
  },
  {
   "cell_type": "code",
   "execution_count": 34,
   "metadata": {
    "collapsed": false
   },
   "outputs": [],
   "source": [
    "y_pred = logreg.predict(x_test)"
   ]
  },
  {
   "cell_type": "code",
   "execution_count": 35,
   "metadata": {
    "collapsed": false
   },
   "outputs": [
    {
     "data": {
      "text/plain": [
       "(0.48161244695898159, 0.44151169766046788)"
      ]
     },
     "execution_count": 35,
     "metadata": {},
     "output_type": "execute_result"
    }
   ],
   "source": [
    "train_acc=fit.score(x_train, y_train)\n",
    "test_acc=fit.score(x_test,y_test)\n",
    "train_acc,test_acc"
   ]
  },
  {
   "cell_type": "code",
   "execution_count": 36,
   "metadata": {
    "collapsed": false
   },
   "outputs": [
    {
     "data": {
      "text/plain": [
       "(0.63578500707213581, 0.40431913617276544)"
      ]
     },
     "execution_count": 36,
     "metadata": {},
     "output_type": "execute_result"
    }
   ],
   "source": [
    "#make polynomial feautes and test\n",
    "from sklearn.preprocessing import PolynomialFeatures\n",
    "from sklearn.pipeline import Pipeline\n",
    "\n",
    "\n",
    "poly = PolynomialFeatures(degree=2, interaction_only=False)\n",
    "\n",
    "pipeline = Pipeline([(\"polynomial_features\", poly),(\"logistic_regression\", logreg)])\n",
    "pipeline_fit = pipeline.fit(x_train,y_train)\n",
    "train_pacc = pipeline_fit.score(x_train, y_train)\n",
    "test_pacc = pipeline_fit.score(x_test,y_test)\n",
    "train_pacc,test_pacc"
   ]
  },
  {
   "cell_type": "code",
   "execution_count": 37,
   "metadata": {
    "collapsed": false
   },
   "outputs": [
    {
     "data": {
      "text/plain": [
       "(0.90523338048090518, 0.39592081583683264)"
      ]
     },
     "execution_count": 37,
     "metadata": {},
     "output_type": "execute_result"
    }
   ],
   "source": [
    "#make polynomial feautes and test\n",
    "from sklearn.preprocessing import PolynomialFeatures\n",
    "from sklearn.pipeline import Pipeline\n",
    "\n",
    "\n",
    "poly = PolynomialFeatures(degree=3, interaction_only=False)\n",
    "\n",
    "pipeline = Pipeline([(\"polynomial_features\", poly),(\"logistic_regression\", logreg)])\n",
    "pipeline_fit = pipeline.fit(x_train,y_train)\n",
    "train_pacc = pipeline_fit.score(x_train, y_train)\n",
    "test_pacc = pipeline_fit.score(x_test,y_test)\n",
    "train_pacc,test_pacc"
   ]
  },
  {
   "cell_type": "markdown",
   "metadata": {},
   "source": [
    "**Fit a Decision Tree**"
   ]
  },
  {
   "cell_type": "code",
   "execution_count": 38,
   "metadata": {
    "collapsed": true
   },
   "outputs": [],
   "source": [
    "from sklearn import tree\n",
    "clf = tree.DecisionTreeClassifier()\n",
    "clf = clf.fit(x_train,y_train)"
   ]
  },
  {
   "cell_type": "code",
   "execution_count": 39,
   "metadata": {
    "collapsed": false
   },
   "outputs": [
    {
     "data": {
      "text/plain": [
       "(1.0, 0.38872225554889023)"
      ]
     },
     "execution_count": 39,
     "metadata": {},
     "output_type": "execute_result"
    }
   ],
   "source": [
    "train_acc_dtree =clf.score(x_train, y_train)\n",
    "test_acc_dtree =clf.score(x_test,y_test)\n",
    "train_acc_dtree,test_acc_dtree"
   ]
  },
  {
   "cell_type": "code",
   "execution_count": 40,
   "metadata": {
    "collapsed": false
   },
   "outputs": [
    {
     "name": "stdout",
     "output_type": "stream",
     "text": [
      "{'min_samples_split': 2, 'min_samples_leaf': 50}\n"
     ]
    }
   ],
   "source": [
    "#Tuning parameters for Decision Tree\n",
    "from sklearn.grid_search import GridSearchCV\n",
    "from sklearn import tree\n",
    "\n",
    "param_grid = { \n",
    "    \n",
    "   \n",
    "\n",
    "    'min_samples_split' : [2,5,10],\n",
    "    'min_samples_leaf' : [1, 25, 50, 100, 150],\n",
    "   \n",
    "    \n",
    "}\n",
    "\n",
    "dtree = tree.DecisionTreeClassifier()\n",
    "CV_dtree = GridSearchCV(dtree,param_grid=param_grid)\n",
    "CV_dtree.fit(x_train, y_train)\n",
    "print CV_dtree.best_params_"
   ]
  },
  {
   "cell_type": "code",
   "execution_count": 41,
   "metadata": {
    "collapsed": false
   },
   "outputs": [
    {
     "data": {
      "text/plain": [
       "(0.51060820367751059, 0.40611877624475107)"
      ]
     },
     "execution_count": 41,
     "metadata": {},
     "output_type": "execute_result"
    }
   ],
   "source": [
    "dtree_bestparams = tree.DecisionTreeClassifier(min_samples_split= 10, min_samples_leaf= 50)\n",
    "fit_bestdtree = dtree_bestparams.fit(x_train, y_train)\n",
    "train_acc_bestdtree = fit_bestdtree.score(x_train, y_train)\n",
    "test_acc_bestdtree = fit_bestdtree.score(x_test,y_test)\n",
    "train_acc_bestdtree,test_acc_bestdtree"
   ]
  },
  {
   "cell_type": "markdown",
   "metadata": {},
   "source": [
    "**Fit a Random Forest**"
   ]
  },
  {
   "cell_type": "code",
   "execution_count": 42,
   "metadata": {
    "collapsed": true
   },
   "outputs": [],
   "source": [
    "from sklearn.ensemble import RandomForestClassifier\n",
    "clf_forest = RandomForestClassifier()\n",
    "clf_forest = clf_forest.fit(x_train,y_train)"
   ]
  },
  {
   "cell_type": "code",
   "execution_count": 43,
   "metadata": {
    "collapsed": false
   },
   "outputs": [
    {
     "data": {
      "text/plain": [
       "(0.983026874115983, 0.40371925614877024)"
      ]
     },
     "execution_count": 43,
     "metadata": {},
     "output_type": "execute_result"
    }
   ],
   "source": [
    "train_acc_forest = clf_forest.score(x_train, y_train)\n",
    "test_acc_forest = clf_forest.score(x_test,y_test)\n",
    "train_acc_forest,test_acc_forest"
   ]
  },
  {
   "cell_type": "code",
   "execution_count": 44,
   "metadata": {
    "collapsed": false
   },
   "outputs": [
    {
     "data": {
      "text/plain": [
       "(0.91937765205091937, 0.4241151769646071)"
      ]
     },
     "execution_count": 44,
     "metadata": {},
     "output_type": "execute_result"
    }
   ],
   "source": [
    "clf_forest = RandomForestClassifier(min_samples_split=6)\n",
    "clf_forest = clf_forest.fit(x_train,y_train)\n",
    "train_acc_forest = clf_forest.score(x_train, y_train)\n",
    "test_acc_forest = clf_forest.score(x_test,y_test)\n",
    "train_acc_forest,test_acc_forest"
   ]
  },
  {
   "cell_type": "code",
   "execution_count": 45,
   "metadata": {
    "collapsed": false
   },
   "outputs": [
    {
     "name": "stdout",
     "output_type": "stream",
     "text": [
      "{'max_features': 'sqrt', 'min_samples_split': 10, 'n_estimators': 100, 'min_samples_leaf': 1}\n"
     ]
    }
   ],
   "source": [
    "#Tuning parameters for Random Forest\n",
    "from sklearn.grid_search import GridSearchCV\n",
    "from sklearn.ensemble import RandomForestClassifier\n",
    "\n",
    "param_grid = { \n",
    "    'n_estimators': [50, 200, 700],\n",
    "    'max_features': ['auto', 'sqrt', 'log2'],\n",
    "    #'max_depth ' : ['None'],\n",
    "    'min_samples_split' : [2,5,10],\n",
    "    'min_samples_leaf' : [1, 25, 50, 100, 150],\n",
    "    'n_estimators' : [100,200]\n",
    "    \n",
    "}\n",
    "\n",
    "rfc = RandomForestClassifier()\n",
    "CV_rfc = GridSearchCV(rfc,param_grid=param_grid)\n",
    "CV_rfc.fit(x_train, y_train)\n",
    "print CV_rfc.best_params_"
   ]
  },
  {
   "cell_type": "code",
   "execution_count": 46,
   "metadata": {
    "collapsed": false
   },
   "outputs": [
    {
     "data": {
      "text/plain": [
       "(0.93776520509193773, 0.47090581883623273)"
      ]
     },
     "execution_count": 46,
     "metadata": {},
     "output_type": "execute_result"
    }
   ],
   "source": [
    "rfc_bestparams = RandomForestClassifier(max_features='log2', min_samples_split= 10, n_estimators= 100, min_samples_leaf= 1)\n",
    "fit_bestrfc = rfc_bestparams.fit(x_train, y_train)\n",
    "train_acc_bestforest = fit_bestrfc.score(x_train, y_train)\n",
    "test_acc_bestforest = fit_bestrfc.score(x_test,y_test)\n",
    "train_acc_bestforest,test_acc_bestforest"
   ]
  },
  {
   "cell_type": "code",
   "execution_count": 44,
   "metadata": {
    "collapsed": true
   },
   "outputs": [],
   "source": [
    "y_pred = fit_bestrfc.predict(x_test)\n"
   ]
  },
  {
   "cell_type": "code",
   "execution_count": 45,
   "metadata": {
    "collapsed": false
   },
   "outputs": [
    {
     "name": "stdout",
     "output_type": "stream",
     "text": [
      "Goal Features(Win-Loss): Confusion matrix, without normalization\n"
     ]
    },
    {
     "data": {
      "text/plain": [
       "<matplotlib.figure.Figure at 0x1256426d0>"
      ]
     },
     "execution_count": 45,
     "metadata": {},
     "output_type": "execute_result"
    },
    {
     "data": {
      "image/png": "[encoded data removed]",
      "text/plain": [
       "<matplotlib.figure.Figure at 0x125642710>"
      ]
     },
     "metadata": {},
     "output_type": "display_data"
    },
    {
     "data": {
      "text/plain": [
       "<matplotlib.figure.Figure at 0x1256426d0>"
      ]
     },
     "metadata": {},
     "output_type": "display_data"
    }
   ],
   "source": [
    "#Confusion Matrix for Random Forest\n",
    "import itertools\n",
    "from sklearn.metrics import confusion_matrix\n",
    "\n",
    " \n",
    "import matplotlib.pyplot as plt\n",
    "%matplotlib inline\n",
    "\n",
    "def plot_confusion_matrix(cm,title='Confusion matrix', classes=fit_bestrfc.classes_, normalize = False, cmap=plt.cm.Reds):\n",
    "    plt.imshow(cm, interpolation='nearest',cmap=cmap)\n",
    "   # plt.title(title)\n",
    "    plt.colorbar()\n",
    "    plt.tight_layout()\n",
    "    plt.ylabel('True label')\n",
    "    plt.xlabel('Predicted label')\n",
    "    if normalize:\n",
    "        cm = cm.astype('float') / cm.sum(axis=1)[:, np.newaxis]\n",
    "        \n",
    "        \n",
    "        print(\"Goal Features(Win-Loss): Normalized confusion matrix\")\n",
    "    else:\n",
    "        print('Goal Features(Win-Loss): Confusion matrix, without normalization')\n",
    "\n",
    "    tick_marks = np.arange(len(classes))\n",
    "    plt.xticks(tick_marks, classes)\n",
    "    plt.yticks(tick_marks, classes)\n",
    "    thresh = cm.max() / 2.\n",
    "    for i, j in itertools.product(range(cm.shape[0]), range(cm.shape[1])):\n",
    "        plt.text(j, i, cm[i, j],\n",
    "                 horizontalalignment=\"center\",\n",
    "                 color=\"white\" if cm[i, j] > thresh else \"black\")\n",
    "\n",
    "\n",
    " \n",
    "  \n",
    "\n",
    "    \n",
    " \n",
    "\n",
    "cnf_matrix = confusion_matrix(y_test,y_pred,labels = fit.classes_ )\n",
    "\n",
    "plot_confusion_matrix(cnf_matrix,fit.classes_)\n",
    "plt.figure()\n"
   ]
  },
  {
   "cell_type": "code",
   "execution_count": null,
   "metadata": {
    "collapsed": true
   },
   "outputs": [],
   "source": [
    "from sklearn.grid_search import GridSearchCV\n",
    "from sklearn.ensemble import RandomForestClassifier\n",
    "\n",
    "param_grid = { \n",
    "    'n_estimators': [50, 200, 700],\n",
    "    'max_features': ['auto', 'sqrt', 'log2'],\n",
    "    'max_depth' : [10,50,100,200],\n",
    "    'min_samples_split' : [2,5,10],\n",
    "    'min_samples_leaf' : [1, 25, 50, 100, 150],\n",
    "    \n",
    "    \n",
    "}\n",
    "\n",
    "rfc = RandomForestClassifier()\n",
    "CV_rfc = GridSearchCV(rfc,param_grid=param_grid)\n",
    "CV_rfc.fit(x_train, y_train)\n",
    "print CV_rfc.best_params_"
   ]
  },
  {
   "cell_type": "code",
   "execution_count": null,
   "metadata": {
    "collapsed": true
   },
   "outputs": [],
   "source": [
    "rfc_bestparams = RandomForestClassifier(max_features='sqrt', min_samples_split= 10, n_estimators= 200, max_depth= 50,min_samples_leaf= 1)\n",
    "fit_bestrfc_winloss = rfc_bestparams.fit(x_train_winloss, y_train_winloss)\n",
    "train_acc_bestforest_winloss = fit_bestrfc_winloss.score(x_train_winloss, y_train_winloss)\n",
    "test_acc_bestforest_winloss = fit_bestrfc_winloss.score(x_test_winloss,y_test_winloss)\n",
    "y_predRF_winloss = fit_bestrfc_winloss.predict(x_test_winloss)\n",
    "\n",
    "train_acc_bestforest_winloss,test_acc_bestforest_winloss"
   ]
  }
 ],
 "metadata": {
  "kernelspec": {
   "display_name": "Python 2",
   "language": "python",
   "name": "python2"
  },
  "language_info": {
   "codemirror_mode": {
    "name": "ipython",
    "version": 2
   },
   "file_extension": ".py",
   "mimetype": "text/x-python",
   "name": "python",
   "nbconvert_exporter": "python",
   "pygments_lexer": "ipython2",
   "version": "2.7.13"
  }
 },
 "nbformat": 4,
 "nbformat_minor": 0
}
