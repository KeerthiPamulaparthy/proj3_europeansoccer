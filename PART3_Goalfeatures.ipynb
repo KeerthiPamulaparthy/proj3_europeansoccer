{
 "cells": [
  {
   "cell_type": "markdown",
   "metadata": {},
   "source": [
    "# Project Mcnulty"
   ]
  },
  {
   "cell_type": "markdown",
   "metadata": {},
   "source": [
    "Prediction: Home Team Match Outcome\n",
    "\n",
    "Load data, downloaded from Kaggle and clean up.\n",
    "\n",
    "PART III - Run Classification Models on just 'goal features' minus DRAWS."
   ]
  },
  {
   "cell_type": "code",
   "execution_count": 1,
   "metadata": {
    "collapsed": true
   },
   "outputs": [],
   "source": [
    "from sqlalchemy import create_engine\n",
    "import pandas as pd\n",
    "import sqlite3\n",
    "import numpy as np\n",
    "from sklearn.cross_validation import train_test_split\n",
    "from sklearn.neighbors import KNeighborsClassifier\n",
    "from sklearn.metrics import accuracy_score\n",
    "from sklearn.preprocessing import OneHotEncoder\n",
    "from sklearn.linear_model import LogisticRegression\n",
    "from sklearn.metrics import precision_recall_fscore_support\n",
    "from sklearn.metrics import classification_report\n",
    "data = sqlite3.connect('/Users/keerthipamulaparthy/Documents/metis/projects/Project3_McNulty/database.sqlite')"
   ]
  },
  {
   "cell_type": "code",
   "execution_count": 2,
   "metadata": {
    "collapsed": false
   },
   "outputs": [],
   "source": [
    "df_raw = pd.read_sql_query(r\"\"\"SELECT A.id AS id, A.date AS date, country_id, league_id, season, stage,match_api_id,home_team_api_id,away_team_api_id,home_team_goal,away_team_goal,B.buildUpPlaySpeed AS H_bUPS,C.buildUpPlaySpeed AS A_bUPS,B.buildUpPlayDribblingClass AS H_bUPDC, C.buildUpPlayDribblingClass AS A_bUPDC,B.buildUpPlayPassing AS H_bUPP, C.buildUpPlayPassing AS A_bUPP,B.buildUpPlayPositioningClass AS H_bUPPosC, C.buildUpPlayPositioningClass AS A_bUPPosC,B.chanceCreationPassing AS H_cCP, C.chanceCreationPassing AS A_cCP,B.chanceCreationCrossing AS H_cCC, C.chanceCreationCrossing AS A_cCC,B.chanceCreationShooting AS H_cCS, C.chanceCreationShooting AS A_cCS,B.chanceCreationPositioningClass AS H_cCPosC, C.chanceCreationPositioningClass AS A_cCPosC,B.defencePressure AS H_dP, C.defencePressure AS A_dP,B.defenceAggression AS H_dA, C.defenceAggression AS A_dA,B.defenceTeamWidth AS H_dTW, C.defenceTeamWidth AS A_dTW,B.defenceDefenderLineClass AS H_dDLC, C.defenceDefenderLineClass AS A_dDLC FROM Match A JOIN Team_Attributes B ON A.home_team_api_id = B.team_api_id JOIN Team_Attributes C ON A.away_team_api_id = C.team_api_id WHERE substr(A.date,0,5)=substr(B.date,0,5) and substr(A.date,0,5)=substr(C.date,0,5) and season='2014/2015'\"\"\", data)\n"
   ]
  },
  {
   "cell_type": "code",
   "execution_count": 4,
   "metadata": {
    "collapsed": false
   },
   "outputs": [
    {
     "data": {
      "text/html": [
       "<div>\n",
       "<table border=\"1\" class=\"dataframe\">\n",
       "  <thead>\n",
       "    <tr style=\"text-align: right;\">\n",
       "      <th></th>\n",
       "      <th>id</th>\n",
       "      <th>date</th>\n",
       "      <th>country_id</th>\n",
       "      <th>league_id</th>\n",
       "      <th>season</th>\n",
       "      <th>stage</th>\n",
       "      <th>match_api_id</th>\n",
       "      <th>home_team_api_id</th>\n",
       "      <th>away_team_api_id</th>\n",
       "      <th>home_team_goal</th>\n",
       "      <th>...</th>\n",
       "      <th>H_cCPosC</th>\n",
       "      <th>A_cCPosC</th>\n",
       "      <th>H_dP</th>\n",
       "      <th>A_dP</th>\n",
       "      <th>H_dA</th>\n",
       "      <th>A_dA</th>\n",
       "      <th>H_dTW</th>\n",
       "      <th>A_dTW</th>\n",
       "      <th>H_dDLC</th>\n",
       "      <th>A_dDLC</th>\n",
       "    </tr>\n",
       "  </thead>\n",
       "  <tbody>\n",
       "    <tr>\n",
       "      <th>0</th>\n",
       "      <td>1249</td>\n",
       "      <td>2014-07-25 00:00:00</td>\n",
       "      <td>1</td>\n",
       "      <td>1</td>\n",
       "      <td>2014/2015</td>\n",
       "      <td>1</td>\n",
       "      <td>1717817</td>\n",
       "      <td>9985</td>\n",
       "      <td>9986</td>\n",
       "      <td>3</td>\n",
       "      <td>...</td>\n",
       "      <td>Organised</td>\n",
       "      <td>Organised</td>\n",
       "      <td>45</td>\n",
       "      <td>42</td>\n",
       "      <td>54</td>\n",
       "      <td>48</td>\n",
       "      <td>52</td>\n",
       "      <td>49</td>\n",
       "      <td>Cover</td>\n",
       "      <td>Cover</td>\n",
       "    </tr>\n",
       "    <tr>\n",
       "      <th>1</th>\n",
       "      <td>1250</td>\n",
       "      <td>2014-07-26 00:00:00</td>\n",
       "      <td>1</td>\n",
       "      <td>1</td>\n",
       "      <td>2014/2015</td>\n",
       "      <td>1</td>\n",
       "      <td>1717818</td>\n",
       "      <td>8475</td>\n",
       "      <td>8342</td>\n",
       "      <td>0</td>\n",
       "      <td>...</td>\n",
       "      <td>Organised</td>\n",
       "      <td>Organised</td>\n",
       "      <td>25</td>\n",
       "      <td>51</td>\n",
       "      <td>37</td>\n",
       "      <td>50</td>\n",
       "      <td>35</td>\n",
       "      <td>57</td>\n",
       "      <td>Cover</td>\n",
       "      <td>Cover</td>\n",
       "    </tr>\n",
       "    <tr>\n",
       "      <th>2</th>\n",
       "      <td>1251</td>\n",
       "      <td>2014-07-26 00:00:00</td>\n",
       "      <td>1</td>\n",
       "      <td>1</td>\n",
       "      <td>2014/2015</td>\n",
       "      <td>1</td>\n",
       "      <td>1717819</td>\n",
       "      <td>9984</td>\n",
       "      <td>9991</td>\n",
       "      <td>0</td>\n",
       "      <td>...</td>\n",
       "      <td>Organised</td>\n",
       "      <td>Organised</td>\n",
       "      <td>59</td>\n",
       "      <td>55</td>\n",
       "      <td>47</td>\n",
       "      <td>59</td>\n",
       "      <td>62</td>\n",
       "      <td>52</td>\n",
       "      <td>Cover</td>\n",
       "      <td>Cover</td>\n",
       "    </tr>\n",
       "    <tr>\n",
       "      <th>3</th>\n",
       "      <td>1252</td>\n",
       "      <td>2014-07-26 00:00:00</td>\n",
       "      <td>1</td>\n",
       "      <td>1</td>\n",
       "      <td>2014/2015</td>\n",
       "      <td>1</td>\n",
       "      <td>1717820</td>\n",
       "      <td>9989</td>\n",
       "      <td>8573</td>\n",
       "      <td>2</td>\n",
       "      <td>...</td>\n",
       "      <td>Organised</td>\n",
       "      <td>Organised</td>\n",
       "      <td>38</td>\n",
       "      <td>42</td>\n",
       "      <td>49</td>\n",
       "      <td>47</td>\n",
       "      <td>65</td>\n",
       "      <td>44</td>\n",
       "      <td>Cover</td>\n",
       "      <td>Cover</td>\n",
       "    </tr>\n",
       "    <tr>\n",
       "      <th>4</th>\n",
       "      <td>1254</td>\n",
       "      <td>2014-07-27 00:00:00</td>\n",
       "      <td>1</td>\n",
       "      <td>1</td>\n",
       "      <td>2014/2015</td>\n",
       "      <td>1</td>\n",
       "      <td>1717822</td>\n",
       "      <td>8203</td>\n",
       "      <td>9987</td>\n",
       "      <td>3</td>\n",
       "      <td>...</td>\n",
       "      <td>Organised</td>\n",
       "      <td>Organised</td>\n",
       "      <td>42</td>\n",
       "      <td>47</td>\n",
       "      <td>51</td>\n",
       "      <td>45</td>\n",
       "      <td>52</td>\n",
       "      <td>55</td>\n",
       "      <td>Cover</td>\n",
       "      <td>Cover</td>\n",
       "    </tr>\n",
       "  </tbody>\n",
       "</table>\n",
       "<p>5 rows × 35 columns</p>\n",
       "</div>"
      ],
      "text/plain": [
       "     id                 date  country_id  league_id     season  stage  \\\n",
       "0  1249  2014-07-25 00:00:00           1          1  2014/2015      1   \n",
       "1  1250  2014-07-26 00:00:00           1          1  2014/2015      1   \n",
       "2  1251  2014-07-26 00:00:00           1          1  2014/2015      1   \n",
       "3  1252  2014-07-26 00:00:00           1          1  2014/2015      1   \n",
       "4  1254  2014-07-27 00:00:00           1          1  2014/2015      1   \n",
       "\n",
       "   match_api_id  home_team_api_id  away_team_api_id  home_team_goal   ...    \\\n",
       "0       1717817              9985              9986               3   ...     \n",
       "1       1717818              8475              8342               0   ...     \n",
       "2       1717819              9984              9991               0   ...     \n",
       "3       1717820              9989              8573               2   ...     \n",
       "4       1717822              8203              9987               3   ...     \n",
       "\n",
       "    H_cCPosC   A_cCPosC  H_dP A_dP H_dA  A_dA  H_dTW A_dTW H_dDLC  A_dDLC  \n",
       "0  Organised  Organised    45   42   54    48     52    49  Cover   Cover  \n",
       "1  Organised  Organised    25   51   37    50     35    57  Cover   Cover  \n",
       "2  Organised  Organised    59   55   47    59     62    52  Cover   Cover  \n",
       "3  Organised  Organised    38   42   49    47     65    44  Cover   Cover  \n",
       "4  Organised  Organised    42   47   51    45     52    55  Cover   Cover  \n",
       "\n",
       "[5 rows x 35 columns]"
      ]
     },
     "execution_count": 4,
     "metadata": {},
     "output_type": "execute_result"
    }
   ],
   "source": [
    "df_raw.head()"
   ]
  },
  {
   "cell_type": "code",
   "execution_count": 5,
   "metadata": {
    "collapsed": false
   },
   "outputs": [
    {
     "name": "stdout",
     "output_type": "stream",
     "text": [
      "<class 'pandas.core.frame.DataFrame'>\n",
      "RangeIndex: 3081 entries, 0 to 3080\n",
      "Data columns (total 35 columns):\n",
      "id                  3081 non-null int64\n",
      "date                3081 non-null object\n",
      "country_id          3081 non-null int64\n",
      "league_id           3081 non-null int64\n",
      "season              3081 non-null object\n",
      "stage               3081 non-null int64\n",
      "match_api_id        3081 non-null int64\n",
      "home_team_api_id    3081 non-null int64\n",
      "away_team_api_id    3081 non-null int64\n",
      "home_team_goal      3081 non-null int64\n",
      "away_team_goal      3081 non-null int64\n",
      "H_bUPS              3081 non-null int64\n",
      "A_bUPS              3081 non-null int64\n",
      "H_bUPDC             3081 non-null object\n",
      "A_bUPDC             3081 non-null object\n",
      "H_bUPP              3081 non-null int64\n",
      "A_bUPP              3081 non-null int64\n",
      "H_bUPPosC           3081 non-null object\n",
      "A_bUPPosC           3081 non-null object\n",
      "H_cCP               3081 non-null int64\n",
      "A_cCP               3081 non-null int64\n",
      "H_cCC               3081 non-null int64\n",
      "A_cCC               3081 non-null int64\n",
      "H_cCS               3081 non-null int64\n",
      "A_cCS               3081 non-null int64\n",
      "H_cCPosC            3081 non-null object\n",
      "A_cCPosC            3081 non-null object\n",
      "H_dP                3081 non-null int64\n",
      "A_dP                3081 non-null int64\n",
      "H_dA                3081 non-null int64\n",
      "A_dA                3081 non-null int64\n",
      "H_dTW               3081 non-null int64\n",
      "A_dTW               3081 non-null int64\n",
      "H_dDLC              3081 non-null object\n",
      "A_dDLC              3081 non-null object\n",
      "dtypes: int64(25), object(10)\n",
      "memory usage: 842.5+ KB\n"
     ]
    }
   ],
   "source": [
    "df_raw.info()"
   ]
  },
  {
   "cell_type": "code",
   "execution_count": 6,
   "metadata": {
    "collapsed": false
   },
   "outputs": [
    {
     "data": {
      "text/plain": [
       "Index([u'id', u'date', u'country_id', u'league_id', u'season', u'stage',\n",
       "       u'match_api_id', u'home_team_api_id', u'away_team_api_id',\n",
       "       u'home_team_goal', u'away_team_goal', u'H_bUPS', u'A_bUPS', u'H_bUPDC',\n",
       "       u'A_bUPDC', u'H_bUPP', u'A_bUPP', u'H_bUPPosC', u'A_bUPPosC', u'H_cCP',\n",
       "       u'A_cCP', u'H_cCC', u'A_cCC', u'H_cCS', u'A_cCS', u'H_cCPosC',\n",
       "       u'A_cCPosC', u'H_dP', u'A_dP', u'H_dA', u'A_dA', u'H_dTW', u'A_dTW',\n",
       "       u'H_dDLC', u'A_dDLC'],\n",
       "      dtype='object')"
      ]
     },
     "execution_count": 6,
     "metadata": {},
     "output_type": "execute_result"
    }
   ],
   "source": [
    "df_raw.columns"
   ]
  },
  {
   "cell_type": "code",
   "execution_count": 7,
   "metadata": {
    "collapsed": false
   },
   "outputs": [],
   "source": [
    "df_2014 = df_raw.reindex(columns = ['date', \n",
    "       'match_api_id', 'home_team_api_id', 'away_team_api_id',\n",
    "       'home_team_goal', 'away_team_goal', 'hometeam_outcome', 'HT_goalsfor',\n",
    "    'HT_goalsagainst','AT_goalsfor','AT_goalsagainst'\n",
    "    ,'H_bUPS','A_bUPS', 'H_bUPDC', 'A_bUPDC', 'H_bUPP', 'A_bUPP', 'H_bUPPosC',\n",
    "       'A_bUPPosC', 'H_cCP', 'A_cCP', 'H_cCC', 'A_cCC', 'H_cCS',\n",
    "       'A_cCS', 'H_cCPosC', 'A_cCPosC', 'H_dP', 'A_dP', 'H_dA', 'A_dA',\n",
    "       'H_dTW', 'A_dTW', 'H_dDLC', 'A_dDLC'])\n"
   ]
  },
  {
   "cell_type": "code",
   "execution_count": 8,
   "metadata": {
    "collapsed": false
   },
   "outputs": [
    {
     "name": "stdout",
     "output_type": "stream",
     "text": [
      "<class 'pandas.core.frame.DataFrame'>\n",
      "RangeIndex: 3081 entries, 0 to 3080\n",
      "Data columns (total 35 columns):\n",
      "date                3081 non-null object\n",
      "match_api_id        3081 non-null int64\n",
      "home_team_api_id    3081 non-null int64\n",
      "away_team_api_id    3081 non-null int64\n",
      "home_team_goal      3081 non-null int64\n",
      "away_team_goal      3081 non-null int64\n",
      "hometeam_outcome    0 non-null float64\n",
      "HT_goalsfor         0 non-null float64\n",
      "HT_goalsagainst     0 non-null float64\n",
      "AT_goalsfor         0 non-null float64\n",
      "AT_goalsagainst     0 non-null float64\n",
      "H_bUPS              3081 non-null int64\n",
      "A_bUPS              3081 non-null int64\n",
      "H_bUPDC             3081 non-null object\n",
      "A_bUPDC             3081 non-null object\n",
      "H_bUPP              3081 non-null int64\n",
      "A_bUPP              3081 non-null int64\n",
      "H_bUPPosC           3081 non-null object\n",
      "A_bUPPosC           3081 non-null object\n",
      "H_cCP               3081 non-null int64\n",
      "A_cCP               3081 non-null int64\n",
      "H_cCC               3081 non-null int64\n",
      "A_cCC               3081 non-null int64\n",
      "H_cCS               3081 non-null int64\n",
      "A_cCS               3081 non-null int64\n",
      "H_cCPosC            3081 non-null object\n",
      "A_cCPosC            3081 non-null object\n",
      "H_dP                3081 non-null int64\n",
      "A_dP                3081 non-null int64\n",
      "H_dA                3081 non-null int64\n",
      "A_dA                3081 non-null int64\n",
      "H_dTW               3081 non-null int64\n",
      "A_dTW               3081 non-null int64\n",
      "H_dDLC              3081 non-null object\n",
      "A_dDLC              3081 non-null object\n",
      "dtypes: float64(5), int64(21), object(9)\n",
      "memory usage: 842.5+ KB\n"
     ]
    }
   ],
   "source": [
    "df_2014.info()"
   ]
  },
  {
   "cell_type": "code",
   "execution_count": 9,
   "metadata": {
    "collapsed": false
   },
   "outputs": [],
   "source": [
    "df_2014['hometeam_outcome'] = df_2014['hometeam_outcome'].fillna('')\n",
    "df_2014['HT_goalsfor'] = df_2014['HT_goalsfor'].fillna('')\n",
    "df_2014['HT_goalsagainst'] = df_2014['HT_goalsagainst'].fillna('')\n",
    "df_2014['AT_goalsfor'] = df_2014['AT_goalsfor'].fillna('')\n",
    "df_2014['AT_goalsagainst'] = df_2014['AT_goalsagainst'].fillna('')"
   ]
  },
  {
   "cell_type": "code",
   "execution_count": 10,
   "metadata": {
    "collapsed": false
   },
   "outputs": [],
   "source": [
    "df_2014.loc[df_2014['home_team_goal'] > df_2014['away_team_goal'], 'hometeam_outcome'] = \"w\"\n",
    "df_2014.loc[df_2014['home_team_goal'] < df_2014['away_team_goal'], 'hometeam_outcome'] = \"l\"\n",
    "df_2014.loc[df_2014['home_team_goal'] == df_2014['away_team_goal'], 'hometeam_outcome'] = \"d\""
   ]
  },
  {
   "cell_type": "code",
   "execution_count": 11,
   "metadata": {
    "collapsed": false
   },
   "outputs": [
    {
     "data": {
      "text/plain": [
       "w    1390\n",
       "l     908\n",
       "d     783\n",
       "Name: hometeam_outcome, dtype: int64"
      ]
     },
     "execution_count": 11,
     "metadata": {},
     "output_type": "execute_result"
    }
   ],
   "source": [
    "df_2014['hometeam_outcome'].value_counts()"
   ]
  },
  {
   "cell_type": "code",
   "execution_count": 12,
   "metadata": {
    "collapsed": false,
    "scrolled": true
   },
   "outputs": [
    {
     "data": {
      "text/html": [
       "<div>\n",
       "<table border=\"1\" class=\"dataframe\">\n",
       "  <thead>\n",
       "    <tr style=\"text-align: right;\">\n",
       "      <th></th>\n",
       "      <th>date</th>\n",
       "      <th>match_api_id</th>\n",
       "      <th>home_team_api_id</th>\n",
       "      <th>away_team_api_id</th>\n",
       "      <th>home_team_goal</th>\n",
       "      <th>away_team_goal</th>\n",
       "      <th>hometeam_outcome</th>\n",
       "      <th>HT_goalsfor</th>\n",
       "      <th>HT_goalsagainst</th>\n",
       "      <th>AT_goalsfor</th>\n",
       "      <th>...</th>\n",
       "      <th>H_cCPosC</th>\n",
       "      <th>A_cCPosC</th>\n",
       "      <th>H_dP</th>\n",
       "      <th>A_dP</th>\n",
       "      <th>H_dA</th>\n",
       "      <th>A_dA</th>\n",
       "      <th>H_dTW</th>\n",
       "      <th>A_dTW</th>\n",
       "      <th>H_dDLC</th>\n",
       "      <th>A_dDLC</th>\n",
       "    </tr>\n",
       "  </thead>\n",
       "  <tbody>\n",
       "    <tr>\n",
       "      <th>0</th>\n",
       "      <td>2014-07-25 00:00:00</td>\n",
       "      <td>1717817</td>\n",
       "      <td>9985</td>\n",
       "      <td>9986</td>\n",
       "      <td>3</td>\n",
       "      <td>0</td>\n",
       "      <td>w</td>\n",
       "      <td></td>\n",
       "      <td></td>\n",
       "      <td></td>\n",
       "      <td>...</td>\n",
       "      <td>Organised</td>\n",
       "      <td>Organised</td>\n",
       "      <td>45</td>\n",
       "      <td>42</td>\n",
       "      <td>54</td>\n",
       "      <td>48</td>\n",
       "      <td>52</td>\n",
       "      <td>49</td>\n",
       "      <td>Cover</td>\n",
       "      <td>Cover</td>\n",
       "    </tr>\n",
       "    <tr>\n",
       "      <th>1</th>\n",
       "      <td>2014-07-26 00:00:00</td>\n",
       "      <td>1717818</td>\n",
       "      <td>8475</td>\n",
       "      <td>8342</td>\n",
       "      <td>0</td>\n",
       "      <td>2</td>\n",
       "      <td>l</td>\n",
       "      <td></td>\n",
       "      <td></td>\n",
       "      <td></td>\n",
       "      <td>...</td>\n",
       "      <td>Organised</td>\n",
       "      <td>Organised</td>\n",
       "      <td>25</td>\n",
       "      <td>51</td>\n",
       "      <td>37</td>\n",
       "      <td>50</td>\n",
       "      <td>35</td>\n",
       "      <td>57</td>\n",
       "      <td>Cover</td>\n",
       "      <td>Cover</td>\n",
       "    </tr>\n",
       "    <tr>\n",
       "      <th>2</th>\n",
       "      <td>2014-07-26 00:00:00</td>\n",
       "      <td>1717819</td>\n",
       "      <td>9984</td>\n",
       "      <td>9991</td>\n",
       "      <td>0</td>\n",
       "      <td>0</td>\n",
       "      <td>d</td>\n",
       "      <td></td>\n",
       "      <td></td>\n",
       "      <td></td>\n",
       "      <td>...</td>\n",
       "      <td>Organised</td>\n",
       "      <td>Organised</td>\n",
       "      <td>59</td>\n",
       "      <td>55</td>\n",
       "      <td>47</td>\n",
       "      <td>59</td>\n",
       "      <td>62</td>\n",
       "      <td>52</td>\n",
       "      <td>Cover</td>\n",
       "      <td>Cover</td>\n",
       "    </tr>\n",
       "    <tr>\n",
       "      <th>3</th>\n",
       "      <td>2014-07-26 00:00:00</td>\n",
       "      <td>1717820</td>\n",
       "      <td>9989</td>\n",
       "      <td>8573</td>\n",
       "      <td>2</td>\n",
       "      <td>0</td>\n",
       "      <td>w</td>\n",
       "      <td></td>\n",
       "      <td></td>\n",
       "      <td></td>\n",
       "      <td>...</td>\n",
       "      <td>Organised</td>\n",
       "      <td>Organised</td>\n",
       "      <td>38</td>\n",
       "      <td>42</td>\n",
       "      <td>49</td>\n",
       "      <td>47</td>\n",
       "      <td>65</td>\n",
       "      <td>44</td>\n",
       "      <td>Cover</td>\n",
       "      <td>Cover</td>\n",
       "    </tr>\n",
       "    <tr>\n",
       "      <th>4</th>\n",
       "      <td>2014-07-27 00:00:00</td>\n",
       "      <td>1717822</td>\n",
       "      <td>8203</td>\n",
       "      <td>9987</td>\n",
       "      <td>3</td>\n",
       "      <td>1</td>\n",
       "      <td>w</td>\n",
       "      <td></td>\n",
       "      <td></td>\n",
       "      <td></td>\n",
       "      <td>...</td>\n",
       "      <td>Organised</td>\n",
       "      <td>Organised</td>\n",
       "      <td>42</td>\n",
       "      <td>47</td>\n",
       "      <td>51</td>\n",
       "      <td>45</td>\n",
       "      <td>52</td>\n",
       "      <td>55</td>\n",
       "      <td>Cover</td>\n",
       "      <td>Cover</td>\n",
       "    </tr>\n",
       "  </tbody>\n",
       "</table>\n",
       "<p>5 rows × 35 columns</p>\n",
       "</div>"
      ],
      "text/plain": [
       "                  date  match_api_id  home_team_api_id  away_team_api_id  \\\n",
       "0  2014-07-25 00:00:00       1717817              9985              9986   \n",
       "1  2014-07-26 00:00:00       1717818              8475              8342   \n",
       "2  2014-07-26 00:00:00       1717819              9984              9991   \n",
       "3  2014-07-26 00:00:00       1717820              9989              8573   \n",
       "4  2014-07-27 00:00:00       1717822              8203              9987   \n",
       "\n",
       "   home_team_goal  away_team_goal hometeam_outcome HT_goalsfor  \\\n",
       "0               3               0                w               \n",
       "1               0               2                l               \n",
       "2               0               0                d               \n",
       "3               2               0                w               \n",
       "4               3               1                w               \n",
       "\n",
       "  HT_goalsagainst AT_goalsfor   ...     H_cCPosC   A_cCPosC  H_dP A_dP H_dA  \\\n",
       "0                               ...    Organised  Organised    45   42   54   \n",
       "1                               ...    Organised  Organised    25   51   37   \n",
       "2                               ...    Organised  Organised    59   55   47   \n",
       "3                               ...    Organised  Organised    38   42   49   \n",
       "4                               ...    Organised  Organised    42   47   51   \n",
       "\n",
       "   A_dA  H_dTW A_dTW H_dDLC  A_dDLC  \n",
       "0    48     52    49  Cover   Cover  \n",
       "1    50     35    57  Cover   Cover  \n",
       "2    59     62    52  Cover   Cover  \n",
       "3    47     65    44  Cover   Cover  \n",
       "4    45     52    55  Cover   Cover  \n",
       "\n",
       "[5 rows x 35 columns]"
      ]
     },
     "execution_count": 12,
     "metadata": {},
     "output_type": "execute_result"
    }
   ],
   "source": [
    "df_2014.head()"
   ]
  },
  {
   "cell_type": "code",
   "execution_count": 13,
   "metadata": {
    "collapsed": false
   },
   "outputs": [
    {
     "data": {
      "text/html": [
       "<div>\n",
       "<table border=\"1\" class=\"dataframe\">\n",
       "  <thead>\n",
       "    <tr style=\"text-align: right;\">\n",
       "      <th></th>\n",
       "      <th>date</th>\n",
       "      <th>match_api_id</th>\n",
       "      <th>home_team_api_id</th>\n",
       "      <th>away_team_api_id</th>\n",
       "      <th>home_team_goal</th>\n",
       "      <th>away_team_goal</th>\n",
       "      <th>hometeam_outcome</th>\n",
       "      <th>HT_goalsfor</th>\n",
       "      <th>HT_goalsagainst</th>\n",
       "      <th>AT_goalsfor</th>\n",
       "      <th>...</th>\n",
       "      <th>H_cCPosC</th>\n",
       "      <th>A_cCPosC</th>\n",
       "      <th>H_dP</th>\n",
       "      <th>A_dP</th>\n",
       "      <th>H_dA</th>\n",
       "      <th>A_dA</th>\n",
       "      <th>H_dTW</th>\n",
       "      <th>A_dTW</th>\n",
       "      <th>H_dDLC</th>\n",
       "      <th>A_dDLC</th>\n",
       "    </tr>\n",
       "  </thead>\n",
       "  <tbody>\n",
       "    <tr>\n",
       "      <th>1906</th>\n",
       "      <td>2014-07-18 00:00:00</td>\n",
       "      <td>1722098</td>\n",
       "      <td>8033</td>\n",
       "      <td>8023</td>\n",
       "      <td>2</td>\n",
       "      <td>3</td>\n",
       "      <td>l</td>\n",
       "      <td></td>\n",
       "      <td></td>\n",
       "      <td></td>\n",
       "      <td>...</td>\n",
       "      <td>Organised</td>\n",
       "      <td>Organised</td>\n",
       "      <td>29</td>\n",
       "      <td>50</td>\n",
       "      <td>35</td>\n",
       "      <td>60</td>\n",
       "      <td>38</td>\n",
       "      <td>47</td>\n",
       "      <td>Cover</td>\n",
       "      <td>Cover</td>\n",
       "    </tr>\n",
       "    <tr>\n",
       "      <th>1903</th>\n",
       "      <td>2014-07-19 00:00:00</td>\n",
       "      <td>1722095</td>\n",
       "      <td>1957</td>\n",
       "      <td>8030</td>\n",
       "      <td>2</td>\n",
       "      <td>2</td>\n",
       "      <td>d</td>\n",
       "      <td></td>\n",
       "      <td></td>\n",
       "      <td></td>\n",
       "      <td>...</td>\n",
       "      <td>Organised</td>\n",
       "      <td>Organised</td>\n",
       "      <td>57</td>\n",
       "      <td>37</td>\n",
       "      <td>56</td>\n",
       "      <td>58</td>\n",
       "      <td>49</td>\n",
       "      <td>63</td>\n",
       "      <td>Cover</td>\n",
       "      <td>Cover</td>\n",
       "    </tr>\n",
       "    <tr>\n",
       "      <th>2919</th>\n",
       "      <td>2014-07-19 00:00:00</td>\n",
       "      <td>1717214</td>\n",
       "      <td>9930</td>\n",
       "      <td>9931</td>\n",
       "      <td>1</td>\n",
       "      <td>2</td>\n",
       "      <td>l</td>\n",
       "      <td></td>\n",
       "      <td></td>\n",
       "      <td></td>\n",
       "      <td>...</td>\n",
       "      <td>Organised</td>\n",
       "      <td>Organised</td>\n",
       "      <td>47</td>\n",
       "      <td>47</td>\n",
       "      <td>44</td>\n",
       "      <td>58</td>\n",
       "      <td>54</td>\n",
       "      <td>53</td>\n",
       "      <td>Cover</td>\n",
       "      <td>Cover</td>\n",
       "    </tr>\n",
       "    <tr>\n",
       "      <th>2920</th>\n",
       "      <td>2014-07-19 00:00:00</td>\n",
       "      <td>1717215</td>\n",
       "      <td>10190</td>\n",
       "      <td>10192</td>\n",
       "      <td>2</td>\n",
       "      <td>2</td>\n",
       "      <td>d</td>\n",
       "      <td></td>\n",
       "      <td></td>\n",
       "      <td></td>\n",
       "      <td>...</td>\n",
       "      <td>Organised</td>\n",
       "      <td>Organised</td>\n",
       "      <td>40</td>\n",
       "      <td>44</td>\n",
       "      <td>41</td>\n",
       "      <td>34</td>\n",
       "      <td>52</td>\n",
       "      <td>50</td>\n",
       "      <td>Cover</td>\n",
       "      <td>Cover</td>\n",
       "    </tr>\n",
       "    <tr>\n",
       "      <th>1902</th>\n",
       "      <td>2014-07-20 00:00:00</td>\n",
       "      <td>1722092</td>\n",
       "      <td>2182</td>\n",
       "      <td>8028</td>\n",
       "      <td>4</td>\n",
       "      <td>0</td>\n",
       "      <td>w</td>\n",
       "      <td></td>\n",
       "      <td></td>\n",
       "      <td></td>\n",
       "      <td>...</td>\n",
       "      <td>Organised</td>\n",
       "      <td>Organised</td>\n",
       "      <td>47</td>\n",
       "      <td>36</td>\n",
       "      <td>47</td>\n",
       "      <td>45</td>\n",
       "      <td>63</td>\n",
       "      <td>48</td>\n",
       "      <td>Cover</td>\n",
       "      <td>Cover</td>\n",
       "    </tr>\n",
       "  </tbody>\n",
       "</table>\n",
       "<p>5 rows × 35 columns</p>\n",
       "</div>"
      ],
      "text/plain": [
       "                     date  match_api_id  home_team_api_id  away_team_api_id  \\\n",
       "1906  2014-07-18 00:00:00       1722098              8033              8023   \n",
       "1903  2014-07-19 00:00:00       1722095              1957              8030   \n",
       "2919  2014-07-19 00:00:00       1717214              9930              9931   \n",
       "2920  2014-07-19 00:00:00       1717215             10190             10192   \n",
       "1902  2014-07-20 00:00:00       1722092              2182              8028   \n",
       "\n",
       "      home_team_goal  away_team_goal hometeam_outcome HT_goalsfor  \\\n",
       "1906               2               3                l               \n",
       "1903               2               2                d               \n",
       "2919               1               2                l               \n",
       "2920               2               2                d               \n",
       "1902               4               0                w               \n",
       "\n",
       "     HT_goalsagainst AT_goalsfor   ...     H_cCPosC   A_cCPosC  H_dP A_dP  \\\n",
       "1906                               ...    Organised  Organised    29   50   \n",
       "1903                               ...    Organised  Organised    57   37   \n",
       "2919                               ...    Organised  Organised    47   47   \n",
       "2920                               ...    Organised  Organised    40   44   \n",
       "1902                               ...    Organised  Organised    47   36   \n",
       "\n",
       "     H_dA  A_dA  H_dTW A_dTW H_dDLC  A_dDLC  \n",
       "1906   35    60     38    47  Cover   Cover  \n",
       "1903   56    58     49    63  Cover   Cover  \n",
       "2919   44    58     54    53  Cover   Cover  \n",
       "2920   41    34     52    50  Cover   Cover  \n",
       "1902   47    45     63    48  Cover   Cover  \n",
       "\n",
       "[5 rows x 35 columns]"
      ]
     },
     "execution_count": 13,
     "metadata": {},
     "output_type": "execute_result"
    }
   ],
   "source": [
    "df_2014_new = df_2014.sort_values('date')\n",
    "df_2014_new.head()"
   ]
  },
  {
   "cell_type": "code",
   "execution_count": 14,
   "metadata": {
    "collapsed": false,
    "scrolled": true
   },
   "outputs": [
    {
     "data": {
      "text/plain": [
       "Index([u'date', u'match_api_id', u'home_team_api_id', u'away_team_api_id',\n",
       "       u'home_team_goal', u'away_team_goal', u'hometeam_outcome',\n",
       "       u'HT_goalsfor', u'HT_goalsagainst', u'AT_goalsfor', u'AT_goalsagainst',\n",
       "       u'H_bUPS', u'A_bUPS', u'H_bUPDC', u'A_bUPDC', u'H_bUPP', u'A_bUPP',\n",
       "       u'H_bUPPosC', u'A_bUPPosC', u'H_cCP', u'A_cCP', u'H_cCC', u'A_cCC',\n",
       "       u'H_cCS', u'A_cCS', u'H_cCPosC', u'A_cCPosC', u'H_dP', u'A_dP', u'H_dA',\n",
       "       u'A_dA', u'H_dTW', u'A_dTW', u'H_dDLC', u'A_dDLC'],\n",
       "      dtype='object')"
      ]
     },
     "execution_count": 14,
     "metadata": {},
     "output_type": "execute_result"
    }
   ],
   "source": [
    "df_2014_new.columns"
   ]
  },
  {
   "cell_type": "code",
   "execution_count": 15,
   "metadata": {
    "collapsed": false
   },
   "outputs": [
    {
     "data": {
      "text/plain": [
       "1906    False\n",
       "1903    False\n",
       "2919    False\n",
       "2920    False\n",
       "1902    False\n",
       "1904    False\n",
       "1905    False\n",
       "2921    False\n",
       "2922    False\n",
       "3061    False\n",
       "3062    False\n",
       "0       False\n",
       "1960    False\n",
       "1       False\n",
       "1961    False\n",
       "1963    False\n",
       "3       False\n",
       "2       False\n",
       "2964    False\n",
       "2965    False\n",
       "1962    False\n",
       "5       False\n",
       "4       False\n",
       "2966    False\n",
       "2967    False\n",
       "1959    False\n",
       "2034    False\n",
       "2036    False\n",
       "70      False\n",
       "3019    False\n",
       "        ...  \n",
       "513     False\n",
       "512     False\n",
       "1568    False\n",
       "1567    False\n",
       "1573    False\n",
       "1566    False\n",
       "1565    False\n",
       "1572    False\n",
       "2514    False\n",
       "2512    False\n",
       "3050    False\n",
       "3049    False\n",
       "3047    False\n",
       "1571    False\n",
       "3051    False\n",
       "3048    False\n",
       "3055    False\n",
       "3056    False\n",
       "3054    False\n",
       "3053    False\n",
       "3052    False\n",
       "1579    False\n",
       "1580    False\n",
       "1577    False\n",
       "1578    False\n",
       "1576    False\n",
       "1575    False\n",
       "1581    False\n",
       "1583    False\n",
       "1582    False\n",
       "dtype: bool"
      ]
     },
     "execution_count": 15,
     "metadata": {},
     "output_type": "execute_result"
    }
   ],
   "source": [
    "df_2014_new.duplicated()"
   ]
  },
  {
   "cell_type": "code",
   "execution_count": 16,
   "metadata": {
    "collapsed": false
   },
   "outputs": [
    {
     "data": {
      "text/plain": [
       "3081"
      ]
     },
     "execution_count": 16,
     "metadata": {},
     "output_type": "execute_result"
    }
   ],
   "source": [
    "len(df_2014_new)"
   ]
  },
  {
   "cell_type": "code",
   "execution_count": 17,
   "metadata": {
    "collapsed": false
   },
   "outputs": [],
   "source": [
    "import datetime\n",
    "df_2014_new['date'] = pd.to_datetime(df_2014_new['date'])"
   ]
  },
  {
   "cell_type": "code",
   "execution_count": 18,
   "metadata": {
    "collapsed": false
   },
   "outputs": [
    {
     "name": "stdout",
     "output_type": "stream",
     "text": [
      "<class 'pandas.core.frame.DataFrame'>\n",
      "Int64Index: 3081 entries, 1906 to 1582\n",
      "Data columns (total 35 columns):\n",
      "date                3081 non-null datetime64[ns]\n",
      "match_api_id        3081 non-null int64\n",
      "home_team_api_id    3081 non-null int64\n",
      "away_team_api_id    3081 non-null int64\n",
      "home_team_goal      3081 non-null int64\n",
      "away_team_goal      3081 non-null int64\n",
      "hometeam_outcome    3081 non-null object\n",
      "HT_goalsfor         3081 non-null object\n",
      "HT_goalsagainst     3081 non-null object\n",
      "AT_goalsfor         3081 non-null object\n",
      "AT_goalsagainst     3081 non-null object\n",
      "H_bUPS              3081 non-null int64\n",
      "A_bUPS              3081 non-null int64\n",
      "H_bUPDC             3081 non-null object\n",
      "A_bUPDC             3081 non-null object\n",
      "H_bUPP              3081 non-null int64\n",
      "A_bUPP              3081 non-null int64\n",
      "H_bUPPosC           3081 non-null object\n",
      "A_bUPPosC           3081 non-null object\n",
      "H_cCP               3081 non-null int64\n",
      "A_cCP               3081 non-null int64\n",
      "H_cCC               3081 non-null int64\n",
      "A_cCC               3081 non-null int64\n",
      "H_cCS               3081 non-null int64\n",
      "A_cCS               3081 non-null int64\n",
      "H_cCPosC            3081 non-null object\n",
      "A_cCPosC            3081 non-null object\n",
      "H_dP                3081 non-null int64\n",
      "A_dP                3081 non-null int64\n",
      "H_dA                3081 non-null int64\n",
      "A_dA                3081 non-null int64\n",
      "H_dTW               3081 non-null int64\n",
      "A_dTW               3081 non-null int64\n",
      "H_dDLC              3081 non-null object\n",
      "A_dDLC              3081 non-null object\n",
      "dtypes: datetime64[ns](1), int64(21), object(13)\n",
      "memory usage: 866.5+ KB\n"
     ]
    }
   ],
   "source": [
    "df_2014_new.info()"
   ]
  },
  {
   "cell_type": "code",
   "execution_count": 19,
   "metadata": {
    "collapsed": false
   },
   "outputs": [
    {
     "data": {
      "text/plain": [
       "Index([u'date', u'match_api_id', u'home_team_api_id', u'away_team_api_id',\n",
       "       u'home_team_goal', u'away_team_goal', u'hometeam_outcome',\n",
       "       u'HT_goalsfor', u'HT_goalsagainst', u'AT_goalsfor', u'AT_goalsagainst',\n",
       "       u'H_bUPS', u'A_bUPS', u'H_bUPDC', u'A_bUPDC', u'H_bUPP', u'A_bUPP',\n",
       "       u'H_bUPPosC', u'A_bUPPosC', u'H_cCP', u'A_cCP', u'H_cCC', u'A_cCC',\n",
       "       u'H_cCS', u'A_cCS', u'H_cCPosC', u'A_cCPosC', u'H_dP', u'A_dP', u'H_dA',\n",
       "       u'A_dA', u'H_dTW', u'A_dTW', u'H_dDLC', u'A_dDLC'],\n",
       "      dtype='object')"
      ]
     },
     "execution_count": 19,
     "metadata": {},
     "output_type": "execute_result"
    }
   ],
   "source": [
    "df_2014_new.columns"
   ]
  },
  {
   "cell_type": "code",
   "execution_count": 20,
   "metadata": {
    "collapsed": false
   },
   "outputs": [
    {
     "data": {
      "text/html": [
       "<div>\n",
       "<table border=\"1\" class=\"dataframe\">\n",
       "  <thead>\n",
       "    <tr style=\"text-align: right;\">\n",
       "      <th></th>\n",
       "      <th>date</th>\n",
       "      <th>match_api_id</th>\n",
       "      <th>home_team_api_id</th>\n",
       "      <th>away_team_api_id</th>\n",
       "      <th>home_team_goal</th>\n",
       "      <th>away_team_goal</th>\n",
       "      <th>hometeam_outcome</th>\n",
       "      <th>HT_goalsfor</th>\n",
       "      <th>HT_goalsagainst</th>\n",
       "      <th>AT_goalsfor</th>\n",
       "      <th>...</th>\n",
       "      <th>H_cCPosC</th>\n",
       "      <th>A_cCPosC</th>\n",
       "      <th>H_dP</th>\n",
       "      <th>A_dP</th>\n",
       "      <th>H_dA</th>\n",
       "      <th>A_dA</th>\n",
       "      <th>H_dTW</th>\n",
       "      <th>A_dTW</th>\n",
       "      <th>H_dDLC</th>\n",
       "      <th>A_dDLC</th>\n",
       "    </tr>\n",
       "  </thead>\n",
       "  <tbody>\n",
       "    <tr>\n",
       "      <th>1906</th>\n",
       "      <td>2014-07-18</td>\n",
       "      <td>1722098</td>\n",
       "      <td>8033</td>\n",
       "      <td>8023</td>\n",
       "      <td>2</td>\n",
       "      <td>3</td>\n",
       "      <td>l</td>\n",
       "      <td></td>\n",
       "      <td></td>\n",
       "      <td></td>\n",
       "      <td>...</td>\n",
       "      <td>Organised</td>\n",
       "      <td>Organised</td>\n",
       "      <td>29</td>\n",
       "      <td>50</td>\n",
       "      <td>35</td>\n",
       "      <td>60</td>\n",
       "      <td>38</td>\n",
       "      <td>47</td>\n",
       "      <td>Cover</td>\n",
       "      <td>Cover</td>\n",
       "    </tr>\n",
       "    <tr>\n",
       "      <th>1903</th>\n",
       "      <td>2014-07-19</td>\n",
       "      <td>1722095</td>\n",
       "      <td>1957</td>\n",
       "      <td>8030</td>\n",
       "      <td>2</td>\n",
       "      <td>2</td>\n",
       "      <td>d</td>\n",
       "      <td></td>\n",
       "      <td></td>\n",
       "      <td></td>\n",
       "      <td>...</td>\n",
       "      <td>Organised</td>\n",
       "      <td>Organised</td>\n",
       "      <td>57</td>\n",
       "      <td>37</td>\n",
       "      <td>56</td>\n",
       "      <td>58</td>\n",
       "      <td>49</td>\n",
       "      <td>63</td>\n",
       "      <td>Cover</td>\n",
       "      <td>Cover</td>\n",
       "    </tr>\n",
       "    <tr>\n",
       "      <th>2919</th>\n",
       "      <td>2014-07-19</td>\n",
       "      <td>1717214</td>\n",
       "      <td>9930</td>\n",
       "      <td>9931</td>\n",
       "      <td>1</td>\n",
       "      <td>2</td>\n",
       "      <td>l</td>\n",
       "      <td></td>\n",
       "      <td></td>\n",
       "      <td></td>\n",
       "      <td>...</td>\n",
       "      <td>Organised</td>\n",
       "      <td>Organised</td>\n",
       "      <td>47</td>\n",
       "      <td>47</td>\n",
       "      <td>44</td>\n",
       "      <td>58</td>\n",
       "      <td>54</td>\n",
       "      <td>53</td>\n",
       "      <td>Cover</td>\n",
       "      <td>Cover</td>\n",
       "    </tr>\n",
       "    <tr>\n",
       "      <th>2920</th>\n",
       "      <td>2014-07-19</td>\n",
       "      <td>1717215</td>\n",
       "      <td>10190</td>\n",
       "      <td>10192</td>\n",
       "      <td>2</td>\n",
       "      <td>2</td>\n",
       "      <td>d</td>\n",
       "      <td></td>\n",
       "      <td></td>\n",
       "      <td></td>\n",
       "      <td>...</td>\n",
       "      <td>Organised</td>\n",
       "      <td>Organised</td>\n",
       "      <td>40</td>\n",
       "      <td>44</td>\n",
       "      <td>41</td>\n",
       "      <td>34</td>\n",
       "      <td>52</td>\n",
       "      <td>50</td>\n",
       "      <td>Cover</td>\n",
       "      <td>Cover</td>\n",
       "    </tr>\n",
       "    <tr>\n",
       "      <th>1902</th>\n",
       "      <td>2014-07-20</td>\n",
       "      <td>1722092</td>\n",
       "      <td>2182</td>\n",
       "      <td>8028</td>\n",
       "      <td>4</td>\n",
       "      <td>0</td>\n",
       "      <td>w</td>\n",
       "      <td></td>\n",
       "      <td></td>\n",
       "      <td></td>\n",
       "      <td>...</td>\n",
       "      <td>Organised</td>\n",
       "      <td>Organised</td>\n",
       "      <td>47</td>\n",
       "      <td>36</td>\n",
       "      <td>47</td>\n",
       "      <td>45</td>\n",
       "      <td>63</td>\n",
       "      <td>48</td>\n",
       "      <td>Cover</td>\n",
       "      <td>Cover</td>\n",
       "    </tr>\n",
       "  </tbody>\n",
       "</table>\n",
       "<p>5 rows × 35 columns</p>\n",
       "</div>"
      ],
      "text/plain": [
       "           date  match_api_id  home_team_api_id  away_team_api_id  \\\n",
       "1906 2014-07-18       1722098              8033              8023   \n",
       "1903 2014-07-19       1722095              1957              8030   \n",
       "2919 2014-07-19       1717214              9930              9931   \n",
       "2920 2014-07-19       1717215             10190             10192   \n",
       "1902 2014-07-20       1722092              2182              8028   \n",
       "\n",
       "      home_team_goal  away_team_goal hometeam_outcome HT_goalsfor  \\\n",
       "1906               2               3                l               \n",
       "1903               2               2                d               \n",
       "2919               1               2                l               \n",
       "2920               2               2                d               \n",
       "1902               4               0                w               \n",
       "\n",
       "     HT_goalsagainst AT_goalsfor   ...     H_cCPosC   A_cCPosC  H_dP A_dP  \\\n",
       "1906                               ...    Organised  Organised    29   50   \n",
       "1903                               ...    Organised  Organised    57   37   \n",
       "2919                               ...    Organised  Organised    47   47   \n",
       "2920                               ...    Organised  Organised    40   44   \n",
       "1902                               ...    Organised  Organised    47   36   \n",
       "\n",
       "     H_dA  A_dA  H_dTW A_dTW H_dDLC  A_dDLC  \n",
       "1906   35    60     38    47  Cover   Cover  \n",
       "1903   56    58     49    63  Cover   Cover  \n",
       "2919   44    58     54    53  Cover   Cover  \n",
       "2920   41    34     52    50  Cover   Cover  \n",
       "1902   47    45     63    48  Cover   Cover  \n",
       "\n",
       "[5 rows x 35 columns]"
      ]
     },
     "execution_count": 20,
     "metadata": {},
     "output_type": "execute_result"
    }
   ],
   "source": [
    "df_2014_new.head()"
   ]
  },
  {
   "cell_type": "code",
   "execution_count": 165,
   "metadata": {
    "collapsed": false
   },
   "outputs": [
    {
     "data": {
      "text/plain": [
       "3081"
      ]
     },
     "execution_count": 165,
     "metadata": {},
     "output_type": "execute_result"
    }
   ],
   "source": [
    "len(df_2014_new)"
   ]
  },
  {
   "cell_type": "markdown",
   "metadata": {
    "collapsed": false
   },
   "source": [
    "**Feature Engineering - Generating columns, with cummulative goals scored 'for' the home team, and 'against' the home team, cummulative goals scored 'for' the away team, and 'against' the away team **"
   ]
  },
  {
   "cell_type": "code",
   "execution_count": 21,
   "metadata": {
    "collapsed": false
   },
   "outputs": [],
   "source": [
    "t1 = df_2014_new.merge(df_2014_new,on='home_team_api_id')\n",
    "c1 = t1[t1['date_x']>=t1['date_y']].groupby(['match_api_id_x'])['home_team_goal_y','away_team_goal_y'].sum()\n",
    "t1 = df_2014_new.merge(df_2014_new,left_on='home_team_api_id',right_on='away_team_api_id')\n",
    "c2 = t1[t1['date_x']>=t1['date_y']].groupby(['match_api_id_x'])['home_team_goal_y','away_team_goal_y'].sum()\n",
    "t1 = df_2014_new.merge(df_2014_new,on='away_team_api_id')\n",
    "c3 = t1[t1['date_x']>=t1['date_y']].groupby(['match_api_id_x'])['home_team_goal_y','away_team_goal_y'].sum()\n",
    "t1 = df_2014_new.merge(df_2014_new,left_on='away_team_api_id',right_on='home_team_api_id')\n",
    "c4 = t1[t1['date_x']>=t1['date_y']].groupby(['match_api_id_x'])['home_team_goal_y','away_team_goal_y'].sum()"
   ]
  },
  {
   "cell_type": "code",
   "execution_count": 22,
   "metadata": {
    "collapsed": true
   },
   "outputs": [],
   "source": [
    "c1.reset_index(level=0,inplace=True)\n",
    "c2.reset_index(level=0,inplace=True)\n",
    "c3.reset_index(level=0,inplace=True)\n",
    "c4.reset_index(level=0,inplace=True)"
   ]
  },
  {
   "cell_type": "code",
   "execution_count": 23,
   "metadata": {
    "collapsed": false
   },
   "outputs": [],
   "source": [
    "c = c1.merge(c2,on='match_api_id_x',how='outer').merge(c3,on='match_api_id_x',how='outer').merge(c4,on='match_api_id_x',how='outer')"
   ]
  },
  {
   "cell_type": "code",
   "execution_count": 24,
   "metadata": {
    "collapsed": true
   },
   "outputs": [],
   "source": [
    "c.columns = ['match_api_id_x','1','2','3','4','5','6','7','8']"
   ]
  },
  {
   "cell_type": "code",
   "execution_count": 25,
   "metadata": {
    "collapsed": false
   },
   "outputs": [],
   "source": [
    "c = c.fillna(0)"
   ]
  },
  {
   "cell_type": "code",
   "execution_count": 26,
   "metadata": {
    "collapsed": false
   },
   "outputs": [],
   "source": [
    "c['homegoalsfor'] = c['1']+c['4']\n",
    "c['homegoalsagainst'] = c['2']+c['3']\n",
    "c['awaygoalsfor'] = c['6']+c['7']\n",
    "c['awaygoalsagainst'] = c['5']+c['8']"
   ]
  },
  {
   "cell_type": "code",
   "execution_count": 27,
   "metadata": {
    "collapsed": false
   },
   "outputs": [],
   "source": [
    "df_2014_2 = df_2014_new.merge(c,left_on='match_api_id',right_on='match_api_id_x')"
   ]
  },
  {
   "cell_type": "code",
   "execution_count": 28,
   "metadata": {
    "collapsed": false
   },
   "outputs": [
    {
     "data": {
      "text/plain": [
       "Index([u'date', u'match_api_id', u'home_team_api_id', u'away_team_api_id',\n",
       "       u'home_team_goal', u'away_team_goal', u'hometeam_outcome',\n",
       "       u'HT_goalsfor', u'HT_goalsagainst', u'AT_goalsfor', u'AT_goalsagainst',\n",
       "       u'H_bUPS', u'A_bUPS', u'H_bUPDC', u'A_bUPDC', u'H_bUPP', u'A_bUPP',\n",
       "       u'H_bUPPosC', u'A_bUPPosC', u'H_cCP', u'A_cCP', u'H_cCC', u'A_cCC',\n",
       "       u'H_cCS', u'A_cCS', u'H_cCPosC', u'A_cCPosC', u'H_dP', u'A_dP', u'H_dA',\n",
       "       u'A_dA', u'H_dTW', u'A_dTW', u'H_dDLC', u'A_dDLC', u'match_api_id_x',\n",
       "       u'1', u'2', u'3', u'4', u'5', u'6', u'7', u'8', u'homegoalsfor',\n",
       "       u'homegoalsagainst', u'awaygoalsfor', u'awaygoalsagainst'],\n",
       "      dtype='object')"
      ]
     },
     "execution_count": 28,
     "metadata": {},
     "output_type": "execute_result"
    }
   ],
   "source": [
    "df_2014_2.columns"
   ]
  },
  {
   "cell_type": "code",
   "execution_count": 29,
   "metadata": {
    "collapsed": false
   },
   "outputs": [
    {
     "data": {
      "text/html": [
       "<div>\n",
       "<table border=\"1\" class=\"dataframe\">\n",
       "  <thead>\n",
       "    <tr style=\"text-align: right;\">\n",
       "      <th></th>\n",
       "      <th>date</th>\n",
       "      <th>match_api_id</th>\n",
       "      <th>home_team_api_id</th>\n",
       "      <th>away_team_api_id</th>\n",
       "      <th>home_team_goal</th>\n",
       "      <th>away_team_goal</th>\n",
       "      <th>hometeam_outcome</th>\n",
       "      <th>HT_goalsfor</th>\n",
       "      <th>HT_goalsagainst</th>\n",
       "      <th>AT_goalsfor</th>\n",
       "      <th>...</th>\n",
       "      <th>3</th>\n",
       "      <th>4</th>\n",
       "      <th>5</th>\n",
       "      <th>6</th>\n",
       "      <th>7</th>\n",
       "      <th>8</th>\n",
       "      <th>homegoalsfor</th>\n",
       "      <th>homegoalsagainst</th>\n",
       "      <th>awaygoalsfor</th>\n",
       "      <th>awaygoalsagainst</th>\n",
       "    </tr>\n",
       "  </thead>\n",
       "  <tbody>\n",
       "    <tr>\n",
       "      <th>0</th>\n",
       "      <td>2014-07-18</td>\n",
       "      <td>1722098</td>\n",
       "      <td>8033</td>\n",
       "      <td>8023</td>\n",
       "      <td>2</td>\n",
       "      <td>3</td>\n",
       "      <td>l</td>\n",
       "      <td></td>\n",
       "      <td></td>\n",
       "      <td></td>\n",
       "      <td>...</td>\n",
       "      <td>0.0</td>\n",
       "      <td>0.0</td>\n",
       "      <td>2</td>\n",
       "      <td>3</td>\n",
       "      <td>0.0</td>\n",
       "      <td>0.0</td>\n",
       "      <td>2.0</td>\n",
       "      <td>3.0</td>\n",
       "      <td>3.0</td>\n",
       "      <td>2.0</td>\n",
       "    </tr>\n",
       "    <tr>\n",
       "      <th>1</th>\n",
       "      <td>2014-07-19</td>\n",
       "      <td>1722095</td>\n",
       "      <td>1957</td>\n",
       "      <td>8030</td>\n",
       "      <td>2</td>\n",
       "      <td>2</td>\n",
       "      <td>d</td>\n",
       "      <td></td>\n",
       "      <td></td>\n",
       "      <td></td>\n",
       "      <td>...</td>\n",
       "      <td>0.0</td>\n",
       "      <td>0.0</td>\n",
       "      <td>2</td>\n",
       "      <td>2</td>\n",
       "      <td>0.0</td>\n",
       "      <td>0.0</td>\n",
       "      <td>2.0</td>\n",
       "      <td>2.0</td>\n",
       "      <td>2.0</td>\n",
       "      <td>2.0</td>\n",
       "    </tr>\n",
       "    <tr>\n",
       "      <th>2</th>\n",
       "      <td>2014-07-19</td>\n",
       "      <td>1717214</td>\n",
       "      <td>9930</td>\n",
       "      <td>9931</td>\n",
       "      <td>1</td>\n",
       "      <td>2</td>\n",
       "      <td>l</td>\n",
       "      <td></td>\n",
       "      <td></td>\n",
       "      <td></td>\n",
       "      <td>...</td>\n",
       "      <td>0.0</td>\n",
       "      <td>0.0</td>\n",
       "      <td>1</td>\n",
       "      <td>2</td>\n",
       "      <td>0.0</td>\n",
       "      <td>0.0</td>\n",
       "      <td>1.0</td>\n",
       "      <td>2.0</td>\n",
       "      <td>2.0</td>\n",
       "      <td>1.0</td>\n",
       "    </tr>\n",
       "    <tr>\n",
       "      <th>3</th>\n",
       "      <td>2014-07-19</td>\n",
       "      <td>1717215</td>\n",
       "      <td>10190</td>\n",
       "      <td>10192</td>\n",
       "      <td>2</td>\n",
       "      <td>2</td>\n",
       "      <td>d</td>\n",
       "      <td></td>\n",
       "      <td></td>\n",
       "      <td></td>\n",
       "      <td>...</td>\n",
       "      <td>0.0</td>\n",
       "      <td>0.0</td>\n",
       "      <td>2</td>\n",
       "      <td>2</td>\n",
       "      <td>0.0</td>\n",
       "      <td>0.0</td>\n",
       "      <td>2.0</td>\n",
       "      <td>2.0</td>\n",
       "      <td>2.0</td>\n",
       "      <td>2.0</td>\n",
       "    </tr>\n",
       "    <tr>\n",
       "      <th>4</th>\n",
       "      <td>2014-07-20</td>\n",
       "      <td>1722092</td>\n",
       "      <td>2182</td>\n",
       "      <td>8028</td>\n",
       "      <td>4</td>\n",
       "      <td>0</td>\n",
       "      <td>w</td>\n",
       "      <td></td>\n",
       "      <td></td>\n",
       "      <td></td>\n",
       "      <td>...</td>\n",
       "      <td>0.0</td>\n",
       "      <td>0.0</td>\n",
       "      <td>4</td>\n",
       "      <td>0</td>\n",
       "      <td>0.0</td>\n",
       "      <td>0.0</td>\n",
       "      <td>4.0</td>\n",
       "      <td>0.0</td>\n",
       "      <td>0.0</td>\n",
       "      <td>4.0</td>\n",
       "    </tr>\n",
       "  </tbody>\n",
       "</table>\n",
       "<p>5 rows × 48 columns</p>\n",
       "</div>"
      ],
      "text/plain": [
       "        date  match_api_id  home_team_api_id  away_team_api_id  \\\n",
       "0 2014-07-18       1722098              8033              8023   \n",
       "1 2014-07-19       1722095              1957              8030   \n",
       "2 2014-07-19       1717214              9930              9931   \n",
       "3 2014-07-19       1717215             10190             10192   \n",
       "4 2014-07-20       1722092              2182              8028   \n",
       "\n",
       "   home_team_goal  away_team_goal hometeam_outcome HT_goalsfor  \\\n",
       "0               2               3                l               \n",
       "1               2               2                d               \n",
       "2               1               2                l               \n",
       "3               2               2                d               \n",
       "4               4               0                w               \n",
       "\n",
       "  HT_goalsagainst AT_goalsfor        ...           3    4  5  6    7    8  \\\n",
       "0                                    ...         0.0  0.0  2  3  0.0  0.0   \n",
       "1                                    ...         0.0  0.0  2  2  0.0  0.0   \n",
       "2                                    ...         0.0  0.0  1  2  0.0  0.0   \n",
       "3                                    ...         0.0  0.0  2  2  0.0  0.0   \n",
       "4                                    ...         0.0  0.0  4  0  0.0  0.0   \n",
       "\n",
       "   homegoalsfor homegoalsagainst awaygoalsfor  awaygoalsagainst  \n",
       "0           2.0              3.0          3.0               2.0  \n",
       "1           2.0              2.0          2.0               2.0  \n",
       "2           1.0              2.0          2.0               1.0  \n",
       "3           2.0              2.0          2.0               2.0  \n",
       "4           4.0              0.0          0.0               4.0  \n",
       "\n",
       "[5 rows x 48 columns]"
      ]
     },
     "execution_count": 29,
     "metadata": {},
     "output_type": "execute_result"
    }
   ],
   "source": [
    "df_2014_2.head()"
   ]
  },
  {
   "cell_type": "code",
   "execution_count": 30,
   "metadata": {
    "collapsed": true
   },
   "outputs": [],
   "source": [
    "df_2014_2['HT_goalsfor'] = df_2014_2['homegoalsfor'] - df_2014_2['home_team_goal']\n",
    "df_2014_2['AT_goalsagainst'] = df_2014_2['awaygoalsagainst'] - df_2014_2['home_team_goal']\n",
    "df_2014_2['HT_goalsagainst'] = df_2014_2['homegoalsagainst'] - df_2014_2['away_team_goal']\n",
    "df_2014_2['AT_goalsfor'] = df_2014_2['awaygoalsfor'] - df_2014_2['away_team_goal']"
   ]
  },
  {
   "cell_type": "code",
   "execution_count": 31,
   "metadata": {
    "collapsed": false
   },
   "outputs": [
    {
     "data": {
      "text/html": [
       "<div>\n",
       "<table border=\"1\" class=\"dataframe\">\n",
       "  <thead>\n",
       "    <tr style=\"text-align: right;\">\n",
       "      <th></th>\n",
       "      <th>date</th>\n",
       "      <th>match_api_id</th>\n",
       "      <th>home_team_api_id</th>\n",
       "      <th>away_team_api_id</th>\n",
       "      <th>home_team_goal</th>\n",
       "      <th>away_team_goal</th>\n",
       "      <th>hometeam_outcome</th>\n",
       "      <th>HT_goalsfor</th>\n",
       "      <th>HT_goalsagainst</th>\n",
       "      <th>AT_goalsfor</th>\n",
       "      <th>...</th>\n",
       "      <th>3</th>\n",
       "      <th>4</th>\n",
       "      <th>5</th>\n",
       "      <th>6</th>\n",
       "      <th>7</th>\n",
       "      <th>8</th>\n",
       "      <th>homegoalsfor</th>\n",
       "      <th>homegoalsagainst</th>\n",
       "      <th>awaygoalsfor</th>\n",
       "      <th>awaygoalsagainst</th>\n",
       "    </tr>\n",
       "  </thead>\n",
       "  <tbody>\n",
       "    <tr>\n",
       "      <th>0</th>\n",
       "      <td>2014-07-18</td>\n",
       "      <td>1722098</td>\n",
       "      <td>8033</td>\n",
       "      <td>8023</td>\n",
       "      <td>2</td>\n",
       "      <td>3</td>\n",
       "      <td>l</td>\n",
       "      <td>0.0</td>\n",
       "      <td>0.0</td>\n",
       "      <td>0.0</td>\n",
       "      <td>...</td>\n",
       "      <td>0.0</td>\n",
       "      <td>0.0</td>\n",
       "      <td>2</td>\n",
       "      <td>3</td>\n",
       "      <td>0.0</td>\n",
       "      <td>0.0</td>\n",
       "      <td>2.0</td>\n",
       "      <td>3.0</td>\n",
       "      <td>3.0</td>\n",
       "      <td>2.0</td>\n",
       "    </tr>\n",
       "    <tr>\n",
       "      <th>1</th>\n",
       "      <td>2014-07-19</td>\n",
       "      <td>1722095</td>\n",
       "      <td>1957</td>\n",
       "      <td>8030</td>\n",
       "      <td>2</td>\n",
       "      <td>2</td>\n",
       "      <td>d</td>\n",
       "      <td>0.0</td>\n",
       "      <td>0.0</td>\n",
       "      <td>0.0</td>\n",
       "      <td>...</td>\n",
       "      <td>0.0</td>\n",
       "      <td>0.0</td>\n",
       "      <td>2</td>\n",
       "      <td>2</td>\n",
       "      <td>0.0</td>\n",
       "      <td>0.0</td>\n",
       "      <td>2.0</td>\n",
       "      <td>2.0</td>\n",
       "      <td>2.0</td>\n",
       "      <td>2.0</td>\n",
       "    </tr>\n",
       "    <tr>\n",
       "      <th>2</th>\n",
       "      <td>2014-07-19</td>\n",
       "      <td>1717214</td>\n",
       "      <td>9930</td>\n",
       "      <td>9931</td>\n",
       "      <td>1</td>\n",
       "      <td>2</td>\n",
       "      <td>l</td>\n",
       "      <td>0.0</td>\n",
       "      <td>0.0</td>\n",
       "      <td>0.0</td>\n",
       "      <td>...</td>\n",
       "      <td>0.0</td>\n",
       "      <td>0.0</td>\n",
       "      <td>1</td>\n",
       "      <td>2</td>\n",
       "      <td>0.0</td>\n",
       "      <td>0.0</td>\n",
       "      <td>1.0</td>\n",
       "      <td>2.0</td>\n",
       "      <td>2.0</td>\n",
       "      <td>1.0</td>\n",
       "    </tr>\n",
       "    <tr>\n",
       "      <th>3</th>\n",
       "      <td>2014-07-19</td>\n",
       "      <td>1717215</td>\n",
       "      <td>10190</td>\n",
       "      <td>10192</td>\n",
       "      <td>2</td>\n",
       "      <td>2</td>\n",
       "      <td>d</td>\n",
       "      <td>0.0</td>\n",
       "      <td>0.0</td>\n",
       "      <td>0.0</td>\n",
       "      <td>...</td>\n",
       "      <td>0.0</td>\n",
       "      <td>0.0</td>\n",
       "      <td>2</td>\n",
       "      <td>2</td>\n",
       "      <td>0.0</td>\n",
       "      <td>0.0</td>\n",
       "      <td>2.0</td>\n",
       "      <td>2.0</td>\n",
       "      <td>2.0</td>\n",
       "      <td>2.0</td>\n",
       "    </tr>\n",
       "    <tr>\n",
       "      <th>4</th>\n",
       "      <td>2014-07-20</td>\n",
       "      <td>1722092</td>\n",
       "      <td>2182</td>\n",
       "      <td>8028</td>\n",
       "      <td>4</td>\n",
       "      <td>0</td>\n",
       "      <td>w</td>\n",
       "      <td>0.0</td>\n",
       "      <td>0.0</td>\n",
       "      <td>0.0</td>\n",
       "      <td>...</td>\n",
       "      <td>0.0</td>\n",
       "      <td>0.0</td>\n",
       "      <td>4</td>\n",
       "      <td>0</td>\n",
       "      <td>0.0</td>\n",
       "      <td>0.0</td>\n",
       "      <td>4.0</td>\n",
       "      <td>0.0</td>\n",
       "      <td>0.0</td>\n",
       "      <td>4.0</td>\n",
       "    </tr>\n",
       "  </tbody>\n",
       "</table>\n",
       "<p>5 rows × 48 columns</p>\n",
       "</div>"
      ],
      "text/plain": [
       "        date  match_api_id  home_team_api_id  away_team_api_id  \\\n",
       "0 2014-07-18       1722098              8033              8023   \n",
       "1 2014-07-19       1722095              1957              8030   \n",
       "2 2014-07-19       1717214              9930              9931   \n",
       "3 2014-07-19       1717215             10190             10192   \n",
       "4 2014-07-20       1722092              2182              8028   \n",
       "\n",
       "   home_team_goal  away_team_goal hometeam_outcome  HT_goalsfor  \\\n",
       "0               2               3                l          0.0   \n",
       "1               2               2                d          0.0   \n",
       "2               1               2                l          0.0   \n",
       "3               2               2                d          0.0   \n",
       "4               4               0                w          0.0   \n",
       "\n",
       "   HT_goalsagainst  AT_goalsfor        ...           3    4  5  6    7    8  \\\n",
       "0              0.0          0.0        ...         0.0  0.0  2  3  0.0  0.0   \n",
       "1              0.0          0.0        ...         0.0  0.0  2  2  0.0  0.0   \n",
       "2              0.0          0.0        ...         0.0  0.0  1  2  0.0  0.0   \n",
       "3              0.0          0.0        ...         0.0  0.0  2  2  0.0  0.0   \n",
       "4              0.0          0.0        ...         0.0  0.0  4  0  0.0  0.0   \n",
       "\n",
       "   homegoalsfor homegoalsagainst awaygoalsfor  awaygoalsagainst  \n",
       "0           2.0              3.0          3.0               2.0  \n",
       "1           2.0              2.0          2.0               2.0  \n",
       "2           1.0              2.0          2.0               1.0  \n",
       "3           2.0              2.0          2.0               2.0  \n",
       "4           4.0              0.0          0.0               4.0  \n",
       "\n",
       "[5 rows x 48 columns]"
      ]
     },
     "execution_count": 31,
     "metadata": {},
     "output_type": "execute_result"
    }
   ],
   "source": [
    "df_2014_2.head()"
   ]
  },
  {
   "cell_type": "code",
   "execution_count": 33,
   "metadata": {
    "collapsed": false
   },
   "outputs": [
    {
     "data": {
      "text/html": [
       "<div>\n",
       "<table border=\"1\" class=\"dataframe\">\n",
       "  <thead>\n",
       "    <tr style=\"text-align: right;\">\n",
       "      <th></th>\n",
       "      <th>HT_goalsfor</th>\n",
       "      <th>HT_goalsagainst</th>\n",
       "      <th>AT_goalsfor</th>\n",
       "      <th>AT_goalsagainst</th>\n",
       "    </tr>\n",
       "  </thead>\n",
       "  <tbody>\n",
       "    <tr>\n",
       "      <th>0</th>\n",
       "      <td>0.0</td>\n",
       "      <td>0.0</td>\n",
       "      <td>0.0</td>\n",
       "      <td>0.0</td>\n",
       "    </tr>\n",
       "    <tr>\n",
       "      <th>1</th>\n",
       "      <td>0.0</td>\n",
       "      <td>0.0</td>\n",
       "      <td>0.0</td>\n",
       "      <td>0.0</td>\n",
       "    </tr>\n",
       "    <tr>\n",
       "      <th>2</th>\n",
       "      <td>0.0</td>\n",
       "      <td>0.0</td>\n",
       "      <td>0.0</td>\n",
       "      <td>0.0</td>\n",
       "    </tr>\n",
       "    <tr>\n",
       "      <th>3</th>\n",
       "      <td>0.0</td>\n",
       "      <td>0.0</td>\n",
       "      <td>0.0</td>\n",
       "      <td>0.0</td>\n",
       "    </tr>\n",
       "    <tr>\n",
       "      <th>4</th>\n",
       "      <td>0.0</td>\n",
       "      <td>0.0</td>\n",
       "      <td>0.0</td>\n",
       "      <td>0.0</td>\n",
       "    </tr>\n",
       "  </tbody>\n",
       "</table>\n",
       "</div>"
      ],
      "text/plain": [
       "   HT_goalsfor  HT_goalsagainst  AT_goalsfor  AT_goalsagainst\n",
       "0          0.0              0.0          0.0              0.0\n",
       "1          0.0              0.0          0.0              0.0\n",
       "2          0.0              0.0          0.0              0.0\n",
       "3          0.0              0.0          0.0              0.0\n",
       "4          0.0              0.0          0.0              0.0"
      ]
     },
     "execution_count": 33,
     "metadata": {},
     "output_type": "execute_result"
    }
   ],
   "source": [
    "df_2014_2.loc[:,['HT_goalsfor','HT_goalsagainst','AT_goalsfor','AT_goalsagainst']].head()"
   ]
  },
  {
   "cell_type": "markdown",
   "metadata": {},
   "source": [
    "**Drop 'draw' matches and calulate accuracy**"
   ]
  },
  {
   "cell_type": "code",
   "execution_count": 34,
   "metadata": {
    "collapsed": false
   },
   "outputs": [
    {
     "data": {
      "text/html": [
       "<div>\n",
       "<table border=\"1\" class=\"dataframe\">\n",
       "  <thead>\n",
       "    <tr style=\"text-align: right;\">\n",
       "      <th></th>\n",
       "      <th>date</th>\n",
       "      <th>match_api_id</th>\n",
       "      <th>home_team_api_id</th>\n",
       "      <th>away_team_api_id</th>\n",
       "      <th>home_team_goal</th>\n",
       "      <th>away_team_goal</th>\n",
       "      <th>hometeam_outcome</th>\n",
       "      <th>HT_goalsfor</th>\n",
       "      <th>HT_goalsagainst</th>\n",
       "      <th>AT_goalsfor</th>\n",
       "      <th>...</th>\n",
       "      <th>3</th>\n",
       "      <th>4</th>\n",
       "      <th>5</th>\n",
       "      <th>6</th>\n",
       "      <th>7</th>\n",
       "      <th>8</th>\n",
       "      <th>homegoalsfor</th>\n",
       "      <th>homegoalsagainst</th>\n",
       "      <th>awaygoalsfor</th>\n",
       "      <th>awaygoalsagainst</th>\n",
       "    </tr>\n",
       "  </thead>\n",
       "  <tbody>\n",
       "    <tr>\n",
       "      <th>0</th>\n",
       "      <td>2014-07-18</td>\n",
       "      <td>1722098</td>\n",
       "      <td>8033</td>\n",
       "      <td>8023</td>\n",
       "      <td>2</td>\n",
       "      <td>3</td>\n",
       "      <td>l</td>\n",
       "      <td>0.0</td>\n",
       "      <td>0.0</td>\n",
       "      <td>0.0</td>\n",
       "      <td>...</td>\n",
       "      <td>0.0</td>\n",
       "      <td>0.0</td>\n",
       "      <td>2</td>\n",
       "      <td>3</td>\n",
       "      <td>0.0</td>\n",
       "      <td>0.0</td>\n",
       "      <td>2.0</td>\n",
       "      <td>3.0</td>\n",
       "      <td>3.0</td>\n",
       "      <td>2.0</td>\n",
       "    </tr>\n",
       "    <tr>\n",
       "      <th>2</th>\n",
       "      <td>2014-07-19</td>\n",
       "      <td>1717214</td>\n",
       "      <td>9930</td>\n",
       "      <td>9931</td>\n",
       "      <td>1</td>\n",
       "      <td>2</td>\n",
       "      <td>l</td>\n",
       "      <td>0.0</td>\n",
       "      <td>0.0</td>\n",
       "      <td>0.0</td>\n",
       "      <td>...</td>\n",
       "      <td>0.0</td>\n",
       "      <td>0.0</td>\n",
       "      <td>1</td>\n",
       "      <td>2</td>\n",
       "      <td>0.0</td>\n",
       "      <td>0.0</td>\n",
       "      <td>1.0</td>\n",
       "      <td>2.0</td>\n",
       "      <td>2.0</td>\n",
       "      <td>1.0</td>\n",
       "    </tr>\n",
       "    <tr>\n",
       "      <th>4</th>\n",
       "      <td>2014-07-20</td>\n",
       "      <td>1722092</td>\n",
       "      <td>2182</td>\n",
       "      <td>8028</td>\n",
       "      <td>4</td>\n",
       "      <td>0</td>\n",
       "      <td>w</td>\n",
       "      <td>0.0</td>\n",
       "      <td>0.0</td>\n",
       "      <td>0.0</td>\n",
       "      <td>...</td>\n",
       "      <td>0.0</td>\n",
       "      <td>0.0</td>\n",
       "      <td>4</td>\n",
       "      <td>0</td>\n",
       "      <td>0.0</td>\n",
       "      <td>0.0</td>\n",
       "      <td>4.0</td>\n",
       "      <td>0.0</td>\n",
       "      <td>0.0</td>\n",
       "      <td>4.0</td>\n",
       "    </tr>\n",
       "    <tr>\n",
       "      <th>5</th>\n",
       "      <td>2014-07-20</td>\n",
       "      <td>1722096</td>\n",
       "      <td>8027</td>\n",
       "      <td>8245</td>\n",
       "      <td>2</td>\n",
       "      <td>0</td>\n",
       "      <td>w</td>\n",
       "      <td>0.0</td>\n",
       "      <td>0.0</td>\n",
       "      <td>0.0</td>\n",
       "      <td>...</td>\n",
       "      <td>0.0</td>\n",
       "      <td>0.0</td>\n",
       "      <td>2</td>\n",
       "      <td>0</td>\n",
       "      <td>0.0</td>\n",
       "      <td>0.0</td>\n",
       "      <td>2.0</td>\n",
       "      <td>0.0</td>\n",
       "      <td>0.0</td>\n",
       "      <td>2.0</td>\n",
       "    </tr>\n",
       "    <tr>\n",
       "      <th>6</th>\n",
       "      <td>2014-07-20</td>\n",
       "      <td>1722097</td>\n",
       "      <td>8025</td>\n",
       "      <td>1601</td>\n",
       "      <td>2</td>\n",
       "      <td>0</td>\n",
       "      <td>w</td>\n",
       "      <td>0.0</td>\n",
       "      <td>0.0</td>\n",
       "      <td>0.0</td>\n",
       "      <td>...</td>\n",
       "      <td>0.0</td>\n",
       "      <td>0.0</td>\n",
       "      <td>2</td>\n",
       "      <td>0</td>\n",
       "      <td>0.0</td>\n",
       "      <td>0.0</td>\n",
       "      <td>2.0</td>\n",
       "      <td>0.0</td>\n",
       "      <td>0.0</td>\n",
       "      <td>2.0</td>\n",
       "    </tr>\n",
       "  </tbody>\n",
       "</table>\n",
       "<p>5 rows × 48 columns</p>\n",
       "</div>"
      ],
      "text/plain": [
       "        date  match_api_id  home_team_api_id  away_team_api_id  \\\n",
       "0 2014-07-18       1722098              8033              8023   \n",
       "2 2014-07-19       1717214              9930              9931   \n",
       "4 2014-07-20       1722092              2182              8028   \n",
       "5 2014-07-20       1722096              8027              8245   \n",
       "6 2014-07-20       1722097              8025              1601   \n",
       "\n",
       "   home_team_goal  away_team_goal hometeam_outcome  HT_goalsfor  \\\n",
       "0               2               3                l          0.0   \n",
       "2               1               2                l          0.0   \n",
       "4               4               0                w          0.0   \n",
       "5               2               0                w          0.0   \n",
       "6               2               0                w          0.0   \n",
       "\n",
       "   HT_goalsagainst  AT_goalsfor        ...           3    4  5  6    7    8  \\\n",
       "0              0.0          0.0        ...         0.0  0.0  2  3  0.0  0.0   \n",
       "2              0.0          0.0        ...         0.0  0.0  1  2  0.0  0.0   \n",
       "4              0.0          0.0        ...         0.0  0.0  4  0  0.0  0.0   \n",
       "5              0.0          0.0        ...         0.0  0.0  2  0  0.0  0.0   \n",
       "6              0.0          0.0        ...         0.0  0.0  2  0  0.0  0.0   \n",
       "\n",
       "   homegoalsfor homegoalsagainst awaygoalsfor  awaygoalsagainst  \n",
       "0           2.0              3.0          3.0               2.0  \n",
       "2           1.0              2.0          2.0               1.0  \n",
       "4           4.0              0.0          0.0               4.0  \n",
       "5           2.0              0.0          0.0               2.0  \n",
       "6           2.0              0.0          0.0               2.0  \n",
       "\n",
       "[5 rows x 48 columns]"
      ]
     },
     "execution_count": 34,
     "metadata": {},
     "output_type": "execute_result"
    }
   ],
   "source": [
    "df_winloss = df_2014_2.loc[df_2014_2['hometeam_outcome'].isin(['w','l'])]\n",
    "df_winloss.head()"
   ]
  },
  {
   "cell_type": "code",
   "execution_count": 35,
   "metadata": {
    "collapsed": false
   },
   "outputs": [],
   "source": [
    "y_train_winloss = df_winloss.loc[df_winloss['date'].dt.year == 2014, 'hometeam_outcome']\n",
    "y_test_winloss = df_winloss.loc[df_winloss['date'].dt.year == 2015, 'hometeam_outcome']"
   ]
  },
  {
   "cell_type": "code",
   "execution_count": 36,
   "metadata": {
    "collapsed": true
   },
   "outputs": [],
   "source": [
    "x_winloss = df_winloss.loc[:,['date', \n",
    "       'HT_goalsfor', 'HT_goalsagainst', 'AT_goalsfor', 'AT_goalsagainst']]"
   ]
  },
  {
   "cell_type": "code",
   "execution_count": 37,
   "metadata": {
    "collapsed": true
   },
   "outputs": [],
   "source": [
    "x_dummies_winloss = pd.get_dummies(x_winloss)"
   ]
  },
  {
   "cell_type": "code",
   "execution_count": 38,
   "metadata": {
    "collapsed": true
   },
   "outputs": [],
   "source": [
    "columns = ['HT_goalsfor','HT_goalsagainst','AT_goalsfor','AT_goalsagainst']\n",
    "x_train_winloss = x_dummies_winloss.loc[x_dummies_winloss['date'].dt.year == 2014, columns]\n",
    "\n",
    "x_test_winloss = x_dummies_winloss.loc[x_dummies_winloss['date'].dt.year == 2015, columns]"
   ]
  },
  {
   "cell_type": "markdown",
   "metadata": {},
   "source": [
    "**Fit a Logistic Regression Model**"
   ]
  },
  {
   "cell_type": "code",
   "execution_count": 39,
   "metadata": {
    "collapsed": true
   },
   "outputs": [],
   "source": [
    "logreg = LogisticRegression()\n",
    "fit = logreg.fit(x_train_winloss,y_train_winloss)"
   ]
  },
  {
   "cell_type": "code",
   "execution_count": 40,
   "metadata": {
    "collapsed": false
   },
   "outputs": [
    {
     "data": {
      "text/plain": [
       "(0.6507633587786259, 0.68479999999999996)"
      ]
     },
     "execution_count": 40,
     "metadata": {},
     "output_type": "execute_result"
    }
   ],
   "source": [
    "train_acc_winloss = fit.score(x_train_winloss, y_train_winloss)\n",
    "test_acc_winloss = fit.score(x_test_winloss,y_test_winloss)\n",
    "#print fit.classes_\n",
    "train_acc_winloss,test_acc_winloss"
   ]
  },
  {
   "cell_type": "code",
   "execution_count": 41,
   "metadata": {
    "collapsed": true
   },
   "outputs": [],
   "source": [
    "y_pred_winloss = fit.predict(x_test_winloss)"
   ]
  },
  {
   "cell_type": "code",
   "execution_count": 42,
   "metadata": {
    "collapsed": false
   },
   "outputs": [
    {
     "name": "stdout",
     "output_type": "stream",
     "text": [
      "             precision    recall  f1-score   support\n",
      "\n",
      "          l       0.59      0.62      0.61       488\n",
      "          w       0.75      0.72      0.74       762\n",
      "\n",
      "avg / total       0.69      0.68      0.69      1250\n",
      "\n"
     ]
    }
   ],
   "source": [
    "precision_recall_fscore_support(y_test_winloss,y_pred_winloss)\n",
    "print(classification_report(y_test_winloss, y_pred_winloss, target_names=fit.classes_))"
   ]
  },
  {
   "cell_type": "code",
   "execution_count": 44,
   "metadata": {
    "collapsed": false
   },
   "outputs": [
    {
     "name": "stdout",
     "output_type": "stream",
     "text": [
      "Goal Features(Win-Loss): Confusion matrix, without normalization\n"
     ]
    },
    {
     "data": {
      "text/plain": [
       "<matplotlib.figure.Figure at 0x11e791a90>"
      ]
     },
     "execution_count": 44,
     "metadata": {},
     "output_type": "execute_result"
    },
    {
     "data": {
      "image/png": "[encoded data removed]",
      "text/plain": [
       "<matplotlib.figure.Figure at 0x11f8c09d0>"
      ]
     },
     "metadata": {},
     "output_type": "display_data"
    },
    {
     "data": {
      "text/plain": [
       "<matplotlib.figure.Figure at 0x11e791a90>"
      ]
     },
     "metadata": {},
     "output_type": "display_data"
    }
   ],
   "source": [
    "#Confusion Matrix for Log Reg\n",
    "import itertools\n",
    "from sklearn.metrics import confusion_matrix\n",
    "\n",
    " \n",
    "import matplotlib.pyplot as plt\n",
    "%matplotlib inline\n",
    "\n",
    "def plot_confusion_matrix(cm,title='Confusion matrix', classes=fit.classes_, normalize = False, cmap=plt.cm.Reds):\n",
    "    plt.imshow(cm, interpolation='nearest',cmap=cmap)\n",
    "   # plt.title(title)\n",
    "    plt.colorbar()\n",
    "    plt.tight_layout()\n",
    "    plt.ylabel('True label')\n",
    "    plt.xlabel('Predicted label')\n",
    "    if normalize:\n",
    "        cm = cm.astype('float') / cm.sum(axis=1)[:, np.newaxis]\n",
    "        \n",
    "        \n",
    "        print(\"Goal Features(Win-Loss): Normalized confusion matrix\")\n",
    "    else:\n",
    "        print('Goal Features(Win-Loss): Confusion matrix, without normalization')\n",
    "\n",
    "    tick_marks = np.arange(len(classes))\n",
    "    plt.xticks(tick_marks, classes)\n",
    "    plt.yticks(tick_marks, classes)\n",
    "    thresh = cm.max() / 2.\n",
    "    for i, j in itertools.product(range(cm.shape[0]), range(cm.shape[1])):\n",
    "        plt.text(j, i, cm[i, j],\n",
    "                 horizontalalignment=\"center\",\n",
    "                 color=\"white\" if cm[i, j] > thresh else \"black\")\n",
    "\n",
    "\n",
    " \n",
    "  \n",
    "\n",
    "    \n",
    " \n",
    "\n",
    "cnf_matrix = confusion_matrix(y_test_winloss,y_pred_winloss,labels = fit.classes_ )\n",
    "\n",
    "plot_confusion_matrix(cnf_matrix,fit.classes_)\n",
    "plt.figure()\n",
    "\n"
   ]
  },
  {
   "cell_type": "markdown",
   "metadata": {},
   "source": [
    "**Normalize and do logistic Regression**"
   ]
  },
  {
   "cell_type": "code",
   "execution_count": 45,
   "metadata": {
    "collapsed": false
   },
   "outputs": [],
   "source": [
    "from sklearn.preprocessing import normalize\n",
    "\n",
    "x_train_norm_winloss = normalize(x_train_winloss,axis=0,norm='max')\n",
    "x_train_norm_winloss = pd.DataFrame(x_train_norm_winloss)\n",
    "\n",
    "x_test_norm_winloss = normalize(x_test_winloss,axis=0,norm='max')\n",
    "x_test_norm_winloss = pd.DataFrame(x_test_norm_winloss)"
   ]
  },
  {
   "cell_type": "code",
   "execution_count": 46,
   "metadata": {
    "collapsed": false
   },
   "outputs": [],
   "source": [
    "x_train_norm_winloss.columns = x_train_winloss.columns\n",
    "x_test_norm_winloss.columns = x_test_winloss.columns"
   ]
  },
  {
   "cell_type": "code",
   "execution_count": 47,
   "metadata": {
    "collapsed": false
   },
   "outputs": [],
   "source": [
    "logreg = LogisticRegression()\n",
    "fit = logreg.fit(x_train_norm_winloss,y_train_winloss)"
   ]
  },
  {
   "cell_type": "code",
   "execution_count": 48,
   "metadata": {
    "collapsed": false
   },
   "outputs": [
    {
     "data": {
      "text/plain": [
       "(0.64503816793893132, 0.68079999999999996)"
      ]
     },
     "execution_count": 48,
     "metadata": {},
     "output_type": "execute_result"
    }
   ],
   "source": [
    "train_acc_winloss=fit.score(x_train_norm_winloss, y_train_winloss)\n",
    "test_acc_winloss=fit.score(x_test_norm_winloss,y_test_winloss)\n",
    "y_predlog_winloss = fit.predict(x_test_norm_winloss)\n",
    "\n",
    "train_acc_winloss,test_acc_winloss"
   ]
  },
  {
   "cell_type": "code",
   "execution_count": 49,
   "metadata": {
    "collapsed": false
   },
   "outputs": [
    {
     "name": "stdout",
     "output_type": "stream",
     "text": [
      "             precision    recall  f1-score   support\n",
      "\n",
      "          l       0.59      0.57      0.58       488\n",
      "          w       0.73      0.75      0.74       762\n",
      "\n",
      "avg / total       0.68      0.68      0.68      1250\n",
      "\n"
     ]
    }
   ],
   "source": [
    "#Precision Recall\n",
    "from sklearn.metrics import precision_recall_fscore_support\n",
    "\n",
    "precision_recall_fscore_support(y_test_winloss,y_predlog_winloss)\n",
    "print(classification_report(y_test_winloss,y_predlog_winloss, target_names=fit.classes_))"
   ]
  },
  {
   "cell_type": "markdown",
   "metadata": {},
   "source": [
    "**SVM**"
   ]
  },
  {
   "cell_type": "code",
   "execution_count": 50,
   "metadata": {
    "collapsed": true
   },
   "outputs": [],
   "source": [
    "from sklearn import svm\n",
    "from sklearn import preprocessing\n",
    "\n",
    "x_train_scaled_winloss = preprocessing.scale(x_train_winloss)\n",
    "x_test_scaled_winloss = preprocessing.scale(x_test_winloss)\n",
    "\n",
    "x_train_scaled_winloss = pd.DataFrame(x_train_scaled_winloss)\n",
    "x_test_scaled_winloss = pd.DataFrame(x_test_scaled_winloss)"
   ]
  },
  {
   "cell_type": "code",
   "execution_count": 51,
   "metadata": {
    "collapsed": false
   },
   "outputs": [],
   "source": [
    "x_train_scaled_winloss.columns = x_train_scaled_winloss.columns\n",
    "x_test_scaled_winloss.columns = x_test_scaled_winloss.columns"
   ]
  },
  {
   "cell_type": "code",
   "execution_count": 52,
   "metadata": {
    "collapsed": true
   },
   "outputs": [],
   "source": [
    "clf_svc_winloss = svm.SVC(C=10, kernel='linear', degree=5, gamma=1e-1,)\n",
    "clf_fit_winloss = clf_svc_winloss.fit(x_train_scaled_winloss, y_train_winloss)\n",
    "\n",
    "#tuned_parameters = [{'kernel': ['rbf'], 'gamma': [1,1e-1,1e-2,1e-3, 1e-4],\n",
    " #                    'C': [1, 10, 100, 1000]},{'kernel': ['linear'], 'C': [1, 10, 100, 1000]},{'kernel':['poly'],'degree':[1,2,3]}]"
   ]
  },
  {
   "cell_type": "code",
   "execution_count": 53,
   "metadata": {
    "collapsed": false
   },
   "outputs": [
    {
     "data": {
      "text/plain": [
       "(0.6354961832061069, 0.68559999999999999)"
      ]
     },
     "execution_count": 53,
     "metadata": {},
     "output_type": "execute_result"
    }
   ],
   "source": [
    "train_svcacc_winloss=clf_fit_winloss.score(x_train_scaled_winloss, y_train_winloss)\n",
    "test_svcacc_winloss=clf_fit_winloss.score(x_test_scaled_winloss,y_test_winloss)\n",
    "y_predSVC_winloss = clf_fit_winloss.predict(x_test_scaled_winloss)\n",
    "\n",
    "train_svcacc_winloss, test_svcacc_winloss"
   ]
  },
  {
   "cell_type": "code",
   "execution_count": 55,
   "metadata": {
    "collapsed": false
   },
   "outputs": [
    {
     "name": "stdout",
     "output_type": "stream",
     "text": [
      "             precision    recall  f1-score   support\n",
      "\n",
      "          l       0.67      0.39      0.49       488\n",
      "          w       0.69      0.88      0.77       762\n",
      "\n",
      "avg / total       0.68      0.69      0.66      1250\n",
      "\n"
     ]
    }
   ],
   "source": [
    "#Precision Recall\n",
    "from sklearn.metrics import precision_recall_fscore_support\n",
    "\n",
    "precision_recall_fscore_support(y_test_winloss,y_predSVC_winloss)\n",
    "print(classification_report(y_test_winloss,y_predSVC_winloss, target_names=clf_fit_winloss.classes_))"
   ]
  },
  {
   "cell_type": "markdown",
   "metadata": {},
   "source": [
    "**Fit a Decision Tree and Random Forest**"
   ]
  },
  {
   "cell_type": "code",
   "execution_count": 56,
   "metadata": {
    "collapsed": true
   },
   "outputs": [],
   "source": [
    "from sklearn import tree\n",
    "clf = tree.DecisionTreeClassifier()\n",
    "clf = clf.fit(x_train_winloss,y_train_winloss)"
   ]
  },
  {
   "cell_type": "code",
   "execution_count": 57,
   "metadata": {
    "collapsed": false
   },
   "outputs": [
    {
     "data": {
      "text/plain": [
       "(0.97137404580152675, 0.63439999999999996)"
      ]
     },
     "execution_count": 57,
     "metadata": {},
     "output_type": "execute_result"
    }
   ],
   "source": [
    "train_acc_dtree_winloss =clf.score(x_train_winloss, y_train_winloss)\n",
    "test_acc_dtree_winloss =clf.score(x_test_winloss,y_test_winloss)\n",
    "train_acc_dtree_winloss,test_acc_dtree_winloss"
   ]
  },
  {
   "cell_type": "code",
   "execution_count": 58,
   "metadata": {
    "collapsed": false
   },
   "outputs": [
    {
     "name": "stdout",
     "output_type": "stream",
     "text": [
      "{'min_samples_split': 2, 'max_depth': 10, 'min_samples_leaf': 50}\n"
     ]
    }
   ],
   "source": [
    "#Tuning features on Decision Tree\n",
    "from sklearn.grid_search import GridSearchCV\n",
    "from sklearn import tree\n",
    "\n",
    "param_grid = { \n",
    "    \n",
    "   \n",
    "    'max_depth' : [10,50,100,200],\n",
    "    'min_samples_split' : [2,5,10],\n",
    "    'min_samples_leaf' : [1, 25, 50, 100, 150],\n",
    "   \n",
    "    \n",
    "}\n",
    "\n",
    "dtree_winloss = tree.DecisionTreeClassifier()\n",
    "CV_dtree_winloss = GridSearchCV(dtree_winloss,param_grid=param_grid)\n",
    "CV_dtree_winloss.fit(x_train_winloss, y_train_winloss)\n",
    "print CV_dtree_winloss.best_params_"
   ]
  },
  {
   "cell_type": "code",
   "execution_count": 59,
   "metadata": {
    "collapsed": false
   },
   "outputs": [
    {
     "data": {
      "text/plain": [
       "(0.65839694656488545, 0.48720000000000002)"
      ]
     },
     "execution_count": 59,
     "metadata": {},
     "output_type": "execute_result"
    }
   ],
   "source": [
    "dtree_bestparams_winloss = tree.DecisionTreeClassifier(min_samples_split= 2, max_depth =10, min_samples_leaf= 50)\n",
    "fit_bestdtree_winloss = dtree_bestparams_winloss.fit(x_train_winloss, y_train_winloss)\n",
    "train_acc_bestdtree_winloss = fit_bestdtree_winloss.score(x_train_winloss, y_train_winloss)\n",
    "test_acc_bestdtree_winloss = fit_bestdtree_winloss.score(x_test_winloss,y_test_winloss)\n",
    "y_predDT_winloss= fit_bestdtree_winloss.predict(x_test_winloss)\n",
    "train_acc_bestdtree_winloss,test_acc_bestdtree_winloss"
   ]
  },
  {
   "cell_type": "code",
   "execution_count": 60,
   "metadata": {
    "collapsed": false
   },
   "outputs": [
    {
     "name": "stdout",
     "output_type": "stream",
     "text": [
      "             precision    recall  f1-score   support\n",
      "\n",
      "          l       0.42      0.85      0.56       488\n",
      "          w       0.72      0.26      0.38       762\n",
      "\n",
      "avg / total       0.61      0.49      0.45      1250\n",
      "\n"
     ]
    }
   ],
   "source": [
    "#Precision Recall\n",
    "from sklearn.metrics import precision_recall_fscore_support\n",
    "\n",
    "precision_recall_fscore_support(y_test_winloss,y_predDT_winloss)\n",
    "print(classification_report(y_test_winloss,y_predDT_winloss, target_names=fit_bestdtree_winloss.classes_))"
   ]
  },
  {
   "cell_type": "code",
   "execution_count": 73,
   "metadata": {
    "collapsed": false
   },
   "outputs": [
    {
     "data": {
      "text/plain": [
       "array(['l', 'w'], dtype=object)"
      ]
     },
     "execution_count": 73,
     "metadata": {},
     "output_type": "execute_result"
    }
   ],
   "source": [
    "clf.classes_"
   ]
  },
  {
   "cell_type": "code",
   "execution_count": 75,
   "metadata": {
    "collapsed": false
   },
   "outputs": [],
   "source": [
    "from sklearn.ensemble import RandomForestClassifier\n",
    "clf_forest = RandomForestClassifier()\n",
    "clf_forest_winloss = clf_forest.fit(x_train_winloss,y_train_winloss)"
   ]
  },
  {
   "cell_type": "code",
   "execution_count": 76,
   "metadata": {
    "collapsed": false
   },
   "outputs": [
    {
     "data": {
      "text/plain": [
       "(0.95229007633587781, 0.55520000000000003)"
      ]
     },
     "execution_count": 76,
     "metadata": {},
     "output_type": "execute_result"
    }
   ],
   "source": [
    "train_acc_forest_winloss = clf_forest_winloss.score(x_train_winloss, y_train_winloss)\n",
    "test_acc_forest_winloss = clf_forest_winloss.score(x_test_winloss,y_test_winloss)\n",
    "train_acc_forest_winloss,test_acc_forest_winloss"
   ]
  },
  {
   "cell_type": "markdown",
   "metadata": {},
   "source": [
    "**Tuning parameters on Random Forest**"
   ]
  },
  {
   "cell_type": "code",
   "execution_count": 79,
   "metadata": {
    "collapsed": false
   },
   "outputs": [
    {
     "name": "stdout",
     "output_type": "stream",
     "text": [
      "{'max_features': 'sqrt', 'min_samples_split': 10, 'n_estimators': 100, 'max_depth': 10, 'min_samples_leaf': 25}\n"
     ]
    }
   ],
   "source": [
    "from sklearn.grid_search import GridSearchCV\n",
    "from sklearn.ensemble import RandomForestClassifier\n",
    "\n",
    "param_grid = { \n",
    "    'n_estimators': [50, 200, 700],\n",
    "    'max_features': ['auto', 'sqrt', 'log2'],\n",
    "    'max_depth' : [10,50,100,200],\n",
    "    'min_samples_split' : [2,5,10],\n",
    "    'min_samples_leaf' : [1, 25, 50, 100, 150],\n",
    "    'n_estimators' : [100,200]\n",
    "    \n",
    "}\n",
    "\n",
    "rfc_winloss = RandomForestClassifier()\n",
    "CV_rfc_winloss = GridSearchCV(rfc_winloss,param_grid=param_grid)\n",
    "CV_rfc_winloss.fit(x_train_winloss, y_train_winloss)\n",
    "print CV_rfc_winloss.best_params_"
   ]
  },
  {
   "cell_type": "code",
   "execution_count": 119,
   "metadata": {
    "collapsed": false
   },
   "outputs": [
    {
     "data": {
      "text/plain": [
       "(0.68320610687022898, 0.59199999999999997)"
      ]
     },
     "execution_count": 119,
     "metadata": {},
     "output_type": "execute_result"
    }
   ],
   "source": [
    "rfc_bestparams = RandomForestClassifier(max_features='sqrt', min_samples_split= 10, n_estimators= 100, max_depth= 10,min_samples_leaf= 25)\n",
    "fit_bestrfc_winloss = rfc_bestparams.fit(x_train_winloss, y_train_winloss)\n",
    "train_acc_bestforest_winloss = fit_bestrfc_winloss.score(x_train_winloss, y_train_winloss)\n",
    "test_acc_bestforest_winloss = fit_bestrfc_winloss.score(x_test_winloss,y_test_winloss)\n",
    "y_predRF_winloss = fit_bestrfc_winloss.predict(x_test_winloss)\n",
    "\n",
    "train_acc_bestforest_winloss,test_acc_bestforest_winloss"
   ]
  },
  {
   "cell_type": "code",
   "execution_count": 123,
   "metadata": {
    "collapsed": false
   },
   "outputs": [
    {
     "name": "stdout",
     "output_type": "stream",
     "text": [
      "             precision    recall  f1-score   support\n",
      "\n",
      "          l       0.49      0.77      0.60       488\n",
      "          w       0.76      0.48      0.59       762\n",
      "\n",
      "avg / total       0.66      0.59      0.59      1250\n",
      "\n"
     ]
    }
   ],
   "source": [
    "#Precision Recall\n",
    "from sklearn.metrics import precision_recall_fscore_support\n",
    "\n",
    "precision_recall_fscore_support(y_test_winloss,y_predRF_winloss)\n",
    "print(classification_report(y_test_winloss,y_predRF_winloss, target_names=fit_bestrfc_winloss.classes_))"
   ]
  },
  {
   "cell_type": "markdown",
   "metadata": {},
   "source": [
    "**KNN**"
   ]
  },
  {
   "cell_type": "code",
   "execution_count": 108,
   "metadata": {
    "collapsed": false
   },
   "outputs": [
    {
     "name": "stdout",
     "output_type": "stream",
     "text": [
      "5 0.736641221374 0.6272\n",
      "7 0.713740458015 0.6336\n",
      "9 0.692748091603 0.6248\n",
      "11 0.678435114504 0.6408\n",
      "13 0.675572519084 0.6328\n",
      "15 0.666030534351 0.6408\n",
      "17 0.666030534351 0.6472\n",
      "19 0.661259541985 0.6504\n",
      "['l' 'w']\n"
     ]
    }
   ],
   "source": [
    "from sklearn.neighbors import NearestNeighbors\n",
    "n_neighbors = [5,7,9,11,13,15,17,19]\n",
    "\n",
    "for n in n_neighbors:\n",
    "    neigh = KNeighborsClassifier(n_neighbors=n)\n",
    "    neigh_winloss = neigh.fit(x_train_winloss,y_train_winloss)\n",
    "    knntrain_score_winloss = neigh_winloss.score(x_train_winloss, y_train_winloss)\n",
    "    knntest_score_winloss = neigh_winloss.score(x_test_winloss, y_test_winloss)\n",
    "    print n,knntrain_score_winloss,knntest_score_winloss\n",
    "print neigh_winloss.classes_"
   ]
  },
  {
   "cell_type": "code",
   "execution_count": 104,
   "metadata": {
    "collapsed": false
   },
   "outputs": [
    {
     "data": {
      "text/plain": [
       "(0.6612595419847328, 0.65039999999999998)"
      ]
     },
     "execution_count": 104,
     "metadata": {},
     "output_type": "execute_result"
    }
   ],
   "source": [
    "knntrain_score_winloss = neigh_winloss.score(x_train_winloss, y_train_winloss)\n",
    "knntest_score_winloss = neigh_winloss.score(x_test_winloss, y_test_winloss)\n",
    "y_knnpred_winloss = neigh_winloss.predict(x_test_winloss)\n",
    "knntrain_score_winloss,knntest_score_winloss\n"
   ]
  },
  {
   "cell_type": "code",
   "execution_count": 109,
   "metadata": {
    "collapsed": false
   },
   "outputs": [
    {
     "name": "stdout",
     "output_type": "stream",
     "text": [
      "             precision    recall  f1-score   support\n",
      "\n",
      "          l       0.54      0.64      0.59       488\n",
      "          w       0.74      0.65      0.70       762\n",
      "\n",
      "avg / total       0.66      0.65      0.65      1250\n",
      "\n"
     ]
    }
   ],
   "source": [
    "from sklearn.metrics import precision_recall_fscore_support\n",
    "\n",
    "precision_recall_fscore_support(y_test_winloss,y_knnpred_winloss)\n",
    "print(classification_report(y_test_winloss,y_knnpred_winloss, target_names=neigh_winloss.classes_))"
   ]
  },
  {
   "cell_type": "code",
   "execution_count": 133,
   "metadata": {
    "collapsed": false
   },
   "outputs": [],
   "source": [
    "y_train_new = y_train_winloss.replace('w',1)\n",
    "y_train_new = y_train_winloss.replace('l',0)\n",
    "y_test_new = y_test_winloss.replace('w',1)\n",
    "y_test_new = y_test_winloss.replace('l',0)\n"
   ]
  },
  {
   "cell_type": "markdown",
   "metadata": {},
   "source": [
    "**Gausian Naive Bayes**"
   ]
  },
  {
   "cell_type": "code",
   "execution_count": 88,
   "metadata": {
    "collapsed": false
   },
   "outputs": [],
   "source": [
    "from sklearn.naive_bayes import GaussianNB\n",
    "clf_gnb = GaussianNB()\n",
    "clf_gnb_winloss = clf_gnb.fit(x_train_winloss,y_train_winloss)\n"
   ]
  },
  {
   "cell_type": "code",
   "execution_count": 89,
   "metadata": {
    "collapsed": false
   },
   "outputs": [
    {
     "data": {
      "text/plain": [
       "(0.63454198473282442, 0.64159999999999995)"
      ]
     },
     "execution_count": 89,
     "metadata": {},
     "output_type": "execute_result"
    }
   ],
   "source": [
    "gnbtrain_score_winloss = clf_gnb_winloss.score(x_train_winloss, y_train_winloss)\n",
    "gnbtest_score_winloss = clf_gnb_winloss.score(x_test_winloss, y_test_winloss)\n",
    "gnbtrain_score_winloss,gnbtest_score_winloss"
   ]
  },
  {
   "cell_type": "code",
   "execution_count": null,
   "metadata": {
    "collapsed": true
   },
   "outputs": [],
   "source": []
  }
 ],
 "metadata": {
  "kernelspec": {
   "display_name": "Python 2",
   "language": "python",
   "name": "python2"
  },
  "language_info": {
   "codemirror_mode": {
    "name": "ipython",
    "version": 2
   },
   "file_extension": ".py",
   "mimetype": "text/x-python",
   "name": "python",
   "nbconvert_exporter": "python",
   "pygments_lexer": "ipython2",
   "version": "2.7.13"
  }
 },
 "nbformat": 4,
 "nbformat_minor": 0
}
