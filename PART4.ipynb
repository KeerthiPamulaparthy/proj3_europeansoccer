{
 "cells": [
  {
   "cell_type": "markdown",
   "metadata": {},
   "source": [
    "# Project Mcnulty"
   ]
  },
  {
   "cell_type": "markdown",
   "metadata": {},
   "source": [
    "Prediction: Home Team Match Outcome\n",
    "\n",
    "Load data, downloaded from Kaggle and clean up.\n",
    "\n",
    "PART IV  - Run Classification Models on goal features 'minus' draw 'plus' win streak.\n",
    "In this notebook you will also find csv files used for d3 visualizations."
   ]
  },
  {
   "cell_type": "code",
   "execution_count": 1,
   "metadata": {
    "collapsed": true
   },
   "outputs": [],
   "source": [
    "from sqlalchemy import create_engine\n",
    "import pandas as pd\n",
    "import sqlite3\n",
    "import numpy as np\n",
    "from sklearn.cross_validation import train_test_split\n",
    "from sklearn.neighbors import KNeighborsClassifier\n",
    "from sklearn.metrics import accuracy_score\n",
    "from sklearn.preprocessing import OneHotEncoder\n",
    "from sklearn.linear_model import LogisticRegression\n",
    "from sklearn.metrics import precision_recall_fscore_support\n",
    "from sklearn.metrics import classification_report\n",
    "data = sqlite3.connect('/Users/keerthipamulaparthy/Documents/metis/projects/Project3_McNulty/database.sqlite')"
   ]
  },
  {
   "cell_type": "code",
   "execution_count": 2,
   "metadata": {
    "collapsed": false
   },
   "outputs": [],
   "source": [
    "df_raw = pd.read_sql_query(r\"\"\"SELECT A.id AS id, A.date AS date, country_id, league_id, season, stage,match_api_id,home_team_api_id,away_team_api_id,home_team_goal,away_team_goal,B.buildUpPlaySpeed AS H_bUPS,C.buildUpPlaySpeed AS A_bUPS,B.buildUpPlayDribblingClass AS H_bUPDC, C.buildUpPlayDribblingClass AS A_bUPDC,B.buildUpPlayPassing AS H_bUPP, C.buildUpPlayPassing AS A_bUPP,B.buildUpPlayPositioningClass AS H_bUPPosC, C.buildUpPlayPositioningClass AS A_bUPPosC,B.chanceCreationPassing AS H_cCP, C.chanceCreationPassing AS A_cCP,B.chanceCreationCrossing AS H_cCC, C.chanceCreationCrossing AS A_cCC,B.chanceCreationShooting AS H_cCS, C.chanceCreationShooting AS A_cCS,B.chanceCreationPositioningClass AS H_cCPosC, C.chanceCreationPositioningClass AS A_cCPosC,B.defencePressure AS H_dP, C.defencePressure AS A_dP,B.defenceAggression AS H_dA, C.defenceAggression AS A_dA,B.defenceTeamWidth AS H_dTW, C.defenceTeamWidth AS A_dTW,B.defenceDefenderLineClass AS H_dDLC, C.defenceDefenderLineClass AS A_dDLC FROM Match A JOIN Team_Attributes B ON A.home_team_api_id = B.team_api_id JOIN Team_Attributes C ON A.away_team_api_id = C.team_api_id WHERE substr(A.date,0,5)=substr(B.date,0,5) and substr(A.date,0,5)=substr(C.date,0,5) and season='2014/2015'\"\"\", data)\n"
   ]
  },
  {
   "cell_type": "markdown",
   "metadata": {},
   "source": [
    "**Get names of teams for D3**"
   ]
  },
  {
   "cell_type": "code",
   "execution_count": 6,
   "metadata": {
    "collapsed": false
   },
   "outputs": [],
   "source": [
    "country_name = pd.read_sql_query(r\"\"\"SELECT country_id, date, match_api_id, home_team_api_id, away_team_api_id, name FROM Match JOIN Country ON Match.country_id = Country.id WHERE season='2014/2015'\"\"\",data)"
   ]
  },
  {
   "cell_type": "code",
   "execution_count": 7,
   "metadata": {
    "collapsed": false
   },
   "outputs": [
    {
     "data": {
      "text/plain": [
       "(   country_id                 date  match_api_id  home_team_api_id  \\\n",
       " 0           1  2014-07-25 00:00:00       1717817              9985   \n",
       " 1           1  2014-07-26 00:00:00       1717818              8475   \n",
       " 2           1  2014-07-26 00:00:00       1717819              9984   \n",
       " 3           1  2014-07-26 00:00:00       1717820              9989   \n",
       " 4           1  2014-07-26 00:00:00       1717821             10001   \n",
       " \n",
       "    away_team_api_id     name  \n",
       " 0              9986  Belgium  \n",
       " 1              8342  Belgium  \n",
       " 2              9991  Belgium  \n",
       " 3              8573  Belgium  \n",
       " 4              9994  Belgium  , 3325)"
      ]
     },
     "execution_count": 7,
     "metadata": {},
     "output_type": "execute_result"
    }
   ],
   "source": [
    "country_name.head(),len(country_name)"
   ]
  },
  {
   "cell_type": "code",
   "execution_count": 8,
   "metadata": {
    "collapsed": false
   },
   "outputs": [
    {
     "data": {
      "text/plain": [
       "3325"
      ]
     },
     "execution_count": 8,
     "metadata": {},
     "output_type": "execute_result"
    }
   ],
   "source": [
    "away_name = pd.read_sql_query(r\"\"\"SELECT date, match_api_id, home_team_api_id, away_team_api_id, home_team_goal, away_team_goal,team_api_id, team_long_name, team_short_name FROM Match JOIN Team ON Match.away_team_api_id = Team.team_api_id WHERE season='2014/2015'\"\"\", data)\n",
    "\n",
    "len(away_name)"
   ]
  },
  {
   "cell_type": "code",
   "execution_count": 9,
   "metadata": {
    "collapsed": false
   },
   "outputs": [],
   "source": [
    "team_names_result = pd.concat([away_name,country_name], axis =1 )"
   ]
  },
  {
   "cell_type": "code",
   "execution_count": 10,
   "metadata": {
    "collapsed": false
   },
   "outputs": [
    {
     "data": {
      "text/plain": [
       "3325"
      ]
     },
     "execution_count": 10,
     "metadata": {},
     "output_type": "execute_result"
    }
   ],
   "source": [
    "len(team_names_result)"
   ]
  },
  {
   "cell_type": "code",
   "execution_count": 11,
   "metadata": {
    "collapsed": false
   },
   "outputs": [
    {
     "data": {
      "text/plain": [
       "Index([u'date', u'match_api_id', u'home_team_api_id', u'away_team_api_id',\n",
       "       u'home_team_goal', u'away_team_goal', u'team_api_id', u'team_long_name',\n",
       "       u'team_short_name', u'country_id', u'date', u'match_api_id',\n",
       "       u'home_team_api_id', u'away_team_api_id', u'name'],\n",
       "      dtype='object')"
      ]
     },
     "execution_count": 11,
     "metadata": {},
     "output_type": "execute_result"
    }
   ],
   "source": [
    "team_names_result.columns "
   ]
  },
  {
   "cell_type": "code",
   "execution_count": 12,
   "metadata": {
    "collapsed": true
   },
   "outputs": [],
   "source": [
    "team_names_result.columns = ['date', 'match_api_id', 'home_team_api_id', 'away_team_api_id',\n",
    "       'home_team_goal', 'away_team_goal', 'team_api_id', 'team_long_name',\n",
    "       'team_short_name','country_id', 'del-date', 'del-match_api_id',\n",
    "       'del-home_team_api_id', 'delaway_team_api_id', 'name']"
   ]
  },
  {
   "cell_type": "code",
   "execution_count": 13,
   "metadata": {
    "collapsed": false
   },
   "outputs": [],
   "source": [
    "team_namesfinal = team_names_result.loc[:,['date','away_team_api_id','team_long_name','team_short_name','name']]"
   ]
  },
  {
   "cell_type": "code",
   "execution_count": 14,
   "metadata": {
    "collapsed": false
   },
   "outputs": [
    {
     "data": {
      "text/html": [
       "<div>\n",
       "<table border=\"1\" class=\"dataframe\">\n",
       "  <thead>\n",
       "    <tr style=\"text-align: right;\">\n",
       "      <th></th>\n",
       "      <th>date</th>\n",
       "      <th>away_team_api_id</th>\n",
       "      <th>team_long_name</th>\n",
       "      <th>team_short_name</th>\n",
       "      <th>name</th>\n",
       "    </tr>\n",
       "  </thead>\n",
       "  <tbody>\n",
       "    <tr>\n",
       "      <th>0</th>\n",
       "      <td>2014-07-25 00:00:00</td>\n",
       "      <td>9986</td>\n",
       "      <td>Sporting Charleroi</td>\n",
       "      <td>CHA</td>\n",
       "      <td>Belgium</td>\n",
       "    </tr>\n",
       "    <tr>\n",
       "      <th>1</th>\n",
       "      <td>2014-07-26 00:00:00</td>\n",
       "      <td>8342</td>\n",
       "      <td>Club Brugge KV</td>\n",
       "      <td>CLB</td>\n",
       "      <td>Belgium</td>\n",
       "    </tr>\n",
       "    <tr>\n",
       "      <th>2</th>\n",
       "      <td>2014-07-26 00:00:00</td>\n",
       "      <td>9991</td>\n",
       "      <td>KAA Gent</td>\n",
       "      <td>GEN</td>\n",
       "      <td>Belgium</td>\n",
       "    </tr>\n",
       "    <tr>\n",
       "      <th>3</th>\n",
       "      <td>2014-07-26 00:00:00</td>\n",
       "      <td>8573</td>\n",
       "      <td>KV Oostende</td>\n",
       "      <td>OOS</td>\n",
       "      <td>Belgium</td>\n",
       "    </tr>\n",
       "    <tr>\n",
       "      <th>4</th>\n",
       "      <td>2014-07-26 00:00:00</td>\n",
       "      <td>9994</td>\n",
       "      <td>Sporting Lokeren</td>\n",
       "      <td>LOK</td>\n",
       "      <td>Belgium</td>\n",
       "    </tr>\n",
       "  </tbody>\n",
       "</table>\n",
       "</div>"
      ],
      "text/plain": [
       "                  date  away_team_api_id      team_long_name team_short_name  \\\n",
       "0  2014-07-25 00:00:00              9986  Sporting Charleroi             CHA   \n",
       "1  2014-07-26 00:00:00              8342      Club Brugge KV             CLB   \n",
       "2  2014-07-26 00:00:00              9991            KAA Gent             GEN   \n",
       "3  2014-07-26 00:00:00              8573         KV Oostende             OOS   \n",
       "4  2014-07-26 00:00:00              9994    Sporting Lokeren             LOK   \n",
       "\n",
       "      name  \n",
       "0  Belgium  \n",
       "1  Belgium  \n",
       "2  Belgium  \n",
       "3  Belgium  \n",
       "4  Belgium  "
      ]
     },
     "execution_count": 14,
     "metadata": {},
     "output_type": "execute_result"
    }
   ],
   "source": [
    "team_namesfinal.head()"
   ]
  },
  {
   "cell_type": "code",
   "execution_count": 15,
   "metadata": {
    "collapsed": true
   },
   "outputs": [],
   "source": [
    "team_namesfinal2 = team_namesfinal.loc[:,['team_long_name','team_short_name','name']]"
   ]
  },
  {
   "cell_type": "code",
   "execution_count": 16,
   "metadata": {
    "collapsed": true
   },
   "outputs": [],
   "source": [
    "team_namesfinal2.columns = ['name','key','city']"
   ]
  },
  {
   "cell_type": "code",
   "execution_count": 17,
   "metadata": {
    "collapsed": true
   },
   "outputs": [],
   "source": [
    "colors = [\"#13482D\",\"#DF5E37\",\"#E9472C\",\"#092048\",\"#3478A8\",\"#AA003C\",\"#FFB612\",\"#3B0160\",\"#003B48\",\"#C11242\",\"#17397D\",\"#9D002B\",\"#0D265A\",\"#0C371D\",\"#183F7D\",\"#D2B887\",\"#2E2180\",\"#225B9A\",\"#227476\",\"#102A61\",\"#0C2340\",\"#B31B34\",\"#276AAF\",\"#000000\",\"#C33319\",\"#E7392D\",\"#5E0610\",\"#D60A0B\",\"#DAA241\",\"#0F2D5D\",\"#B20040\",\"#132C62\"]"
   ]
  },
  {
   "cell_type": "code",
   "execution_count": 23,
   "metadata": {
    "collapsed": false
   },
   "outputs": [
    {
     "data": {
      "text/html": [
       "<div>\n",
       "<table border=\"1\" class=\"dataframe\">\n",
       "  <thead>\n",
       "    <tr style=\"text-align: right;\">\n",
       "      <th></th>\n",
       "      <th>key</th>\n",
       "      <th>name</th>\n",
       "      <th>city</th>\n",
       "    </tr>\n",
       "  </thead>\n",
       "  <tbody>\n",
       "    <tr>\n",
       "      <th>0</th>\n",
       "      <td>AAR</td>\n",
       "      <td>FC Aarau</td>\n",
       "      <td>Switzerland</td>\n",
       "    </tr>\n",
       "    <tr>\n",
       "      <th>1</th>\n",
       "      <td>ABE</td>\n",
       "      <td>Aberdeen</td>\n",
       "      <td>Scotland</td>\n",
       "    </tr>\n",
       "    <tr>\n",
       "      <th>2</th>\n",
       "      <td>ACA</td>\n",
       "      <td>Académica de Coimbra</td>\n",
       "      <td>Portugal</td>\n",
       "    </tr>\n",
       "    <tr>\n",
       "      <th>3</th>\n",
       "      <td>ACM</td>\n",
       "      <td>Milan</td>\n",
       "      <td>Italy</td>\n",
       "    </tr>\n",
       "    <tr>\n",
       "      <th>4</th>\n",
       "      <td>AJA</td>\n",
       "      <td>Ajax</td>\n",
       "      <td>Netherlands</td>\n",
       "    </tr>\n",
       "  </tbody>\n",
       "</table>\n",
       "</div>"
      ],
      "text/plain": [
       "   key                  name         city\n",
       "0  AAR              FC Aarau  Switzerland\n",
       "1  ABE              Aberdeen     Scotland\n",
       "2  ACA  Académica de Coimbra     Portugal\n",
       "3  ACM                 Milan        Italy\n",
       "4  AJA                  Ajax  Netherlands"
      ]
     },
     "execution_count": 23,
     "metadata": {},
     "output_type": "execute_result"
    }
   ],
   "source": [
    "team_namesfinal2.head()"
   ]
  },
  {
   "cell_type": "code",
   "execution_count": 19,
   "metadata": {
    "collapsed": false
   },
   "outputs": [],
   "source": [
    "colors = colors + colors + colors + colors + colors + colors"
   ]
  },
  {
   "cell_type": "code",
   "execution_count": 20,
   "metadata": {
    "collapsed": false
   },
   "outputs": [],
   "source": [
    "team_namesfinal2 = team_namesfinal2.groupby(['key'],as_index=False).min()"
   ]
  },
  {
   "cell_type": "code",
   "execution_count": 21,
   "metadata": {
    "collapsed": false
   },
   "outputs": [],
   "source": [
    "d = {'teams': []}\n",
    "for i in range(len(team_namesfinal2)):\n",
    "    d1 = {\"akey\": team_namesfinal2.key[i], \"cname\": team_namesfinal2.city[i], \"bcity\":team_namesfinal2.name[i], \"dcolor\":colors[i]}\n",
    "    d['teams'].append(d1)"
   ]
  },
  {
   "cell_type": "code",
   "execution_count": 22,
   "metadata": {
    "collapsed": false
   },
   "outputs": [],
   "source": [
    "import json\n",
    "with open('soccer.json', 'w') as fp:\n",
    "    json.dump(d, fp)"
   ]
  },
  {
   "cell_type": "markdown",
   "metadata": {},
   "source": [
    "**Get match on match goal scoring probabilities for home team and away team**\n",
    "\n",
    "Join two dataframes to get home team and away team names, and calculate probabilities."
   ]
  },
  {
   "cell_type": "code",
   "execution_count": 25,
   "metadata": {
    "collapsed": false
   },
   "outputs": [
    {
     "data": {
      "text/plain": [
       "Index([u'date', u'match_api_id', u'home_team_api_id', u'away_team_api_id',\n",
       "       u'home_team_goal', u'away_team_goal', u'team_api_id',\n",
       "       u'away_team_long_name', u'away_team_short_name'],\n",
       "      dtype='object')"
      ]
     },
     "execution_count": 25,
     "metadata": {},
     "output_type": "execute_result"
    }
   ],
   "source": [
    "away_name.columns = ['date', 'match_api_id', 'home_team_api_id', 'away_team_api_id',\n",
    "       'home_team_goal', 'away_team_goal', 'team_api_id', 'away_team_long_name',\n",
    "       'away_team_short_name']\n",
    "away_name.columns"
   ]
  },
  {
   "cell_type": "code",
   "execution_count": 26,
   "metadata": {
    "collapsed": false
   },
   "outputs": [
    {
     "data": {
      "text/plain": [
       "Index([u'id', u'country_id', u'league_id', u'season', u'stage', u'date',\n",
       "       u'match_api_id', u'home_team_api_id', u'away_team_api_id',\n",
       "       u'home_team_goal',\n",
       "       ...\n",
       "       u'GBD', u'GBA', u'BSH', u'BSD', u'BSA', u'id', u'team_api_id',\n",
       "       u'team_fifa_api_id', u'team_long_name', u'team_short_name'],\n",
       "      dtype='object', length=120)"
      ]
     },
     "execution_count": 26,
     "metadata": {},
     "output_type": "execute_result"
    }
   ],
   "source": [
    "df_team = pd.read_sql_query(r\"\"\"SELECT * FROM Match JOIN Team ON Match.home_team_api_id = Team.team_api_id WHERE season='2014/2015'\"\"\", data)\n",
    "\n",
    "df_team.columns"
   ]
  },
  {
   "cell_type": "code",
   "execution_count": 27,
   "metadata": {
    "collapsed": true
   },
   "outputs": [],
   "source": [
    "df_team = df_team.drop(['GBD', 'GBA', 'BSH', 'BSD', 'BSA', 'id',\n",
    "       'team_fifa_api_id','league_id','stage'],axis = 1)\n"
   ]
  },
  {
   "cell_type": "code",
   "execution_count": 28,
   "metadata": {
    "collapsed": false
   },
   "outputs": [],
   "source": [
    "df_team = df_team.drop(['SJH', 'SJD', 'SJA', 'VCH', 'VCD', 'VCA', 'GBH','home_player_X1', 'home_player_X2'],axis = 1)"
   ]
  },
  {
   "cell_type": "code",
   "execution_count": 29,
   "metadata": {
    "collapsed": false
   },
   "outputs": [],
   "source": [
    "df_team = df_team.drop(['home_player_X3','home_player_X4','home_player_X5','home_player_X6','home_player_X7','home_player_X8','home_player_X9','home_player_X10','home_player_X11','away_player_X1','away_player_X2','away_player_X3','away_player_X4','away_player_X5','away_player_X6','away_player_X7','away_player_X8','away_player_X9','away_player_X10','away_player_X11','home_player_Y1','home_player_Y2','home_player_Y3','home_player_Y4','home_player_Y5','home_player_Y6','home_player_Y7','home_player_Y8','home_player_Y9','home_player_Y10','home_player_Y11','away_player_Y1','away_player_Y2','away_player_Y3','away_player_Y4','away_player_Y5','away_player_Y6','away_player_Y7','away_player_Y8','away_player_Y9','away_player_Y10','away_player_Y11','home_player_1','home_player_2','home_player_3','home_player_4','home_player_5','home_player_6','home_player_7','home_player_8','home_player_9','home_player_10','home_player_11','away_player_1','away_player_2','away_player_3','away_player_4','away_player_5','away_player_6','away_player_7','away_player_8','away_player_9','away_player_10','away_player_11','goal', 'shoton', 'shotoff','foulcommit','card','cross','corner','possession'],axis = 1)"
   ]
  },
  {
   "cell_type": "code",
   "execution_count": 30,
   "metadata": {
    "collapsed": false
   },
   "outputs": [],
   "source": [
    "df_team = df_team.drop(['B365H',\n",
    "       'B365D', 'B365A', 'BWH', 'BWD', 'BWA', 'IWH', 'IWD', 'IWA',\n",
    "       'LBH', 'LBD', 'LBA', 'PSH', 'PSD', 'PSA', 'WHH', 'WHD', 'WHA'],axis = 1)"
   ]
  },
  {
   "cell_type": "code",
   "execution_count": 31,
   "metadata": {
    "collapsed": false
   },
   "outputs": [
    {
     "data": {
      "text/plain": [
       "0       True\n",
       "1       True\n",
       "2       True\n",
       "3       True\n",
       "4       True\n",
       "5       True\n",
       "6       True\n",
       "7       True\n",
       "8       True\n",
       "9       True\n",
       "10      True\n",
       "11      True\n",
       "12      True\n",
       "13      True\n",
       "14      True\n",
       "15      True\n",
       "16      True\n",
       "17      True\n",
       "18      True\n",
       "19      True\n",
       "20      True\n",
       "21      True\n",
       "22      True\n",
       "23      True\n",
       "24      True\n",
       "25      True\n",
       "26      True\n",
       "27      True\n",
       "28      True\n",
       "29      True\n",
       "        ... \n",
       "3295    True\n",
       "3296    True\n",
       "3297    True\n",
       "3298    True\n",
       "3299    True\n",
       "3300    True\n",
       "3301    True\n",
       "3302    True\n",
       "3303    True\n",
       "3304    True\n",
       "3305    True\n",
       "3306    True\n",
       "3307    True\n",
       "3308    True\n",
       "3309    True\n",
       "3310    True\n",
       "3311    True\n",
       "3312    True\n",
       "3313    True\n",
       "3314    True\n",
       "3315    True\n",
       "3316    True\n",
       "3317    True\n",
       "3318    True\n",
       "3319    True\n",
       "3320    True\n",
       "3321    True\n",
       "3322    True\n",
       "3323    True\n",
       "3324    True\n",
       "dtype: bool"
      ]
     },
     "execution_count": 31,
     "metadata": {},
     "output_type": "execute_result"
    }
   ],
   "source": [
    "df_team['home_team_api_id'] == df_team['team_api_id']"
   ]
  },
  {
   "cell_type": "code",
   "execution_count": 32,
   "metadata": {
    "collapsed": false
   },
   "outputs": [
    {
     "data": {
      "text/html": [
       "<div>\n",
       "<table border=\"1\" class=\"dataframe\">\n",
       "  <thead>\n",
       "    <tr style=\"text-align: right;\">\n",
       "      <th></th>\n",
       "      <th>country_id</th>\n",
       "      <th>season</th>\n",
       "      <th>date</th>\n",
       "      <th>match_api_id</th>\n",
       "      <th>home_team_api_id</th>\n",
       "      <th>away_team_api_id</th>\n",
       "      <th>home_team_goal</th>\n",
       "      <th>away_team_goal</th>\n",
       "      <th>team_api_id</th>\n",
       "      <th>team_long_name</th>\n",
       "      <th>team_short_name</th>\n",
       "    </tr>\n",
       "  </thead>\n",
       "  <tbody>\n",
       "    <tr>\n",
       "      <th>0</th>\n",
       "      <td>1</td>\n",
       "      <td>2014/2015</td>\n",
       "      <td>2014-07-25 00:00:00</td>\n",
       "      <td>1717817</td>\n",
       "      <td>9985</td>\n",
       "      <td>9986</td>\n",
       "      <td>3</td>\n",
       "      <td>0</td>\n",
       "      <td>9985</td>\n",
       "      <td>Standard de Liège</td>\n",
       "      <td>STL</td>\n",
       "    </tr>\n",
       "    <tr>\n",
       "      <th>1</th>\n",
       "      <td>1</td>\n",
       "      <td>2014/2015</td>\n",
       "      <td>2014-07-26 00:00:00</td>\n",
       "      <td>1717818</td>\n",
       "      <td>8475</td>\n",
       "      <td>8342</td>\n",
       "      <td>0</td>\n",
       "      <td>2</td>\n",
       "      <td>8475</td>\n",
       "      <td>Waasland-Beveren</td>\n",
       "      <td>WAA</td>\n",
       "    </tr>\n",
       "    <tr>\n",
       "      <th>2</th>\n",
       "      <td>1</td>\n",
       "      <td>2014/2015</td>\n",
       "      <td>2014-07-26 00:00:00</td>\n",
       "      <td>1717819</td>\n",
       "      <td>9984</td>\n",
       "      <td>9991</td>\n",
       "      <td>0</td>\n",
       "      <td>0</td>\n",
       "      <td>9984</td>\n",
       "      <td>KSV Cercle Brugge</td>\n",
       "      <td>CEB</td>\n",
       "    </tr>\n",
       "    <tr>\n",
       "      <th>3</th>\n",
       "      <td>1</td>\n",
       "      <td>2014/2015</td>\n",
       "      <td>2014-07-26 00:00:00</td>\n",
       "      <td>1717820</td>\n",
       "      <td>9989</td>\n",
       "      <td>8573</td>\n",
       "      <td>2</td>\n",
       "      <td>0</td>\n",
       "      <td>9989</td>\n",
       "      <td>Lierse SK</td>\n",
       "      <td>LIE</td>\n",
       "    </tr>\n",
       "    <tr>\n",
       "      <th>4</th>\n",
       "      <td>1</td>\n",
       "      <td>2014/2015</td>\n",
       "      <td>2014-07-26 00:00:00</td>\n",
       "      <td>1717821</td>\n",
       "      <td>10001</td>\n",
       "      <td>9994</td>\n",
       "      <td>1</td>\n",
       "      <td>0</td>\n",
       "      <td>10001</td>\n",
       "      <td>KVC Westerlo</td>\n",
       "      <td>WES</td>\n",
       "    </tr>\n",
       "  </tbody>\n",
       "</table>\n",
       "</div>"
      ],
      "text/plain": [
       "   country_id     season                 date  match_api_id  home_team_api_id  \\\n",
       "0           1  2014/2015  2014-07-25 00:00:00       1717817              9985   \n",
       "1           1  2014/2015  2014-07-26 00:00:00       1717818              8475   \n",
       "2           1  2014/2015  2014-07-26 00:00:00       1717819              9984   \n",
       "3           1  2014/2015  2014-07-26 00:00:00       1717820              9989   \n",
       "4           1  2014/2015  2014-07-26 00:00:00       1717821             10001   \n",
       "\n",
       "   away_team_api_id  home_team_goal  away_team_goal  team_api_id  \\\n",
       "0              9986               3               0         9985   \n",
       "1              8342               0               2         8475   \n",
       "2              9991               0               0         9984   \n",
       "3              8573               2               0         9989   \n",
       "4              9994               1               0        10001   \n",
       "\n",
       "      team_long_name team_short_name  \n",
       "0  Standard de Liège             STL  \n",
       "1   Waasland-Beveren             WAA  \n",
       "2  KSV Cercle Brugge             CEB  \n",
       "3          Lierse SK             LIE  \n",
       "4       KVC Westerlo             WES  "
      ]
     },
     "execution_count": 32,
     "metadata": {},
     "output_type": "execute_result"
    }
   ],
   "source": [
    "df_team.head()"
   ]
  },
  {
   "cell_type": "code",
   "execution_count": 33,
   "metadata": {
    "collapsed": false
   },
   "outputs": [
    {
     "data": {
      "text/html": [
       "<div>\n",
       "<table border=\"1\" class=\"dataframe\">\n",
       "  <thead>\n",
       "    <tr style=\"text-align: right;\">\n",
       "      <th></th>\n",
       "      <th>id</th>\n",
       "      <th>date</th>\n",
       "      <th>country_id</th>\n",
       "      <th>league_id</th>\n",
       "      <th>season</th>\n",
       "      <th>stage</th>\n",
       "      <th>match_api_id</th>\n",
       "      <th>home_team_api_id</th>\n",
       "      <th>away_team_api_id</th>\n",
       "      <th>home_team_goal</th>\n",
       "      <th>...</th>\n",
       "      <th>H_cCPosC</th>\n",
       "      <th>A_cCPosC</th>\n",
       "      <th>H_dP</th>\n",
       "      <th>A_dP</th>\n",
       "      <th>H_dA</th>\n",
       "      <th>A_dA</th>\n",
       "      <th>H_dTW</th>\n",
       "      <th>A_dTW</th>\n",
       "      <th>H_dDLC</th>\n",
       "      <th>A_dDLC</th>\n",
       "    </tr>\n",
       "  </thead>\n",
       "  <tbody>\n",
       "    <tr>\n",
       "      <th>0</th>\n",
       "      <td>1249</td>\n",
       "      <td>2014-07-25 00:00:00</td>\n",
       "      <td>1</td>\n",
       "      <td>1</td>\n",
       "      <td>2014/2015</td>\n",
       "      <td>1</td>\n",
       "      <td>1717817</td>\n",
       "      <td>9985</td>\n",
       "      <td>9986</td>\n",
       "      <td>3</td>\n",
       "      <td>...</td>\n",
       "      <td>Organised</td>\n",
       "      <td>Organised</td>\n",
       "      <td>45</td>\n",
       "      <td>42</td>\n",
       "      <td>54</td>\n",
       "      <td>48</td>\n",
       "      <td>52</td>\n",
       "      <td>49</td>\n",
       "      <td>Cover</td>\n",
       "      <td>Cover</td>\n",
       "    </tr>\n",
       "    <tr>\n",
       "      <th>1</th>\n",
       "      <td>1250</td>\n",
       "      <td>2014-07-26 00:00:00</td>\n",
       "      <td>1</td>\n",
       "      <td>1</td>\n",
       "      <td>2014/2015</td>\n",
       "      <td>1</td>\n",
       "      <td>1717818</td>\n",
       "      <td>8475</td>\n",
       "      <td>8342</td>\n",
       "      <td>0</td>\n",
       "      <td>...</td>\n",
       "      <td>Organised</td>\n",
       "      <td>Organised</td>\n",
       "      <td>25</td>\n",
       "      <td>51</td>\n",
       "      <td>37</td>\n",
       "      <td>50</td>\n",
       "      <td>35</td>\n",
       "      <td>57</td>\n",
       "      <td>Cover</td>\n",
       "      <td>Cover</td>\n",
       "    </tr>\n",
       "    <tr>\n",
       "      <th>2</th>\n",
       "      <td>1251</td>\n",
       "      <td>2014-07-26 00:00:00</td>\n",
       "      <td>1</td>\n",
       "      <td>1</td>\n",
       "      <td>2014/2015</td>\n",
       "      <td>1</td>\n",
       "      <td>1717819</td>\n",
       "      <td>9984</td>\n",
       "      <td>9991</td>\n",
       "      <td>0</td>\n",
       "      <td>...</td>\n",
       "      <td>Organised</td>\n",
       "      <td>Organised</td>\n",
       "      <td>59</td>\n",
       "      <td>55</td>\n",
       "      <td>47</td>\n",
       "      <td>59</td>\n",
       "      <td>62</td>\n",
       "      <td>52</td>\n",
       "      <td>Cover</td>\n",
       "      <td>Cover</td>\n",
       "    </tr>\n",
       "    <tr>\n",
       "      <th>3</th>\n",
       "      <td>1252</td>\n",
       "      <td>2014-07-26 00:00:00</td>\n",
       "      <td>1</td>\n",
       "      <td>1</td>\n",
       "      <td>2014/2015</td>\n",
       "      <td>1</td>\n",
       "      <td>1717820</td>\n",
       "      <td>9989</td>\n",
       "      <td>8573</td>\n",
       "      <td>2</td>\n",
       "      <td>...</td>\n",
       "      <td>Organised</td>\n",
       "      <td>Organised</td>\n",
       "      <td>38</td>\n",
       "      <td>42</td>\n",
       "      <td>49</td>\n",
       "      <td>47</td>\n",
       "      <td>65</td>\n",
       "      <td>44</td>\n",
       "      <td>Cover</td>\n",
       "      <td>Cover</td>\n",
       "    </tr>\n",
       "    <tr>\n",
       "      <th>4</th>\n",
       "      <td>1254</td>\n",
       "      <td>2014-07-27 00:00:00</td>\n",
       "      <td>1</td>\n",
       "      <td>1</td>\n",
       "      <td>2014/2015</td>\n",
       "      <td>1</td>\n",
       "      <td>1717822</td>\n",
       "      <td>8203</td>\n",
       "      <td>9987</td>\n",
       "      <td>3</td>\n",
       "      <td>...</td>\n",
       "      <td>Organised</td>\n",
       "      <td>Organised</td>\n",
       "      <td>42</td>\n",
       "      <td>47</td>\n",
       "      <td>51</td>\n",
       "      <td>45</td>\n",
       "      <td>52</td>\n",
       "      <td>55</td>\n",
       "      <td>Cover</td>\n",
       "      <td>Cover</td>\n",
       "    </tr>\n",
       "  </tbody>\n",
       "</table>\n",
       "<p>5 rows × 35 columns</p>\n",
       "</div>"
      ],
      "text/plain": [
       "     id                 date  country_id  league_id     season  stage  \\\n",
       "0  1249  2014-07-25 00:00:00           1          1  2014/2015      1   \n",
       "1  1250  2014-07-26 00:00:00           1          1  2014/2015      1   \n",
       "2  1251  2014-07-26 00:00:00           1          1  2014/2015      1   \n",
       "3  1252  2014-07-26 00:00:00           1          1  2014/2015      1   \n",
       "4  1254  2014-07-27 00:00:00           1          1  2014/2015      1   \n",
       "\n",
       "   match_api_id  home_team_api_id  away_team_api_id  home_team_goal   ...    \\\n",
       "0       1717817              9985              9986               3   ...     \n",
       "1       1717818              8475              8342               0   ...     \n",
       "2       1717819              9984              9991               0   ...     \n",
       "3       1717820              9989              8573               2   ...     \n",
       "4       1717822              8203              9987               3   ...     \n",
       "\n",
       "    H_cCPosC   A_cCPosC  H_dP A_dP H_dA  A_dA  H_dTW A_dTW H_dDLC  A_dDLC  \n",
       "0  Organised  Organised    45   42   54    48     52    49  Cover   Cover  \n",
       "1  Organised  Organised    25   51   37    50     35    57  Cover   Cover  \n",
       "2  Organised  Organised    59   55   47    59     62    52  Cover   Cover  \n",
       "3  Organised  Organised    38   42   49    47     65    44  Cover   Cover  \n",
       "4  Organised  Organised    42   47   51    45     52    55  Cover   Cover  \n",
       "\n",
       "[5 rows x 35 columns]"
      ]
     },
     "execution_count": 33,
     "metadata": {},
     "output_type": "execute_result"
    }
   ],
   "source": [
    "df_raw.head()"
   ]
  },
  {
   "cell_type": "code",
   "execution_count": 34,
   "metadata": {
    "collapsed": false
   },
   "outputs": [
    {
     "data": {
      "text/plain": [
       "(3081, 3325)"
      ]
     },
     "execution_count": 34,
     "metadata": {},
     "output_type": "execute_result"
    }
   ],
   "source": [
    "len(df_raw),len(df_team)"
   ]
  },
  {
   "cell_type": "code",
   "execution_count": 35,
   "metadata": {
    "collapsed": false
   },
   "outputs": [
    {
     "data": {
      "text/plain": [
       "(0       False\n",
       " 1       False\n",
       " 2       False\n",
       " 3       False\n",
       " 4       False\n",
       " 5       False\n",
       " 6       False\n",
       " 7       False\n",
       " 8       False\n",
       " 9       False\n",
       " 10      False\n",
       " 11      False\n",
       " 12      False\n",
       " 13      False\n",
       " 14      False\n",
       " 15      False\n",
       " 16      False\n",
       " 17      False\n",
       " 18      False\n",
       " 19      False\n",
       " 20      False\n",
       " 21      False\n",
       " 22      False\n",
       " 23      False\n",
       " 24      False\n",
       " 25      False\n",
       " 26      False\n",
       " 27      False\n",
       " 28      False\n",
       " 29      False\n",
       "         ...  \n",
       " 3051    False\n",
       " 3052    False\n",
       " 3053    False\n",
       " 3054    False\n",
       " 3055    False\n",
       " 3056    False\n",
       " 3057    False\n",
       " 3058    False\n",
       " 3059    False\n",
       " 3060    False\n",
       " 3061    False\n",
       " 3062    False\n",
       " 3063    False\n",
       " 3064    False\n",
       " 3065    False\n",
       " 3066    False\n",
       " 3067    False\n",
       " 3068    False\n",
       " 3069    False\n",
       " 3070    False\n",
       " 3071    False\n",
       " 3072    False\n",
       " 3073    False\n",
       " 3074    False\n",
       " 3075    False\n",
       " 3076    False\n",
       " 3077    False\n",
       " 3078    False\n",
       " 3079    False\n",
       " 3080    False\n",
       " dtype: bool, 0       False\n",
       " 1       False\n",
       " 2       False\n",
       " 3       False\n",
       " 4       False\n",
       " 5       False\n",
       " 6       False\n",
       " 7       False\n",
       " 8       False\n",
       " 9       False\n",
       " 10      False\n",
       " 11      False\n",
       " 12      False\n",
       " 13      False\n",
       " 14      False\n",
       " 15      False\n",
       " 16      False\n",
       " 17      False\n",
       " 18      False\n",
       " 19      False\n",
       " 20      False\n",
       " 21      False\n",
       " 22      False\n",
       " 23      False\n",
       " 24      False\n",
       " 25      False\n",
       " 26      False\n",
       " 27      False\n",
       " 28      False\n",
       " 29      False\n",
       "         ...  \n",
       " 3295    False\n",
       " 3296    False\n",
       " 3297    False\n",
       " 3298    False\n",
       " 3299    False\n",
       " 3300    False\n",
       " 3301    False\n",
       " 3302    False\n",
       " 3303    False\n",
       " 3304    False\n",
       " 3305    False\n",
       " 3306    False\n",
       " 3307    False\n",
       " 3308    False\n",
       " 3309    False\n",
       " 3310    False\n",
       " 3311    False\n",
       " 3312    False\n",
       " 3313    False\n",
       " 3314    False\n",
       " 3315    False\n",
       " 3316    False\n",
       " 3317    False\n",
       " 3318    False\n",
       " 3319    False\n",
       " 3320    False\n",
       " 3321    False\n",
       " 3322    False\n",
       " 3323    False\n",
       " 3324    False\n",
       " dtype: bool)"
      ]
     },
     "execution_count": 35,
     "metadata": {},
     "output_type": "execute_result"
    }
   ],
   "source": [
    "df_raw.duplicated(),df_team.duplicated()"
   ]
  },
  {
   "cell_type": "code",
   "execution_count": 36,
   "metadata": {
    "collapsed": false
   },
   "outputs": [
    {
     "data": {
      "text/plain": [
       "Index([u'id', u'date', u'country_id', u'league_id', u'season', u'stage',\n",
       "       u'match_api_id', u'home_team_api_id', u'away_team_api_id',\n",
       "       u'home_team_goal', u'away_team_goal', u'H_bUPS', u'A_bUPS', u'H_bUPDC',\n",
       "       u'A_bUPDC', u'H_bUPP', u'A_bUPP', u'H_bUPPosC', u'A_bUPPosC', u'H_cCP',\n",
       "       u'A_cCP', u'H_cCC', u'A_cCC', u'H_cCS', u'A_cCS', u'H_cCPosC',\n",
       "       u'A_cCPosC', u'H_dP', u'A_dP', u'H_dA', u'A_dA', u'H_dTW', u'A_dTW',\n",
       "       u'H_dDLC', u'A_dDLC'],\n",
       "      dtype='object')"
      ]
     },
     "execution_count": 36,
     "metadata": {},
     "output_type": "execute_result"
    }
   ],
   "source": [
    "df_raw.columns"
   ]
  },
  {
   "cell_type": "code",
   "execution_count": 37,
   "metadata": {
    "collapsed": false
   },
   "outputs": [
    {
     "data": {
      "text/plain": [
       "Index([u'country_id', u'season', u'date', u'match_api_id', u'home_team_api_id',\n",
       "       u'away_team_api_id', u'home_team_goal', u'away_team_goal',\n",
       "       u'team_api_id', u'team_long_name', u'team_short_name'],\n",
       "      dtype='object')"
      ]
     },
     "execution_count": 37,
     "metadata": {},
     "output_type": "execute_result"
    }
   ],
   "source": [
    "df_team.columns"
   ]
  },
  {
   "cell_type": "code",
   "execution_count": 38,
   "metadata": {
    "collapsed": false
   },
   "outputs": [],
   "source": [
    "df_2014 = df_raw.reindex(columns = ['date', \n",
    "       'match_api_id', 'home_team_api_id', 'away_team_api_id',\n",
    "       'home_team_goal', 'away_team_goal', 'hometeam_outcome', 'HT_goalsfor',\n",
    "    'HT_goalsagainst','AT_goalsfor','AT_goalsagainst'\n",
    "    ,'H_bUPS','A_bUPS', 'H_bUPDC', 'A_bUPDC', 'H_bUPP', 'A_bUPP', 'H_bUPPosC',\n",
    "       'A_bUPPosC', 'H_cCP', 'A_cCP', 'H_cCC', 'A_cCC', 'H_cCS',\n",
    "       'A_cCS', 'H_cCPosC', 'A_cCPosC', 'H_dP', 'A_dP', 'H_dA', 'A_dA',\n",
    "       'H_dTW', 'A_dTW', 'H_dDLC', 'A_dDLC'])\n"
   ]
  },
  {
   "cell_type": "code",
   "execution_count": 39,
   "metadata": {
    "collapsed": true
   },
   "outputs": [],
   "source": [
    "df_team = df_team.reindex(columns = ['country_id', 'season', 'date', 'match_api_id', 'home_team_api_id',\n",
    "       'away_team_api_id', 'home_team_goal', 'away_team_goal',\n",
    "       'team_api_id', 'team_long_name', 'team_short_name'])"
   ]
  },
  {
   "cell_type": "code",
   "execution_count": 40,
   "metadata": {
    "collapsed": false
   },
   "outputs": [
    {
     "data": {
      "text/plain": [
       "Index([u'date', u'match_api_id', u'home_team_api_id', u'away_team_api_id',\n",
       "       u'home_team_goal', u'away_team_goal', u'team_api_id',\n",
       "       u'away_team_long_name', u'away_team_short_name'],\n",
       "      dtype='object')"
      ]
     },
     "execution_count": 40,
     "metadata": {},
     "output_type": "execute_result"
    }
   ],
   "source": [
    "away_name.columns"
   ]
  },
  {
   "cell_type": "code",
   "execution_count": 41,
   "metadata": {
    "collapsed": true
   },
   "outputs": [],
   "source": [
    "away_name = away_name.reindex(columns = ['date', 'match_api_id', 'home_team_api_id', 'away_team_api_id',\n",
    "       'home_team_goal', 'away_team_goal', 'team_api_id',\n",
    "       'away_team_long_name', 'away_team_short_name'])"
   ]
  },
  {
   "cell_type": "code",
   "execution_count": 42,
   "metadata": {
    "collapsed": false
   },
   "outputs": [],
   "source": [
    "home_away = pd.concat([df_team,away_name],axis = 1)"
   ]
  },
  {
   "cell_type": "code",
   "execution_count": 43,
   "metadata": {
    "collapsed": false
   },
   "outputs": [
    {
     "data": {
      "text/plain": [
       "Index([u'country_id', u'season', u'date', u'match_api_id', u'home_team_api_id',\n",
       "       u'away_team_api_id', u'home_team_goal', u'away_team_goal',\n",
       "       u'team_api_id', u'team_long_name', u'team_short_name', u'date',\n",
       "       u'match_api_id', u'home_team_api_id', u'away_team_api_id',\n",
       "       u'home_team_goal', u'away_team_goal', u'team_api_id',\n",
       "       u'away_team_long_name', u'away_team_short_name'],\n",
       "      dtype='object')"
      ]
     },
     "execution_count": 43,
     "metadata": {},
     "output_type": "execute_result"
    }
   ],
   "source": [
    "home_away.columns"
   ]
  },
  {
   "cell_type": "code",
   "execution_count": 44,
   "metadata": {
    "collapsed": false
   },
   "outputs": [],
   "source": [
    "home_away = home_away.drop(['country_id', u'season',u'match_api_id', 'home_team_api_id','away_team_api_id', 'team_api_id', 'match_api_id', 'home_team_api_id',\n",
    "'away_team_api_id','team_api_id'],axis = 1)"
   ]
  },
  {
   "cell_type": "code",
   "execution_count": 45,
   "metadata": {
    "collapsed": false
   },
   "outputs": [
    {
     "data": {
      "text/plain": [
       "Index([u'date', u'home_team_goal', u'away_team_goal', u'team_long_name',\n",
       "       u'team_short_name', u'date', u'home_team_goal', u'away_team_goal',\n",
       "       u'away_team_long_name', u'away_team_short_name'],\n",
       "      dtype='object')"
      ]
     },
     "execution_count": 45,
     "metadata": {},
     "output_type": "execute_result"
    }
   ],
   "source": [
    "home_away.columns"
   ]
  },
  {
   "cell_type": "code",
   "execution_count": 46,
   "metadata": {
    "collapsed": false
   },
   "outputs": [],
   "source": [
    "home_away.columns = ['date', 'home_team_goal','away_team_goal', 'HT_long_name',\n",
    "       'HT_short_name', 'del_date', 'del_home_team_goal',\n",
    "       'del_away_team_goal', 'AT_long_name', 'AT_short_name']"
   ]
  },
  {
   "cell_type": "code",
   "execution_count": 47,
   "metadata": {
    "collapsed": false
   },
   "outputs": [
    {
     "data": {
      "text/plain": [
       "Index([u'date', u'home_team_goal', u'away_team_goal', u'HT_long_name',\n",
       "       u'HT_short_name', u'del_date', u'del_home_team_goal',\n",
       "       u'del_away_team_goal', u'AT_long_name', u'AT_short_name'],\n",
       "      dtype='object')"
      ]
     },
     "execution_count": 47,
     "metadata": {},
     "output_type": "execute_result"
    }
   ],
   "source": [
    "home_away.columns"
   ]
  },
  {
   "cell_type": "code",
   "execution_count": 48,
   "metadata": {
    "collapsed": false
   },
   "outputs": [],
   "source": [
    "home_away = home_away.drop([ 'del_date',\n",
    "       'del_home_team_goal', 'del_away_team_goal'],axis = 1)"
   ]
  },
  {
   "cell_type": "code",
   "execution_count": 49,
   "metadata": {
    "collapsed": false
   },
   "outputs": [
    {
     "data": {
      "text/html": [
       "<div>\n",
       "<table border=\"1\" class=\"dataframe\">\n",
       "  <thead>\n",
       "    <tr style=\"text-align: right;\">\n",
       "      <th></th>\n",
       "      <th>date</th>\n",
       "      <th>home_team_goal</th>\n",
       "      <th>away_team_goal</th>\n",
       "      <th>HT_long_name</th>\n",
       "      <th>HT_short_name</th>\n",
       "      <th>AT_long_name</th>\n",
       "      <th>AT_short_name</th>\n",
       "    </tr>\n",
       "  </thead>\n",
       "  <tbody>\n",
       "    <tr>\n",
       "      <th>0</th>\n",
       "      <td>2014-07-25 00:00:00</td>\n",
       "      <td>3</td>\n",
       "      <td>0</td>\n",
       "      <td>Standard de Liège</td>\n",
       "      <td>STL</td>\n",
       "      <td>Sporting Charleroi</td>\n",
       "      <td>CHA</td>\n",
       "    </tr>\n",
       "    <tr>\n",
       "      <th>1</th>\n",
       "      <td>2014-07-26 00:00:00</td>\n",
       "      <td>0</td>\n",
       "      <td>2</td>\n",
       "      <td>Waasland-Beveren</td>\n",
       "      <td>WAA</td>\n",
       "      <td>Club Brugge KV</td>\n",
       "      <td>CLB</td>\n",
       "    </tr>\n",
       "    <tr>\n",
       "      <th>2</th>\n",
       "      <td>2014-07-26 00:00:00</td>\n",
       "      <td>0</td>\n",
       "      <td>0</td>\n",
       "      <td>KSV Cercle Brugge</td>\n",
       "      <td>CEB</td>\n",
       "      <td>KAA Gent</td>\n",
       "      <td>GEN</td>\n",
       "    </tr>\n",
       "    <tr>\n",
       "      <th>3</th>\n",
       "      <td>2014-07-26 00:00:00</td>\n",
       "      <td>2</td>\n",
       "      <td>0</td>\n",
       "      <td>Lierse SK</td>\n",
       "      <td>LIE</td>\n",
       "      <td>KV Oostende</td>\n",
       "      <td>OOS</td>\n",
       "    </tr>\n",
       "    <tr>\n",
       "      <th>4</th>\n",
       "      <td>2014-07-26 00:00:00</td>\n",
       "      <td>1</td>\n",
       "      <td>0</td>\n",
       "      <td>KVC Westerlo</td>\n",
       "      <td>WES</td>\n",
       "      <td>Sporting Lokeren</td>\n",
       "      <td>LOK</td>\n",
       "    </tr>\n",
       "  </tbody>\n",
       "</table>\n",
       "</div>"
      ],
      "text/plain": [
       "                  date  home_team_goal  away_team_goal       HT_long_name  \\\n",
       "0  2014-07-25 00:00:00               3               0  Standard de Liège   \n",
       "1  2014-07-26 00:00:00               0               2   Waasland-Beveren   \n",
       "2  2014-07-26 00:00:00               0               0  KSV Cercle Brugge   \n",
       "3  2014-07-26 00:00:00               2               0          Lierse SK   \n",
       "4  2014-07-26 00:00:00               1               0       KVC Westerlo   \n",
       "\n",
       "  HT_short_name        AT_long_name AT_short_name  \n",
       "0           STL  Sporting Charleroi           CHA  \n",
       "1           WAA      Club Brugge KV           CLB  \n",
       "2           CEB            KAA Gent           GEN  \n",
       "3           LIE         KV Oostende           OOS  \n",
       "4           WES    Sporting Lokeren           LOK  "
      ]
     },
     "execution_count": 49,
     "metadata": {},
     "output_type": "execute_result"
    }
   ],
   "source": [
    "home_away.head()"
   ]
  },
  {
   "cell_type": "code",
   "execution_count": 50,
   "metadata": {
    "collapsed": false
   },
   "outputs": [],
   "source": [
    "home_away['date'] = pd.to_datetime(home_away['date'])"
   ]
  },
  {
   "cell_type": "code",
   "execution_count": 51,
   "metadata": {
    "collapsed": false
   },
   "outputs": [],
   "source": [
    "#df['Week_Number'] = df['Date'].dt.week\n",
    "home_away['week_num'] = home_away['date'].dt.week"
   ]
  },
  {
   "cell_type": "code",
   "execution_count": 52,
   "metadata": {
    "collapsed": false
   },
   "outputs": [
    {
     "data": {
      "text/html": [
       "<div>\n",
       "<table border=\"1\" class=\"dataframe\">\n",
       "  <thead>\n",
       "    <tr style=\"text-align: right;\">\n",
       "      <th></th>\n",
       "      <th>date</th>\n",
       "      <th>home_team_goal</th>\n",
       "      <th>away_team_goal</th>\n",
       "      <th>HT_long_name</th>\n",
       "      <th>HT_short_name</th>\n",
       "      <th>AT_long_name</th>\n",
       "      <th>AT_short_name</th>\n",
       "      <th>week_num</th>\n",
       "    </tr>\n",
       "  </thead>\n",
       "  <tbody>\n",
       "    <tr>\n",
       "      <th>3320</th>\n",
       "      <td>2014-09-23</td>\n",
       "      <td>3</td>\n",
       "      <td>1</td>\n",
       "      <td>FC Basel</td>\n",
       "      <td>BAS</td>\n",
       "      <td>FC Vaduz</td>\n",
       "      <td>VAD</td>\n",
       "      <td>39</td>\n",
       "    </tr>\n",
       "    <tr>\n",
       "      <th>3321</th>\n",
       "      <td>2014-09-23</td>\n",
       "      <td>3</td>\n",
       "      <td>2</td>\n",
       "      <td>FC Thun</td>\n",
       "      <td>THU</td>\n",
       "      <td>FC Luzern</td>\n",
       "      <td>LUZ</td>\n",
       "      <td>39</td>\n",
       "    </tr>\n",
       "    <tr>\n",
       "      <th>3322</th>\n",
       "      <td>2014-09-24</td>\n",
       "      <td>3</td>\n",
       "      <td>0</td>\n",
       "      <td>FC St. Gallen</td>\n",
       "      <td>GAL</td>\n",
       "      <td>Grasshopper Club Zürich</td>\n",
       "      <td>GRA</td>\n",
       "      <td>39</td>\n",
       "    </tr>\n",
       "    <tr>\n",
       "      <th>3323</th>\n",
       "      <td>2014-09-24</td>\n",
       "      <td>0</td>\n",
       "      <td>0</td>\n",
       "      <td>FC Zürich</td>\n",
       "      <td>ZUR</td>\n",
       "      <td>FC Aarau</td>\n",
       "      <td>AAR</td>\n",
       "      <td>39</td>\n",
       "    </tr>\n",
       "    <tr>\n",
       "      <th>3324</th>\n",
       "      <td>2014-09-24</td>\n",
       "      <td>0</td>\n",
       "      <td>1</td>\n",
       "      <td>FC Sion</td>\n",
       "      <td>SIO</td>\n",
       "      <td>BSC Young Boys</td>\n",
       "      <td>YB</td>\n",
       "      <td>39</td>\n",
       "    </tr>\n",
       "  </tbody>\n",
       "</table>\n",
       "</div>"
      ],
      "text/plain": [
       "           date  home_team_goal  away_team_goal   HT_long_name HT_short_name  \\\n",
       "3320 2014-09-23               3               1       FC Basel           BAS   \n",
       "3321 2014-09-23               3               2        FC Thun           THU   \n",
       "3322 2014-09-24               3               0  FC St. Gallen           GAL   \n",
       "3323 2014-09-24               0               0      FC Zürich           ZUR   \n",
       "3324 2014-09-24               0               1        FC Sion           SIO   \n",
       "\n",
       "                 AT_long_name AT_short_name  week_num  \n",
       "3320                 FC Vaduz           VAD        39  \n",
       "3321                FC Luzern           LUZ        39  \n",
       "3322  Grasshopper Club Zürich           GRA        39  \n",
       "3323                 FC Aarau           AAR        39  \n",
       "3324           BSC Young Boys            YB        39  "
      ]
     },
     "execution_count": 52,
     "metadata": {},
     "output_type": "execute_result"
    }
   ],
   "source": [
    "home_away.tail()"
   ]
  },
  {
   "cell_type": "code",
   "execution_count": 53,
   "metadata": {
    "collapsed": false
   },
   "outputs": [],
   "source": [
    "home_away = home_away.sort_values('date')\n"
   ]
  },
  {
   "cell_type": "code",
   "execution_count": 54,
   "metadata": {
    "collapsed": false
   },
   "outputs": [],
   "source": [
    "home_away['tot_goals'] = home_away['home_team_goal'] + home_away['away_team_goal']"
   ]
  },
  {
   "cell_type": "code",
   "execution_count": 55,
   "metadata": {
    "collapsed": false
   },
   "outputs": [],
   "source": [
    "home_away = home_away.sort_values('date')"
   ]
  },
  {
   "cell_type": "code",
   "execution_count": 56,
   "metadata": {
    "collapsed": false
   },
   "outputs": [],
   "source": [
    "home_away['away_prob'] = home_away['away_team_goal']/home_away['tot_goals']\n",
    "home_away['home_prob'] = home_away['home_team_goal']/home_away['tot_goals']"
   ]
  },
  {
   "cell_type": "code",
   "execution_count": 57,
   "metadata": {
    "collapsed": false
   },
   "outputs": [
    {
     "data": {
      "text/html": [
       "<div>\n",
       "<table border=\"1\" class=\"dataframe\">\n",
       "  <thead>\n",
       "    <tr style=\"text-align: right;\">\n",
       "      <th></th>\n",
       "      <th>date</th>\n",
       "      <th>home_team_goal</th>\n",
       "      <th>away_team_goal</th>\n",
       "      <th>HT_long_name</th>\n",
       "      <th>HT_short_name</th>\n",
       "      <th>AT_long_name</th>\n",
       "      <th>AT_short_name</th>\n",
       "      <th>week_num</th>\n",
       "      <th>tot_goals</th>\n",
       "      <th>away_prob</th>\n",
       "      <th>home_prob</th>\n",
       "    </tr>\n",
       "  </thead>\n",
       "  <tbody>\n",
       "    <tr>\n",
       "      <th>1998</th>\n",
       "      <td>2014-07-18</td>\n",
       "      <td>1</td>\n",
       "      <td>1</td>\n",
       "      <td>Górnik Łęczna</td>\n",
       "      <td>LEC</td>\n",
       "      <td>Wisła Kraków</td>\n",
       "      <td>WIS</td>\n",
       "      <td>29</td>\n",
       "      <td>2</td>\n",
       "      <td>0.500000</td>\n",
       "      <td>0.500000</td>\n",
       "    </tr>\n",
       "    <tr>\n",
       "      <th>1997</th>\n",
       "      <td>2014-07-18</td>\n",
       "      <td>2</td>\n",
       "      <td>3</td>\n",
       "      <td>Podbeskidzie Bielsko-Biała</td>\n",
       "      <td>POD</td>\n",
       "      <td>Pogoń Szczecin</td>\n",
       "      <td>POG</td>\n",
       "      <td>29</td>\n",
       "      <td>5</td>\n",
       "      <td>0.600000</td>\n",
       "      <td>0.400000</td>\n",
       "    </tr>\n",
       "    <tr>\n",
       "      <th>1992</th>\n",
       "      <td>2014-07-19</td>\n",
       "      <td>0</td>\n",
       "      <td>1</td>\n",
       "      <td>Legia Warszawa</td>\n",
       "      <td>LEG</td>\n",
       "      <td>GKS Bełchatów</td>\n",
       "      <td>BEL</td>\n",
       "      <td>29</td>\n",
       "      <td>1</td>\n",
       "      <td>1.000000</td>\n",
       "      <td>0.000000</td>\n",
       "    </tr>\n",
       "    <tr>\n",
       "      <th>1994</th>\n",
       "      <td>2014-07-19</td>\n",
       "      <td>2</td>\n",
       "      <td>2</td>\n",
       "      <td>Jagiellonia Białystok</td>\n",
       "      <td>BIA</td>\n",
       "      <td>Lechia Gdańsk</td>\n",
       "      <td>LGD</td>\n",
       "      <td>29</td>\n",
       "      <td>4</td>\n",
       "      <td>0.500000</td>\n",
       "      <td>0.500000</td>\n",
       "    </tr>\n",
       "    <tr>\n",
       "      <th>3145</th>\n",
       "      <td>2014-07-19</td>\n",
       "      <td>1</td>\n",
       "      <td>2</td>\n",
       "      <td>FC Aarau</td>\n",
       "      <td>AAR</td>\n",
       "      <td>FC Basel</td>\n",
       "      <td>BAS</td>\n",
       "      <td>29</td>\n",
       "      <td>3</td>\n",
       "      <td>0.666667</td>\n",
       "      <td>0.333333</td>\n",
       "    </tr>\n",
       "  </tbody>\n",
       "</table>\n",
       "</div>"
      ],
      "text/plain": [
       "           date  home_team_goal  away_team_goal                HT_long_name  \\\n",
       "1998 2014-07-18               1               1               Górnik Łęczna   \n",
       "1997 2014-07-18               2               3  Podbeskidzie Bielsko-Biała   \n",
       "1992 2014-07-19               0               1              Legia Warszawa   \n",
       "1994 2014-07-19               2               2       Jagiellonia Białystok   \n",
       "3145 2014-07-19               1               2                    FC Aarau   \n",
       "\n",
       "     HT_short_name    AT_long_name AT_short_name  week_num  tot_goals  \\\n",
       "1998           LEC    Wisła Kraków           WIS        29          2   \n",
       "1997           POD  Pogoń Szczecin           POG        29          5   \n",
       "1992           LEG   GKS Bełchatów           BEL        29          1   \n",
       "1994           BIA   Lechia Gdańsk           LGD        29          4   \n",
       "3145           AAR        FC Basel           BAS        29          3   \n",
       "\n",
       "      away_prob  home_prob  \n",
       "1998   0.500000   0.500000  \n",
       "1997   0.600000   0.400000  \n",
       "1992   1.000000   0.000000  \n",
       "1994   0.500000   0.500000  \n",
       "3145   0.666667   0.333333  "
      ]
     },
     "execution_count": 57,
     "metadata": {},
     "output_type": "execute_result"
    }
   ],
   "source": [
    "home_away.head()"
   ]
  },
  {
   "cell_type": "code",
   "execution_count": 59,
   "metadata": {
    "collapsed": false
   },
   "outputs": [
    {
     "data": {
      "text/html": [
       "<div>\n",
       "<table border=\"1\" class=\"dataframe\">\n",
       "  <thead>\n",
       "    <tr style=\"text-align: right;\">\n",
       "      <th></th>\n",
       "      <th>week_num</th>\n",
       "      <th>AT_short_name</th>\n",
       "      <th>away_prob</th>\n",
       "      <th>home_prob</th>\n",
       "      <th>HT_short_name</th>\n",
       "    </tr>\n",
       "  </thead>\n",
       "  <tbody>\n",
       "    <tr>\n",
       "      <th>1998</th>\n",
       "      <td>29</td>\n",
       "      <td>WIS</td>\n",
       "      <td>0.500000</td>\n",
       "      <td>0.500000</td>\n",
       "      <td>LEC</td>\n",
       "    </tr>\n",
       "    <tr>\n",
       "      <th>1997</th>\n",
       "      <td>29</td>\n",
       "      <td>POG</td>\n",
       "      <td>0.600000</td>\n",
       "      <td>0.400000</td>\n",
       "      <td>POD</td>\n",
       "    </tr>\n",
       "    <tr>\n",
       "      <th>1992</th>\n",
       "      <td>29</td>\n",
       "      <td>BEL</td>\n",
       "      <td>1.000000</td>\n",
       "      <td>0.000000</td>\n",
       "      <td>LEG</td>\n",
       "    </tr>\n",
       "    <tr>\n",
       "      <th>1994</th>\n",
       "      <td>29</td>\n",
       "      <td>LGD</td>\n",
       "      <td>0.500000</td>\n",
       "      <td>0.500000</td>\n",
       "      <td>BIA</td>\n",
       "    </tr>\n",
       "    <tr>\n",
       "      <th>3145</th>\n",
       "      <td>29</td>\n",
       "      <td>BAS</td>\n",
       "      <td>0.666667</td>\n",
       "      <td>0.333333</td>\n",
       "      <td>AAR</td>\n",
       "    </tr>\n",
       "  </tbody>\n",
       "</table>\n",
       "</div>"
      ],
      "text/plain": [
       "      week_num AT_short_name  away_prob  home_prob HT_short_name\n",
       "1998        29           WIS   0.500000   0.500000           LEC\n",
       "1997        29           POG   0.600000   0.400000           POD\n",
       "1992        29           BEL   1.000000   0.000000           LEG\n",
       "1994        29           LGD   0.500000   0.500000           BIA\n",
       "3145        29           BAS   0.666667   0.333333           AAR"
      ]
     },
     "execution_count": 59,
     "metadata": {},
     "output_type": "execute_result"
    }
   ],
   "source": [
    "#soccer_teams - df table that will be converted to csv for d3\n",
    "soccer_teams = home_away.loc[:,['week_num','AT_short_name','away_prob','home_prob','HT_short_name']]\n",
    "soccer_teams.head()\n"
   ]
  },
  {
   "cell_type": "code",
   "execution_count": 62,
   "metadata": {
    "collapsed": false
   },
   "outputs": [
    {
     "data": {
      "text/html": [
       "<div>\n",
       "<table border=\"1\" class=\"dataframe\">\n",
       "  <thead>\n",
       "    <tr style=\"text-align: right;\">\n",
       "      <th></th>\n",
       "      <th>week</th>\n",
       "      <th>away</th>\n",
       "      <th>away_prob</th>\n",
       "      <th>home_prob</th>\n",
       "      <th>home</th>\n",
       "    </tr>\n",
       "  </thead>\n",
       "  <tbody>\n",
       "    <tr>\n",
       "      <th>1998</th>\n",
       "      <td>29</td>\n",
       "      <td>WIS</td>\n",
       "      <td>0.500000</td>\n",
       "      <td>0.500000</td>\n",
       "      <td>LEC</td>\n",
       "    </tr>\n",
       "    <tr>\n",
       "      <th>1997</th>\n",
       "      <td>29</td>\n",
       "      <td>POG</td>\n",
       "      <td>0.600000</td>\n",
       "      <td>0.400000</td>\n",
       "      <td>POD</td>\n",
       "    </tr>\n",
       "    <tr>\n",
       "      <th>1992</th>\n",
       "      <td>29</td>\n",
       "      <td>BEL</td>\n",
       "      <td>1.000000</td>\n",
       "      <td>0.000000</td>\n",
       "      <td>LEG</td>\n",
       "    </tr>\n",
       "    <tr>\n",
       "      <th>1994</th>\n",
       "      <td>29</td>\n",
       "      <td>LGD</td>\n",
       "      <td>0.500000</td>\n",
       "      <td>0.500000</td>\n",
       "      <td>BIA</td>\n",
       "    </tr>\n",
       "    <tr>\n",
       "      <th>3145</th>\n",
       "      <td>29</td>\n",
       "      <td>BAS</td>\n",
       "      <td>0.666667</td>\n",
       "      <td>0.333333</td>\n",
       "      <td>AAR</td>\n",
       "    </tr>\n",
       "  </tbody>\n",
       "</table>\n",
       "</div>"
      ],
      "text/plain": [
       "      week away  away_prob  home_prob home\n",
       "1998    29  WIS   0.500000   0.500000  LEC\n",
       "1997    29  POG   0.600000   0.400000  POD\n",
       "1992    29  BEL   1.000000   0.000000  LEG\n",
       "1994    29  LGD   0.500000   0.500000  BIA\n",
       "3145    29  BAS   0.666667   0.333333  AAR"
      ]
     },
     "execution_count": 62,
     "metadata": {},
     "output_type": "execute_result"
    }
   ],
   "source": [
    "soccer_teams.columns = ['week','away','away_prob','home_prob','home']\n",
    "soccer_teams.head()"
   ]
  },
  {
   "cell_type": "code",
   "execution_count": 179,
   "metadata": {
    "collapsed": false
   },
   "outputs": [],
   "source": [
    "#soccer_teams['week'] -= 1"
   ]
  },
  {
   "cell_type": "code",
   "execution_count": 181,
   "metadata": {
    "collapsed": false
   },
   "outputs": [
    {
     "name": "stderr",
     "output_type": "stream",
     "text": [
      "/anaconda/lib/python2.7/site-packages/ipykernel/__main__.py:1: FutureWarning: sort(columns=....) is deprecated, use sort_values(by=.....)\n",
      "  if __name__ == '__main__':\n"
     ]
    }
   ],
   "source": [
    "#soccer_teams = soccer_teams.dropna().sort('week')"
   ]
  },
  {
   "cell_type": "code",
   "execution_count": 63,
   "metadata": {
    "collapsed": false
   },
   "outputs": [],
   "source": [
    "#soccer_teams convert to csv\n",
    "soccer_teams.to_csv('soccer_teams.csv')"
   ]
  },
  {
   "cell_type": "code",
   "execution_count": 64,
   "metadata": {
    "collapsed": false
   },
   "outputs": [],
   "source": [
    "less soccer_teams.csv"
   ]
  },
  {
   "cell_type": "markdown",
   "metadata": {},
   "source": [
    "**Engineer win loss streak features**"
   ]
  },
  {
   "cell_type": "code",
   "execution_count": 102,
   "metadata": {
    "collapsed": false,
    "scrolled": true
   },
   "outputs": [
    {
     "name": "stdout",
     "output_type": "stream",
     "text": [
      "<class 'pandas.core.frame.DataFrame'>\n",
      "Int64Index: 3325 entries, 1998 to 1623\n",
      "Data columns (total 12 columns):\n",
      "country_id          3325 non-null int64\n",
      "season              3325 non-null object\n",
      "date                3325 non-null datetime64[ns]\n",
      "match_api_id        3325 non-null int64\n",
      "home_team_api_id    3325 non-null int64\n",
      "away_team_api_id    3325 non-null int64\n",
      "home_team_goal      3325 non-null int64\n",
      "away_team_goal      3325 non-null int64\n",
      "team_api_id         3325 non-null int64\n",
      "team_long_name      3325 non-null object\n",
      "team_short_name     3325 non-null object\n",
      "hometeam_outcome    3325 non-null object\n",
      "dtypes: datetime64[ns](1), int64(7), object(4)\n",
      "memory usage: 337.7+ KB\n"
     ]
    }
   ],
   "source": [
    "df_team.info()"
   ]
  },
  {
   "cell_type": "code",
   "execution_count": 103,
   "metadata": {
    "collapsed": false
   },
   "outputs": [
    {
     "name": "stdout",
     "output_type": "stream",
     "text": [
      "<class 'pandas.core.frame.DataFrame'>\n",
      "RangeIndex: 3081 entries, 0 to 3080\n",
      "Data columns (total 35 columns):\n",
      "date                3081 non-null object\n",
      "match_api_id        3081 non-null int64\n",
      "home_team_api_id    3081 non-null int64\n",
      "away_team_api_id    3081 non-null int64\n",
      "home_team_goal      3081 non-null int64\n",
      "away_team_goal      3081 non-null int64\n",
      "hometeam_outcome    3081 non-null object\n",
      "HT_goalsfor         3081 non-null object\n",
      "HT_goalsagainst     3081 non-null object\n",
      "AT_goalsfor         3081 non-null object\n",
      "AT_goalsagainst     3081 non-null object\n",
      "H_bUPS              3081 non-null int64\n",
      "A_bUPS              3081 non-null int64\n",
      "H_bUPDC             3081 non-null object\n",
      "A_bUPDC             3081 non-null object\n",
      "H_bUPP              3081 non-null int64\n",
      "A_bUPP              3081 non-null int64\n",
      "H_bUPPosC           3081 non-null object\n",
      "A_bUPPosC           3081 non-null object\n",
      "H_cCP               3081 non-null int64\n",
      "A_cCP               3081 non-null int64\n",
      "H_cCC               3081 non-null int64\n",
      "A_cCC               3081 non-null int64\n",
      "H_cCS               3081 non-null int64\n",
      "A_cCS               3081 non-null int64\n",
      "H_cCPosC            3081 non-null object\n",
      "A_cCPosC            3081 non-null object\n",
      "H_dP                3081 non-null int64\n",
      "A_dP                3081 non-null int64\n",
      "H_dA                3081 non-null int64\n",
      "A_dA                3081 non-null int64\n",
      "H_dTW               3081 non-null int64\n",
      "A_dTW               3081 non-null int64\n",
      "H_dDLC              3081 non-null object\n",
      "A_dDLC              3081 non-null object\n",
      "dtypes: int64(21), object(14)\n",
      "memory usage: 842.5+ KB\n"
     ]
    }
   ],
   "source": [
    "df_2014.info()"
   ]
  },
  {
   "cell_type": "code",
   "execution_count": 104,
   "metadata": {
    "collapsed": false
   },
   "outputs": [],
   "source": [
    "df_2014['hometeam_outcome'] = df_2014['hometeam_outcome'].fillna('')\n",
    "df_2014['HT_goalsfor'] = df_2014['HT_goalsfor'].fillna('')\n",
    "df_2014['HT_goalsagainst'] = df_2014['HT_goalsagainst'].fillna('')\n",
    "df_2014['AT_goalsfor'] = df_2014['AT_goalsfor'].fillna('')\n",
    "df_2014['AT_goalsagainst'] = df_2014['AT_goalsagainst'].fillna('')"
   ]
  },
  {
   "cell_type": "code",
   "execution_count": 105,
   "metadata": {
    "collapsed": false
   },
   "outputs": [],
   "source": [
    "df_2014.loc[df_2014['home_team_goal'] > df_2014['away_team_goal'], 'hometeam_outcome'] = \"w\"\n",
    "df_2014.loc[df_2014['home_team_goal'] < df_2014['away_team_goal'], 'hometeam_outcome'] = \"l\"\n",
    "df_2014.loc[df_2014['home_team_goal'] == df_2014['away_team_goal'], 'hometeam_outcome'] = \"d\""
   ]
  },
  {
   "cell_type": "code",
   "execution_count": 106,
   "metadata": {
    "collapsed": true
   },
   "outputs": [],
   "source": [
    "df_team.loc[df_team['home_team_goal'] > df_team['away_team_goal'], 'hometeam_outcome'] = \"w\"\n",
    "df_team.loc[df_team['home_team_goal'] < df_team['away_team_goal'], 'hometeam_outcome'] = \"l\"\n",
    "df_team.loc[df_team['home_team_goal'] == df_team['away_team_goal'], 'hometeam_outcome'] = \"d\""
   ]
  },
  {
   "cell_type": "code",
   "execution_count": 107,
   "metadata": {
    "collapsed": false
   },
   "outputs": [
    {
     "data": {
      "text/plain": [
       "w    1494\n",
       "l     981\n",
       "d     850\n",
       "Name: hometeam_outcome, dtype: int64"
      ]
     },
     "execution_count": 107,
     "metadata": {},
     "output_type": "execute_result"
    }
   ],
   "source": [
    "df_team['hometeam_outcome'].value_counts()"
   ]
  },
  {
   "cell_type": "code",
   "execution_count": 108,
   "metadata": {
    "collapsed": false
   },
   "outputs": [
    {
     "data": {
      "text/plain": [
       "False"
      ]
     },
     "execution_count": 108,
     "metadata": {},
     "output_type": "execute_result"
    }
   ],
   "source": [
    "df_team.isnull().values.any()"
   ]
  },
  {
   "cell_type": "code",
   "execution_count": 109,
   "metadata": {
    "collapsed": false
   },
   "outputs": [
    {
     "data": {
      "text/html": [
       "<div>\n",
       "<table border=\"1\" class=\"dataframe\">\n",
       "  <thead>\n",
       "    <tr style=\"text-align: right;\">\n",
       "      <th></th>\n",
       "      <th>country_id</th>\n",
       "      <th>season</th>\n",
       "      <th>date</th>\n",
       "      <th>match_api_id</th>\n",
       "      <th>home_team_api_id</th>\n",
       "      <th>away_team_api_id</th>\n",
       "      <th>home_team_goal</th>\n",
       "      <th>away_team_goal</th>\n",
       "      <th>team_api_id</th>\n",
       "      <th>team_long_name</th>\n",
       "      <th>team_short_name</th>\n",
       "      <th>hometeam_outcome</th>\n",
       "    </tr>\n",
       "  </thead>\n",
       "  <tbody>\n",
       "    <tr>\n",
       "      <th>1998</th>\n",
       "      <td>15722</td>\n",
       "      <td>2014/2015</td>\n",
       "      <td>2014-07-18</td>\n",
       "      <td>1722099</td>\n",
       "      <td>8019</td>\n",
       "      <td>10265</td>\n",
       "      <td>1</td>\n",
       "      <td>1</td>\n",
       "      <td>8019</td>\n",
       "      <td>Górnik Łęczna</td>\n",
       "      <td>LEC</td>\n",
       "      <td>d</td>\n",
       "    </tr>\n",
       "    <tr>\n",
       "      <th>1997</th>\n",
       "      <td>15722</td>\n",
       "      <td>2014/2015</td>\n",
       "      <td>2014-07-18</td>\n",
       "      <td>1722098</td>\n",
       "      <td>8033</td>\n",
       "      <td>8023</td>\n",
       "      <td>2</td>\n",
       "      <td>3</td>\n",
       "      <td>8033</td>\n",
       "      <td>Podbeskidzie Bielsko-Biała</td>\n",
       "      <td>POD</td>\n",
       "      <td>l</td>\n",
       "    </tr>\n",
       "    <tr>\n",
       "      <th>1992</th>\n",
       "      <td>15722</td>\n",
       "      <td>2014/2015</td>\n",
       "      <td>2014-07-19</td>\n",
       "      <td>1722093</td>\n",
       "      <td>8673</td>\n",
       "      <td>8569</td>\n",
       "      <td>0</td>\n",
       "      <td>1</td>\n",
       "      <td>8673</td>\n",
       "      <td>Legia Warszawa</td>\n",
       "      <td>LEG</td>\n",
       "      <td>l</td>\n",
       "    </tr>\n",
       "    <tr>\n",
       "      <th>1994</th>\n",
       "      <td>15722</td>\n",
       "      <td>2014/2015</td>\n",
       "      <td>2014-07-19</td>\n",
       "      <td>1722095</td>\n",
       "      <td>1957</td>\n",
       "      <td>8030</td>\n",
       "      <td>2</td>\n",
       "      <td>2</td>\n",
       "      <td>1957</td>\n",
       "      <td>Jagiellonia Białystok</td>\n",
       "      <td>BIA</td>\n",
       "      <td>d</td>\n",
       "    </tr>\n",
       "    <tr>\n",
       "      <th>3145</th>\n",
       "      <td>24558</td>\n",
       "      <td>2014/2015</td>\n",
       "      <td>2014-07-19</td>\n",
       "      <td>1717214</td>\n",
       "      <td>9930</td>\n",
       "      <td>9931</td>\n",
       "      <td>1</td>\n",
       "      <td>2</td>\n",
       "      <td>9930</td>\n",
       "      <td>FC Aarau</td>\n",
       "      <td>AAR</td>\n",
       "      <td>l</td>\n",
       "    </tr>\n",
       "  </tbody>\n",
       "</table>\n",
       "</div>"
      ],
      "text/plain": [
       "      country_id     season       date  match_api_id  home_team_api_id  \\\n",
       "1998       15722  2014/2015 2014-07-18       1722099              8019   \n",
       "1997       15722  2014/2015 2014-07-18       1722098              8033   \n",
       "1992       15722  2014/2015 2014-07-19       1722093              8673   \n",
       "1994       15722  2014/2015 2014-07-19       1722095              1957   \n",
       "3145       24558  2014/2015 2014-07-19       1717214              9930   \n",
       "\n",
       "      away_team_api_id  home_team_goal  away_team_goal  team_api_id  \\\n",
       "1998             10265               1               1         8019   \n",
       "1997              8023               2               3         8033   \n",
       "1992              8569               0               1         8673   \n",
       "1994              8030               2               2         1957   \n",
       "3145              9931               1               2         9930   \n",
       "\n",
       "                  team_long_name team_short_name hometeam_outcome  \n",
       "1998               Górnik Łęczna             LEC                d  \n",
       "1997  Podbeskidzie Bielsko-Biała             POD                l  \n",
       "1992              Legia Warszawa             LEG                l  \n",
       "1994       Jagiellonia Białystok             BIA                d  \n",
       "3145                    FC Aarau             AAR                l  "
      ]
     },
     "execution_count": 109,
     "metadata": {},
     "output_type": "execute_result"
    }
   ],
   "source": [
    "df_team.head()"
   ]
  },
  {
   "cell_type": "code",
   "execution_count": 110,
   "metadata": {
    "collapsed": false
   },
   "outputs": [
    {
     "data": {
      "text/plain": [
       "(w    1390\n",
       " l     908\n",
       " d     783\n",
       " Name: hometeam_outcome, dtype: int64,)"
      ]
     },
     "execution_count": 110,
     "metadata": {},
     "output_type": "execute_result"
    }
   ],
   "source": [
    "df_2014['hometeam_outcome'].value_counts(), "
   ]
  },
  {
   "cell_type": "code",
   "execution_count": 111,
   "metadata": {
    "collapsed": false,
    "scrolled": true
   },
   "outputs": [
    {
     "data": {
      "text/html": [
       "<div>\n",
       "<table border=\"1\" class=\"dataframe\">\n",
       "  <thead>\n",
       "    <tr style=\"text-align: right;\">\n",
       "      <th></th>\n",
       "      <th>date</th>\n",
       "      <th>match_api_id</th>\n",
       "      <th>home_team_api_id</th>\n",
       "      <th>away_team_api_id</th>\n",
       "      <th>home_team_goal</th>\n",
       "      <th>away_team_goal</th>\n",
       "      <th>hometeam_outcome</th>\n",
       "      <th>HT_goalsfor</th>\n",
       "      <th>HT_goalsagainst</th>\n",
       "      <th>AT_goalsfor</th>\n",
       "      <th>...</th>\n",
       "      <th>H_cCPosC</th>\n",
       "      <th>A_cCPosC</th>\n",
       "      <th>H_dP</th>\n",
       "      <th>A_dP</th>\n",
       "      <th>H_dA</th>\n",
       "      <th>A_dA</th>\n",
       "      <th>H_dTW</th>\n",
       "      <th>A_dTW</th>\n",
       "      <th>H_dDLC</th>\n",
       "      <th>A_dDLC</th>\n",
       "    </tr>\n",
       "  </thead>\n",
       "  <tbody>\n",
       "    <tr>\n",
       "      <th>0</th>\n",
       "      <td>2014-07-25 00:00:00</td>\n",
       "      <td>1717817</td>\n",
       "      <td>9985</td>\n",
       "      <td>9986</td>\n",
       "      <td>3</td>\n",
       "      <td>0</td>\n",
       "      <td>w</td>\n",
       "      <td></td>\n",
       "      <td></td>\n",
       "      <td></td>\n",
       "      <td>...</td>\n",
       "      <td>Organised</td>\n",
       "      <td>Organised</td>\n",
       "      <td>45</td>\n",
       "      <td>42</td>\n",
       "      <td>54</td>\n",
       "      <td>48</td>\n",
       "      <td>52</td>\n",
       "      <td>49</td>\n",
       "      <td>Cover</td>\n",
       "      <td>Cover</td>\n",
       "    </tr>\n",
       "    <tr>\n",
       "      <th>1</th>\n",
       "      <td>2014-07-26 00:00:00</td>\n",
       "      <td>1717818</td>\n",
       "      <td>8475</td>\n",
       "      <td>8342</td>\n",
       "      <td>0</td>\n",
       "      <td>2</td>\n",
       "      <td>l</td>\n",
       "      <td></td>\n",
       "      <td></td>\n",
       "      <td></td>\n",
       "      <td>...</td>\n",
       "      <td>Organised</td>\n",
       "      <td>Organised</td>\n",
       "      <td>25</td>\n",
       "      <td>51</td>\n",
       "      <td>37</td>\n",
       "      <td>50</td>\n",
       "      <td>35</td>\n",
       "      <td>57</td>\n",
       "      <td>Cover</td>\n",
       "      <td>Cover</td>\n",
       "    </tr>\n",
       "    <tr>\n",
       "      <th>2</th>\n",
       "      <td>2014-07-26 00:00:00</td>\n",
       "      <td>1717819</td>\n",
       "      <td>9984</td>\n",
       "      <td>9991</td>\n",
       "      <td>0</td>\n",
       "      <td>0</td>\n",
       "      <td>d</td>\n",
       "      <td></td>\n",
       "      <td></td>\n",
       "      <td></td>\n",
       "      <td>...</td>\n",
       "      <td>Organised</td>\n",
       "      <td>Organised</td>\n",
       "      <td>59</td>\n",
       "      <td>55</td>\n",
       "      <td>47</td>\n",
       "      <td>59</td>\n",
       "      <td>62</td>\n",
       "      <td>52</td>\n",
       "      <td>Cover</td>\n",
       "      <td>Cover</td>\n",
       "    </tr>\n",
       "    <tr>\n",
       "      <th>3</th>\n",
       "      <td>2014-07-26 00:00:00</td>\n",
       "      <td>1717820</td>\n",
       "      <td>9989</td>\n",
       "      <td>8573</td>\n",
       "      <td>2</td>\n",
       "      <td>0</td>\n",
       "      <td>w</td>\n",
       "      <td></td>\n",
       "      <td></td>\n",
       "      <td></td>\n",
       "      <td>...</td>\n",
       "      <td>Organised</td>\n",
       "      <td>Organised</td>\n",
       "      <td>38</td>\n",
       "      <td>42</td>\n",
       "      <td>49</td>\n",
       "      <td>47</td>\n",
       "      <td>65</td>\n",
       "      <td>44</td>\n",
       "      <td>Cover</td>\n",
       "      <td>Cover</td>\n",
       "    </tr>\n",
       "    <tr>\n",
       "      <th>4</th>\n",
       "      <td>2014-07-27 00:00:00</td>\n",
       "      <td>1717822</td>\n",
       "      <td>8203</td>\n",
       "      <td>9987</td>\n",
       "      <td>3</td>\n",
       "      <td>1</td>\n",
       "      <td>w</td>\n",
       "      <td></td>\n",
       "      <td></td>\n",
       "      <td></td>\n",
       "      <td>...</td>\n",
       "      <td>Organised</td>\n",
       "      <td>Organised</td>\n",
       "      <td>42</td>\n",
       "      <td>47</td>\n",
       "      <td>51</td>\n",
       "      <td>45</td>\n",
       "      <td>52</td>\n",
       "      <td>55</td>\n",
       "      <td>Cover</td>\n",
       "      <td>Cover</td>\n",
       "    </tr>\n",
       "  </tbody>\n",
       "</table>\n",
       "<p>5 rows × 35 columns</p>\n",
       "</div>"
      ],
      "text/plain": [
       "                  date  match_api_id  home_team_api_id  away_team_api_id  \\\n",
       "0  2014-07-25 00:00:00       1717817              9985              9986   \n",
       "1  2014-07-26 00:00:00       1717818              8475              8342   \n",
       "2  2014-07-26 00:00:00       1717819              9984              9991   \n",
       "3  2014-07-26 00:00:00       1717820              9989              8573   \n",
       "4  2014-07-27 00:00:00       1717822              8203              9987   \n",
       "\n",
       "   home_team_goal  away_team_goal hometeam_outcome HT_goalsfor  \\\n",
       "0               3               0                w               \n",
       "1               0               2                l               \n",
       "2               0               0                d               \n",
       "3               2               0                w               \n",
       "4               3               1                w               \n",
       "\n",
       "  HT_goalsagainst AT_goalsfor   ...     H_cCPosC   A_cCPosC  H_dP A_dP H_dA  \\\n",
       "0                               ...    Organised  Organised    45   42   54   \n",
       "1                               ...    Organised  Organised    25   51   37   \n",
       "2                               ...    Organised  Organised    59   55   47   \n",
       "3                               ...    Organised  Organised    38   42   49   \n",
       "4                               ...    Organised  Organised    42   47   51   \n",
       "\n",
       "   A_dA  H_dTW A_dTW H_dDLC  A_dDLC  \n",
       "0    48     52    49  Cover   Cover  \n",
       "1    50     35    57  Cover   Cover  \n",
       "2    59     62    52  Cover   Cover  \n",
       "3    47     65    44  Cover   Cover  \n",
       "4    45     52    55  Cover   Cover  \n",
       "\n",
       "[5 rows x 35 columns]"
      ]
     },
     "execution_count": 111,
     "metadata": {},
     "output_type": "execute_result"
    }
   ],
   "source": [
    "df_2014.head()"
   ]
  },
  {
   "cell_type": "code",
   "execution_count": 112,
   "metadata": {
    "collapsed": false
   },
   "outputs": [
    {
     "data": {
      "text/html": [
       "<div>\n",
       "<table border=\"1\" class=\"dataframe\">\n",
       "  <thead>\n",
       "    <tr style=\"text-align: right;\">\n",
       "      <th></th>\n",
       "      <th>country_id</th>\n",
       "      <th>season</th>\n",
       "      <th>date</th>\n",
       "      <th>match_api_id</th>\n",
       "      <th>home_team_api_id</th>\n",
       "      <th>away_team_api_id</th>\n",
       "      <th>home_team_goal</th>\n",
       "      <th>away_team_goal</th>\n",
       "      <th>team_api_id</th>\n",
       "      <th>team_long_name</th>\n",
       "      <th>team_short_name</th>\n",
       "      <th>hometeam_outcome</th>\n",
       "    </tr>\n",
       "  </thead>\n",
       "  <tbody>\n",
       "    <tr>\n",
       "      <th>1998</th>\n",
       "      <td>15722</td>\n",
       "      <td>2014/2015</td>\n",
       "      <td>2014-07-18</td>\n",
       "      <td>1722099</td>\n",
       "      <td>8019</td>\n",
       "      <td>10265</td>\n",
       "      <td>1</td>\n",
       "      <td>1</td>\n",
       "      <td>8019</td>\n",
       "      <td>Górnik Łęczna</td>\n",
       "      <td>LEC</td>\n",
       "      <td>d</td>\n",
       "    </tr>\n",
       "    <tr>\n",
       "      <th>1997</th>\n",
       "      <td>15722</td>\n",
       "      <td>2014/2015</td>\n",
       "      <td>2014-07-18</td>\n",
       "      <td>1722098</td>\n",
       "      <td>8033</td>\n",
       "      <td>8023</td>\n",
       "      <td>2</td>\n",
       "      <td>3</td>\n",
       "      <td>8033</td>\n",
       "      <td>Podbeskidzie Bielsko-Biała</td>\n",
       "      <td>POD</td>\n",
       "      <td>l</td>\n",
       "    </tr>\n",
       "    <tr>\n",
       "      <th>1992</th>\n",
       "      <td>15722</td>\n",
       "      <td>2014/2015</td>\n",
       "      <td>2014-07-19</td>\n",
       "      <td>1722093</td>\n",
       "      <td>8673</td>\n",
       "      <td>8569</td>\n",
       "      <td>0</td>\n",
       "      <td>1</td>\n",
       "      <td>8673</td>\n",
       "      <td>Legia Warszawa</td>\n",
       "      <td>LEG</td>\n",
       "      <td>l</td>\n",
       "    </tr>\n",
       "    <tr>\n",
       "      <th>1994</th>\n",
       "      <td>15722</td>\n",
       "      <td>2014/2015</td>\n",
       "      <td>2014-07-19</td>\n",
       "      <td>1722095</td>\n",
       "      <td>1957</td>\n",
       "      <td>8030</td>\n",
       "      <td>2</td>\n",
       "      <td>2</td>\n",
       "      <td>1957</td>\n",
       "      <td>Jagiellonia Białystok</td>\n",
       "      <td>BIA</td>\n",
       "      <td>d</td>\n",
       "    </tr>\n",
       "    <tr>\n",
       "      <th>3145</th>\n",
       "      <td>24558</td>\n",
       "      <td>2014/2015</td>\n",
       "      <td>2014-07-19</td>\n",
       "      <td>1717214</td>\n",
       "      <td>9930</td>\n",
       "      <td>9931</td>\n",
       "      <td>1</td>\n",
       "      <td>2</td>\n",
       "      <td>9930</td>\n",
       "      <td>FC Aarau</td>\n",
       "      <td>AAR</td>\n",
       "      <td>l</td>\n",
       "    </tr>\n",
       "  </tbody>\n",
       "</table>\n",
       "</div>"
      ],
      "text/plain": [
       "      country_id     season       date  match_api_id  home_team_api_id  \\\n",
       "1998       15722  2014/2015 2014-07-18       1722099              8019   \n",
       "1997       15722  2014/2015 2014-07-18       1722098              8033   \n",
       "1992       15722  2014/2015 2014-07-19       1722093              8673   \n",
       "1994       15722  2014/2015 2014-07-19       1722095              1957   \n",
       "3145       24558  2014/2015 2014-07-19       1717214              9930   \n",
       "\n",
       "      away_team_api_id  home_team_goal  away_team_goal  team_api_id  \\\n",
       "1998             10265               1               1         8019   \n",
       "1997              8023               2               3         8033   \n",
       "1992              8569               0               1         8673   \n",
       "1994              8030               2               2         1957   \n",
       "3145              9931               1               2         9930   \n",
       "\n",
       "                  team_long_name team_short_name hometeam_outcome  \n",
       "1998               Górnik Łęczna             LEC                d  \n",
       "1997  Podbeskidzie Bielsko-Biała             POD                l  \n",
       "1992              Legia Warszawa             LEG                l  \n",
       "1994       Jagiellonia Białystok             BIA                d  \n",
       "3145                    FC Aarau             AAR                l  "
      ]
     },
     "execution_count": 112,
     "metadata": {},
     "output_type": "execute_result"
    }
   ],
   "source": [
    "df_team = df_team.sort_values('date')\n",
    "df_team.head()"
   ]
  },
  {
   "cell_type": "code",
   "execution_count": 113,
   "metadata": {
    "collapsed": false
   },
   "outputs": [
    {
     "data": {
      "text/html": [
       "<div>\n",
       "<table border=\"1\" class=\"dataframe\">\n",
       "  <thead>\n",
       "    <tr style=\"text-align: right;\">\n",
       "      <th></th>\n",
       "      <th>date</th>\n",
       "      <th>match_api_id</th>\n",
       "      <th>home_team_api_id</th>\n",
       "      <th>away_team_api_id</th>\n",
       "      <th>home_team_goal</th>\n",
       "      <th>away_team_goal</th>\n",
       "      <th>hometeam_outcome</th>\n",
       "      <th>HT_goalsfor</th>\n",
       "      <th>HT_goalsagainst</th>\n",
       "      <th>AT_goalsfor</th>\n",
       "      <th>...</th>\n",
       "      <th>H_cCPosC</th>\n",
       "      <th>A_cCPosC</th>\n",
       "      <th>H_dP</th>\n",
       "      <th>A_dP</th>\n",
       "      <th>H_dA</th>\n",
       "      <th>A_dA</th>\n",
       "      <th>H_dTW</th>\n",
       "      <th>A_dTW</th>\n",
       "      <th>H_dDLC</th>\n",
       "      <th>A_dDLC</th>\n",
       "    </tr>\n",
       "  </thead>\n",
       "  <tbody>\n",
       "    <tr>\n",
       "      <th>1906</th>\n",
       "      <td>2014-07-18 00:00:00</td>\n",
       "      <td>1722098</td>\n",
       "      <td>8033</td>\n",
       "      <td>8023</td>\n",
       "      <td>2</td>\n",
       "      <td>3</td>\n",
       "      <td>l</td>\n",
       "      <td></td>\n",
       "      <td></td>\n",
       "      <td></td>\n",
       "      <td>...</td>\n",
       "      <td>Organised</td>\n",
       "      <td>Organised</td>\n",
       "      <td>29</td>\n",
       "      <td>50</td>\n",
       "      <td>35</td>\n",
       "      <td>60</td>\n",
       "      <td>38</td>\n",
       "      <td>47</td>\n",
       "      <td>Cover</td>\n",
       "      <td>Cover</td>\n",
       "    </tr>\n",
       "    <tr>\n",
       "      <th>1903</th>\n",
       "      <td>2014-07-19 00:00:00</td>\n",
       "      <td>1722095</td>\n",
       "      <td>1957</td>\n",
       "      <td>8030</td>\n",
       "      <td>2</td>\n",
       "      <td>2</td>\n",
       "      <td>d</td>\n",
       "      <td></td>\n",
       "      <td></td>\n",
       "      <td></td>\n",
       "      <td>...</td>\n",
       "      <td>Organised</td>\n",
       "      <td>Organised</td>\n",
       "      <td>57</td>\n",
       "      <td>37</td>\n",
       "      <td>56</td>\n",
       "      <td>58</td>\n",
       "      <td>49</td>\n",
       "      <td>63</td>\n",
       "      <td>Cover</td>\n",
       "      <td>Cover</td>\n",
       "    </tr>\n",
       "    <tr>\n",
       "      <th>2919</th>\n",
       "      <td>2014-07-19 00:00:00</td>\n",
       "      <td>1717214</td>\n",
       "      <td>9930</td>\n",
       "      <td>9931</td>\n",
       "      <td>1</td>\n",
       "      <td>2</td>\n",
       "      <td>l</td>\n",
       "      <td></td>\n",
       "      <td></td>\n",
       "      <td></td>\n",
       "      <td>...</td>\n",
       "      <td>Organised</td>\n",
       "      <td>Organised</td>\n",
       "      <td>47</td>\n",
       "      <td>47</td>\n",
       "      <td>44</td>\n",
       "      <td>58</td>\n",
       "      <td>54</td>\n",
       "      <td>53</td>\n",
       "      <td>Cover</td>\n",
       "      <td>Cover</td>\n",
       "    </tr>\n",
       "    <tr>\n",
       "      <th>2920</th>\n",
       "      <td>2014-07-19 00:00:00</td>\n",
       "      <td>1717215</td>\n",
       "      <td>10190</td>\n",
       "      <td>10192</td>\n",
       "      <td>2</td>\n",
       "      <td>2</td>\n",
       "      <td>d</td>\n",
       "      <td></td>\n",
       "      <td></td>\n",
       "      <td></td>\n",
       "      <td>...</td>\n",
       "      <td>Organised</td>\n",
       "      <td>Organised</td>\n",
       "      <td>40</td>\n",
       "      <td>44</td>\n",
       "      <td>41</td>\n",
       "      <td>34</td>\n",
       "      <td>52</td>\n",
       "      <td>50</td>\n",
       "      <td>Cover</td>\n",
       "      <td>Cover</td>\n",
       "    </tr>\n",
       "    <tr>\n",
       "      <th>1902</th>\n",
       "      <td>2014-07-20 00:00:00</td>\n",
       "      <td>1722092</td>\n",
       "      <td>2182</td>\n",
       "      <td>8028</td>\n",
       "      <td>4</td>\n",
       "      <td>0</td>\n",
       "      <td>w</td>\n",
       "      <td></td>\n",
       "      <td></td>\n",
       "      <td></td>\n",
       "      <td>...</td>\n",
       "      <td>Organised</td>\n",
       "      <td>Organised</td>\n",
       "      <td>47</td>\n",
       "      <td>36</td>\n",
       "      <td>47</td>\n",
       "      <td>45</td>\n",
       "      <td>63</td>\n",
       "      <td>48</td>\n",
       "      <td>Cover</td>\n",
       "      <td>Cover</td>\n",
       "    </tr>\n",
       "  </tbody>\n",
       "</table>\n",
       "<p>5 rows × 35 columns</p>\n",
       "</div>"
      ],
      "text/plain": [
       "                     date  match_api_id  home_team_api_id  away_team_api_id  \\\n",
       "1906  2014-07-18 00:00:00       1722098              8033              8023   \n",
       "1903  2014-07-19 00:00:00       1722095              1957              8030   \n",
       "2919  2014-07-19 00:00:00       1717214              9930              9931   \n",
       "2920  2014-07-19 00:00:00       1717215             10190             10192   \n",
       "1902  2014-07-20 00:00:00       1722092              2182              8028   \n",
       "\n",
       "      home_team_goal  away_team_goal hometeam_outcome HT_goalsfor  \\\n",
       "1906               2               3                l               \n",
       "1903               2               2                d               \n",
       "2919               1               2                l               \n",
       "2920               2               2                d               \n",
       "1902               4               0                w               \n",
       "\n",
       "     HT_goalsagainst AT_goalsfor   ...     H_cCPosC   A_cCPosC  H_dP A_dP  \\\n",
       "1906                               ...    Organised  Organised    29   50   \n",
       "1903                               ...    Organised  Organised    57   37   \n",
       "2919                               ...    Organised  Organised    47   47   \n",
       "2920                               ...    Organised  Organised    40   44   \n",
       "1902                               ...    Organised  Organised    47   36   \n",
       "\n",
       "     H_dA  A_dA  H_dTW A_dTW H_dDLC  A_dDLC  \n",
       "1906   35    60     38    47  Cover   Cover  \n",
       "1903   56    58     49    63  Cover   Cover  \n",
       "2919   44    58     54    53  Cover   Cover  \n",
       "2920   41    34     52    50  Cover   Cover  \n",
       "1902   47    45     63    48  Cover   Cover  \n",
       "\n",
       "[5 rows x 35 columns]"
      ]
     },
     "execution_count": 113,
     "metadata": {},
     "output_type": "execute_result"
    }
   ],
   "source": [
    "df_2014_new = df_2014.sort_values('date')\n",
    "df_2014_new.head()"
   ]
  },
  {
   "cell_type": "code",
   "execution_count": 114,
   "metadata": {
    "collapsed": false,
    "scrolled": true
   },
   "outputs": [
    {
     "data": {
      "text/plain": [
       "Index([u'date', u'match_api_id', u'home_team_api_id', u'away_team_api_id',\n",
       "       u'home_team_goal', u'away_team_goal', u'hometeam_outcome',\n",
       "       u'HT_goalsfor', u'HT_goalsagainst', u'AT_goalsfor', u'AT_goalsagainst',\n",
       "       u'H_bUPS', u'A_bUPS', u'H_bUPDC', u'A_bUPDC', u'H_bUPP', u'A_bUPP',\n",
       "       u'H_bUPPosC', u'A_bUPPosC', u'H_cCP', u'A_cCP', u'H_cCC', u'A_cCC',\n",
       "       u'H_cCS', u'A_cCS', u'H_cCPosC', u'A_cCPosC', u'H_dP', u'A_dP', u'H_dA',\n",
       "       u'A_dA', u'H_dTW', u'A_dTW', u'H_dDLC', u'A_dDLC'],\n",
       "      dtype='object')"
      ]
     },
     "execution_count": 114,
     "metadata": {},
     "output_type": "execute_result"
    }
   ],
   "source": [
    "df_2014_new.columns"
   ]
  },
  {
   "cell_type": "code",
   "execution_count": 115,
   "metadata": {
    "collapsed": false
   },
   "outputs": [
    {
     "data": {
      "text/plain": [
       "1906    False\n",
       "1903    False\n",
       "2919    False\n",
       "2920    False\n",
       "1902    False\n",
       "1904    False\n",
       "1905    False\n",
       "2921    False\n",
       "2922    False\n",
       "3061    False\n",
       "3062    False\n",
       "0       False\n",
       "1960    False\n",
       "1       False\n",
       "1961    False\n",
       "1963    False\n",
       "3       False\n",
       "2       False\n",
       "2964    False\n",
       "2965    False\n",
       "1962    False\n",
       "5       False\n",
       "4       False\n",
       "2966    False\n",
       "2967    False\n",
       "1959    False\n",
       "2034    False\n",
       "2036    False\n",
       "70      False\n",
       "3019    False\n",
       "        ...  \n",
       "513     False\n",
       "512     False\n",
       "1568    False\n",
       "1567    False\n",
       "1573    False\n",
       "1566    False\n",
       "1565    False\n",
       "1572    False\n",
       "2514    False\n",
       "2512    False\n",
       "3050    False\n",
       "3049    False\n",
       "3047    False\n",
       "1571    False\n",
       "3051    False\n",
       "3048    False\n",
       "3055    False\n",
       "3056    False\n",
       "3054    False\n",
       "3053    False\n",
       "3052    False\n",
       "1579    False\n",
       "1580    False\n",
       "1577    False\n",
       "1578    False\n",
       "1576    False\n",
       "1575    False\n",
       "1581    False\n",
       "1583    False\n",
       "1582    False\n",
       "dtype: bool"
      ]
     },
     "execution_count": 115,
     "metadata": {},
     "output_type": "execute_result"
    }
   ],
   "source": [
    "df_2014_new.duplicated()"
   ]
  },
  {
   "cell_type": "code",
   "execution_count": 116,
   "metadata": {
    "collapsed": false
   },
   "outputs": [
    {
     "data": {
      "text/plain": [
       "3081"
      ]
     },
     "execution_count": 116,
     "metadata": {},
     "output_type": "execute_result"
    }
   ],
   "source": [
    "len(df_2014_new)"
   ]
  },
  {
   "cell_type": "code",
   "execution_count": 117,
   "metadata": {
    "collapsed": false
   },
   "outputs": [],
   "source": [
    "import datetime\n",
    "df_2014_new['date'] = pd.to_datetime(df_2014_new['date'])\n",
    "df_team['date'] = pd.to_datetime(df_team['date'])"
   ]
  },
  {
   "cell_type": "code",
   "execution_count": 118,
   "metadata": {
    "collapsed": false
   },
   "outputs": [
    {
     "name": "stdout",
     "output_type": "stream",
     "text": [
      "<class 'pandas.core.frame.DataFrame'>\n",
      "Int64Index: 3081 entries, 1906 to 1582\n",
      "Data columns (total 35 columns):\n",
      "date                3081 non-null datetime64[ns]\n",
      "match_api_id        3081 non-null int64\n",
      "home_team_api_id    3081 non-null int64\n",
      "away_team_api_id    3081 non-null int64\n",
      "home_team_goal      3081 non-null int64\n",
      "away_team_goal      3081 non-null int64\n",
      "hometeam_outcome    3081 non-null object\n",
      "HT_goalsfor         3081 non-null object\n",
      "HT_goalsagainst     3081 non-null object\n",
      "AT_goalsfor         3081 non-null object\n",
      "AT_goalsagainst     3081 non-null object\n",
      "H_bUPS              3081 non-null int64\n",
      "A_bUPS              3081 non-null int64\n",
      "H_bUPDC             3081 non-null object\n",
      "A_bUPDC             3081 non-null object\n",
      "H_bUPP              3081 non-null int64\n",
      "A_bUPP              3081 non-null int64\n",
      "H_bUPPosC           3081 non-null object\n",
      "A_bUPPosC           3081 non-null object\n",
      "H_cCP               3081 non-null int64\n",
      "A_cCP               3081 non-null int64\n",
      "H_cCC               3081 non-null int64\n",
      "A_cCC               3081 non-null int64\n",
      "H_cCS               3081 non-null int64\n",
      "A_cCS               3081 non-null int64\n",
      "H_cCPosC            3081 non-null object\n",
      "A_cCPosC            3081 non-null object\n",
      "H_dP                3081 non-null int64\n",
      "A_dP                3081 non-null int64\n",
      "H_dA                3081 non-null int64\n",
      "A_dA                3081 non-null int64\n",
      "H_dTW               3081 non-null int64\n",
      "A_dTW               3081 non-null int64\n",
      "H_dDLC              3081 non-null object\n",
      "A_dDLC              3081 non-null object\n",
      "dtypes: datetime64[ns](1), int64(21), object(13)\n",
      "memory usage: 866.5+ KB\n"
     ]
    }
   ],
   "source": [
    "df_2014_new.info()"
   ]
  },
  {
   "cell_type": "code",
   "execution_count": 119,
   "metadata": {
    "collapsed": false
   },
   "outputs": [
    {
     "data": {
      "text/plain": [
       "Index([u'date', u'match_api_id', u'home_team_api_id', u'away_team_api_id',\n",
       "       u'home_team_goal', u'away_team_goal', u'hometeam_outcome',\n",
       "       u'HT_goalsfor', u'HT_goalsagainst', u'AT_goalsfor', u'AT_goalsagainst',\n",
       "       u'H_bUPS', u'A_bUPS', u'H_bUPDC', u'A_bUPDC', u'H_bUPP', u'A_bUPP',\n",
       "       u'H_bUPPosC', u'A_bUPPosC', u'H_cCP', u'A_cCP', u'H_cCC', u'A_cCC',\n",
       "       u'H_cCS', u'A_cCS', u'H_cCPosC', u'A_cCPosC', u'H_dP', u'A_dP', u'H_dA',\n",
       "       u'A_dA', u'H_dTW', u'A_dTW', u'H_dDLC', u'A_dDLC'],\n",
       "      dtype='object')"
      ]
     },
     "execution_count": 119,
     "metadata": {},
     "output_type": "execute_result"
    }
   ],
   "source": [
    "df_2014_new.columns"
   ]
  },
  {
   "cell_type": "code",
   "execution_count": 120,
   "metadata": {
    "collapsed": false
   },
   "outputs": [
    {
     "data": {
      "text/html": [
       "<div>\n",
       "<table border=\"1\" class=\"dataframe\">\n",
       "  <thead>\n",
       "    <tr style=\"text-align: right;\">\n",
       "      <th></th>\n",
       "      <th>date</th>\n",
       "      <th>match_api_id</th>\n",
       "      <th>home_team_api_id</th>\n",
       "      <th>away_team_api_id</th>\n",
       "      <th>home_team_goal</th>\n",
       "      <th>away_team_goal</th>\n",
       "      <th>hometeam_outcome</th>\n",
       "      <th>HT_goalsfor</th>\n",
       "      <th>HT_goalsagainst</th>\n",
       "      <th>AT_goalsfor</th>\n",
       "      <th>...</th>\n",
       "      <th>H_cCPosC</th>\n",
       "      <th>A_cCPosC</th>\n",
       "      <th>H_dP</th>\n",
       "      <th>A_dP</th>\n",
       "      <th>H_dA</th>\n",
       "      <th>A_dA</th>\n",
       "      <th>H_dTW</th>\n",
       "      <th>A_dTW</th>\n",
       "      <th>H_dDLC</th>\n",
       "      <th>A_dDLC</th>\n",
       "    </tr>\n",
       "  </thead>\n",
       "  <tbody>\n",
       "    <tr>\n",
       "      <th>1906</th>\n",
       "      <td>2014-07-18</td>\n",
       "      <td>1722098</td>\n",
       "      <td>8033</td>\n",
       "      <td>8023</td>\n",
       "      <td>2</td>\n",
       "      <td>3</td>\n",
       "      <td>l</td>\n",
       "      <td></td>\n",
       "      <td></td>\n",
       "      <td></td>\n",
       "      <td>...</td>\n",
       "      <td>Organised</td>\n",
       "      <td>Organised</td>\n",
       "      <td>29</td>\n",
       "      <td>50</td>\n",
       "      <td>35</td>\n",
       "      <td>60</td>\n",
       "      <td>38</td>\n",
       "      <td>47</td>\n",
       "      <td>Cover</td>\n",
       "      <td>Cover</td>\n",
       "    </tr>\n",
       "    <tr>\n",
       "      <th>1903</th>\n",
       "      <td>2014-07-19</td>\n",
       "      <td>1722095</td>\n",
       "      <td>1957</td>\n",
       "      <td>8030</td>\n",
       "      <td>2</td>\n",
       "      <td>2</td>\n",
       "      <td>d</td>\n",
       "      <td></td>\n",
       "      <td></td>\n",
       "      <td></td>\n",
       "      <td>...</td>\n",
       "      <td>Organised</td>\n",
       "      <td>Organised</td>\n",
       "      <td>57</td>\n",
       "      <td>37</td>\n",
       "      <td>56</td>\n",
       "      <td>58</td>\n",
       "      <td>49</td>\n",
       "      <td>63</td>\n",
       "      <td>Cover</td>\n",
       "      <td>Cover</td>\n",
       "    </tr>\n",
       "    <tr>\n",
       "      <th>2919</th>\n",
       "      <td>2014-07-19</td>\n",
       "      <td>1717214</td>\n",
       "      <td>9930</td>\n",
       "      <td>9931</td>\n",
       "      <td>1</td>\n",
       "      <td>2</td>\n",
       "      <td>l</td>\n",
       "      <td></td>\n",
       "      <td></td>\n",
       "      <td></td>\n",
       "      <td>...</td>\n",
       "      <td>Organised</td>\n",
       "      <td>Organised</td>\n",
       "      <td>47</td>\n",
       "      <td>47</td>\n",
       "      <td>44</td>\n",
       "      <td>58</td>\n",
       "      <td>54</td>\n",
       "      <td>53</td>\n",
       "      <td>Cover</td>\n",
       "      <td>Cover</td>\n",
       "    </tr>\n",
       "    <tr>\n",
       "      <th>2920</th>\n",
       "      <td>2014-07-19</td>\n",
       "      <td>1717215</td>\n",
       "      <td>10190</td>\n",
       "      <td>10192</td>\n",
       "      <td>2</td>\n",
       "      <td>2</td>\n",
       "      <td>d</td>\n",
       "      <td></td>\n",
       "      <td></td>\n",
       "      <td></td>\n",
       "      <td>...</td>\n",
       "      <td>Organised</td>\n",
       "      <td>Organised</td>\n",
       "      <td>40</td>\n",
       "      <td>44</td>\n",
       "      <td>41</td>\n",
       "      <td>34</td>\n",
       "      <td>52</td>\n",
       "      <td>50</td>\n",
       "      <td>Cover</td>\n",
       "      <td>Cover</td>\n",
       "    </tr>\n",
       "    <tr>\n",
       "      <th>1902</th>\n",
       "      <td>2014-07-20</td>\n",
       "      <td>1722092</td>\n",
       "      <td>2182</td>\n",
       "      <td>8028</td>\n",
       "      <td>4</td>\n",
       "      <td>0</td>\n",
       "      <td>w</td>\n",
       "      <td></td>\n",
       "      <td></td>\n",
       "      <td></td>\n",
       "      <td>...</td>\n",
       "      <td>Organised</td>\n",
       "      <td>Organised</td>\n",
       "      <td>47</td>\n",
       "      <td>36</td>\n",
       "      <td>47</td>\n",
       "      <td>45</td>\n",
       "      <td>63</td>\n",
       "      <td>48</td>\n",
       "      <td>Cover</td>\n",
       "      <td>Cover</td>\n",
       "    </tr>\n",
       "  </tbody>\n",
       "</table>\n",
       "<p>5 rows × 35 columns</p>\n",
       "</div>"
      ],
      "text/plain": [
       "           date  match_api_id  home_team_api_id  away_team_api_id  \\\n",
       "1906 2014-07-18       1722098              8033              8023   \n",
       "1903 2014-07-19       1722095              1957              8030   \n",
       "2919 2014-07-19       1717214              9930              9931   \n",
       "2920 2014-07-19       1717215             10190             10192   \n",
       "1902 2014-07-20       1722092              2182              8028   \n",
       "\n",
       "      home_team_goal  away_team_goal hometeam_outcome HT_goalsfor  \\\n",
       "1906               2               3                l               \n",
       "1903               2               2                d               \n",
       "2919               1               2                l               \n",
       "2920               2               2                d               \n",
       "1902               4               0                w               \n",
       "\n",
       "     HT_goalsagainst AT_goalsfor   ...     H_cCPosC   A_cCPosC  H_dP A_dP  \\\n",
       "1906                               ...    Organised  Organised    29   50   \n",
       "1903                               ...    Organised  Organised    57   37   \n",
       "2919                               ...    Organised  Organised    47   47   \n",
       "2920                               ...    Organised  Organised    40   44   \n",
       "1902                               ...    Organised  Organised    47   36   \n",
       "\n",
       "     H_dA  A_dA  H_dTW A_dTW H_dDLC  A_dDLC  \n",
       "1906   35    60     38    47  Cover   Cover  \n",
       "1903   56    58     49    63  Cover   Cover  \n",
       "2919   44    58     54    53  Cover   Cover  \n",
       "2920   41    34     52    50  Cover   Cover  \n",
       "1902   47    45     63    48  Cover   Cover  \n",
       "\n",
       "[5 rows x 35 columns]"
      ]
     },
     "execution_count": 120,
     "metadata": {},
     "output_type": "execute_result"
    }
   ],
   "source": [
    "df_2014_new.head()"
   ]
  },
  {
   "cell_type": "code",
   "execution_count": 121,
   "metadata": {
    "collapsed": false
   },
   "outputs": [
    {
     "data": {
      "text/plain": [
       "3081"
      ]
     },
     "execution_count": 121,
     "metadata": {},
     "output_type": "execute_result"
    }
   ],
   "source": [
    "len(df_2014_new)"
   ]
  },
  {
   "cell_type": "code",
   "execution_count": 122,
   "metadata": {
    "collapsed": false
   },
   "outputs": [],
   "source": [
    "t1 = df_2014_new.merge(df_2014_new,on='home_team_api_id')\n",
    "c1 = t1[t1['date_x']>=t1['date_y']].groupby(['match_api_id_x'])['home_team_goal_y','away_team_goal_y'].sum()\n",
    "t1 = df_2014_new.merge(df_2014_new,left_on='home_team_api_id',right_on='away_team_api_id')\n",
    "c2 = t1[t1['date_x']>=t1['date_y']].groupby(['match_api_id_x'])['home_team_goal_y','away_team_goal_y'].sum()\n",
    "t1 = df_2014_new.merge(df_2014_new,on='away_team_api_id')\n",
    "c3 = t1[t1['date_x']>=t1['date_y']].groupby(['match_api_id_x'])['home_team_goal_y','away_team_goal_y'].sum()\n",
    "t1 = df_2014_new.merge(df_2014_new,left_on='away_team_api_id',right_on='home_team_api_id')\n",
    "c4 = t1[t1['date_x']>=t1['date_y']].groupby(['match_api_id_x'])['home_team_goal_y','away_team_goal_y'].sum()"
   ]
  },
  {
   "cell_type": "code",
   "execution_count": 123,
   "metadata": {
    "collapsed": true
   },
   "outputs": [],
   "source": [
    "t1 = df_team.merge(df_team,on='home_team_api_id')\n",
    "c1 = t1[t1['date_x']>=t1['date_y']].groupby(['match_api_id_x'])['home_team_goal_y','away_team_goal_y'].sum()\n",
    "t1 = df_team.merge(df_team,left_on='home_team_api_id',right_on='away_team_api_id')\n",
    "c2 = t1[t1['date_x']>=t1['date_y']].groupby(['match_api_id_x'])['home_team_goal_y','away_team_goal_y'].sum()\n",
    "t1 = df_team.merge(df_team,on='away_team_api_id')\n",
    "c3 = t1[t1['date_x']>=t1['date_y']].groupby(['match_api_id_x'])['home_team_goal_y','away_team_goal_y'].sum()\n",
    "t1 = df_team.merge(df_team,left_on='away_team_api_id',right_on='home_team_api_id')\n",
    "c4 = t1[t1['date_x']>=t1['date_y']].groupby(['match_api_id_x'])['home_team_goal_y','away_team_goal_y'].sum()"
   ]
  },
  {
   "cell_type": "code",
   "execution_count": 124,
   "metadata": {
    "collapsed": true
   },
   "outputs": [],
   "source": [
    "c1.reset_index(level=0,inplace=True)\n",
    "c2.reset_index(level=0,inplace=True)\n",
    "c3.reset_index(level=0,inplace=True)\n",
    "c4.reset_index(level=0,inplace=True)"
   ]
  },
  {
   "cell_type": "code",
   "execution_count": 125,
   "metadata": {
    "collapsed": false
   },
   "outputs": [],
   "source": [
    "c = c1.merge(c2,on='match_api_id_x',how='outer').merge(c3,on='match_api_id_x',how='outer').merge(c4,on='match_api_id_x',how='outer')"
   ]
  },
  {
   "cell_type": "code",
   "execution_count": 126,
   "metadata": {
    "collapsed": true
   },
   "outputs": [],
   "source": [
    "c.columns = ['match_api_id_x','1','2','3','4','5','6','7','8']"
   ]
  },
  {
   "cell_type": "code",
   "execution_count": 127,
   "metadata": {
    "collapsed": false
   },
   "outputs": [],
   "source": [
    "c = c.fillna(0)"
   ]
  },
  {
   "cell_type": "code",
   "execution_count": 128,
   "metadata": {
    "collapsed": false
   },
   "outputs": [],
   "source": [
    "c['homegoalsfor'] = c['1']+c['4']\n",
    "c['homegoalsagainst'] = c['2']+c['3']\n",
    "c['awaygoalsfor'] = c['6']+c['7']\n",
    "c['awaygoalsagainst'] = c['5']+c['8']"
   ]
  },
  {
   "cell_type": "code",
   "execution_count": 129,
   "metadata": {
    "collapsed": true
   },
   "outputs": [],
   "source": [
    "df_team_2 = df_team.merge(c,left_on='match_api_id',right_on='match_api_id_x')"
   ]
  },
  {
   "cell_type": "code",
   "execution_count": 130,
   "metadata": {
    "collapsed": false
   },
   "outputs": [],
   "source": [
    "df_2014_2 = df_2014_new.merge(c,left_on='match_api_id',right_on='match_api_id_x')"
   ]
  },
  {
   "cell_type": "code",
   "execution_count": 131,
   "metadata": {
    "collapsed": false
   },
   "outputs": [
    {
     "data": {
      "text/plain": [
       "Index([u'date', u'match_api_id', u'home_team_api_id', u'away_team_api_id',\n",
       "       u'home_team_goal', u'away_team_goal', u'hometeam_outcome',\n",
       "       u'HT_goalsfor', u'HT_goalsagainst', u'AT_goalsfor', u'AT_goalsagainst',\n",
       "       u'H_bUPS', u'A_bUPS', u'H_bUPDC', u'A_bUPDC', u'H_bUPP', u'A_bUPP',\n",
       "       u'H_bUPPosC', u'A_bUPPosC', u'H_cCP', u'A_cCP', u'H_cCC', u'A_cCC',\n",
       "       u'H_cCS', u'A_cCS', u'H_cCPosC', u'A_cCPosC', u'H_dP', u'A_dP', u'H_dA',\n",
       "       u'A_dA', u'H_dTW', u'A_dTW', u'H_dDLC', u'A_dDLC', u'match_api_id_x',\n",
       "       u'1', u'2', u'3', u'4', u'5', u'6', u'7', u'8', u'homegoalsfor',\n",
       "       u'homegoalsagainst', u'awaygoalsfor', u'awaygoalsagainst'],\n",
       "      dtype='object')"
      ]
     },
     "execution_count": 131,
     "metadata": {},
     "output_type": "execute_result"
    }
   ],
   "source": [
    "df_2014_2.columns"
   ]
  },
  {
   "cell_type": "code",
   "execution_count": 132,
   "metadata": {
    "collapsed": false
   },
   "outputs": [
    {
     "data": {
      "text/html": [
       "<div>\n",
       "<table border=\"1\" class=\"dataframe\">\n",
       "  <thead>\n",
       "    <tr style=\"text-align: right;\">\n",
       "      <th></th>\n",
       "      <th>date</th>\n",
       "      <th>match_api_id</th>\n",
       "      <th>home_team_api_id</th>\n",
       "      <th>away_team_api_id</th>\n",
       "      <th>home_team_goal</th>\n",
       "      <th>away_team_goal</th>\n",
       "      <th>hometeam_outcome</th>\n",
       "      <th>HT_goalsfor</th>\n",
       "      <th>HT_goalsagainst</th>\n",
       "      <th>AT_goalsfor</th>\n",
       "      <th>...</th>\n",
       "      <th>3</th>\n",
       "      <th>4</th>\n",
       "      <th>5</th>\n",
       "      <th>6</th>\n",
       "      <th>7</th>\n",
       "      <th>8</th>\n",
       "      <th>homegoalsfor</th>\n",
       "      <th>homegoalsagainst</th>\n",
       "      <th>awaygoalsfor</th>\n",
       "      <th>awaygoalsagainst</th>\n",
       "    </tr>\n",
       "  </thead>\n",
       "  <tbody>\n",
       "    <tr>\n",
       "      <th>0</th>\n",
       "      <td>2014-07-18</td>\n",
       "      <td>1722098</td>\n",
       "      <td>8033</td>\n",
       "      <td>8023</td>\n",
       "      <td>2</td>\n",
       "      <td>3</td>\n",
       "      <td>l</td>\n",
       "      <td></td>\n",
       "      <td></td>\n",
       "      <td></td>\n",
       "      <td>...</td>\n",
       "      <td>0.0</td>\n",
       "      <td>0.0</td>\n",
       "      <td>2</td>\n",
       "      <td>3</td>\n",
       "      <td>0.0</td>\n",
       "      <td>0.0</td>\n",
       "      <td>2.0</td>\n",
       "      <td>3.0</td>\n",
       "      <td>3.0</td>\n",
       "      <td>2.0</td>\n",
       "    </tr>\n",
       "    <tr>\n",
       "      <th>1</th>\n",
       "      <td>2014-07-19</td>\n",
       "      <td>1722095</td>\n",
       "      <td>1957</td>\n",
       "      <td>8030</td>\n",
       "      <td>2</td>\n",
       "      <td>2</td>\n",
       "      <td>d</td>\n",
       "      <td></td>\n",
       "      <td></td>\n",
       "      <td></td>\n",
       "      <td>...</td>\n",
       "      <td>0.0</td>\n",
       "      <td>0.0</td>\n",
       "      <td>2</td>\n",
       "      <td>2</td>\n",
       "      <td>0.0</td>\n",
       "      <td>0.0</td>\n",
       "      <td>2.0</td>\n",
       "      <td>2.0</td>\n",
       "      <td>2.0</td>\n",
       "      <td>2.0</td>\n",
       "    </tr>\n",
       "    <tr>\n",
       "      <th>2</th>\n",
       "      <td>2014-07-19</td>\n",
       "      <td>1717214</td>\n",
       "      <td>9930</td>\n",
       "      <td>9931</td>\n",
       "      <td>1</td>\n",
       "      <td>2</td>\n",
       "      <td>l</td>\n",
       "      <td></td>\n",
       "      <td></td>\n",
       "      <td></td>\n",
       "      <td>...</td>\n",
       "      <td>0.0</td>\n",
       "      <td>0.0</td>\n",
       "      <td>1</td>\n",
       "      <td>2</td>\n",
       "      <td>0.0</td>\n",
       "      <td>0.0</td>\n",
       "      <td>1.0</td>\n",
       "      <td>2.0</td>\n",
       "      <td>2.0</td>\n",
       "      <td>1.0</td>\n",
       "    </tr>\n",
       "    <tr>\n",
       "      <th>3</th>\n",
       "      <td>2014-07-19</td>\n",
       "      <td>1717215</td>\n",
       "      <td>10190</td>\n",
       "      <td>10192</td>\n",
       "      <td>2</td>\n",
       "      <td>2</td>\n",
       "      <td>d</td>\n",
       "      <td></td>\n",
       "      <td></td>\n",
       "      <td></td>\n",
       "      <td>...</td>\n",
       "      <td>0.0</td>\n",
       "      <td>0.0</td>\n",
       "      <td>2</td>\n",
       "      <td>2</td>\n",
       "      <td>0.0</td>\n",
       "      <td>0.0</td>\n",
       "      <td>2.0</td>\n",
       "      <td>2.0</td>\n",
       "      <td>2.0</td>\n",
       "      <td>2.0</td>\n",
       "    </tr>\n",
       "    <tr>\n",
       "      <th>4</th>\n",
       "      <td>2014-07-20</td>\n",
       "      <td>1722092</td>\n",
       "      <td>2182</td>\n",
       "      <td>8028</td>\n",
       "      <td>4</td>\n",
       "      <td>0</td>\n",
       "      <td>w</td>\n",
       "      <td></td>\n",
       "      <td></td>\n",
       "      <td></td>\n",
       "      <td>...</td>\n",
       "      <td>0.0</td>\n",
       "      <td>0.0</td>\n",
       "      <td>4</td>\n",
       "      <td>0</td>\n",
       "      <td>0.0</td>\n",
       "      <td>0.0</td>\n",
       "      <td>4.0</td>\n",
       "      <td>0.0</td>\n",
       "      <td>0.0</td>\n",
       "      <td>4.0</td>\n",
       "    </tr>\n",
       "  </tbody>\n",
       "</table>\n",
       "<p>5 rows × 48 columns</p>\n",
       "</div>"
      ],
      "text/plain": [
       "        date  match_api_id  home_team_api_id  away_team_api_id  \\\n",
       "0 2014-07-18       1722098              8033              8023   \n",
       "1 2014-07-19       1722095              1957              8030   \n",
       "2 2014-07-19       1717214              9930              9931   \n",
       "3 2014-07-19       1717215             10190             10192   \n",
       "4 2014-07-20       1722092              2182              8028   \n",
       "\n",
       "   home_team_goal  away_team_goal hometeam_outcome HT_goalsfor  \\\n",
       "0               2               3                l               \n",
       "1               2               2                d               \n",
       "2               1               2                l               \n",
       "3               2               2                d               \n",
       "4               4               0                w               \n",
       "\n",
       "  HT_goalsagainst AT_goalsfor        ...           3    4  5  6    7    8  \\\n",
       "0                                    ...         0.0  0.0  2  3  0.0  0.0   \n",
       "1                                    ...         0.0  0.0  2  2  0.0  0.0   \n",
       "2                                    ...         0.0  0.0  1  2  0.0  0.0   \n",
       "3                                    ...         0.0  0.0  2  2  0.0  0.0   \n",
       "4                                    ...         0.0  0.0  4  0  0.0  0.0   \n",
       "\n",
       "   homegoalsfor homegoalsagainst awaygoalsfor  awaygoalsagainst  \n",
       "0           2.0              3.0          3.0               2.0  \n",
       "1           2.0              2.0          2.0               2.0  \n",
       "2           1.0              2.0          2.0               1.0  \n",
       "3           2.0              2.0          2.0               2.0  \n",
       "4           4.0              0.0          0.0               4.0  \n",
       "\n",
       "[5 rows x 48 columns]"
      ]
     },
     "execution_count": 132,
     "metadata": {},
     "output_type": "execute_result"
    }
   ],
   "source": [
    "df_2014_2.head()"
   ]
  },
  {
   "cell_type": "code",
   "execution_count": 133,
   "metadata": {
    "collapsed": false
   },
   "outputs": [
    {
     "data": {
      "text/html": [
       "<div>\n",
       "<table border=\"1\" class=\"dataframe\">\n",
       "  <thead>\n",
       "    <tr style=\"text-align: right;\">\n",
       "      <th></th>\n",
       "      <th>country_id</th>\n",
       "      <th>season</th>\n",
       "      <th>date</th>\n",
       "      <th>match_api_id</th>\n",
       "      <th>home_team_api_id</th>\n",
       "      <th>away_team_api_id</th>\n",
       "      <th>home_team_goal</th>\n",
       "      <th>away_team_goal</th>\n",
       "      <th>team_api_id</th>\n",
       "      <th>team_long_name</th>\n",
       "      <th>...</th>\n",
       "      <th>3</th>\n",
       "      <th>4</th>\n",
       "      <th>5</th>\n",
       "      <th>6</th>\n",
       "      <th>7</th>\n",
       "      <th>8</th>\n",
       "      <th>homegoalsfor</th>\n",
       "      <th>homegoalsagainst</th>\n",
       "      <th>awaygoalsfor</th>\n",
       "      <th>awaygoalsagainst</th>\n",
       "    </tr>\n",
       "  </thead>\n",
       "  <tbody>\n",
       "    <tr>\n",
       "      <th>0</th>\n",
       "      <td>15722</td>\n",
       "      <td>2014/2015</td>\n",
       "      <td>2014-07-18</td>\n",
       "      <td>1722099</td>\n",
       "      <td>8019</td>\n",
       "      <td>10265</td>\n",
       "      <td>1</td>\n",
       "      <td>1</td>\n",
       "      <td>8019</td>\n",
       "      <td>Górnik Łęczna</td>\n",
       "      <td>...</td>\n",
       "      <td>0.0</td>\n",
       "      <td>0.0</td>\n",
       "      <td>1</td>\n",
       "      <td>1</td>\n",
       "      <td>0.0</td>\n",
       "      <td>0.0</td>\n",
       "      <td>1.0</td>\n",
       "      <td>1.0</td>\n",
       "      <td>1.0</td>\n",
       "      <td>1.0</td>\n",
       "    </tr>\n",
       "    <tr>\n",
       "      <th>1</th>\n",
       "      <td>15722</td>\n",
       "      <td>2014/2015</td>\n",
       "      <td>2014-07-18</td>\n",
       "      <td>1722098</td>\n",
       "      <td>8033</td>\n",
       "      <td>8023</td>\n",
       "      <td>2</td>\n",
       "      <td>3</td>\n",
       "      <td>8033</td>\n",
       "      <td>Podbeskidzie Bielsko-Biała</td>\n",
       "      <td>...</td>\n",
       "      <td>0.0</td>\n",
       "      <td>0.0</td>\n",
       "      <td>2</td>\n",
       "      <td>3</td>\n",
       "      <td>0.0</td>\n",
       "      <td>0.0</td>\n",
       "      <td>2.0</td>\n",
       "      <td>3.0</td>\n",
       "      <td>3.0</td>\n",
       "      <td>2.0</td>\n",
       "    </tr>\n",
       "    <tr>\n",
       "      <th>2</th>\n",
       "      <td>15722</td>\n",
       "      <td>2014/2015</td>\n",
       "      <td>2014-07-19</td>\n",
       "      <td>1722093</td>\n",
       "      <td>8673</td>\n",
       "      <td>8569</td>\n",
       "      <td>0</td>\n",
       "      <td>1</td>\n",
       "      <td>8673</td>\n",
       "      <td>Legia Warszawa</td>\n",
       "      <td>...</td>\n",
       "      <td>0.0</td>\n",
       "      <td>0.0</td>\n",
       "      <td>0</td>\n",
       "      <td>1</td>\n",
       "      <td>0.0</td>\n",
       "      <td>0.0</td>\n",
       "      <td>0.0</td>\n",
       "      <td>1.0</td>\n",
       "      <td>1.0</td>\n",
       "      <td>0.0</td>\n",
       "    </tr>\n",
       "    <tr>\n",
       "      <th>3</th>\n",
       "      <td>15722</td>\n",
       "      <td>2014/2015</td>\n",
       "      <td>2014-07-19</td>\n",
       "      <td>1722095</td>\n",
       "      <td>1957</td>\n",
       "      <td>8030</td>\n",
       "      <td>2</td>\n",
       "      <td>2</td>\n",
       "      <td>1957</td>\n",
       "      <td>Jagiellonia Białystok</td>\n",
       "      <td>...</td>\n",
       "      <td>0.0</td>\n",
       "      <td>0.0</td>\n",
       "      <td>2</td>\n",
       "      <td>2</td>\n",
       "      <td>0.0</td>\n",
       "      <td>0.0</td>\n",
       "      <td>2.0</td>\n",
       "      <td>2.0</td>\n",
       "      <td>2.0</td>\n",
       "      <td>2.0</td>\n",
       "    </tr>\n",
       "    <tr>\n",
       "      <th>4</th>\n",
       "      <td>24558</td>\n",
       "      <td>2014/2015</td>\n",
       "      <td>2014-07-19</td>\n",
       "      <td>1717214</td>\n",
       "      <td>9930</td>\n",
       "      <td>9931</td>\n",
       "      <td>1</td>\n",
       "      <td>2</td>\n",
       "      <td>9930</td>\n",
       "      <td>FC Aarau</td>\n",
       "      <td>...</td>\n",
       "      <td>0.0</td>\n",
       "      <td>0.0</td>\n",
       "      <td>1</td>\n",
       "      <td>2</td>\n",
       "      <td>0.0</td>\n",
       "      <td>0.0</td>\n",
       "      <td>1.0</td>\n",
       "      <td>2.0</td>\n",
       "      <td>2.0</td>\n",
       "      <td>1.0</td>\n",
       "    </tr>\n",
       "  </tbody>\n",
       "</table>\n",
       "<p>5 rows × 25 columns</p>\n",
       "</div>"
      ],
      "text/plain": [
       "   country_id     season       date  match_api_id  home_team_api_id  \\\n",
       "0       15722  2014/2015 2014-07-18       1722099              8019   \n",
       "1       15722  2014/2015 2014-07-18       1722098              8033   \n",
       "2       15722  2014/2015 2014-07-19       1722093              8673   \n",
       "3       15722  2014/2015 2014-07-19       1722095              1957   \n",
       "4       24558  2014/2015 2014-07-19       1717214              9930   \n",
       "\n",
       "   away_team_api_id  home_team_goal  away_team_goal  team_api_id  \\\n",
       "0             10265               1               1         8019   \n",
       "1              8023               2               3         8033   \n",
       "2              8569               0               1         8673   \n",
       "3              8030               2               2         1957   \n",
       "4              9931               1               2         9930   \n",
       "\n",
       "               team_long_name        ...           3    4  5  6    7    8  \\\n",
       "0               Górnik Łęczna        ...         0.0  0.0  1  1  0.0  0.0   \n",
       "1  Podbeskidzie Bielsko-Biała        ...         0.0  0.0  2  3  0.0  0.0   \n",
       "2              Legia Warszawa        ...         0.0  0.0  0  1  0.0  0.0   \n",
       "3       Jagiellonia Białystok        ...         0.0  0.0  2  2  0.0  0.0   \n",
       "4                    FC Aarau        ...         0.0  0.0  1  2  0.0  0.0   \n",
       "\n",
       "   homegoalsfor  homegoalsagainst  awaygoalsfor  awaygoalsagainst  \n",
       "0           1.0               1.0           1.0               1.0  \n",
       "1           2.0               3.0           3.0               2.0  \n",
       "2           0.0               1.0           1.0               0.0  \n",
       "3           2.0               2.0           2.0               2.0  \n",
       "4           1.0               2.0           2.0               1.0  \n",
       "\n",
       "[5 rows x 25 columns]"
      ]
     },
     "execution_count": 133,
     "metadata": {},
     "output_type": "execute_result"
    }
   ],
   "source": [
    "df_team_2.head()"
   ]
  },
  {
   "cell_type": "code",
   "execution_count": 134,
   "metadata": {
    "collapsed": true
   },
   "outputs": [],
   "source": [
    "df_2014_2['HT_goalsfor'] = df_2014_2['homegoalsfor'] - df_2014_2['home_team_goal']\n",
    "df_2014_2['AT_goalsagainst'] = df_2014_2['awaygoalsagainst'] - df_2014_2['home_team_goal']\n",
    "df_2014_2['HT_goalsagainst'] = df_2014_2['homegoalsagainst'] - df_2014_2['away_team_goal']\n",
    "df_2014_2['AT_goalsfor'] = df_2014_2['awaygoalsfor'] - df_2014_2['away_team_goal']"
   ]
  },
  {
   "cell_type": "code",
   "execution_count": 135,
   "metadata": {
    "collapsed": false
   },
   "outputs": [
    {
     "data": {
      "text/html": [
       "<div>\n",
       "<table border=\"1\" class=\"dataframe\">\n",
       "  <thead>\n",
       "    <tr style=\"text-align: right;\">\n",
       "      <th></th>\n",
       "      <th>date</th>\n",
       "      <th>match_api_id</th>\n",
       "      <th>home_team_api_id</th>\n",
       "      <th>away_team_api_id</th>\n",
       "      <th>home_team_goal</th>\n",
       "      <th>away_team_goal</th>\n",
       "      <th>hometeam_outcome</th>\n",
       "      <th>HT_goalsfor</th>\n",
       "      <th>HT_goalsagainst</th>\n",
       "      <th>AT_goalsfor</th>\n",
       "      <th>...</th>\n",
       "      <th>3</th>\n",
       "      <th>4</th>\n",
       "      <th>5</th>\n",
       "      <th>6</th>\n",
       "      <th>7</th>\n",
       "      <th>8</th>\n",
       "      <th>homegoalsfor</th>\n",
       "      <th>homegoalsagainst</th>\n",
       "      <th>awaygoalsfor</th>\n",
       "      <th>awaygoalsagainst</th>\n",
       "    </tr>\n",
       "  </thead>\n",
       "  <tbody>\n",
       "    <tr>\n",
       "      <th>0</th>\n",
       "      <td>2014-07-18</td>\n",
       "      <td>1722098</td>\n",
       "      <td>8033</td>\n",
       "      <td>8023</td>\n",
       "      <td>2</td>\n",
       "      <td>3</td>\n",
       "      <td>l</td>\n",
       "      <td>0.0</td>\n",
       "      <td>0.0</td>\n",
       "      <td>0.0</td>\n",
       "      <td>...</td>\n",
       "      <td>0.0</td>\n",
       "      <td>0.0</td>\n",
       "      <td>2</td>\n",
       "      <td>3</td>\n",
       "      <td>0.0</td>\n",
       "      <td>0.0</td>\n",
       "      <td>2.0</td>\n",
       "      <td>3.0</td>\n",
       "      <td>3.0</td>\n",
       "      <td>2.0</td>\n",
       "    </tr>\n",
       "    <tr>\n",
       "      <th>1</th>\n",
       "      <td>2014-07-19</td>\n",
       "      <td>1722095</td>\n",
       "      <td>1957</td>\n",
       "      <td>8030</td>\n",
       "      <td>2</td>\n",
       "      <td>2</td>\n",
       "      <td>d</td>\n",
       "      <td>0.0</td>\n",
       "      <td>0.0</td>\n",
       "      <td>0.0</td>\n",
       "      <td>...</td>\n",
       "      <td>0.0</td>\n",
       "      <td>0.0</td>\n",
       "      <td>2</td>\n",
       "      <td>2</td>\n",
       "      <td>0.0</td>\n",
       "      <td>0.0</td>\n",
       "      <td>2.0</td>\n",
       "      <td>2.0</td>\n",
       "      <td>2.0</td>\n",
       "      <td>2.0</td>\n",
       "    </tr>\n",
       "    <tr>\n",
       "      <th>2</th>\n",
       "      <td>2014-07-19</td>\n",
       "      <td>1717214</td>\n",
       "      <td>9930</td>\n",
       "      <td>9931</td>\n",
       "      <td>1</td>\n",
       "      <td>2</td>\n",
       "      <td>l</td>\n",
       "      <td>0.0</td>\n",
       "      <td>0.0</td>\n",
       "      <td>0.0</td>\n",
       "      <td>...</td>\n",
       "      <td>0.0</td>\n",
       "      <td>0.0</td>\n",
       "      <td>1</td>\n",
       "      <td>2</td>\n",
       "      <td>0.0</td>\n",
       "      <td>0.0</td>\n",
       "      <td>1.0</td>\n",
       "      <td>2.0</td>\n",
       "      <td>2.0</td>\n",
       "      <td>1.0</td>\n",
       "    </tr>\n",
       "    <tr>\n",
       "      <th>3</th>\n",
       "      <td>2014-07-19</td>\n",
       "      <td>1717215</td>\n",
       "      <td>10190</td>\n",
       "      <td>10192</td>\n",
       "      <td>2</td>\n",
       "      <td>2</td>\n",
       "      <td>d</td>\n",
       "      <td>0.0</td>\n",
       "      <td>0.0</td>\n",
       "      <td>0.0</td>\n",
       "      <td>...</td>\n",
       "      <td>0.0</td>\n",
       "      <td>0.0</td>\n",
       "      <td>2</td>\n",
       "      <td>2</td>\n",
       "      <td>0.0</td>\n",
       "      <td>0.0</td>\n",
       "      <td>2.0</td>\n",
       "      <td>2.0</td>\n",
       "      <td>2.0</td>\n",
       "      <td>2.0</td>\n",
       "    </tr>\n",
       "    <tr>\n",
       "      <th>4</th>\n",
       "      <td>2014-07-20</td>\n",
       "      <td>1722092</td>\n",
       "      <td>2182</td>\n",
       "      <td>8028</td>\n",
       "      <td>4</td>\n",
       "      <td>0</td>\n",
       "      <td>w</td>\n",
       "      <td>0.0</td>\n",
       "      <td>0.0</td>\n",
       "      <td>0.0</td>\n",
       "      <td>...</td>\n",
       "      <td>0.0</td>\n",
       "      <td>0.0</td>\n",
       "      <td>4</td>\n",
       "      <td>0</td>\n",
       "      <td>0.0</td>\n",
       "      <td>0.0</td>\n",
       "      <td>4.0</td>\n",
       "      <td>0.0</td>\n",
       "      <td>0.0</td>\n",
       "      <td>4.0</td>\n",
       "    </tr>\n",
       "  </tbody>\n",
       "</table>\n",
       "<p>5 rows × 48 columns</p>\n",
       "</div>"
      ],
      "text/plain": [
       "        date  match_api_id  home_team_api_id  away_team_api_id  \\\n",
       "0 2014-07-18       1722098              8033              8023   \n",
       "1 2014-07-19       1722095              1957              8030   \n",
       "2 2014-07-19       1717214              9930              9931   \n",
       "3 2014-07-19       1717215             10190             10192   \n",
       "4 2014-07-20       1722092              2182              8028   \n",
       "\n",
       "   home_team_goal  away_team_goal hometeam_outcome  HT_goalsfor  \\\n",
       "0               2               3                l          0.0   \n",
       "1               2               2                d          0.0   \n",
       "2               1               2                l          0.0   \n",
       "3               2               2                d          0.0   \n",
       "4               4               0                w          0.0   \n",
       "\n",
       "   HT_goalsagainst  AT_goalsfor        ...           3    4  5  6    7    8  \\\n",
       "0              0.0          0.0        ...         0.0  0.0  2  3  0.0  0.0   \n",
       "1              0.0          0.0        ...         0.0  0.0  2  2  0.0  0.0   \n",
       "2              0.0          0.0        ...         0.0  0.0  1  2  0.0  0.0   \n",
       "3              0.0          0.0        ...         0.0  0.0  2  2  0.0  0.0   \n",
       "4              0.0          0.0        ...         0.0  0.0  4  0  0.0  0.0   \n",
       "\n",
       "   homegoalsfor homegoalsagainst awaygoalsfor  awaygoalsagainst  \n",
       "0           2.0              3.0          3.0               2.0  \n",
       "1           2.0              2.0          2.0               2.0  \n",
       "2           1.0              2.0          2.0               1.0  \n",
       "3           2.0              2.0          2.0               2.0  \n",
       "4           4.0              0.0          0.0               4.0  \n",
       "\n",
       "[5 rows x 48 columns]"
      ]
     },
     "execution_count": 135,
     "metadata": {},
     "output_type": "execute_result"
    }
   ],
   "source": [
    "df_2014_2.head()"
   ]
  },
  {
   "cell_type": "code",
   "execution_count": 136,
   "metadata": {
    "collapsed": false
   },
   "outputs": [
    {
     "data": {
      "text/html": [
       "<div>\n",
       "<table border=\"1\" class=\"dataframe\">\n",
       "  <thead>\n",
       "    <tr style=\"text-align: right;\">\n",
       "      <th></th>\n",
       "      <th>HT_goalsfor</th>\n",
       "      <th>HT_goalsagainst</th>\n",
       "      <th>AT_goalsfor</th>\n",
       "      <th>AT_goalsagainst</th>\n",
       "    </tr>\n",
       "  </thead>\n",
       "  <tbody>\n",
       "    <tr>\n",
       "      <th>0</th>\n",
       "      <td>0.0</td>\n",
       "      <td>0.0</td>\n",
       "      <td>0.0</td>\n",
       "      <td>0.0</td>\n",
       "    </tr>\n",
       "    <tr>\n",
       "      <th>1</th>\n",
       "      <td>0.0</td>\n",
       "      <td>0.0</td>\n",
       "      <td>0.0</td>\n",
       "      <td>0.0</td>\n",
       "    </tr>\n",
       "    <tr>\n",
       "      <th>2</th>\n",
       "      <td>0.0</td>\n",
       "      <td>0.0</td>\n",
       "      <td>0.0</td>\n",
       "      <td>0.0</td>\n",
       "    </tr>\n",
       "    <tr>\n",
       "      <th>3</th>\n",
       "      <td>0.0</td>\n",
       "      <td>0.0</td>\n",
       "      <td>0.0</td>\n",
       "      <td>0.0</td>\n",
       "    </tr>\n",
       "    <tr>\n",
       "      <th>4</th>\n",
       "      <td>0.0</td>\n",
       "      <td>0.0</td>\n",
       "      <td>0.0</td>\n",
       "      <td>0.0</td>\n",
       "    </tr>\n",
       "  </tbody>\n",
       "</table>\n",
       "</div>"
      ],
      "text/plain": [
       "   HT_goalsfor  HT_goalsagainst  AT_goalsfor  AT_goalsagainst\n",
       "0          0.0              0.0          0.0              0.0\n",
       "1          0.0              0.0          0.0              0.0\n",
       "2          0.0              0.0          0.0              0.0\n",
       "3          0.0              0.0          0.0              0.0\n",
       "4          0.0              0.0          0.0              0.0"
      ]
     },
     "execution_count": 136,
     "metadata": {},
     "output_type": "execute_result"
    }
   ],
   "source": [
    "df_2014_2.loc[:,['HT_goalsfor','HT_goalsagainst','AT_goalsfor','AT_goalsagainst']].head()"
   ]
  },
  {
   "cell_type": "markdown",
   "metadata": {},
   "source": [
    "**Drop 'draw' matches and calulate accuracy**"
   ]
  },
  {
   "cell_type": "code",
   "execution_count": 137,
   "metadata": {
    "collapsed": false
   },
   "outputs": [
    {
     "data": {
      "text/html": [
       "<div>\n",
       "<table border=\"1\" class=\"dataframe\">\n",
       "  <thead>\n",
       "    <tr style=\"text-align: right;\">\n",
       "      <th></th>\n",
       "      <th>country_id</th>\n",
       "      <th>season</th>\n",
       "      <th>date</th>\n",
       "      <th>match_api_id</th>\n",
       "      <th>home_team_api_id</th>\n",
       "      <th>away_team_api_id</th>\n",
       "      <th>home_team_goal</th>\n",
       "      <th>away_team_goal</th>\n",
       "      <th>team_api_id</th>\n",
       "      <th>team_long_name</th>\n",
       "      <th>...</th>\n",
       "      <th>3</th>\n",
       "      <th>4</th>\n",
       "      <th>5</th>\n",
       "      <th>6</th>\n",
       "      <th>7</th>\n",
       "      <th>8</th>\n",
       "      <th>homegoalsfor</th>\n",
       "      <th>homegoalsagainst</th>\n",
       "      <th>awaygoalsfor</th>\n",
       "      <th>awaygoalsagainst</th>\n",
       "    </tr>\n",
       "  </thead>\n",
       "  <tbody>\n",
       "    <tr>\n",
       "      <th>1</th>\n",
       "      <td>15722</td>\n",
       "      <td>2014/2015</td>\n",
       "      <td>2014-07-18</td>\n",
       "      <td>1722098</td>\n",
       "      <td>8033</td>\n",
       "      <td>8023</td>\n",
       "      <td>2</td>\n",
       "      <td>3</td>\n",
       "      <td>8033</td>\n",
       "      <td>Podbeskidzie Bielsko-Biała</td>\n",
       "      <td>...</td>\n",
       "      <td>0.0</td>\n",
       "      <td>0.0</td>\n",
       "      <td>2</td>\n",
       "      <td>3</td>\n",
       "      <td>0.0</td>\n",
       "      <td>0.0</td>\n",
       "      <td>2.0</td>\n",
       "      <td>3.0</td>\n",
       "      <td>3.0</td>\n",
       "      <td>2.0</td>\n",
       "    </tr>\n",
       "    <tr>\n",
       "      <th>2</th>\n",
       "      <td>15722</td>\n",
       "      <td>2014/2015</td>\n",
       "      <td>2014-07-19</td>\n",
       "      <td>1722093</td>\n",
       "      <td>8673</td>\n",
       "      <td>8569</td>\n",
       "      <td>0</td>\n",
       "      <td>1</td>\n",
       "      <td>8673</td>\n",
       "      <td>Legia Warszawa</td>\n",
       "      <td>...</td>\n",
       "      <td>0.0</td>\n",
       "      <td>0.0</td>\n",
       "      <td>0</td>\n",
       "      <td>1</td>\n",
       "      <td>0.0</td>\n",
       "      <td>0.0</td>\n",
       "      <td>0.0</td>\n",
       "      <td>1.0</td>\n",
       "      <td>1.0</td>\n",
       "      <td>0.0</td>\n",
       "    </tr>\n",
       "    <tr>\n",
       "      <th>4</th>\n",
       "      <td>24558</td>\n",
       "      <td>2014/2015</td>\n",
       "      <td>2014-07-19</td>\n",
       "      <td>1717214</td>\n",
       "      <td>9930</td>\n",
       "      <td>9931</td>\n",
       "      <td>1</td>\n",
       "      <td>2</td>\n",
       "      <td>9930</td>\n",
       "      <td>FC Aarau</td>\n",
       "      <td>...</td>\n",
       "      <td>0.0</td>\n",
       "      <td>0.0</td>\n",
       "      <td>1</td>\n",
       "      <td>2</td>\n",
       "      <td>0.0</td>\n",
       "      <td>0.0</td>\n",
       "      <td>1.0</td>\n",
       "      <td>2.0</td>\n",
       "      <td>2.0</td>\n",
       "      <td>1.0</td>\n",
       "    </tr>\n",
       "    <tr>\n",
       "      <th>6</th>\n",
       "      <td>24558</td>\n",
       "      <td>2014/2015</td>\n",
       "      <td>2014-07-20</td>\n",
       "      <td>1717216</td>\n",
       "      <td>10191</td>\n",
       "      <td>9824</td>\n",
       "      <td>1</td>\n",
       "      <td>0</td>\n",
       "      <td>10191</td>\n",
       "      <td>FC Thun</td>\n",
       "      <td>...</td>\n",
       "      <td>0.0</td>\n",
       "      <td>0.0</td>\n",
       "      <td>1</td>\n",
       "      <td>0</td>\n",
       "      <td>0.0</td>\n",
       "      <td>0.0</td>\n",
       "      <td>1.0</td>\n",
       "      <td>0.0</td>\n",
       "      <td>0.0</td>\n",
       "      <td>1.0</td>\n",
       "    </tr>\n",
       "    <tr>\n",
       "      <th>8</th>\n",
       "      <td>15722</td>\n",
       "      <td>2014/2015</td>\n",
       "      <td>2014-07-20</td>\n",
       "      <td>1722092</td>\n",
       "      <td>2182</td>\n",
       "      <td>8028</td>\n",
       "      <td>4</td>\n",
       "      <td>0</td>\n",
       "      <td>2182</td>\n",
       "      <td>Lech Poznań</td>\n",
       "      <td>...</td>\n",
       "      <td>0.0</td>\n",
       "      <td>0.0</td>\n",
       "      <td>4</td>\n",
       "      <td>0</td>\n",
       "      <td>0.0</td>\n",
       "      <td>0.0</td>\n",
       "      <td>4.0</td>\n",
       "      <td>0.0</td>\n",
       "      <td>0.0</td>\n",
       "      <td>4.0</td>\n",
       "    </tr>\n",
       "  </tbody>\n",
       "</table>\n",
       "<p>5 rows × 25 columns</p>\n",
       "</div>"
      ],
      "text/plain": [
       "   country_id     season       date  match_api_id  home_team_api_id  \\\n",
       "1       15722  2014/2015 2014-07-18       1722098              8033   \n",
       "2       15722  2014/2015 2014-07-19       1722093              8673   \n",
       "4       24558  2014/2015 2014-07-19       1717214              9930   \n",
       "6       24558  2014/2015 2014-07-20       1717216             10191   \n",
       "8       15722  2014/2015 2014-07-20       1722092              2182   \n",
       "\n",
       "   away_team_api_id  home_team_goal  away_team_goal  team_api_id  \\\n",
       "1              8023               2               3         8033   \n",
       "2              8569               0               1         8673   \n",
       "4              9931               1               2         9930   \n",
       "6              9824               1               0        10191   \n",
       "8              8028               4               0         2182   \n",
       "\n",
       "               team_long_name        ...           3    4  5  6    7    8  \\\n",
       "1  Podbeskidzie Bielsko-Biała        ...         0.0  0.0  2  3  0.0  0.0   \n",
       "2              Legia Warszawa        ...         0.0  0.0  0  1  0.0  0.0   \n",
       "4                    FC Aarau        ...         0.0  0.0  1  2  0.0  0.0   \n",
       "6                     FC Thun        ...         0.0  0.0  1  0  0.0  0.0   \n",
       "8                 Lech Poznań        ...         0.0  0.0  4  0  0.0  0.0   \n",
       "\n",
       "   homegoalsfor  homegoalsagainst  awaygoalsfor  awaygoalsagainst  \n",
       "1           2.0               3.0           3.0               2.0  \n",
       "2           0.0               1.0           1.0               0.0  \n",
       "4           1.0               2.0           2.0               1.0  \n",
       "6           1.0               0.0           0.0               1.0  \n",
       "8           4.0               0.0           0.0               4.0  \n",
       "\n",
       "[5 rows x 25 columns]"
      ]
     },
     "execution_count": 137,
     "metadata": {},
     "output_type": "execute_result"
    }
   ],
   "source": [
    "df_wl_team = df_team_2.loc[df_team_2['hometeam_outcome'].isin(['w','l'])]\n",
    "df_wl_team.head()"
   ]
  },
  {
   "cell_type": "code",
   "execution_count": 138,
   "metadata": {
    "collapsed": false
   },
   "outputs": [
    {
     "data": {
      "text/html": [
       "<div>\n",
       "<table border=\"1\" class=\"dataframe\">\n",
       "  <thead>\n",
       "    <tr style=\"text-align: right;\">\n",
       "      <th></th>\n",
       "      <th>date</th>\n",
       "      <th>match_api_id</th>\n",
       "      <th>home_team_api_id</th>\n",
       "      <th>away_team_api_id</th>\n",
       "      <th>home_team_goal</th>\n",
       "      <th>away_team_goal</th>\n",
       "      <th>hometeam_outcome</th>\n",
       "      <th>HT_goalsfor</th>\n",
       "      <th>HT_goalsagainst</th>\n",
       "      <th>AT_goalsfor</th>\n",
       "      <th>...</th>\n",
       "      <th>3</th>\n",
       "      <th>4</th>\n",
       "      <th>5</th>\n",
       "      <th>6</th>\n",
       "      <th>7</th>\n",
       "      <th>8</th>\n",
       "      <th>homegoalsfor</th>\n",
       "      <th>homegoalsagainst</th>\n",
       "      <th>awaygoalsfor</th>\n",
       "      <th>awaygoalsagainst</th>\n",
       "    </tr>\n",
       "  </thead>\n",
       "  <tbody>\n",
       "    <tr>\n",
       "      <th>0</th>\n",
       "      <td>2014-07-18</td>\n",
       "      <td>1722098</td>\n",
       "      <td>8033</td>\n",
       "      <td>8023</td>\n",
       "      <td>2</td>\n",
       "      <td>3</td>\n",
       "      <td>l</td>\n",
       "      <td>0.0</td>\n",
       "      <td>0.0</td>\n",
       "      <td>0.0</td>\n",
       "      <td>...</td>\n",
       "      <td>0.0</td>\n",
       "      <td>0.0</td>\n",
       "      <td>2</td>\n",
       "      <td>3</td>\n",
       "      <td>0.0</td>\n",
       "      <td>0.0</td>\n",
       "      <td>2.0</td>\n",
       "      <td>3.0</td>\n",
       "      <td>3.0</td>\n",
       "      <td>2.0</td>\n",
       "    </tr>\n",
       "    <tr>\n",
       "      <th>2</th>\n",
       "      <td>2014-07-19</td>\n",
       "      <td>1717214</td>\n",
       "      <td>9930</td>\n",
       "      <td>9931</td>\n",
       "      <td>1</td>\n",
       "      <td>2</td>\n",
       "      <td>l</td>\n",
       "      <td>0.0</td>\n",
       "      <td>0.0</td>\n",
       "      <td>0.0</td>\n",
       "      <td>...</td>\n",
       "      <td>0.0</td>\n",
       "      <td>0.0</td>\n",
       "      <td>1</td>\n",
       "      <td>2</td>\n",
       "      <td>0.0</td>\n",
       "      <td>0.0</td>\n",
       "      <td>1.0</td>\n",
       "      <td>2.0</td>\n",
       "      <td>2.0</td>\n",
       "      <td>1.0</td>\n",
       "    </tr>\n",
       "    <tr>\n",
       "      <th>4</th>\n",
       "      <td>2014-07-20</td>\n",
       "      <td>1722092</td>\n",
       "      <td>2182</td>\n",
       "      <td>8028</td>\n",
       "      <td>4</td>\n",
       "      <td>0</td>\n",
       "      <td>w</td>\n",
       "      <td>0.0</td>\n",
       "      <td>0.0</td>\n",
       "      <td>0.0</td>\n",
       "      <td>...</td>\n",
       "      <td>0.0</td>\n",
       "      <td>0.0</td>\n",
       "      <td>4</td>\n",
       "      <td>0</td>\n",
       "      <td>0.0</td>\n",
       "      <td>0.0</td>\n",
       "      <td>4.0</td>\n",
       "      <td>0.0</td>\n",
       "      <td>0.0</td>\n",
       "      <td>4.0</td>\n",
       "    </tr>\n",
       "    <tr>\n",
       "      <th>5</th>\n",
       "      <td>2014-07-20</td>\n",
       "      <td>1722096</td>\n",
       "      <td>8027</td>\n",
       "      <td>8245</td>\n",
       "      <td>2</td>\n",
       "      <td>0</td>\n",
       "      <td>w</td>\n",
       "      <td>0.0</td>\n",
       "      <td>0.0</td>\n",
       "      <td>0.0</td>\n",
       "      <td>...</td>\n",
       "      <td>0.0</td>\n",
       "      <td>0.0</td>\n",
       "      <td>2</td>\n",
       "      <td>0</td>\n",
       "      <td>0.0</td>\n",
       "      <td>0.0</td>\n",
       "      <td>2.0</td>\n",
       "      <td>0.0</td>\n",
       "      <td>0.0</td>\n",
       "      <td>2.0</td>\n",
       "    </tr>\n",
       "    <tr>\n",
       "      <th>6</th>\n",
       "      <td>2014-07-20</td>\n",
       "      <td>1722097</td>\n",
       "      <td>8025</td>\n",
       "      <td>1601</td>\n",
       "      <td>2</td>\n",
       "      <td>0</td>\n",
       "      <td>w</td>\n",
       "      <td>0.0</td>\n",
       "      <td>0.0</td>\n",
       "      <td>0.0</td>\n",
       "      <td>...</td>\n",
       "      <td>0.0</td>\n",
       "      <td>0.0</td>\n",
       "      <td>2</td>\n",
       "      <td>0</td>\n",
       "      <td>0.0</td>\n",
       "      <td>0.0</td>\n",
       "      <td>2.0</td>\n",
       "      <td>0.0</td>\n",
       "      <td>0.0</td>\n",
       "      <td>2.0</td>\n",
       "    </tr>\n",
       "  </tbody>\n",
       "</table>\n",
       "<p>5 rows × 48 columns</p>\n",
       "</div>"
      ],
      "text/plain": [
       "        date  match_api_id  home_team_api_id  away_team_api_id  \\\n",
       "0 2014-07-18       1722098              8033              8023   \n",
       "2 2014-07-19       1717214              9930              9931   \n",
       "4 2014-07-20       1722092              2182              8028   \n",
       "5 2014-07-20       1722096              8027              8245   \n",
       "6 2014-07-20       1722097              8025              1601   \n",
       "\n",
       "   home_team_goal  away_team_goal hometeam_outcome  HT_goalsfor  \\\n",
       "0               2               3                l          0.0   \n",
       "2               1               2                l          0.0   \n",
       "4               4               0                w          0.0   \n",
       "5               2               0                w          0.0   \n",
       "6               2               0                w          0.0   \n",
       "\n",
       "   HT_goalsagainst  AT_goalsfor        ...           3    4  5  6    7    8  \\\n",
       "0              0.0          0.0        ...         0.0  0.0  2  3  0.0  0.0   \n",
       "2              0.0          0.0        ...         0.0  0.0  1  2  0.0  0.0   \n",
       "4              0.0          0.0        ...         0.0  0.0  4  0  0.0  0.0   \n",
       "5              0.0          0.0        ...         0.0  0.0  2  0  0.0  0.0   \n",
       "6              0.0          0.0        ...         0.0  0.0  2  0  0.0  0.0   \n",
       "\n",
       "   homegoalsfor homegoalsagainst awaygoalsfor  awaygoalsagainst  \n",
       "0           2.0              3.0          3.0               2.0  \n",
       "2           1.0              2.0          2.0               1.0  \n",
       "4           4.0              0.0          0.0               4.0  \n",
       "5           2.0              0.0          0.0               2.0  \n",
       "6           2.0              0.0          0.0               2.0  \n",
       "\n",
       "[5 rows x 48 columns]"
      ]
     },
     "execution_count": 138,
     "metadata": {},
     "output_type": "execute_result"
    }
   ],
   "source": [
    "df_winloss = df_2014_2.loc[df_2014_2['hometeam_outcome'].isin(['w','l'])]\n",
    "df_winloss.head()"
   ]
  },
  {
   "cell_type": "code",
   "execution_count": 139,
   "metadata": {
    "collapsed": false
   },
   "outputs": [
    {
     "name": "stderr",
     "output_type": "stream",
     "text": [
      "/anaconda/lib/python2.7/site-packages/ipykernel/__main__.py:1: SettingWithCopyWarning: \n",
      "A value is trying to be set on a copy of a slice from a DataFrame.\n",
      "Try using .loc[row_indexer,col_indexer] = value instead\n",
      "\n",
      "See the caveats in the documentation: http://pandas.pydata.org/pandas-docs/stable/indexing.html#indexing-view-versus-copy\n",
      "  if __name__ == '__main__':\n",
      "/anaconda/lib/python2.7/site-packages/ipykernel/__main__.py:2: SettingWithCopyWarning: \n",
      "A value is trying to be set on a copy of a slice from a DataFrame.\n",
      "Try using .loc[row_indexer,col_indexer] = value instead\n",
      "\n",
      "See the caveats in the documentation: http://pandas.pydata.org/pandas-docs/stable/indexing.html#indexing-view-versus-copy\n",
      "  from ipykernel import kernelapp as app\n"
     ]
    }
   ],
   "source": [
    "df_winloss['HT_streak'] = 0\n",
    "df_winloss['AT_streak'] = 0"
   ]
  },
  {
   "cell_type": "code",
   "execution_count": 140,
   "metadata": {
    "collapsed": false
   },
   "outputs": [
    {
     "data": {
      "text/plain": [
       "8529"
      ]
     },
     "execution_count": 140,
     "metadata": {},
     "output_type": "execute_result"
    }
   ],
   "source": [
    "df_winloss.iloc[2297]['home_team_api_id']"
   ]
  },
  {
   "cell_type": "code",
   "execution_count": 141,
   "metadata": {
    "collapsed": true
   },
   "outputs": [],
   "source": [
    "hid = list(df_winloss['home_team_api_id'])\n",
    "aid = list(df_winloss['away_team_api_id'])\n",
    "outcome = list(df_winloss['hometeam_outcome'])\n",
    "hst = list(df_winloss['HT_streak'])\n",
    "ast = list(df_winloss['HT_streak'])"
   ]
  },
  {
   "cell_type": "code",
   "execution_count": 142,
   "metadata": {
    "collapsed": false
   },
   "outputs": [],
   "source": [
    "# Calculate Win streak\n",
    "for i in range(len(df_winloss)):\n",
    "    s = 0\n",
    "    for j in range(i-1,-1,-1):\n",
    "        if outcome[j] == 'd':\n",
    "            continue\n",
    "        if hid[i] == hid[j]:\n",
    "            if outcome[j] == 'w':\n",
    "                r = 1\n",
    "            if outcome[j] == 'l':\n",
    "                r = -1\n",
    "        elif hid[i] == aid[j]:\n",
    "            if outcome[j] == 'w':\n",
    "                r = -1\n",
    "            if outcome[j] == 'l':\n",
    "                r = 1\n",
    "        else:\n",
    "            continue\n",
    "        if s*r>=0:\n",
    "            s+=r\n",
    "        else:\n",
    "            hst[i] = s\n",
    "            break"
   ]
  },
  {
   "cell_type": "code",
   "execution_count": 143,
   "metadata": {
    "collapsed": true
   },
   "outputs": [],
   "source": [
    "for i in range(len(df_winloss)):\n",
    "    s = 0\n",
    "    for j in range(i-1,-1,-1):\n",
    "        if outcome[j] == 'd':\n",
    "            continue\n",
    "        if aid[i] == hid[j]:\n",
    "            if outcome[j] == 'w':\n",
    "                r = 1\n",
    "            if outcome[j] == 'l':\n",
    "                r = -1\n",
    "        elif aid[i] == aid[j]:\n",
    "            if outcome[j] == 'w':\n",
    "                r = -1\n",
    "            if outcome[j] == 'l':\n",
    "                r = 1\n",
    "        else:\n",
    "            continue\n",
    "        if s*r>=0:\n",
    "            s+=r\n",
    "        else:\n",
    "            ast[i] = s\n",
    "            break"
   ]
  },
  {
   "cell_type": "code",
   "execution_count": 144,
   "metadata": {
    "collapsed": false
   },
   "outputs": [
    {
     "name": "stderr",
     "output_type": "stream",
     "text": [
      "/anaconda/lib/python2.7/site-packages/ipykernel/__main__.py:1: SettingWithCopyWarning: \n",
      "A value is trying to be set on a copy of a slice from a DataFrame.\n",
      "Try using .loc[row_indexer,col_indexer] = value instead\n",
      "\n",
      "See the caveats in the documentation: http://pandas.pydata.org/pandas-docs/stable/indexing.html#indexing-view-versus-copy\n",
      "  if __name__ == '__main__':\n",
      "/anaconda/lib/python2.7/site-packages/ipykernel/__main__.py:2: SettingWithCopyWarning: \n",
      "A value is trying to be set on a copy of a slice from a DataFrame.\n",
      "Try using .loc[row_indexer,col_indexer] = value instead\n",
      "\n",
      "See the caveats in the documentation: http://pandas.pydata.org/pandas-docs/stable/indexing.html#indexing-view-versus-copy\n",
      "  from ipykernel import kernelapp as app\n"
     ]
    }
   ],
   "source": [
    "df_winloss['HT_streak'] = hst\n",
    "df_winloss['AT_streak'] = ast"
   ]
  },
  {
   "cell_type": "code",
   "execution_count": 145,
   "metadata": {
    "collapsed": false
   },
   "outputs": [
    {
     "name": "stdout",
     "output_type": "stream",
     "text": [
      "<class 'pandas.core.frame.DataFrame'>\n",
      "Int64Index: 2298 entries, 0 to 3079\n",
      "Data columns (total 50 columns):\n",
      "date                2298 non-null datetime64[ns]\n",
      "match_api_id        2298 non-null int64\n",
      "home_team_api_id    2298 non-null int64\n",
      "away_team_api_id    2298 non-null int64\n",
      "home_team_goal      2298 non-null int64\n",
      "away_team_goal      2298 non-null int64\n",
      "hometeam_outcome    2298 non-null object\n",
      "HT_goalsfor         2298 non-null float64\n",
      "HT_goalsagainst     2298 non-null float64\n",
      "AT_goalsfor         2298 non-null float64\n",
      "AT_goalsagainst     2298 non-null float64\n",
      "H_bUPS              2298 non-null int64\n",
      "A_bUPS              2298 non-null int64\n",
      "H_bUPDC             2298 non-null object\n",
      "A_bUPDC             2298 non-null object\n",
      "H_bUPP              2298 non-null int64\n",
      "A_bUPP              2298 non-null int64\n",
      "H_bUPPosC           2298 non-null object\n",
      "A_bUPPosC           2298 non-null object\n",
      "H_cCP               2298 non-null int64\n",
      "A_cCP               2298 non-null int64\n",
      "H_cCC               2298 non-null int64\n",
      "A_cCC               2298 non-null int64\n",
      "H_cCS               2298 non-null int64\n",
      "A_cCS               2298 non-null int64\n",
      "H_cCPosC            2298 non-null object\n",
      "A_cCPosC            2298 non-null object\n",
      "H_dP                2298 non-null int64\n",
      "A_dP                2298 non-null int64\n",
      "H_dA                2298 non-null int64\n",
      "A_dA                2298 non-null int64\n",
      "H_dTW               2298 non-null int64\n",
      "A_dTW               2298 non-null int64\n",
      "H_dDLC              2298 non-null object\n",
      "A_dDLC              2298 non-null object\n",
      "match_api_id_x      2298 non-null int64\n",
      "1                   2298 non-null int64\n",
      "2                   2298 non-null int64\n",
      "3                   2298 non-null float64\n",
      "4                   2298 non-null float64\n",
      "5                   2298 non-null int64\n",
      "6                   2298 non-null int64\n",
      "7                   2298 non-null float64\n",
      "8                   2298 non-null float64\n",
      "homegoalsfor        2298 non-null float64\n",
      "homegoalsagainst    2298 non-null float64\n",
      "awaygoalsfor        2298 non-null float64\n",
      "awaygoalsagainst    2298 non-null float64\n",
      "HT_streak           2298 non-null int64\n",
      "AT_streak           2298 non-null int64\n",
      "dtypes: datetime64[ns](1), float64(12), int64(28), object(9)\n",
      "memory usage: 915.6+ KB\n"
     ]
    }
   ],
   "source": [
    "df_winloss.info()"
   ]
  },
  {
   "cell_type": "code",
   "execution_count": 146,
   "metadata": {
    "collapsed": false
   },
   "outputs": [
    {
     "data": {
      "text/plain": [
       "2000"
      ]
     },
     "execution_count": 146,
     "metadata": {},
     "output_type": "execute_result"
    }
   ],
   "source": [
    "#df_winloss_temp - A dataframe withtop 298 rows removed to look at the non-zero rows. Model to look at how the scores play\n",
    "df_winloss_temp = df_winloss[298:(len(df_winloss)+1)]\n",
    "len(df_winloss_temp)"
   ]
  },
  {
   "cell_type": "code",
   "execution_count": 147,
   "metadata": {
    "collapsed": false
   },
   "outputs": [
    {
     "data": {
      "text/html": [
       "<div>\n",
       "<table border=\"1\" class=\"dataframe\">\n",
       "  <thead>\n",
       "    <tr style=\"text-align: right;\">\n",
       "      <th></th>\n",
       "      <th>date</th>\n",
       "      <th>match_api_id</th>\n",
       "      <th>home_team_api_id</th>\n",
       "      <th>away_team_api_id</th>\n",
       "      <th>home_team_goal</th>\n",
       "      <th>away_team_goal</th>\n",
       "      <th>hometeam_outcome</th>\n",
       "      <th>HT_goalsfor</th>\n",
       "      <th>HT_goalsagainst</th>\n",
       "      <th>AT_goalsfor</th>\n",
       "      <th>...</th>\n",
       "      <th>5</th>\n",
       "      <th>6</th>\n",
       "      <th>7</th>\n",
       "      <th>8</th>\n",
       "      <th>homegoalsfor</th>\n",
       "      <th>homegoalsagainst</th>\n",
       "      <th>awaygoalsfor</th>\n",
       "      <th>awaygoalsagainst</th>\n",
       "      <th>HT_streak</th>\n",
       "      <th>AT_streak</th>\n",
       "    </tr>\n",
       "  </thead>\n",
       "  <tbody>\n",
       "    <tr>\n",
       "      <th>246</th>\n",
       "      <td>2014-08-31</td>\n",
       "      <td>1785979</td>\n",
       "      <td>8600</td>\n",
       "      <td>8534</td>\n",
       "      <td>2</td>\n",
       "      <td>0</td>\n",
       "      <td>w</td>\n",
       "      <td>0.0</td>\n",
       "      <td>0.0</td>\n",
       "      <td>0.0</td>\n",
       "      <td>...</td>\n",
       "      <td>2</td>\n",
       "      <td>0</td>\n",
       "      <td>0.0</td>\n",
       "      <td>0.0</td>\n",
       "      <td>2.0</td>\n",
       "      <td>0.0</td>\n",
       "      <td>0.0</td>\n",
       "      <td>2.0</td>\n",
       "      <td>0</td>\n",
       "      <td>0</td>\n",
       "    </tr>\n",
       "    <tr>\n",
       "      <th>321</th>\n",
       "      <td>2014-09-13</td>\n",
       "      <td>1785986</td>\n",
       "      <td>9885</td>\n",
       "      <td>8600</td>\n",
       "      <td>2</td>\n",
       "      <td>0</td>\n",
       "      <td>w</td>\n",
       "      <td>1.0</td>\n",
       "      <td>0.0</td>\n",
       "      <td>2.0</td>\n",
       "      <td>...</td>\n",
       "      <td>2</td>\n",
       "      <td>0</td>\n",
       "      <td>2.0</td>\n",
       "      <td>0.0</td>\n",
       "      <td>3.0</td>\n",
       "      <td>0.0</td>\n",
       "      <td>2.0</td>\n",
       "      <td>2.0</td>\n",
       "      <td>0</td>\n",
       "      <td>0</td>\n",
       "    </tr>\n",
       "    <tr>\n",
       "      <th>406</th>\n",
       "      <td>2014-09-21</td>\n",
       "      <td>1786000</td>\n",
       "      <td>8600</td>\n",
       "      <td>9875</td>\n",
       "      <td>1</td>\n",
       "      <td>0</td>\n",
       "      <td>w</td>\n",
       "      <td>2.0</td>\n",
       "      <td>2.0</td>\n",
       "      <td>2.0</td>\n",
       "      <td>...</td>\n",
       "      <td>2</td>\n",
       "      <td>2</td>\n",
       "      <td>0.0</td>\n",
       "      <td>1.0</td>\n",
       "      <td>3.0</td>\n",
       "      <td>2.0</td>\n",
       "      <td>2.0</td>\n",
       "      <td>3.0</td>\n",
       "      <td>-1</td>\n",
       "      <td>-1</td>\n",
       "    </tr>\n",
       "    <tr>\n",
       "      <th>475</th>\n",
       "      <td>2014-09-25</td>\n",
       "      <td>1786008</td>\n",
       "      <td>8543</td>\n",
       "      <td>8600</td>\n",
       "      <td>0</td>\n",
       "      <td>1</td>\n",
       "      <td>l</td>\n",
       "      <td>4.0</td>\n",
       "      <td>4.0</td>\n",
       "      <td>3.0</td>\n",
       "      <td>...</td>\n",
       "      <td>2</td>\n",
       "      <td>1</td>\n",
       "      <td>3.0</td>\n",
       "      <td>0.0</td>\n",
       "      <td>4.0</td>\n",
       "      <td>5.0</td>\n",
       "      <td>4.0</td>\n",
       "      <td>2.0</td>\n",
       "      <td>-1</td>\n",
       "      <td>1</td>\n",
       "    </tr>\n",
       "    <tr>\n",
       "      <th>558</th>\n",
       "      <td>2014-09-29</td>\n",
       "      <td>1786021</td>\n",
       "      <td>8600</td>\n",
       "      <td>10167</td>\n",
       "      <td>4</td>\n",
       "      <td>2</td>\n",
       "      <td>w</td>\n",
       "      <td>4.0</td>\n",
       "      <td>2.0</td>\n",
       "      <td>8.0</td>\n",
       "      <td>...</td>\n",
       "      <td>7</td>\n",
       "      <td>5</td>\n",
       "      <td>5.0</td>\n",
       "      <td>7.0</td>\n",
       "      <td>8.0</td>\n",
       "      <td>4.0</td>\n",
       "      <td>10.0</td>\n",
       "      <td>14.0</td>\n",
       "      <td>2</td>\n",
       "      <td>-1</td>\n",
       "    </tr>\n",
       "    <tr>\n",
       "      <th>696</th>\n",
       "      <td>2014-10-19</td>\n",
       "      <td>1786041</td>\n",
       "      <td>9804</td>\n",
       "      <td>8600</td>\n",
       "      <td>1</td>\n",
       "      <td>0</td>\n",
       "      <td>w</td>\n",
       "      <td>4.0</td>\n",
       "      <td>7.0</td>\n",
       "      <td>9.0</td>\n",
       "      <td>...</td>\n",
       "      <td>3</td>\n",
       "      <td>1</td>\n",
       "      <td>8.0</td>\n",
       "      <td>3.0</td>\n",
       "      <td>5.0</td>\n",
       "      <td>7.0</td>\n",
       "      <td>9.0</td>\n",
       "      <td>6.0</td>\n",
       "      <td>-1</td>\n",
       "      <td>3</td>\n",
       "    </tr>\n",
       "    <tr>\n",
       "      <th>780</th>\n",
       "      <td>2014-10-26</td>\n",
       "      <td>1786052</td>\n",
       "      <td>8600</td>\n",
       "      <td>8524</td>\n",
       "      <td>2</td>\n",
       "      <td>0</td>\n",
       "      <td>w</td>\n",
       "      <td>9.0</td>\n",
       "      <td>6.0</td>\n",
       "      <td>3.0</td>\n",
       "      <td>...</td>\n",
       "      <td>6</td>\n",
       "      <td>2</td>\n",
       "      <td>1.0</td>\n",
       "      <td>4.0</td>\n",
       "      <td>11.0</td>\n",
       "      <td>6.0</td>\n",
       "      <td>3.0</td>\n",
       "      <td>10.0</td>\n",
       "      <td>-1</td>\n",
       "      <td>1</td>\n",
       "    </tr>\n",
       "    <tr>\n",
       "      <th>805</th>\n",
       "      <td>2014-10-29</td>\n",
       "      <td>1786055</td>\n",
       "      <td>8535</td>\n",
       "      <td>8600</td>\n",
       "      <td>3</td>\n",
       "      <td>0</td>\n",
       "      <td>w</td>\n",
       "      <td>6.0</td>\n",
       "      <td>6.0</td>\n",
       "      <td>11.0</td>\n",
       "      <td>...</td>\n",
       "      <td>6</td>\n",
       "      <td>1</td>\n",
       "      <td>10.0</td>\n",
       "      <td>3.0</td>\n",
       "      <td>9.0</td>\n",
       "      <td>6.0</td>\n",
       "      <td>11.0</td>\n",
       "      <td>9.0</td>\n",
       "      <td>-1</td>\n",
       "      <td>1</td>\n",
       "    </tr>\n",
       "    <tr>\n",
       "      <th>886</th>\n",
       "      <td>2014-11-02</td>\n",
       "      <td>1786072</td>\n",
       "      <td>8600</td>\n",
       "      <td>10233</td>\n",
       "      <td>2</td>\n",
       "      <td>4</td>\n",
       "      <td>l</td>\n",
       "      <td>11.0</td>\n",
       "      <td>9.0</td>\n",
       "      <td>10.0</td>\n",
       "      <td>...</td>\n",
       "      <td>6</td>\n",
       "      <td>10</td>\n",
       "      <td>4.0</td>\n",
       "      <td>4.0</td>\n",
       "      <td>13.0</td>\n",
       "      <td>13.0</td>\n",
       "      <td>14.0</td>\n",
       "      <td>10.0</td>\n",
       "      <td>-1</td>\n",
       "      <td>3</td>\n",
       "    </tr>\n",
       "    <tr>\n",
       "      <th>1115</th>\n",
       "      <td>2014-11-30</td>\n",
       "      <td>1786098</td>\n",
       "      <td>8564</td>\n",
       "      <td>8600</td>\n",
       "      <td>2</td>\n",
       "      <td>0</td>\n",
       "      <td>w</td>\n",
       "      <td>21.0</td>\n",
       "      <td>17.0</td>\n",
       "      <td>15.0</td>\n",
       "      <td>...</td>\n",
       "      <td>9</td>\n",
       "      <td>2</td>\n",
       "      <td>13.0</td>\n",
       "      <td>8.0</td>\n",
       "      <td>23.0</td>\n",
       "      <td>17.0</td>\n",
       "      <td>15.0</td>\n",
       "      <td>17.0</td>\n",
       "      <td>-1</td>\n",
       "      <td>-2</td>\n",
       "    </tr>\n",
       "    <tr>\n",
       "      <th>1205</th>\n",
       "      <td>2014-12-07</td>\n",
       "      <td>1786108</td>\n",
       "      <td>8636</td>\n",
       "      <td>8600</td>\n",
       "      <td>1</td>\n",
       "      <td>2</td>\n",
       "      <td>l</td>\n",
       "      <td>20.0</td>\n",
       "      <td>19.0</td>\n",
       "      <td>15.0</td>\n",
       "      <td>...</td>\n",
       "      <td>10</td>\n",
       "      <td>4</td>\n",
       "      <td>13.0</td>\n",
       "      <td>8.0</td>\n",
       "      <td>21.0</td>\n",
       "      <td>21.0</td>\n",
       "      <td>17.0</td>\n",
       "      <td>18.0</td>\n",
       "      <td>-2</td>\n",
       "      <td>-3</td>\n",
       "    </tr>\n",
       "    <tr>\n",
       "      <th>1298</th>\n",
       "      <td>2014-12-14</td>\n",
       "      <td>1786122</td>\n",
       "      <td>8600</td>\n",
       "      <td>9876</td>\n",
       "      <td>1</td>\n",
       "      <td>2</td>\n",
       "      <td>l</td>\n",
       "      <td>17.0</td>\n",
       "      <td>18.0</td>\n",
       "      <td>16.0</td>\n",
       "      <td>...</td>\n",
       "      <td>14</td>\n",
       "      <td>9</td>\n",
       "      <td>9.0</td>\n",
       "      <td>12.0</td>\n",
       "      <td>18.0</td>\n",
       "      <td>20.0</td>\n",
       "      <td>18.0</td>\n",
       "      <td>26.0</td>\n",
       "      <td>1</td>\n",
       "      <td>-5</td>\n",
       "    </tr>\n",
       "    <tr>\n",
       "      <th>1458</th>\n",
       "      <td>2015-01-06</td>\n",
       "      <td>1786142</td>\n",
       "      <td>8600</td>\n",
       "      <td>8686</td>\n",
       "      <td>0</td>\n",
       "      <td>1</td>\n",
       "      <td>l</td>\n",
       "      <td>20.0</td>\n",
       "      <td>22.0</td>\n",
       "      <td>28.0</td>\n",
       "      <td>...</td>\n",
       "      <td>7</td>\n",
       "      <td>9</td>\n",
       "      <td>20.0</td>\n",
       "      <td>4.0</td>\n",
       "      <td>20.0</td>\n",
       "      <td>23.0</td>\n",
       "      <td>29.0</td>\n",
       "      <td>11.0</td>\n",
       "      <td>-1</td>\n",
       "      <td>4</td>\n",
       "    </tr>\n",
       "    <tr>\n",
       "      <th>1654</th>\n",
       "      <td>2015-01-26</td>\n",
       "      <td>1786210</td>\n",
       "      <td>8534</td>\n",
       "      <td>8600</td>\n",
       "      <td>1</td>\n",
       "      <td>2</td>\n",
       "      <td>l</td>\n",
       "      <td>17.0</td>\n",
       "      <td>23.0</td>\n",
       "      <td>23.0</td>\n",
       "      <td>...</td>\n",
       "      <td>14</td>\n",
       "      <td>9</td>\n",
       "      <td>16.0</td>\n",
       "      <td>13.0</td>\n",
       "      <td>18.0</td>\n",
       "      <td>25.0</td>\n",
       "      <td>25.0</td>\n",
       "      <td>27.0</td>\n",
       "      <td>-1</td>\n",
       "      <td>-2</td>\n",
       "    </tr>\n",
       "    <tr>\n",
       "      <th>1825</th>\n",
       "      <td>2015-02-08</td>\n",
       "      <td>1786230</td>\n",
       "      <td>9875</td>\n",
       "      <td>8600</td>\n",
       "      <td>3</td>\n",
       "      <td>1</td>\n",
       "      <td>w</td>\n",
       "      <td>38.0</td>\n",
       "      <td>26.0</td>\n",
       "      <td>25.0</td>\n",
       "      <td>...</td>\n",
       "      <td>17</td>\n",
       "      <td>10</td>\n",
       "      <td>16.0</td>\n",
       "      <td>13.0</td>\n",
       "      <td>41.0</td>\n",
       "      <td>27.0</td>\n",
       "      <td>26.0</td>\n",
       "      <td>30.0</td>\n",
       "      <td>3</td>\n",
       "      <td>1</td>\n",
       "    </tr>\n",
       "    <tr>\n",
       "      <th>1925</th>\n",
       "      <td>2015-02-15</td>\n",
       "      <td>1786237</td>\n",
       "      <td>8600</td>\n",
       "      <td>8543</td>\n",
       "      <td>0</td>\n",
       "      <td>1</td>\n",
       "      <td>l</td>\n",
       "      <td>26.0</td>\n",
       "      <td>30.0</td>\n",
       "      <td>37.0</td>\n",
       "      <td>...</td>\n",
       "      <td>14</td>\n",
       "      <td>17</td>\n",
       "      <td>21.0</td>\n",
       "      <td>12.0</td>\n",
       "      <td>26.0</td>\n",
       "      <td>31.0</td>\n",
       "      <td>38.0</td>\n",
       "      <td>26.0</td>\n",
       "      <td>-1</td>\n",
       "      <td>-2</td>\n",
       "    </tr>\n",
       "    <tr>\n",
       "      <th>2094</th>\n",
       "      <td>2015-03-01</td>\n",
       "      <td>1786260</td>\n",
       "      <td>9880</td>\n",
       "      <td>8600</td>\n",
       "      <td>1</td>\n",
       "      <td>0</td>\n",
       "      <td>w</td>\n",
       "      <td>23.0</td>\n",
       "      <td>47.0</td>\n",
       "      <td>26.0</td>\n",
       "      <td>...</td>\n",
       "      <td>18</td>\n",
       "      <td>10</td>\n",
       "      <td>16.0</td>\n",
       "      <td>14.0</td>\n",
       "      <td>24.0</td>\n",
       "      <td>47.0</td>\n",
       "      <td>26.0</td>\n",
       "      <td>32.0</td>\n",
       "      <td>-2</td>\n",
       "      <td>-2</td>\n",
       "    </tr>\n",
       "    <tr>\n",
       "      <th>2181</th>\n",
       "      <td>2015-03-08</td>\n",
       "      <td>1786270</td>\n",
       "      <td>8600</td>\n",
       "      <td>9804</td>\n",
       "      <td>3</td>\n",
       "      <td>2</td>\n",
       "      <td>w</td>\n",
       "      <td>26.0</td>\n",
       "      <td>32.0</td>\n",
       "      <td>28.0</td>\n",
       "      <td>...</td>\n",
       "      <td>19</td>\n",
       "      <td>15</td>\n",
       "      <td>15.0</td>\n",
       "      <td>9.0</td>\n",
       "      <td>29.0</td>\n",
       "      <td>34.0</td>\n",
       "      <td>30.0</td>\n",
       "      <td>28.0</td>\n",
       "      <td>-3</td>\n",
       "      <td>6</td>\n",
       "    </tr>\n",
       "    <tr>\n",
       "      <th>2471</th>\n",
       "      <td>2015-04-08</td>\n",
       "      <td>1786250</td>\n",
       "      <td>10167</td>\n",
       "      <td>8600</td>\n",
       "      <td>1</td>\n",
       "      <td>0</td>\n",
       "      <td>w</td>\n",
       "      <td>22.0</td>\n",
       "      <td>54.0</td>\n",
       "      <td>32.0</td>\n",
       "      <td>...</td>\n",
       "      <td>20</td>\n",
       "      <td>11</td>\n",
       "      <td>21.0</td>\n",
       "      <td>18.0</td>\n",
       "      <td>23.0</td>\n",
       "      <td>54.0</td>\n",
       "      <td>32.0</td>\n",
       "      <td>38.0</td>\n",
       "      <td>-7</td>\n",
       "      <td>1</td>\n",
       "    </tr>\n",
       "    <tr>\n",
       "      <th>2533</th>\n",
       "      <td>2015-04-12</td>\n",
       "      <td>1786307</td>\n",
       "      <td>8600</td>\n",
       "      <td>8540</td>\n",
       "      <td>1</td>\n",
       "      <td>3</td>\n",
       "      <td>l</td>\n",
       "      <td>32.0</td>\n",
       "      <td>38.0</td>\n",
       "      <td>39.0</td>\n",
       "      <td>...</td>\n",
       "      <td>28</td>\n",
       "      <td>20</td>\n",
       "      <td>22.0</td>\n",
       "      <td>16.0</td>\n",
       "      <td>33.0</td>\n",
       "      <td>41.0</td>\n",
       "      <td>42.0</td>\n",
       "      <td>44.0</td>\n",
       "      <td>-1</td>\n",
       "      <td>-4</td>\n",
       "    </tr>\n",
       "    <tr>\n",
       "      <th>2672</th>\n",
       "      <td>2015-04-25</td>\n",
       "      <td>1786326</td>\n",
       "      <td>8600</td>\n",
       "      <td>8564</td>\n",
       "      <td>2</td>\n",
       "      <td>1</td>\n",
       "      <td>w</td>\n",
       "      <td>34.0</td>\n",
       "      <td>42.0</td>\n",
       "      <td>44.0</td>\n",
       "      <td>...</td>\n",
       "      <td>24</td>\n",
       "      <td>21</td>\n",
       "      <td>24.0</td>\n",
       "      <td>15.0</td>\n",
       "      <td>36.0</td>\n",
       "      <td>43.0</td>\n",
       "      <td>45.0</td>\n",
       "      <td>39.0</td>\n",
       "      <td>-2</td>\n",
       "      <td>2</td>\n",
       "    </tr>\n",
       "    <tr>\n",
       "      <th>2731</th>\n",
       "      <td>2015-04-28</td>\n",
       "      <td>1786336</td>\n",
       "      <td>8600</td>\n",
       "      <td>8636</td>\n",
       "      <td>1</td>\n",
       "      <td>2</td>\n",
       "      <td>l</td>\n",
       "      <td>36.0</td>\n",
       "      <td>43.0</td>\n",
       "      <td>48.0</td>\n",
       "      <td>...</td>\n",
       "      <td>21</td>\n",
       "      <td>22</td>\n",
       "      <td>28.0</td>\n",
       "      <td>18.0</td>\n",
       "      <td>37.0</td>\n",
       "      <td>45.0</td>\n",
       "      <td>50.0</td>\n",
       "      <td>39.0</td>\n",
       "      <td>1</td>\n",
       "      <td>2</td>\n",
       "    </tr>\n",
       "    <tr>\n",
       "      <th>2814</th>\n",
       "      <td>2015-05-03</td>\n",
       "      <td>1786350</td>\n",
       "      <td>9876</td>\n",
       "      <td>8600</td>\n",
       "      <td>0</td>\n",
       "      <td>1</td>\n",
       "      <td>l</td>\n",
       "      <td>41.0</td>\n",
       "      <td>57.0</td>\n",
       "      <td>37.0</td>\n",
       "      <td>...</td>\n",
       "      <td>21</td>\n",
       "      <td>13</td>\n",
       "      <td>25.0</td>\n",
       "      <td>24.0</td>\n",
       "      <td>41.0</td>\n",
       "      <td>58.0</td>\n",
       "      <td>38.0</td>\n",
       "      <td>45.0</td>\n",
       "      <td>2</td>\n",
       "      <td>-1</td>\n",
       "    </tr>\n",
       "    <tr>\n",
       "      <th>2895</th>\n",
       "      <td>2015-05-10</td>\n",
       "      <td>1786358</td>\n",
       "      <td>8600</td>\n",
       "      <td>9882</td>\n",
       "      <td>1</td>\n",
       "      <td>4</td>\n",
       "      <td>l</td>\n",
       "      <td>38.0</td>\n",
       "      <td>45.0</td>\n",
       "      <td>41.0</td>\n",
       "      <td>...</td>\n",
       "      <td>26</td>\n",
       "      <td>24</td>\n",
       "      <td>21.0</td>\n",
       "      <td>12.0</td>\n",
       "      <td>39.0</td>\n",
       "      <td>49.0</td>\n",
       "      <td>45.0</td>\n",
       "      <td>38.0</td>\n",
       "      <td>1</td>\n",
       "      <td>-3</td>\n",
       "    </tr>\n",
       "    <tr>\n",
       "      <th>2957</th>\n",
       "      <td>2015-05-17</td>\n",
       "      <td>1786370</td>\n",
       "      <td>8686</td>\n",
       "      <td>8600</td>\n",
       "      <td>2</td>\n",
       "      <td>1</td>\n",
       "      <td>w</td>\n",
       "      <td>49.0</td>\n",
       "      <td>27.0</td>\n",
       "      <td>39.0</td>\n",
       "      <td>...</td>\n",
       "      <td>23</td>\n",
       "      <td>14</td>\n",
       "      <td>26.0</td>\n",
       "      <td>28.0</td>\n",
       "      <td>51.0</td>\n",
       "      <td>28.0</td>\n",
       "      <td>40.0</td>\n",
       "      <td>51.0</td>\n",
       "      <td>-1</td>\n",
       "      <td>-1</td>\n",
       "    </tr>\n",
       "    <tr>\n",
       "      <th>3055</th>\n",
       "      <td>2015-05-24</td>\n",
       "      <td>1786379</td>\n",
       "      <td>8600</td>\n",
       "      <td>7943</td>\n",
       "      <td>0</td>\n",
       "      <td>1</td>\n",
       "      <td>l</td>\n",
       "      <td>40.0</td>\n",
       "      <td>51.0</td>\n",
       "      <td>45.0</td>\n",
       "      <td>...</td>\n",
       "      <td>35</td>\n",
       "      <td>24</td>\n",
       "      <td>22.0</td>\n",
       "      <td>21.0</td>\n",
       "      <td>40.0</td>\n",
       "      <td>52.0</td>\n",
       "      <td>46.0</td>\n",
       "      <td>56.0</td>\n",
       "      <td>-2</td>\n",
       "      <td>2</td>\n",
       "    </tr>\n",
       "    <tr>\n",
       "      <th>3079</th>\n",
       "      <td>2015-05-31</td>\n",
       "      <td>1786390</td>\n",
       "      <td>8529</td>\n",
       "      <td>8600</td>\n",
       "      <td>4</td>\n",
       "      <td>3</td>\n",
       "      <td>w</td>\n",
       "      <td>44.0</td>\n",
       "      <td>65.0</td>\n",
       "      <td>40.0</td>\n",
       "      <td>...</td>\n",
       "      <td>27</td>\n",
       "      <td>17</td>\n",
       "      <td>26.0</td>\n",
       "      <td>29.0</td>\n",
       "      <td>48.0</td>\n",
       "      <td>68.0</td>\n",
       "      <td>43.0</td>\n",
       "      <td>56.0</td>\n",
       "      <td>1</td>\n",
       "      <td>-3</td>\n",
       "    </tr>\n",
       "  </tbody>\n",
       "</table>\n",
       "<p>27 rows × 50 columns</p>\n",
       "</div>"
      ],
      "text/plain": [
       "           date  match_api_id  home_team_api_id  away_team_api_id  \\\n",
       "246  2014-08-31       1785979              8600              8534   \n",
       "321  2014-09-13       1785986              9885              8600   \n",
       "406  2014-09-21       1786000              8600              9875   \n",
       "475  2014-09-25       1786008              8543              8600   \n",
       "558  2014-09-29       1786021              8600             10167   \n",
       "696  2014-10-19       1786041              9804              8600   \n",
       "780  2014-10-26       1786052              8600              8524   \n",
       "805  2014-10-29       1786055              8535              8600   \n",
       "886  2014-11-02       1786072              8600             10233   \n",
       "1115 2014-11-30       1786098              8564              8600   \n",
       "1205 2014-12-07       1786108              8636              8600   \n",
       "1298 2014-12-14       1786122              8600              9876   \n",
       "1458 2015-01-06       1786142              8600              8686   \n",
       "1654 2015-01-26       1786210              8534              8600   \n",
       "1825 2015-02-08       1786230              9875              8600   \n",
       "1925 2015-02-15       1786237              8600              8543   \n",
       "2094 2015-03-01       1786260              9880              8600   \n",
       "2181 2015-03-08       1786270              8600              9804   \n",
       "2471 2015-04-08       1786250             10167              8600   \n",
       "2533 2015-04-12       1786307              8600              8540   \n",
       "2672 2015-04-25       1786326              8600              8564   \n",
       "2731 2015-04-28       1786336              8600              8636   \n",
       "2814 2015-05-03       1786350              9876              8600   \n",
       "2895 2015-05-10       1786358              8600              9882   \n",
       "2957 2015-05-17       1786370              8686              8600   \n",
       "3055 2015-05-24       1786379              8600              7943   \n",
       "3079 2015-05-31       1786390              8529              8600   \n",
       "\n",
       "      home_team_goal  away_team_goal hometeam_outcome  HT_goalsfor  \\\n",
       "246                2               0                w          0.0   \n",
       "321                2               0                w          1.0   \n",
       "406                1               0                w          2.0   \n",
       "475                0               1                l          4.0   \n",
       "558                4               2                w          4.0   \n",
       "696                1               0                w          4.0   \n",
       "780                2               0                w          9.0   \n",
       "805                3               0                w          6.0   \n",
       "886                2               4                l         11.0   \n",
       "1115               2               0                w         21.0   \n",
       "1205               1               2                l         20.0   \n",
       "1298               1               2                l         17.0   \n",
       "1458               0               1                l         20.0   \n",
       "1654               1               2                l         17.0   \n",
       "1825               3               1                w         38.0   \n",
       "1925               0               1                l         26.0   \n",
       "2094               1               0                w         23.0   \n",
       "2181               3               2                w         26.0   \n",
       "2471               1               0                w         22.0   \n",
       "2533               1               3                l         32.0   \n",
       "2672               2               1                w         34.0   \n",
       "2731               1               2                l         36.0   \n",
       "2814               0               1                l         41.0   \n",
       "2895               1               4                l         38.0   \n",
       "2957               2               1                w         49.0   \n",
       "3055               0               1                l         40.0   \n",
       "3079               4               3                w         44.0   \n",
       "\n",
       "      HT_goalsagainst  AT_goalsfor    ...       5   6     7     8  \\\n",
       "246               0.0          0.0    ...       2   0   0.0   0.0   \n",
       "321               0.0          2.0    ...       2   0   2.0   0.0   \n",
       "406               2.0          2.0    ...       2   2   0.0   1.0   \n",
       "475               4.0          3.0    ...       2   1   3.0   0.0   \n",
       "558               2.0          8.0    ...       7   5   5.0   7.0   \n",
       "696               7.0          9.0    ...       3   1   8.0   3.0   \n",
       "780               6.0          3.0    ...       6   2   1.0   4.0   \n",
       "805               6.0         11.0    ...       6   1  10.0   3.0   \n",
       "886               9.0         10.0    ...       6  10   4.0   4.0   \n",
       "1115             17.0         15.0    ...       9   2  13.0   8.0   \n",
       "1205             19.0         15.0    ...      10   4  13.0   8.0   \n",
       "1298             18.0         16.0    ...      14   9   9.0  12.0   \n",
       "1458             22.0         28.0    ...       7   9  20.0   4.0   \n",
       "1654             23.0         23.0    ...      14   9  16.0  13.0   \n",
       "1825             26.0         25.0    ...      17  10  16.0  13.0   \n",
       "1925             30.0         37.0    ...      14  17  21.0  12.0   \n",
       "2094             47.0         26.0    ...      18  10  16.0  14.0   \n",
       "2181             32.0         28.0    ...      19  15  15.0   9.0   \n",
       "2471             54.0         32.0    ...      20  11  21.0  18.0   \n",
       "2533             38.0         39.0    ...      28  20  22.0  16.0   \n",
       "2672             42.0         44.0    ...      24  21  24.0  15.0   \n",
       "2731             43.0         48.0    ...      21  22  28.0  18.0   \n",
       "2814             57.0         37.0    ...      21  13  25.0  24.0   \n",
       "2895             45.0         41.0    ...      26  24  21.0  12.0   \n",
       "2957             27.0         39.0    ...      23  14  26.0  28.0   \n",
       "3055             51.0         45.0    ...      35  24  22.0  21.0   \n",
       "3079             65.0         40.0    ...      27  17  26.0  29.0   \n",
       "\n",
       "     homegoalsfor  homegoalsagainst  awaygoalsfor awaygoalsagainst HT_streak  \\\n",
       "246           2.0               0.0           0.0              2.0         0   \n",
       "321           3.0               0.0           2.0              2.0         0   \n",
       "406           3.0               2.0           2.0              3.0        -1   \n",
       "475           4.0               5.0           4.0              2.0        -1   \n",
       "558           8.0               4.0          10.0             14.0         2   \n",
       "696           5.0               7.0           9.0              6.0        -1   \n",
       "780          11.0               6.0           3.0             10.0        -1   \n",
       "805           9.0               6.0          11.0              9.0        -1   \n",
       "886          13.0              13.0          14.0             10.0        -1   \n",
       "1115         23.0              17.0          15.0             17.0        -1   \n",
       "1205         21.0              21.0          17.0             18.0        -2   \n",
       "1298         18.0              20.0          18.0             26.0         1   \n",
       "1458         20.0              23.0          29.0             11.0        -1   \n",
       "1654         18.0              25.0          25.0             27.0        -1   \n",
       "1825         41.0              27.0          26.0             30.0         3   \n",
       "1925         26.0              31.0          38.0             26.0        -1   \n",
       "2094         24.0              47.0          26.0             32.0        -2   \n",
       "2181         29.0              34.0          30.0             28.0        -3   \n",
       "2471         23.0              54.0          32.0             38.0        -7   \n",
       "2533         33.0              41.0          42.0             44.0        -1   \n",
       "2672         36.0              43.0          45.0             39.0        -2   \n",
       "2731         37.0              45.0          50.0             39.0         1   \n",
       "2814         41.0              58.0          38.0             45.0         2   \n",
       "2895         39.0              49.0          45.0             38.0         1   \n",
       "2957         51.0              28.0          40.0             51.0        -1   \n",
       "3055         40.0              52.0          46.0             56.0        -2   \n",
       "3079         48.0              68.0          43.0             56.0         1   \n",
       "\n",
       "      AT_streak  \n",
       "246           0  \n",
       "321           0  \n",
       "406          -1  \n",
       "475           1  \n",
       "558          -1  \n",
       "696           3  \n",
       "780           1  \n",
       "805           1  \n",
       "886           3  \n",
       "1115         -2  \n",
       "1205         -3  \n",
       "1298         -5  \n",
       "1458          4  \n",
       "1654         -2  \n",
       "1825          1  \n",
       "1925         -2  \n",
       "2094         -2  \n",
       "2181          6  \n",
       "2471          1  \n",
       "2533         -4  \n",
       "2672          2  \n",
       "2731          2  \n",
       "2814         -1  \n",
       "2895         -3  \n",
       "2957         -1  \n",
       "3055          2  \n",
       "3079         -3  \n",
       "\n",
       "[27 rows x 50 columns]"
      ]
     },
     "execution_count": 147,
     "metadata": {},
     "output_type": "execute_result"
    }
   ],
   "source": [
    "#df_winloss[(df_winloss['home_team_api_id']==8600) | (df_winloss['away_team_api_id']==8600)]"
   ]
  },
  {
   "cell_type": "code",
   "execution_count": 100,
   "metadata": {
    "collapsed": false
   },
   "outputs": [
    {
     "data": {
      "text/plain": [
       "home_team_api_id\n",
       "1601       9\n",
       "1957      10\n",
       "2182       8\n",
       "2186      10\n",
       "4087      17\n",
       "6403      11\n",
       "6413      13\n",
       "6433      13\n",
       "6547       7\n",
       "6631       5\n",
       "7788      14\n",
       "7794      12\n",
       "7819      16\n",
       "7841       8\n",
       "7842      11\n",
       "7844       9\n",
       "7869      13\n",
       "7878       9\n",
       "7943      11\n",
       "8019       2\n",
       "8023      11\n",
       "8025       8\n",
       "8027      11\n",
       "8028      12\n",
       "8030      11\n",
       "8033       8\n",
       "8066      12\n",
       "8177      13\n",
       "8178      11\n",
       "8191      12\n",
       "          ..\n",
       "10179     13\n",
       "10189     12\n",
       "10190     12\n",
       "10191     11\n",
       "10192     14\n",
       "10194     16\n",
       "10199     10\n",
       "10205     18\n",
       "10212     10\n",
       "10214     12\n",
       "10215      5\n",
       "10217     11\n",
       "10218      6\n",
       "10228     10\n",
       "10229     14\n",
       "10233     13\n",
       "10235     13\n",
       "10238     13\n",
       "10243     13\n",
       "10249     17\n",
       "10252     13\n",
       "10260     17\n",
       "10261     14\n",
       "10264     13\n",
       "10265      8\n",
       "10267     16\n",
       "10268     16\n",
       "10269     13\n",
       "158085    13\n",
       "274581     4\n",
       "Name: hometeam_outcome, dtype: int64"
      ]
     },
     "execution_count": 100,
     "metadata": {},
     "output_type": "execute_result"
    }
   ],
   "source": [
    "df_winloss.groupby('home_team_api_id')['hometeam_outcome'].count()"
   ]
  },
  {
   "cell_type": "code",
   "execution_count": 148,
   "metadata": {
    "collapsed": false
   },
   "outputs": [
    {
     "data": {
      "text/plain": [
       "team_short_name\n",
       "AAR    15\n",
       "ABE    16\n",
       "ACA     5\n",
       "ACM    14\n",
       "AJA    14\n",
       "ALK    14\n",
       "ALM    12\n",
       "AMA    16\n",
       "AND    10\n",
       "ARO    14\n",
       "ARS    14\n",
       "ATA    12\n",
       "AUG    13\n",
       "AVL    13\n",
       "BAR    18\n",
       "BAS    26\n",
       "BEL    20\n",
       "BEN    15\n",
       "BIA    12\n",
       "BIL    13\n",
       "BMU    16\n",
       "BOA    15\n",
       "BOR    14\n",
       "BRA    14\n",
       "BUR    12\n",
       "CAE    16\n",
       "CAG    15\n",
       "CAM    15\n",
       "CEB    13\n",
       "CEL    31\n",
       "       ..\n",
       "STK    16\n",
       "STL    13\n",
       "STU    13\n",
       "SUN    11\n",
       "SWA    14\n",
       "THU    12\n",
       "TOR    12\n",
       "TOT    16\n",
       "TOU    13\n",
       "TWE    13\n",
       "UDI    14\n",
       "UTR    13\n",
       "VAD    13\n",
       "VAL    16\n",
       "VER    14\n",
       "VIL    18\n",
       "VIT     9\n",
       "WAA    12\n",
       "WBA    15\n",
       "WBR    13\n",
       "WES    10\n",
       "WHU    15\n",
       "WII    12\n",
       "WIS    10\n",
       "WOL    13\n",
       "YB     15\n",
       "ZAW    13\n",
       "ZUL    12\n",
       "ZUR    14\n",
       "ZWO    13\n",
       "Name: hometeam_outcome, dtype: int64"
      ]
     },
     "execution_count": 148,
     "metadata": {},
     "output_type": "execute_result"
    }
   ],
   "source": [
    "df_wl_team.groupby('team_short_name')['hometeam_outcome'].count()"
   ]
  },
  {
   "cell_type": "code",
   "execution_count": 149,
   "metadata": {
    "collapsed": false
   },
   "outputs": [],
   "source": [
    "hometeam_groupby = df_winloss.groupby('home_team_api_id')"
   ]
  },
  {
   "cell_type": "code",
   "execution_count": 150,
   "metadata": {
    "collapsed": true
   },
   "outputs": [],
   "source": [
    "ht_name_groupby = df_wl_team.groupby('team_short_name')"
   ]
  },
  {
   "cell_type": "code",
   "execution_count": 151,
   "metadata": {
    "collapsed": false
   },
   "outputs": [],
   "source": [
    "#Ideally, make plot of w/l ratio's for each team, compare\n",
    "#Plot below is of wins, some losses\n",
    "\n",
    "import matplotlib.pyplot as plt\n",
    "%matplotlib inline\n",
    "\n",
    "\n",
    "teams_wins = hometeam_groupby['hometeam_outcome'].value_counts('w')\n",
    "\n",
    "#Teams with w% > 0.5 are more valuable"
   ]
  },
  {
   "cell_type": "code",
   "execution_count": 162,
   "metadata": {
    "collapsed": false
   },
   "outputs": [
    {
     "data": {
      "text/plain": [
       "339"
      ]
     },
     "execution_count": 162,
     "metadata": {},
     "output_type": "execute_result"
    }
   ],
   "source": [
    "team_name_wins = ht_name_groupby['hometeam_outcome'].value_counts('w')\n",
    "team_name_wins = team_name_wins.reset_index()\n",
    "team_name_wins.head()\n",
    "len(team_name_wins)"
   ]
  },
  {
   "cell_type": "code",
   "execution_count": 159,
   "metadata": {
    "collapsed": true
   },
   "outputs": [],
   "source": [
    "hometeam_wins = team_name_wins[team_name_wins['hometeam_outcome'] == 'w']\n"
   ]
  },
  {
   "cell_type": "code",
   "execution_count": 161,
   "metadata": {
    "collapsed": false
   },
   "outputs": [
    {
     "data": {
      "text/plain": [
       "173"
      ]
     },
     "execution_count": 161,
     "metadata": {},
     "output_type": "execute_result"
    }
   ],
   "source": [
    "len(hometeam_wins)"
   ]
  },
  {
   "cell_type": "code",
   "execution_count": 163,
   "metadata": {
    "collapsed": false
   },
   "outputs": [
    {
     "data": {
      "text/plain": [
       "Index([u'id', u'outcome', u'value'], dtype='object')"
      ]
     },
     "execution_count": 163,
     "metadata": {},
     "output_type": "execute_result"
    }
   ],
   "source": [
    "hometeam_wins.columns = ['id','outcome','value']\n",
    "hometeam_wins.columns"
   ]
  },
  {
   "cell_type": "code",
   "execution_count": 164,
   "metadata": {
    "collapsed": true
   },
   "outputs": [],
   "source": [
    "hometeam_wins = hometeam_wins.drop(['outcome'],axis = 1)"
   ]
  },
  {
   "cell_type": "code",
   "execution_count": 169,
   "metadata": {
    "collapsed": false
   },
   "outputs": [
    {
     "data": {
      "text/html": [
       "<div>\n",
       "<table border=\"1\" class=\"dataframe\">\n",
       "  <thead>\n",
       "    <tr style=\"text-align: right;\">\n",
       "      <th></th>\n",
       "      <th>id</th>\n",
       "      <th>value</th>\n",
       "    </tr>\n",
       "  </thead>\n",
       "  <tbody>\n",
       "    <tr>\n",
       "      <th>1</th>\n",
       "      <td>AAR</td>\n",
       "      <td>0.333333</td>\n",
       "    </tr>\n",
       "    <tr>\n",
       "      <th>2</th>\n",
       "      <td>ABE</td>\n",
       "      <td>0.750000</td>\n",
       "    </tr>\n",
       "    <tr>\n",
       "      <th>5</th>\n",
       "      <td>ACA</td>\n",
       "      <td>0.200000</td>\n",
       "    </tr>\n",
       "    <tr>\n",
       "      <th>6</th>\n",
       "      <td>ACM</td>\n",
       "      <td>0.642857</td>\n",
       "    </tr>\n",
       "    <tr>\n",
       "      <th>8</th>\n",
       "      <td>AJA</td>\n",
       "      <td>0.857143</td>\n",
       "    </tr>\n",
       "  </tbody>\n",
       "</table>\n",
       "</div>"
      ],
      "text/plain": [
       "    id     value\n",
       "1  AAR  0.333333\n",
       "2  ABE  0.750000\n",
       "5  ACA  0.200000\n",
       "6  ACM  0.642857\n",
       "8  AJA  0.857143"
      ]
     },
     "execution_count": 169,
     "metadata": {},
     "output_type": "execute_result"
    }
   ],
   "source": [
    "#This gives the w% for every home team - cumulative win%\n",
    "hometeam_wins.head()"
   ]
  },
  {
   "cell_type": "code",
   "execution_count": 167,
   "metadata": {
    "collapsed": true
   },
   "outputs": [],
   "source": [
    "#Use the hometeam_wins.csv to make a d3 bubble\n",
    "hometeam_wins.to_csv('hometeam_wins.csv')"
   ]
  },
  {
   "cell_type": "code",
   "execution_count": 168,
   "metadata": {
    "collapsed": true
   },
   "outputs": [],
   "source": [
    "less hometeam_wins.csv"
   ]
  },
  {
   "cell_type": "code",
   "execution_count": 170,
   "metadata": {
    "collapsed": false
   },
   "outputs": [
    {
     "name": "stderr",
     "output_type": "stream",
     "text": [
      "/anaconda/lib/python2.7/site-packages/ipykernel/__main__.py:1: SettingWithCopyWarning: \n",
      "A value is trying to be set on a copy of a slice from a DataFrame.\n",
      "Try using .loc[row_indexer,col_indexer] = value instead\n",
      "\n",
      "See the caveats in the documentation: http://pandas.pydata.org/pandas-docs/stable/indexing.html#indexing-view-versus-copy\n",
      "  if __name__ == '__main__':\n",
      "/anaconda/lib/python2.7/site-packages/ipykernel/__main__.py:2: SettingWithCopyWarning: \n",
      "A value is trying to be set on a copy of a slice from a DataFrame.\n",
      "Try using .loc[row_indexer,col_indexer] = value instead\n",
      "\n",
      "See the caveats in the documentation: http://pandas.pydata.org/pandas-docs/stable/indexing.html#indexing-view-versus-copy\n",
      "  from ipykernel import kernelapp as app\n"
     ]
    },
    {
     "data": {
      "text/plain": [
       "Index([u'date', u'match_api_id', u'home_team_api_id', u'away_team_api_id',\n",
       "       u'home_team_goal', u'away_team_goal', u'hometeam_outcome',\n",
       "       u'HT_goalsfor', u'HT_goalsagainst', u'AT_goalsfor', u'AT_goalsagainst',\n",
       "       u'H_bUPS', u'A_bUPS', u'H_bUPDC', u'A_bUPDC', u'H_bUPP', u'A_bUPP',\n",
       "       u'H_bUPPosC', u'A_bUPPosC', u'H_cCP', u'A_cCP', u'H_cCC', u'A_cCC',\n",
       "       u'H_cCS', u'A_cCS', u'H_cCPosC', u'A_cCPosC', u'H_dP', u'A_dP', u'H_dA',\n",
       "       u'A_dA', u'H_dTW', u'A_dTW', u'H_dDLC', u'A_dDLC', u'match_api_id_x',\n",
       "       u'1', u'2', u'3', u'4', u'5', u'6', u'7', u'8', u'homegoalsfor',\n",
       "       u'homegoalsagainst', u'awaygoalsfor', u'awaygoalsagainst', u'HT_streak',\n",
       "       u'AT_streak', u'month', u'year'],\n",
       "      dtype='object')"
      ]
     },
     "execution_count": 170,
     "metadata": {},
     "output_type": "execute_result"
    }
   ],
   "source": [
    "df_winloss['month'] = df_winloss['date'].dt.month\n",
    "df_winloss['year'] = df_winloss['date'].dt.year\n",
    "df_winloss.columns"
   ]
  },
  {
   "cell_type": "code",
   "execution_count": 171,
   "metadata": {
    "collapsed": false
   },
   "outputs": [
    {
     "data": {
      "text/html": [
       "<div>\n",
       "<table border=\"1\" class=\"dataframe\">\n",
       "  <thead>\n",
       "    <tr style=\"text-align: right;\">\n",
       "      <th></th>\n",
       "      <th>date</th>\n",
       "      <th>month</th>\n",
       "      <th>year</th>\n",
       "      <th>home_team_api_id</th>\n",
       "      <th>home_team_goal</th>\n",
       "      <th>away_team_goal</th>\n",
       "    </tr>\n",
       "  </thead>\n",
       "  <tbody>\n",
       "    <tr>\n",
       "      <th>0</th>\n",
       "      <td>2014-07-18</td>\n",
       "      <td>7</td>\n",
       "      <td>2014</td>\n",
       "      <td>8033</td>\n",
       "      <td>2</td>\n",
       "      <td>3</td>\n",
       "    </tr>\n",
       "    <tr>\n",
       "      <th>2</th>\n",
       "      <td>2014-07-19</td>\n",
       "      <td>7</td>\n",
       "      <td>2014</td>\n",
       "      <td>9930</td>\n",
       "      <td>1</td>\n",
       "      <td>2</td>\n",
       "    </tr>\n",
       "    <tr>\n",
       "      <th>4</th>\n",
       "      <td>2014-07-20</td>\n",
       "      <td>7</td>\n",
       "      <td>2014</td>\n",
       "      <td>2182</td>\n",
       "      <td>4</td>\n",
       "      <td>0</td>\n",
       "    </tr>\n",
       "    <tr>\n",
       "      <th>5</th>\n",
       "      <td>2014-07-20</td>\n",
       "      <td>7</td>\n",
       "      <td>2014</td>\n",
       "      <td>8027</td>\n",
       "      <td>2</td>\n",
       "      <td>0</td>\n",
       "    </tr>\n",
       "    <tr>\n",
       "      <th>6</th>\n",
       "      <td>2014-07-20</td>\n",
       "      <td>7</td>\n",
       "      <td>2014</td>\n",
       "      <td>8025</td>\n",
       "      <td>2</td>\n",
       "      <td>0</td>\n",
       "    </tr>\n",
       "  </tbody>\n",
       "</table>\n",
       "</div>"
      ],
      "text/plain": [
       "        date  month  year  home_team_api_id  home_team_goal  away_team_goal\n",
       "0 2014-07-18      7  2014              8033               2               3\n",
       "2 2014-07-19      7  2014              9930               1               2\n",
       "4 2014-07-20      7  2014              2182               4               0\n",
       "5 2014-07-20      7  2014              8027               2               0\n",
       "6 2014-07-20      7  2014              8025               2               0"
      ]
     },
     "execution_count": 171,
     "metadata": {},
     "output_type": "execute_result"
    }
   ],
   "source": [
    "df_winloss2= df_winloss.loc[:,['date','month','year','home_team_api_id','home_team_goal','away_team_goal']]\n",
    "df_winloss2.head()"
   ]
  },
  {
   "cell_type": "code",
   "execution_count": 174,
   "metadata": {
    "collapsed": false
   },
   "outputs": [
    {
     "data": {
      "text/html": [
       "<div>\n",
       "<table border=\"1\" class=\"dataframe\">\n",
       "  <thead>\n",
       "    <tr style=\"text-align: right;\">\n",
       "      <th></th>\n",
       "      <th>month</th>\n",
       "      <th>year</th>\n",
       "      <th>home_team_api_id</th>\n",
       "      <th>home_team_goal</th>\n",
       "    </tr>\n",
       "  </thead>\n",
       "  <tbody>\n",
       "    <tr>\n",
       "      <th>0</th>\n",
       "      <td>1</td>\n",
       "      <td>2015</td>\n",
       "      <td>4087</td>\n",
       "      <td>1</td>\n",
       "    </tr>\n",
       "    <tr>\n",
       "      <th>1</th>\n",
       "      <td>1</td>\n",
       "      <td>2015</td>\n",
       "      <td>6403</td>\n",
       "      <td>4</td>\n",
       "    </tr>\n",
       "    <tr>\n",
       "      <th>2</th>\n",
       "      <td>1</td>\n",
       "      <td>2015</td>\n",
       "      <td>6413</td>\n",
       "      <td>4</td>\n",
       "    </tr>\n",
       "    <tr>\n",
       "      <th>3</th>\n",
       "      <td>1</td>\n",
       "      <td>2015</td>\n",
       "      <td>6433</td>\n",
       "      <td>1</td>\n",
       "    </tr>\n",
       "    <tr>\n",
       "      <th>4</th>\n",
       "      <td>1</td>\n",
       "      <td>2015</td>\n",
       "      <td>6547</td>\n",
       "      <td>1</td>\n",
       "    </tr>\n",
       "  </tbody>\n",
       "</table>\n",
       "</div>"
      ],
      "text/plain": [
       "   month  year  home_team_api_id  home_team_goal\n",
       "0      1  2015              4087               1\n",
       "1      1  2015              6403               4\n",
       "2      1  2015              6413               4\n",
       "3      1  2015              6433               1\n",
       "4      1  2015              6547               1"
      ]
     },
     "execution_count": 174,
     "metadata": {},
     "output_type": "execute_result"
    }
   ],
   "source": [
    "#Get month wise goals for home team\n",
    "home_goals=df_winloss2.groupby(['month','year','home_team_api_id'],as_index=False)['home_team_goal'].sum()\n",
    "home_goals.head()"
   ]
  },
  {
   "cell_type": "markdown",
   "metadata": {},
   "source": [
    "**Model for win-loss + homestreak and away streak**"
   ]
  },
  {
   "cell_type": "code",
   "execution_count": 175,
   "metadata": {
    "collapsed": false
   },
   "outputs": [
    {
     "data": {
      "text/plain": [
       "Index([u'date', u'match_api_id', u'home_team_api_id', u'away_team_api_id',\n",
       "       u'home_team_goal', u'away_team_goal', u'hometeam_outcome',\n",
       "       u'HT_goalsfor', u'HT_goalsagainst', u'AT_goalsfor', u'AT_goalsagainst',\n",
       "       u'H_bUPS', u'A_bUPS', u'H_bUPDC', u'A_bUPDC', u'H_bUPP', u'A_bUPP',\n",
       "       u'H_bUPPosC', u'A_bUPPosC', u'H_cCP', u'A_cCP', u'H_cCC', u'A_cCC',\n",
       "       u'H_cCS', u'A_cCS', u'H_cCPosC', u'A_cCPosC', u'H_dP', u'A_dP', u'H_dA',\n",
       "       u'A_dA', u'H_dTW', u'A_dTW', u'H_dDLC', u'A_dDLC', u'match_api_id_x',\n",
       "       u'1', u'2', u'3', u'4', u'5', u'6', u'7', u'8', u'homegoalsfor',\n",
       "       u'homegoalsagainst', u'awaygoalsfor', u'awaygoalsagainst', u'HT_streak',\n",
       "       u'AT_streak', u'month', u'year'],\n",
       "      dtype='object')"
      ]
     },
     "execution_count": 175,
     "metadata": {},
     "output_type": "execute_result"
    }
   ],
   "source": [
    "df_winloss.columns"
   ]
  },
  {
   "cell_type": "code",
   "execution_count": 176,
   "metadata": {
    "collapsed": false
   },
   "outputs": [],
   "source": [
    "y_train_winloss = df_winloss.loc[df_winloss['date'].dt.year == 2014, 'hometeam_outcome']\n",
    "y_test_winloss = df_winloss.loc[df_winloss['date'].dt.year == 2015, 'hometeam_outcome']"
   ]
  },
  {
   "cell_type": "code",
   "execution_count": 177,
   "metadata": {
    "collapsed": true
   },
   "outputs": [],
   "source": [
    "x_winloss = df_winloss.loc[:,['date', \n",
    "       'HT_goalsfor', 'HT_goalsagainst', 'AT_goalsfor', 'AT_goalsagainst','HT_streak','AT_streak']]"
   ]
  },
  {
   "cell_type": "code",
   "execution_count": 178,
   "metadata": {
    "collapsed": true
   },
   "outputs": [],
   "source": [
    "x_dummies_winloss = pd.get_dummies(x_winloss)"
   ]
  },
  {
   "cell_type": "code",
   "execution_count": 179,
   "metadata": {
    "collapsed": true
   },
   "outputs": [],
   "source": [
    "columns = ['HT_goalsfor','HT_goalsagainst','AT_goalsfor','AT_goalsagainst','HT_streak','AT_streak']\n",
    "x_train_winloss = x_dummies_winloss.loc[x_dummies_winloss['date'].dt.year == 2014, columns]\n",
    "\n",
    "x_test_winloss = x_dummies_winloss.loc[x_dummies_winloss['date'].dt.year == 2015, columns]"
   ]
  },
  {
   "cell_type": "markdown",
   "metadata": {},
   "source": [
    "**Fit a Logistic Regression Model**"
   ]
  },
  {
   "cell_type": "code",
   "execution_count": 180,
   "metadata": {
    "collapsed": true
   },
   "outputs": [],
   "source": [
    "logreg = LogisticRegression()\n",
    "fit = logreg.fit(x_train_winloss,y_train_winloss)"
   ]
  },
  {
   "cell_type": "code",
   "execution_count": 181,
   "metadata": {
    "collapsed": false
   },
   "outputs": [
    {
     "data": {
      "text/plain": [
       "(0.64694656488549618, 0.66800000000000004)"
      ]
     },
     "execution_count": 181,
     "metadata": {},
     "output_type": "execute_result"
    }
   ],
   "source": [
    "train_acc_winloss = fit.score(x_train_winloss, y_train_winloss)\n",
    "test_acc_winloss = fit.score(x_test_winloss,y_test_winloss)\n",
    "#print fit.classes_\n",
    "train_acc_winloss,test_acc_winloss"
   ]
  },
  {
   "cell_type": "code",
   "execution_count": 182,
   "metadata": {
    "collapsed": true
   },
   "outputs": [],
   "source": [
    "y_pred_winloss = fit.predict(x_test_winloss)"
   ]
  },
  {
   "cell_type": "code",
   "execution_count": 183,
   "metadata": {
    "collapsed": false
   },
   "outputs": [
    {
     "name": "stdout",
     "output_type": "stream",
     "text": [
      "             precision    recall  f1-score   support\n",
      "\n",
      "          l       0.57      0.62      0.60       488\n",
      "          w       0.74      0.70      0.72       762\n",
      "\n",
      "avg / total       0.67      0.67      0.67      1250\n",
      "\n"
     ]
    }
   ],
   "source": [
    "precision_recall_fscore_support(y_test_winloss,y_pred_winloss)\n",
    "print(classification_report(y_test_winloss, y_pred_winloss, target_names=fit.classes_))"
   ]
  },
  {
   "cell_type": "code",
   "execution_count": 185,
   "metadata": {
    "collapsed": false
   },
   "outputs": [
    {
     "name": "stdout",
     "output_type": "stream",
     "text": [
      "Goal Features(Win-Loss),Win Streak & Team Features: Confusion matrix, without normalization\n"
     ]
    },
    {
     "data": {
      "text/plain": [
       "<matplotlib.figure.Figure at 0x11eea8350>"
      ]
     },
     "execution_count": 185,
     "metadata": {},
     "output_type": "execute_result"
    },
    {
     "data": {
      "image/png": "[encoded data removed]",
      "text/plain": [
       "<matplotlib.figure.Figure at 0x11eea8210>"
      ]
     },
     "metadata": {},
     "output_type": "display_data"
    },
    {
     "data": {
      "text/plain": [
       "<matplotlib.figure.Figure at 0x11eea8350>"
      ]
     },
     "metadata": {},
     "output_type": "display_data"
    }
   ],
   "source": [
    "import itertools\n",
    "from sklearn.metrics import confusion_matrix\n",
    "\n",
    " \n",
    "import matplotlib.pyplot as plt\n",
    "%matplotlib inline\n",
    "\n",
    "def plot_confusion_matrix(cm,title='Confusion matrix', classes=fit.classes_, normalize = False, cmap=plt.cm.Reds):\n",
    "    plt.imshow(cm, interpolation='nearest',cmap=cmap)\n",
    "   # plt.title(title)\n",
    "    plt.colorbar()\n",
    "    plt.tight_layout()\n",
    "    plt.ylabel('True label')\n",
    "    plt.xlabel('Predicted label')\n",
    "    if normalize:\n",
    "        cm = cm.astype('float') / cm.sum(axis=1)[:, np.newaxis]\n",
    "        \n",
    "        \n",
    "        print(\"Goal Features(Win-Loss),Win Streak & Team Features: Normalized confusion matrix\")\n",
    "    else:\n",
    "        print('Goal Features(Win-Loss),Win Streak & Team Features: Confusion matrix, without normalization')\n",
    "\n",
    "    tick_marks = np.arange(len(classes))\n",
    "    plt.xticks(tick_marks, classes)\n",
    "    plt.yticks(tick_marks, classes)\n",
    "    thresh = cm.max() / 2.\n",
    "    for i, j in itertools.product(range(cm.shape[0]), range(cm.shape[1])):\n",
    "        plt.text(j, i, cm[i, j],\n",
    "                 horizontalalignment=\"center\",\n",
    "                 color=\"white\" if cm[i, j] > thresh else \"black\")\n",
    "\n",
    "\n",
    " \n",
    "  \n",
    "\n",
    "    \n",
    " \n",
    "\n",
    "cnf_matrix = confusion_matrix(y_test_winloss,y_pred_winloss,labels = fit.classes_ )\n",
    "\n",
    "plot_confusion_matrix(cnf_matrix,fit.classes_)\n",
    "plt.figure()\n",
    "\n"
   ]
  },
  {
   "cell_type": "markdown",
   "metadata": {},
   "source": [
    "**Normalize and do logistic Regression**"
   ]
  },
  {
   "cell_type": "code",
   "execution_count": 186,
   "metadata": {
    "collapsed": false
   },
   "outputs": [],
   "source": [
    "from sklearn.preprocessing import normalize\n",
    "\n",
    "x_train_norm_winloss = normalize(x_train_winloss,axis=0,norm='max')\n",
    "x_train_norm_winloss = pd.DataFrame(x_train_norm_winloss)\n",
    "\n",
    "x_test_norm_winloss = normalize(x_test_winloss,axis=0,norm='max')\n",
    "x_test_norm_winloss = pd.DataFrame(x_test_norm_winloss)"
   ]
  },
  {
   "cell_type": "code",
   "execution_count": 187,
   "metadata": {
    "collapsed": false
   },
   "outputs": [],
   "source": [
    "x_train_norm_winloss.columns = x_train_winloss.columns\n",
    "x_test_norm_winloss.columns = x_test_winloss.columns"
   ]
  },
  {
   "cell_type": "code",
   "execution_count": 188,
   "metadata": {
    "collapsed": false
   },
   "outputs": [],
   "source": [
    "logreg = LogisticRegression()\n",
    "fit = logreg.fit(x_train_norm_winloss,y_train_winloss)"
   ]
  },
  {
   "cell_type": "code",
   "execution_count": 189,
   "metadata": {
    "collapsed": false
   },
   "outputs": [
    {
     "data": {
      "text/plain": [
       "(0.64694656488549618, 0.6976)"
      ]
     },
     "execution_count": 189,
     "metadata": {},
     "output_type": "execute_result"
    }
   ],
   "source": [
    "train_acc_winloss=fit.score(x_train_norm_winloss, y_train_winloss)\n",
    "test_acc_winloss=fit.score(x_test_norm_winloss,y_test_winloss)\n",
    "\n",
    "train_acc_winloss,test_acc_winloss"
   ]
  },
  {
   "cell_type": "markdown",
   "metadata": {},
   "source": [
    "**SVM**"
   ]
  },
  {
   "cell_type": "code",
   "execution_count": 190,
   "metadata": {
    "collapsed": true
   },
   "outputs": [],
   "source": [
    "from sklearn import svm\n",
    "from sklearn import preprocessing\n",
    "\n",
    "x_train_scaled_winloss = preprocessing.scale(x_train_winloss)\n",
    "x_test_scaled_winloss = preprocessing.scale(x_test_winloss)\n",
    "\n",
    "x_train_scaled_winloss = pd.DataFrame(x_train_scaled_winloss)\n",
    "x_test_scaled_winloss = pd.DataFrame(x_test_scaled_winloss)"
   ]
  },
  {
   "cell_type": "code",
   "execution_count": 191,
   "metadata": {
    "collapsed": false
   },
   "outputs": [],
   "source": [
    "x_train_scaled_winloss.columns = x_train_scaled_winloss.columns\n",
    "x_test_scaled_winloss.columns = x_test_scaled_winloss.columns"
   ]
  },
  {
   "cell_type": "code",
   "execution_count": 192,
   "metadata": {
    "collapsed": true
   },
   "outputs": [],
   "source": [
    "clf_svc_winloss = svm.SVC(C=10, kernel='linear', degree=5, gamma=1e-1,)\n",
    "clf_fit_winloss = clf_svc_winloss.fit(x_train_scaled_winloss, y_train_winloss)\n",
    "\n",
    "#tuned_parameters = [{'kernel': ['rbf'], 'gamma': [1,1e-1,1e-2,1e-3, 1e-4],\n",
    " #                    'C': [1, 10, 100, 1000]},{'kernel': ['linear'], 'C': [1, 10, 100, 1000]},{'kernel':['poly'],'degree':[1,2,3]}]"
   ]
  },
  {
   "cell_type": "code",
   "execution_count": 193,
   "metadata": {
    "collapsed": false
   },
   "outputs": [
    {
     "data": {
      "text/plain": [
       "(0.64217557251908397, 0.66800000000000004)"
      ]
     },
     "execution_count": 193,
     "metadata": {},
     "output_type": "execute_result"
    }
   ],
   "source": [
    "train_svcacc_winloss=fit.score(x_train_scaled_winloss, y_train_winloss)\n",
    "test_svcacc_winloss=fit.score(x_test_scaled_winloss,y_test_winloss)\n",
    "\n",
    "train_svcacc_winloss, test_svcacc_winloss"
   ]
  },
  {
   "cell_type": "markdown",
   "metadata": {},
   "source": [
    "**Fit a Decision Tree and Random Forest**"
   ]
  },
  {
   "cell_type": "code",
   "execution_count": 194,
   "metadata": {
    "collapsed": true
   },
   "outputs": [],
   "source": [
    "from sklearn import tree\n",
    "clf = tree.DecisionTreeClassifier()\n",
    "clf = clf.fit(x_train_winloss,y_train_winloss)"
   ]
  },
  {
   "cell_type": "code",
   "execution_count": 195,
   "metadata": {
    "collapsed": false
   },
   "outputs": [
    {
     "data": {
      "text/plain": [
       "(0.9742366412213741, 0.5968)"
      ]
     },
     "execution_count": 195,
     "metadata": {},
     "output_type": "execute_result"
    }
   ],
   "source": [
    "train_acc_dtree_winloss =clf.score(x_train_winloss, y_train_winloss)\n",
    "test_acc_dtree_winloss =clf.score(x_test_winloss,y_test_winloss)\n",
    "train_acc_dtree_winloss,test_acc_dtree_winloss"
   ]
  },
  {
   "cell_type": "code",
   "execution_count": 145,
   "metadata": {
    "collapsed": false
   },
   "outputs": [
    {
     "name": "stdout",
     "output_type": "stream",
     "text": [
      "{'min_samples_split': 2, 'max_depth': 10, 'min_samples_leaf': 100}\n"
     ]
    }
   ],
   "source": [
    "#Tuning features on Decision Tree\n",
    "from sklearn.grid_search import GridSearchCV\n",
    "from sklearn import tree\n",
    "\n",
    "param_grid = { \n",
    "    \n",
    "   \n",
    "    'max_depth' : [10,50,100],\n",
    "    'min_samples_split' : [2,5,10],\n",
    "    'min_samples_leaf' : [1, 25, 50, 100, 150],\n",
    "   \n",
    "    \n",
    "}\n",
    "\n",
    "dtree_winloss = tree.DecisionTreeClassifier()\n",
    "CV_dtree_winloss = GridSearchCV(dtree_winloss,param_grid=param_grid)\n",
    "CV_dtree_winloss.fit(x_train_winloss, y_train_winloss)\n",
    "print CV_dtree_winloss.best_params_"
   ]
  },
  {
   "cell_type": "code",
   "execution_count": 196,
   "metadata": {
    "collapsed": false
   },
   "outputs": [
    {
     "data": {
      "text/plain": [
       "(0.66984732824427484, 0.58879999999999999)"
      ]
     },
     "execution_count": 196,
     "metadata": {},
     "output_type": "execute_result"
    }
   ],
   "source": [
    "dtree_bestparams_winloss = tree.DecisionTreeClassifier(min_samples_split= 2, max_depth = 10, min_samples_leaf= 50)\n",
    "fit_bestdtree_winloss = dtree_bestparams_winloss.fit(x_train_winloss, y_train_winloss)\n",
    "train_acc_bestdtree_winloss = fit_bestdtree_winloss.score(x_train_winloss, y_train_winloss)\n",
    "test_acc_bestdtree_winloss = fit_bestdtree_winloss.score(x_test_winloss,y_test_winloss)\n",
    "train_acc_bestdtree_winloss,test_acc_bestdtree_winloss"
   ]
  },
  {
   "cell_type": "code",
   "execution_count": 197,
   "metadata": {
    "collapsed": false
   },
   "outputs": [
    {
     "data": {
      "text/plain": [
       "array(['l', 'w'], dtype=object)"
      ]
     },
     "execution_count": 197,
     "metadata": {},
     "output_type": "execute_result"
    }
   ],
   "source": [
    "clf.classes_"
   ]
  },
  {
   "cell_type": "code",
   "execution_count": 200,
   "metadata": {
    "collapsed": false
   },
   "outputs": [],
   "source": [
    "from sklearn.ensemble import RandomForestClassifier\n",
    "clf_forest = RandomForestClassifier()\n",
    "clf_forest_winloss = clf_forest.fit(x_train_winloss,y_train_winloss)"
   ]
  },
  {
   "cell_type": "code",
   "execution_count": 201,
   "metadata": {
    "collapsed": false
   },
   "outputs": [
    {
     "data": {
      "text/plain": [
       "(0.96278625954198471, 0.57999999999999996)"
      ]
     },
     "execution_count": 201,
     "metadata": {},
     "output_type": "execute_result"
    }
   ],
   "source": [
    "train_acc_forest_winloss = clf_forest_winloss.score(x_train_winloss, y_train_winloss)\n",
    "test_acc_forest_winloss = clf_forest_winloss.score(x_test_winloss,y_test_winloss)\n",
    "train_acc_forest_winloss,test_acc_forest_winloss"
   ]
  },
  {
   "cell_type": "markdown",
   "metadata": {},
   "source": [
    "**Tuning parameters on Random Forest**"
   ]
  },
  {
   "cell_type": "code",
   "execution_count": 202,
   "metadata": {
    "collapsed": false
   },
   "outputs": [
    {
     "name": "stdout",
     "output_type": "stream",
     "text": [
      "{'max_features': 'sqrt', 'min_samples_split': 10, 'n_estimators': 50, 'min_samples_leaf': 25}\n"
     ]
    }
   ],
   "source": [
    "from sklearn.grid_search import GridSearchCV\n",
    "from sklearn.ensemble import RandomForestClassifier\n",
    "\n",
    "param_grid = { \n",
    "    'n_estimators': [50, 200, 700],\n",
    "    'max_features': ['auto', 'sqrt', 'log2'],\n",
    "    #'max_depth ' : ['None'],\n",
    "    'min_samples_split' : [2,5,10],\n",
    "    'min_samples_leaf' : [1, 25, 50, 100, 150],\n",
    "    \n",
    "    \n",
    "}\n",
    "\n",
    "rfc_winloss = RandomForestClassifier()\n",
    "CV_rfc_winloss = GridSearchCV(rfc_winloss,param_grid=param_grid)\n",
    "CV_rfc_winloss.fit(x_train_winloss, y_train_winloss)\n",
    "print CV_rfc_winloss.best_params_"
   ]
  },
  {
   "cell_type": "code",
   "execution_count": null,
   "metadata": {
    "collapsed": false
   },
   "outputs": [],
   "source": [
    "rfc_bestparams = RandomForestClassifier(max_features='auto', min_samples_split= 2, n_estimators= 700, min_samples_leaf= 25)\n",
    "fit_bestrfc_winloss = rfc_bestparams.fit(x_train_winloss, y_train_winloss)\n",
    "train_acc_bestforest_winloss = fit_bestrfc_winloss.score(x_train_winloss, y_train_winloss)\n",
    "test_acc_bestforest_winloss = fit_bestrfc_winloss.score(x_test_winloss,y_test_winloss)\n",
    "train_acc_bestforest_winloss,test_acc_bestforest_winloss"
   ]
  },
  {
   "cell_type": "markdown",
   "metadata": {},
   "source": [
    "**KNN**"
   ]
  },
  {
   "cell_type": "code",
   "execution_count": null,
   "metadata": {
    "collapsed": false
   },
   "outputs": [],
   "source": [
    "from sklearn.neighbors import NearestNeighbors\n",
    "neigh = KNeighborsClassifier(n_neighbors=7)\n",
    "neigh_winloss = neigh.fit(x_train_winloss,y_train_winloss) \n",
    "#n_neighbors=7, weights = 'distance'"
   ]
  },
  {
   "cell_type": "code",
   "execution_count": null,
   "metadata": {
    "collapsed": false
   },
   "outputs": [],
   "source": [
    "knntrain_score_winloss = neigh_winloss.score(x_train_winloss, y_train_winloss)\n",
    "knntest_score_winloss = neigh_winloss.score(x_test_winloss, y_test_winloss)\n",
    "knntrain_score_winloss,knntest_score_winloss"
   ]
  },
  {
   "cell_type": "markdown",
   "metadata": {},
   "source": [
    "**Gausian Naive Bayes**"
   ]
  },
  {
   "cell_type": "code",
   "execution_count": null,
   "metadata": {
    "collapsed": false
   },
   "outputs": [],
   "source": [
    "from sklearn.naive_bayes import GaussianNB\n",
    "clf_gnb = GaussianNB()\n",
    "clf_gnb_winloss = clf_gnb.fit(x_train_winloss,y_train_winloss)\n"
   ]
  },
  {
   "cell_type": "code",
   "execution_count": null,
   "metadata": {
    "collapsed": false
   },
   "outputs": [],
   "source": [
    "gnbtrain_score_winloss = clf_gnb_winloss.score(x_train_winloss, y_train_winloss)\n",
    "gnbtest_score_winloss = clf_gnb_winloss.score(x_test_winloss, y_test_winloss)\n",
    "gnbtrain_score_winloss,gnbtest_score_winloss"
   ]
  },
  {
   "cell_type": "markdown",
   "metadata": {
    "collapsed": true
   },
   "source": [
    "**Model for winloss and win streak, after removing the top 298 rows**"
   ]
  },
  {
   "cell_type": "code",
   "execution_count": null,
   "metadata": {
    "collapsed": false
   },
   "outputs": [],
   "source": [
    "df_winloss_temp = df_winloss_temp.reset_index()\n",
    "df_winloss_temp.head()"
   ]
  },
  {
   "cell_type": "code",
   "execution_count": null,
   "metadata": {
    "collapsed": true
   },
   "outputs": [],
   "source": [
    "df_winloss_temp = df_winloss_temp.drop(['level_0'],axis = 1)"
   ]
  },
  {
   "cell_type": "code",
   "execution_count": null,
   "metadata": {
    "collapsed": false
   },
   "outputs": [],
   "source": [
    "len(df_winloss_temp)"
   ]
  },
  {
   "cell_type": "code",
   "execution_count": null,
   "metadata": {
    "collapsed": true
   },
   "outputs": [],
   "source": [
    "y_train_temp = df_winloss_temp['hometeam_outcome'][:1500]\n",
    "y_test_temp = df_winloss_temp['hometeam_outcome'][1500:(len(df_winloss_temp)+1)]"
   ]
  },
  {
   "cell_type": "code",
   "execution_count": null,
   "metadata": {
    "collapsed": true
   },
   "outputs": [],
   "source": [
    "x_wl_temp = df_winloss_temp.loc[:,['date', \n",
    "       'HT_goalsfor', 'HT_goalsagainst', 'AT_goalsfor', 'AT_goalsagainst','HT_streak','AT_streak']]"
   ]
  },
  {
   "cell_type": "code",
   "execution_count": null,
   "metadata": {
    "collapsed": true
   },
   "outputs": [],
   "source": [
    "x_dummies_wl_temp = pd.get_dummies(x_wl_temp)"
   ]
  },
  {
   "cell_type": "code",
   "execution_count": null,
   "metadata": {
    "collapsed": true
   },
   "outputs": [],
   "source": [
    "x_dummies_wl_temp = x_dummies_wl_temp.drop('date',axis = 1)"
   ]
  },
  {
   "cell_type": "code",
   "execution_count": null,
   "metadata": {
    "collapsed": true
   },
   "outputs": [],
   "source": [
    "columns = ['HT_goalsfor','HT_goalsagainst','AT_goalsfor','AT_goalsagainst','HT_streak','AT_streak']\n",
    "x_train_wl_temp = x_dummies_wl_temp[:1500]\n",
    "\n",
    "x_test_wl_temp = x_dummies_wl_temp[1500:(len(x_dummies_wl_temp)+1)]"
   ]
  },
  {
   "cell_type": "code",
   "execution_count": null,
   "metadata": {
    "collapsed": false
   },
   "outputs": [],
   "source": [
    "x_train_wl_temp.shape,y_train_temp.shape"
   ]
  },
  {
   "cell_type": "code",
   "execution_count": null,
   "metadata": {
    "collapsed": false
   },
   "outputs": [],
   "source": [
    "logreg = LogisticRegression()\n",
    "fit = logreg.fit(x_train_wl_temp,y_train_temp)"
   ]
  },
  {
   "cell_type": "code",
   "execution_count": null,
   "metadata": {
    "collapsed": false
   },
   "outputs": [],
   "source": [
    "train_acc_temp = fit.score(x_train_wl_temp,y_train_temp)\n",
    "test_acc_temp = fit.score(x_test_wl_temp,y_test_temp)\n",
    "#print fit.classes_\n",
    "train_acc_temp,test_acc_temp"
   ]
  },
  {
   "cell_type": "code",
   "execution_count": null,
   "metadata": {
    "collapsed": true
   },
   "outputs": [],
   "source": [
    "from sklearn.ensemble import RandomForestClassifier\n",
    "clf_forest = RandomForestClassifier()\n",
    "clf_forest_winloss = clf_forest.fit(x_train_wl_temp,y_train_temp)"
   ]
  },
  {
   "cell_type": "code",
   "execution_count": null,
   "metadata": {
    "collapsed": false
   },
   "outputs": [],
   "source": [
    "train_acc_forest_winloss = clf_forest_winloss.score(x_train_wl_temp,y_train_temp)\n",
    "test_acc_forest_winloss = clf_forest_winloss.score(x_test_wl_temp,y_test_temp)\n",
    "train_acc_forest_winloss,test_acc_forest_winloss"
   ]
  },
  {
   "cell_type": "code",
   "execution_count": null,
   "metadata": {
    "collapsed": false
   },
   "outputs": [],
   "source": [
    "from sklearn.grid_search import GridSearchCV\n",
    "from sklearn.ensemble import RandomForestClassifier\n",
    "\n",
    "param_grid = { \n",
    "    'n_estimators': [50, 200, 700],\n",
    "    'max_features': ['auto', 'sqrt', 'log2'],\n",
    "    'max_depth' : [10,50,100,200],\n",
    "    'min_samples_split' : [2,5,10],\n",
    "    'min_samples_leaf' : [1, 25, 50, 100, 150],\n",
    "    'n_estimators' : [100,200]\n",
    "    \n",
    "}\n",
    "\n",
    "rfc_winloss = RandomForestClassifier()\n",
    "CV_rfc_winloss = GridSearchCV(rfc_winloss,param_grid=param_grid)\n",
    "CV_rfc_winloss.fit(x_train_wl_temp,y_train_temp)\n",
    "print CV_rfc_winloss.best_params_"
   ]
  },
  {
   "cell_type": "code",
   "execution_count": null,
   "metadata": {
    "collapsed": false
   },
   "outputs": [],
   "source": [
    "rfc_bestparams = RandomForestClassifier(max_features='sqrt', min_samples_split= 10, n_estimators= 100, min_samples_leaf= 25)\n",
    "fit_bestrfc_winloss = rfc_bestparams.fit(x_train_wl_temp,y_train_temp)\n",
    "train_acc_bestforest_winloss = fit_bestrfc_winloss.score(x_train_wl_temp,y_train_temp)\n",
    "test_acc_bestforest_winloss = fit_bestrfc_winloss.score(x_test_wl_temp,y_test_temp)\n",
    "train_acc_bestforest_winloss,test_acc_bestforest_winloss"
   ]
  },
  {
   "cell_type": "code",
   "execution_count": null,
   "metadata": {
    "collapsed": true
   },
   "outputs": [],
   "source": []
  }
 ],
 "metadata": {
  "kernelspec": {
   "display_name": "Python 2",
   "language": "python",
   "name": "python2"
  },
  "language_info": {
   "codemirror_mode": {
    "name": "ipython",
    "version": 2
   },
   "file_extension": ".py",
   "mimetype": "text/x-python",
   "name": "python",
   "nbconvert_exporter": "python",
   "pygments_lexer": "ipython2",
   "version": "2.7.13"
  }
 },
 "nbformat": 4,
 "nbformat_minor": 0
}
